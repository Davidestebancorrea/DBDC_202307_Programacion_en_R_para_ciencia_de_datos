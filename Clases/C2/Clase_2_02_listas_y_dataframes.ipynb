{
  "nbformat": 4,
  "nbformat_minor": 0,
  "metadata": {
    "colab": {
      "provenance": [],
      "include_colab_link": true
    },
    "kernelspec": {
      "name": "ir",
      "display_name": "R"
    }
  },
  "cells": [
    {
      "cell_type": "markdown",
      "metadata": {
        "id": "view-in-github",
        "colab_type": "text"
      },
      "source": [
        "<a href=\"https://colab.research.google.com/github/majorquev/DBDC_202307_Programacion_en_R_para_ciencia_de_datos/blob/main/Clases/C2/Clase_2_02_listas_y_dataframes.ipynb\" target=\"_parent\"><img src=\"https://colab.research.google.com/assets/colab-badge.svg\" alt=\"Open In Colab\"/></a>"
      ]
    },
    {
      "cell_type": "markdown",
      "metadata": {
        "collapsed": true,
        "id": "fgQ2azLwTpRn"
      },
      "source": [
        "# Parte 1: Introducción a R (continuación)\n",
        "\n",
        "**Autor:** Miguel Jorquera Viguera<br>\n",
        "**E-mail:** majorquev@gmail.com<br>\n",
        "**Ayudante:** Rodrigo Morales <br>\n",
        "**E-mail ayudante:** rumorale1@gmail.com\n",
        "\n",
        "\n",
        "## 5. Listas y Dataframes\n",
        "\n",
        "### 5.1 Listas\n",
        "\n",
        "Hasta aquí contamos con dos tipos de objetos para almacenar datos; vectores y matrices. Sin embargo, en ambos casos se tiene la limitante de que no es posible combinar distintos tipos de datos en diferentes entradas. Un objeto que permite una mayor flexibilidad son las listas. En R, una lista es básicamente un arreglo unidimensional, donde en cada entrada es posible almacenar distintos **objetos** (los cuales a su vez pueden almacenar distintos tipos de datos (u otros objetos).\n",
        "En resumen,\n",
        "\n",
        "   * ¿Qué son?<br>\n",
        "    Arreglos unidimensionales que guardan distintos tipos de datos u objetos.<br>\n",
        "\n",
        "   * ¿Cómo se declaran?<br>\n",
        "    Se pueden declarar mediante el comando list() o combinando listas existentes. <br>\n",
        "    \n",
        "   * ¿Cómo se accede a sus elementos?<br>\n",
        "    Usando [ ] (retorna lista), o bien usando [ [ ] ] (retorna el objeto).\n",
        "    En cada caso se puede indicar la posición o nombre del objeto que se quiere rescatar.<br>\n",
        "    Otra manera es mediante el símbolo $ seguido del nombre del objeto.\n",
        "\n"
      ]
    },
    {
      "cell_type": "code",
      "metadata": {
        "trusted": true,
        "id": "zZHpLzzRTpRp"
      },
      "source": [
        "# 5. Listas y dataframes ------------\n",
        "# 5.1 Listas  ------------\n",
        "# Cómo declarar una lista (comando list() )\n",
        "#num,letra, pl, mat, lista\n",
        "\n",
        "# Podemos guardar los objetos en slots con nombres\n",
        "l1 <- list(num = 10,\n",
        "           letra = letters,\n",
        "           pl = c(T,F,F),\n",
        "           mat = diag(c(1,2,3)),\n",
        "           lista = list(a = 1:3, b = \"hola buen día\"))\n",
        "# Podemos guardar los objetos en slots sin nombres\n",
        "l2 <- list(c(1,2), \"Mabel\")\n"
      ],
      "execution_count": 4,
      "outputs": []
    },
    {
      "cell_type": "code",
      "source": [
        "l1"
      ],
      "metadata": {
        "id": "77k2ZfKq70JN",
        "outputId": "e8aa29d7-c93d-4d5f-d37c-5a14df60bc16",
        "colab": {
          "base_uri": "https://localhost:8080/",
          "height": 413
        }
      },
      "execution_count": 2,
      "outputs": [
        {
          "output_type": "display_data",
          "data": {
            "text/html": [
              "<dl>\n",
              "\t<dt>$num</dt>\n",
              "\t\t<dd>10</dd>\n",
              "\t<dt>$letra</dt>\n",
              "\t\t<dd><style>\n",
              ".list-inline {list-style: none; margin:0; padding: 0}\n",
              ".list-inline>li {display: inline-block}\n",
              ".list-inline>li:not(:last-child)::after {content: \"\\00b7\"; padding: 0 .5ex}\n",
              "</style>\n",
              "<ol class=list-inline><li>'a'</li><li>'b'</li><li>'c'</li><li>'d'</li><li>'e'</li><li>'f'</li><li>'g'</li><li>'h'</li><li>'i'</li><li>'j'</li><li>'k'</li><li>'l'</li><li>'m'</li><li>'n'</li><li>'o'</li><li>'p'</li><li>'q'</li><li>'r'</li><li>'s'</li><li>'t'</li><li>'u'</li><li>'v'</li><li>'w'</li><li>'x'</li><li>'y'</li><li>'z'</li></ol>\n",
              "</dd>\n",
              "\t<dt>$pl</dt>\n",
              "\t\t<dd><style>\n",
              ".list-inline {list-style: none; margin:0; padding: 0}\n",
              ".list-inline>li {display: inline-block}\n",
              ".list-inline>li:not(:last-child)::after {content: \"\\00b7\"; padding: 0 .5ex}\n",
              "</style>\n",
              "<ol class=list-inline><li>TRUE</li><li>FALSE</li><li>FALSE</li></ol>\n",
              "</dd>\n",
              "\t<dt>$mat</dt>\n",
              "\t\t<dd><table class=\"dataframe\">\n",
              "<caption>A matrix: 3 × 3 of type dbl</caption>\n",
              "<tbody>\n",
              "\t<tr><td>1</td><td>0</td><td>0</td></tr>\n",
              "\t<tr><td>0</td><td>2</td><td>0</td></tr>\n",
              "\t<tr><td>0</td><td>0</td><td>3</td></tr>\n",
              "</tbody>\n",
              "</table>\n",
              "</dd>\n",
              "\t<dt>$lista</dt>\n",
              "\t\t<dd><dl>\n",
              "\t<dt>$a</dt>\n",
              "\t\t<dd><style>\n",
              ".list-inline {list-style: none; margin:0; padding: 0}\n",
              ".list-inline>li {display: inline-block}\n",
              ".list-inline>li:not(:last-child)::after {content: \"\\00b7\"; padding: 0 .5ex}\n",
              "</style>\n",
              "<ol class=list-inline><li>1</li><li>2</li><li>3</li></ol>\n",
              "</dd>\n",
              "\t<dt>$b</dt>\n",
              "\t\t<dd>'hola buen día'</dd>\n",
              "</dl>\n",
              "</dd>\n",
              "</dl>\n"
            ],
            "text/markdown": "$num\n:   10\n$letra\n:   1. 'a'\n2. 'b'\n3. 'c'\n4. 'd'\n5. 'e'\n6. 'f'\n7. 'g'\n8. 'h'\n9. 'i'\n10. 'j'\n11. 'k'\n12. 'l'\n13. 'm'\n14. 'n'\n15. 'o'\n16. 'p'\n17. 'q'\n18. 'r'\n19. 's'\n20. 't'\n21. 'u'\n22. 'v'\n23. 'w'\n24. 'x'\n25. 'y'\n26. 'z'\n\n\n\n$pl\n:   1. TRUE\n2. FALSE\n3. FALSE\n\n\n\n$mat\n:   \nA matrix: 3 × 3 of type dbl\n\n| 1 | 0 | 0 |\n| 0 | 2 | 0 |\n| 0 | 0 | 3 |\n\n\n$lista\n:   $a\n:   1. 1\n2. 2\n3. 3\n\n\n\n$b\n:   'hola buen día'\n\n\n\n\n\n",
            "text/latex": "\\begin{description}\n\\item[\\$num] 10\n\\item[\\$letra] \\begin{enumerate*}\n\\item 'a'\n\\item 'b'\n\\item 'c'\n\\item 'd'\n\\item 'e'\n\\item 'f'\n\\item 'g'\n\\item 'h'\n\\item 'i'\n\\item 'j'\n\\item 'k'\n\\item 'l'\n\\item 'm'\n\\item 'n'\n\\item 'o'\n\\item 'p'\n\\item 'q'\n\\item 'r'\n\\item 's'\n\\item 't'\n\\item 'u'\n\\item 'v'\n\\item 'w'\n\\item 'x'\n\\item 'y'\n\\item 'z'\n\\end{enumerate*}\n\n\\item[\\$pl] \\begin{enumerate*}\n\\item TRUE\n\\item FALSE\n\\item FALSE\n\\end{enumerate*}\n\n\\item[\\$mat] A matrix: 3 × 3 of type dbl\n\\begin{tabular}{lll}\n\t 1 & 0 & 0\\\\\n\t 0 & 2 & 0\\\\\n\t 0 & 0 & 3\\\\\n\\end{tabular}\n\n\\item[\\$lista] \\begin{description}\n\\item[\\$a] \\begin{enumerate*}\n\\item 1\n\\item 2\n\\item 3\n\\end{enumerate*}\n\n\\item[\\$b] 'hola buen día'\n\\end{description}\n\n\\end{description}\n",
            "text/plain": [
              "$num\n",
              "[1] 10\n",
              "\n",
              "$letra\n",
              " [1] \"a\" \"b\" \"c\" \"d\" \"e\" \"f\" \"g\" \"h\" \"i\" \"j\" \"k\" \"l\" \"m\" \"n\" \"o\" \"p\" \"q\" \"r\" \"s\"\n",
              "[20] \"t\" \"u\" \"v\" \"w\" \"x\" \"y\" \"z\"\n",
              "\n",
              "$pl\n",
              "[1]  TRUE FALSE FALSE\n",
              "\n",
              "$mat\n",
              "     [,1] [,2] [,3]\n",
              "[1,]    1    0    0\n",
              "[2,]    0    2    0\n",
              "[3,]    0    0    3\n",
              "\n",
              "$lista\n",
              "$lista$a\n",
              "[1] 1 2 3\n",
              "\n",
              "$lista$b\n",
              "[1] \"hola buen día\"\n",
              "\n"
            ]
          },
          "metadata": {}
        }
      ]
    },
    {
      "cell_type": "code",
      "source": [
        "l2"
      ],
      "metadata": {
        "id": "R9vJ5bCm8iCq",
        "outputId": "3e6cd1e2-01ce-4814-9a12-ac16d9bf9aaa",
        "colab": {
          "base_uri": "https://localhost:8080/",
          "height": 80
        }
      },
      "execution_count": 5,
      "outputs": [
        {
          "output_type": "display_data",
          "data": {
            "text/html": [
              "<ol>\n",
              "\t<li><style>\n",
              ".list-inline {list-style: none; margin:0; padding: 0}\n",
              ".list-inline>li {display: inline-block}\n",
              ".list-inline>li:not(:last-child)::after {content: \"\\00b7\"; padding: 0 .5ex}\n",
              "</style>\n",
              "<ol class=list-inline><li>1</li><li>2</li></ol>\n",
              "</li>\n",
              "\t<li>'Mabel'</li>\n",
              "</ol>\n"
            ],
            "text/markdown": "1. 1. 1\n2. 2\n\n\n\n2. 'Mabel'\n\n\n",
            "text/latex": "\\begin{enumerate}\n\\item \\begin{enumerate*}\n\\item 1\n\\item 2\n\\end{enumerate*}\n\n\\item 'Mabel'\n\\end{enumerate}\n",
            "text/plain": [
              "[[1]]\n",
              "[1] 1 2\n",
              "\n",
              "[[2]]\n",
              "[1] \"Mabel\"\n"
            ]
          },
          "metadata": {}
        }
      ]
    },
    {
      "cell_type": "code",
      "source": [
        "str(l2)"
      ],
      "metadata": {
        "id": "FYnbKtjn8l-r",
        "outputId": "c09138b3-5e59-43c7-afe6-8f200250b3e3",
        "colab": {
          "base_uri": "https://localhost:8080/"
        }
      },
      "execution_count": 6,
      "outputs": [
        {
          "output_type": "stream",
          "name": "stdout",
          "text": [
            "List of 2\n",
            " $ : num [1:2] 1 2\n",
            " $ : chr \"Mabel\"\n"
          ]
        }
      ]
    },
    {
      "cell_type": "code",
      "metadata": {
        "id": "_iwOQA-xTzww",
        "outputId": "58223b0d-1de0-4a59-e8d7-e649b994b6fd",
        "colab": {
          "base_uri": "https://localhost:8080/"
        }
      },
      "source": [
        "# estructura\n",
        "str(l1)"
      ],
      "execution_count": 3,
      "outputs": [
        {
          "output_type": "stream",
          "name": "stdout",
          "text": [
            "List of 5\n",
            " $ num  : num 10\n",
            " $ letra: chr [1:26] \"a\" \"b\" \"c\" \"d\" ...\n",
            " $ pl   : logi [1:3] TRUE FALSE FALSE\n",
            " $ mat  : num [1:3, 1:3] 1 0 0 0 2 0 0 0 3\n",
            " $ lista:List of 2\n",
            "  ..$ a: int [1:3] 1 2 3\n",
            "  ..$ b: chr \"hola buen día\"\n"
          ]
        }
      ]
    },
    {
      "cell_type": "code",
      "metadata": {
        "trusted": true,
        "id": "GBuxGL4cTpR0",
        "outputId": "a3bef376-96ee-47d5-ecc1-df70ddee622f",
        "colab": {
          "base_uri": "https://localhost:8080/",
          "height": 497
        }
      },
      "source": [
        "# Podemos combinar listas\n",
        "l3 <- c(l1,l2)\n",
        "l3"
      ],
      "execution_count": 8,
      "outputs": [
        {
          "output_type": "display_data",
          "data": {
            "text/html": [
              "<dl>\n",
              "\t<dt>$num</dt>\n",
              "\t\t<dd>10</dd>\n",
              "\t<dt>$letra</dt>\n",
              "\t\t<dd><style>\n",
              ".list-inline {list-style: none; margin:0; padding: 0}\n",
              ".list-inline>li {display: inline-block}\n",
              ".list-inline>li:not(:last-child)::after {content: \"\\00b7\"; padding: 0 .5ex}\n",
              "</style>\n",
              "<ol class=list-inline><li>'a'</li><li>'b'</li><li>'c'</li><li>'d'</li><li>'e'</li><li>'f'</li><li>'g'</li><li>'h'</li><li>'i'</li><li>'j'</li><li>'k'</li><li>'l'</li><li>'m'</li><li>'n'</li><li>'o'</li><li>'p'</li><li>'q'</li><li>'r'</li><li>'s'</li><li>'t'</li><li>'u'</li><li>'v'</li><li>'w'</li><li>'x'</li><li>'y'</li><li>'z'</li></ol>\n",
              "</dd>\n",
              "\t<dt>$pl</dt>\n",
              "\t\t<dd><style>\n",
              ".list-inline {list-style: none; margin:0; padding: 0}\n",
              ".list-inline>li {display: inline-block}\n",
              ".list-inline>li:not(:last-child)::after {content: \"\\00b7\"; padding: 0 .5ex}\n",
              "</style>\n",
              "<ol class=list-inline><li>TRUE</li><li>FALSE</li><li>FALSE</li></ol>\n",
              "</dd>\n",
              "\t<dt>$mat</dt>\n",
              "\t\t<dd><table class=\"dataframe\">\n",
              "<caption>A matrix: 3 × 3 of type dbl</caption>\n",
              "<tbody>\n",
              "\t<tr><td>1</td><td>0</td><td>0</td></tr>\n",
              "\t<tr><td>0</td><td>2</td><td>0</td></tr>\n",
              "\t<tr><td>0</td><td>0</td><td>3</td></tr>\n",
              "</tbody>\n",
              "</table>\n",
              "</dd>\n",
              "\t<dt>$lista</dt>\n",
              "\t\t<dd><dl>\n",
              "\t<dt>$a</dt>\n",
              "\t\t<dd><style>\n",
              ".list-inline {list-style: none; margin:0; padding: 0}\n",
              ".list-inline>li {display: inline-block}\n",
              ".list-inline>li:not(:last-child)::after {content: \"\\00b7\"; padding: 0 .5ex}\n",
              "</style>\n",
              "<ol class=list-inline><li>1</li><li>2</li><li>3</li></ol>\n",
              "</dd>\n",
              "\t<dt>$b</dt>\n",
              "\t\t<dd>'hola buen día'</dd>\n",
              "</dl>\n",
              "</dd>\n",
              "\t<dt>[[6]]</dt>\n",
              "\t\t<dd><style>\n",
              ".list-inline {list-style: none; margin:0; padding: 0}\n",
              ".list-inline>li {display: inline-block}\n",
              ".list-inline>li:not(:last-child)::after {content: \"\\00b7\"; padding: 0 .5ex}\n",
              "</style>\n",
              "<ol class=list-inline><li>1</li><li>2</li></ol>\n",
              "</dd>\n",
              "\t<dt>[[7]]</dt>\n",
              "\t\t<dd>'Mabel'</dd>\n",
              "</dl>\n"
            ],
            "text/markdown": "$num\n:   10\n$letra\n:   1. 'a'\n2. 'b'\n3. 'c'\n4. 'd'\n5. 'e'\n6. 'f'\n7. 'g'\n8. 'h'\n9. 'i'\n10. 'j'\n11. 'k'\n12. 'l'\n13. 'm'\n14. 'n'\n15. 'o'\n16. 'p'\n17. 'q'\n18. 'r'\n19. 's'\n20. 't'\n21. 'u'\n22. 'v'\n23. 'w'\n24. 'x'\n25. 'y'\n26. 'z'\n\n\n\n$pl\n:   1. TRUE\n2. FALSE\n3. FALSE\n\n\n\n$mat\n:   \nA matrix: 3 × 3 of type dbl\n\n| 1 | 0 | 0 |\n| 0 | 2 | 0 |\n| 0 | 0 | 3 |\n\n\n$lista\n:   $a\n:   1. 1\n2. 2\n3. 3\n\n\n\n$b\n:   'hola buen día'\n\n\n\n[[6]]\n:   1. 1\n2. 2\n\n\n\n[[7]]\n:   'Mabel'\n\n\n",
            "text/latex": "\\begin{description}\n\\item[\\$num] 10\n\\item[\\$letra] \\begin{enumerate*}\n\\item 'a'\n\\item 'b'\n\\item 'c'\n\\item 'd'\n\\item 'e'\n\\item 'f'\n\\item 'g'\n\\item 'h'\n\\item 'i'\n\\item 'j'\n\\item 'k'\n\\item 'l'\n\\item 'm'\n\\item 'n'\n\\item 'o'\n\\item 'p'\n\\item 'q'\n\\item 'r'\n\\item 's'\n\\item 't'\n\\item 'u'\n\\item 'v'\n\\item 'w'\n\\item 'x'\n\\item 'y'\n\\item 'z'\n\\end{enumerate*}\n\n\\item[\\$pl] \\begin{enumerate*}\n\\item TRUE\n\\item FALSE\n\\item FALSE\n\\end{enumerate*}\n\n\\item[\\$mat] A matrix: 3 × 3 of type dbl\n\\begin{tabular}{lll}\n\t 1 & 0 & 0\\\\\n\t 0 & 2 & 0\\\\\n\t 0 & 0 & 3\\\\\n\\end{tabular}\n\n\\item[\\$lista] \\begin{description}\n\\item[\\$a] \\begin{enumerate*}\n\\item 1\n\\item 2\n\\item 3\n\\end{enumerate*}\n\n\\item[\\$b] 'hola buen día'\n\\end{description}\n\n\\item[{[[6]]}] \\begin{enumerate*}\n\\item 1\n\\item 2\n\\end{enumerate*}\n\n\\item[{[[7]]}] 'Mabel'\n\\end{description}\n",
            "text/plain": [
              "$num\n",
              "[1] 10\n",
              "\n",
              "$letra\n",
              " [1] \"a\" \"b\" \"c\" \"d\" \"e\" \"f\" \"g\" \"h\" \"i\" \"j\" \"k\" \"l\" \"m\" \"n\" \"o\" \"p\" \"q\" \"r\" \"s\"\n",
              "[20] \"t\" \"u\" \"v\" \"w\" \"x\" \"y\" \"z\"\n",
              "\n",
              "$pl\n",
              "[1]  TRUE FALSE FALSE\n",
              "\n",
              "$mat\n",
              "     [,1] [,2] [,3]\n",
              "[1,]    1    0    0\n",
              "[2,]    0    2    0\n",
              "[3,]    0    0    3\n",
              "\n",
              "$lista\n",
              "$lista$a\n",
              "[1] 1 2 3\n",
              "\n",
              "$lista$b\n",
              "[1] \"hola buen día\"\n",
              "\n",
              "\n",
              "[[6]]\n",
              "[1] 1 2\n",
              "\n",
              "[[7]]\n",
              "[1] \"Mabel\"\n"
            ]
          },
          "metadata": {}
        }
      ]
    },
    {
      "cell_type": "code",
      "source": [
        "names(l3)\n",
        "length(l3)"
      ],
      "metadata": {
        "id": "-X-SQOBu803s",
        "outputId": "f8f3bec1-d134-4e61-8e53-de1d49f831b9",
        "colab": {
          "base_uri": "https://localhost:8080/",
          "height": 52
        }
      },
      "execution_count": 10,
      "outputs": [
        {
          "output_type": "display_data",
          "data": {
            "text/html": [
              "<style>\n",
              ".list-inline {list-style: none; margin:0; padding: 0}\n",
              ".list-inline>li {display: inline-block}\n",
              ".list-inline>li:not(:last-child)::after {content: \"\\00b7\"; padding: 0 .5ex}\n",
              "</style>\n",
              "<ol class=list-inline><li>'num'</li><li>'letra'</li><li>'pl'</li><li>'mat'</li><li>'lista'</li><li>''</li><li>''</li></ol>\n"
            ],
            "text/markdown": "1. 'num'\n2. 'letra'\n3. 'pl'\n4. 'mat'\n5. 'lista'\n6. ''\n7. ''\n\n\n",
            "text/latex": "\\begin{enumerate*}\n\\item 'num'\n\\item 'letra'\n\\item 'pl'\n\\item 'mat'\n\\item 'lista'\n\\item ''\n\\item ''\n\\end{enumerate*}\n",
            "text/plain": [
              "[1] \"num\"   \"letra\" \"pl\"    \"mat\"   \"lista\" \"\"      \"\"     "
            ]
          },
          "metadata": {}
        },
        {
          "output_type": "display_data",
          "data": {
            "text/html": [
              "7"
            ],
            "text/markdown": "7",
            "text/latex": "7",
            "text/plain": [
              "[1] 7"
            ]
          },
          "metadata": {}
        }
      ]
    },
    {
      "cell_type": "code",
      "metadata": {
        "trusted": true,
        "id": "uUv7BQfnTpR3",
        "outputId": "5946af5f-3d6b-4860-fc1c-1a5846a8346b",
        "colab": {
          "base_uri": "https://localhost:8080/",
          "height": 180
        }
      },
      "source": [
        "# Acceso mediante posición\n",
        "l3[4] # 4ta entrada\n"
      ],
      "execution_count": 11,
      "outputs": [
        {
          "output_type": "display_data",
          "data": {
            "text/html": [
              "<strong>$mat</strong> = <table class=\"dataframe\">\n",
              "<caption>A matrix: 3 × 3 of type dbl</caption>\n",
              "<tbody>\n",
              "\t<tr><td>1</td><td>0</td><td>0</td></tr>\n",
              "\t<tr><td>0</td><td>2</td><td>0</td></tr>\n",
              "\t<tr><td>0</td><td>0</td><td>3</td></tr>\n",
              "</tbody>\n",
              "</table>\n"
            ],
            "text/markdown": "**$mat** = \nA matrix: 3 × 3 of type dbl\n\n| 1 | 0 | 0 |\n| 0 | 2 | 0 |\n| 0 | 0 | 3 |\n\n",
            "text/latex": "\\textbf{\\$mat} = A matrix: 3 × 3 of type dbl\n\\begin{tabular}{lll}\n\t 1 & 0 & 0\\\\\n\t 0 & 2 & 0\\\\\n\t 0 & 0 & 3\\\\\n\\end{tabular}\n",
            "text/plain": [
              "$mat\n",
              "     [,1] [,2] [,3]\n",
              "[1,]    1    0    0\n",
              "[2,]    0    2    0\n",
              "[3,]    0    0    3\n"
            ]
          },
          "metadata": {}
        }
      ]
    },
    {
      "cell_type": "code",
      "source": [
        "l3[1]"
      ],
      "metadata": {
        "id": "QZTg5f0p9KbW",
        "outputId": "43152bae-f129-42e3-8cf2-1b91aa54ecfd",
        "colab": {
          "base_uri": "https://localhost:8080/",
          "height": 34
        }
      },
      "execution_count": 15,
      "outputs": [
        {
          "output_type": "display_data",
          "data": {
            "text/html": [
              "<strong>$num</strong> = 10"
            ],
            "text/markdown": "**$num** = 10",
            "text/latex": "\\textbf{\\$num} = 10",
            "text/plain": [
              "$num\n",
              "[1] 10\n"
            ]
          },
          "metadata": {}
        }
      ]
    },
    {
      "cell_type": "code",
      "source": [
        "class(l3[1])"
      ],
      "metadata": {
        "id": "56OTIvwr9j0_",
        "outputId": "d03fdf78-2022-472e-8351-a05455b9f49d",
        "colab": {
          "base_uri": "https://localhost:8080/",
          "height": 34
        }
      },
      "execution_count": 16,
      "outputs": [
        {
          "output_type": "display_data",
          "data": {
            "text/html": [
              "'list'"
            ],
            "text/markdown": "'list'",
            "text/latex": "'list'",
            "text/plain": [
              "[1] \"list\""
            ]
          },
          "metadata": {}
        }
      ]
    },
    {
      "cell_type": "code",
      "metadata": {
        "trusted": true,
        "id": "L3RDKUqOTpR5",
        "outputId": "8d40f82f-a648-4604-f4ab-77f4d545ec86",
        "colab": {
          "base_uri": "https://localhost:8080/",
          "height": 243
        }
      },
      "source": [
        "#si quisièramos las pos 1 y 4\n",
        "l3[c(1,4)]"
      ],
      "execution_count": 17,
      "outputs": [
        {
          "output_type": "display_data",
          "data": {
            "text/html": [
              "<dl>\n",
              "\t<dt>$num</dt>\n",
              "\t\t<dd>10</dd>\n",
              "\t<dt>$mat</dt>\n",
              "\t\t<dd><table class=\"dataframe\">\n",
              "<caption>A matrix: 3 × 3 of type dbl</caption>\n",
              "<tbody>\n",
              "\t<tr><td>1</td><td>0</td><td>0</td></tr>\n",
              "\t<tr><td>0</td><td>2</td><td>0</td></tr>\n",
              "\t<tr><td>0</td><td>0</td><td>3</td></tr>\n",
              "</tbody>\n",
              "</table>\n",
              "</dd>\n",
              "</dl>\n"
            ],
            "text/markdown": "$num\n:   10\n$mat\n:   \nA matrix: 3 × 3 of type dbl\n\n| 1 | 0 | 0 |\n| 0 | 2 | 0 |\n| 0 | 0 | 3 |\n\n\n\n\n",
            "text/latex": "\\begin{description}\n\\item[\\$num] 10\n\\item[\\$mat] A matrix: 3 × 3 of type dbl\n\\begin{tabular}{lll}\n\t 1 & 0 & 0\\\\\n\t 0 & 2 & 0\\\\\n\t 0 & 0 & 3\\\\\n\\end{tabular}\n\n\\end{description}\n",
            "text/plain": [
              "$num\n",
              "[1] 10\n",
              "\n",
              "$mat\n",
              "     [,1] [,2] [,3]\n",
              "[1,]    1    0    0\n",
              "[2,]    0    2    0\n",
              "[3,]    0    0    3\n"
            ]
          },
          "metadata": {}
        }
      ]
    },
    {
      "cell_type": "code",
      "metadata": {
        "trusted": true,
        "id": "QbQ8QHARTpR7",
        "outputId": "e98dbed8-5ad1-47c1-9b40-944173473d09",
        "colab": {
          "base_uri": "https://localhost:8080/",
          "height": 52
        }
      },
      "source": [
        "# NOTA lista[.] retorna un lista con un elemento,\n",
        "# lista[[.]] retorna el elmento de la lista lista[.]\n",
        "l3[[1]]# es el elemento que está en la pos 1. Es decir el 10.\n",
        "l3[1] # es la lista con el elmento de la pos 1. Es decir list(num = 10)"
      ],
      "execution_count": 19,
      "outputs": [
        {
          "output_type": "display_data",
          "data": {
            "text/html": [
              "10"
            ],
            "text/markdown": "10",
            "text/latex": "10",
            "text/plain": [
              "[1] 10"
            ]
          },
          "metadata": {}
        },
        {
          "output_type": "display_data",
          "data": {
            "text/html": [
              "<strong>$num</strong> = 10"
            ],
            "text/markdown": "**$num** = 10",
            "text/latex": "\\textbf{\\$num} = 10",
            "text/plain": [
              "$num\n",
              "[1] 10\n"
            ]
          },
          "metadata": {}
        }
      ]
    },
    {
      "cell_type": "code",
      "source": [
        "l3[4]# lista con la matriz\n",
        "l3[[4]]# matriz"
      ],
      "metadata": {
        "id": "kcvcidZC-M3s",
        "outputId": "9a8b4362-6e1f-4fbe-e44b-914d0970e322",
        "colab": {
          "base_uri": "https://localhost:8080/",
          "height": 327
        }
      },
      "execution_count": 21,
      "outputs": [
        {
          "output_type": "display_data",
          "data": {
            "text/html": [
              "<strong>$mat</strong> = <table class=\"dataframe\">\n",
              "<caption>A matrix: 3 × 3 of type dbl</caption>\n",
              "<tbody>\n",
              "\t<tr><td>1</td><td>0</td><td>0</td></tr>\n",
              "\t<tr><td>0</td><td>2</td><td>0</td></tr>\n",
              "\t<tr><td>0</td><td>0</td><td>3</td></tr>\n",
              "</tbody>\n",
              "</table>\n"
            ],
            "text/markdown": "**$mat** = \nA matrix: 3 × 3 of type dbl\n\n| 1 | 0 | 0 |\n| 0 | 2 | 0 |\n| 0 | 0 | 3 |\n\n",
            "text/latex": "\\textbf{\\$mat} = A matrix: 3 × 3 of type dbl\n\\begin{tabular}{lll}\n\t 1 & 0 & 0\\\\\n\t 0 & 2 & 0\\\\\n\t 0 & 0 & 3\\\\\n\\end{tabular}\n",
            "text/plain": [
              "$mat\n",
              "     [,1] [,2] [,3]\n",
              "[1,]    1    0    0\n",
              "[2,]    0    2    0\n",
              "[3,]    0    0    3\n"
            ]
          },
          "metadata": {}
        },
        {
          "output_type": "display_data",
          "data": {
            "text/html": [
              "<table class=\"dataframe\">\n",
              "<caption>A matrix: 3 × 3 of type dbl</caption>\n",
              "<tbody>\n",
              "\t<tr><td>1</td><td>0</td><td>0</td></tr>\n",
              "\t<tr><td>0</td><td>2</td><td>0</td></tr>\n",
              "\t<tr><td>0</td><td>0</td><td>3</td></tr>\n",
              "</tbody>\n",
              "</table>\n"
            ],
            "text/markdown": "\nA matrix: 3 × 3 of type dbl\n\n| 1 | 0 | 0 |\n| 0 | 2 | 0 |\n| 0 | 0 | 3 |\n\n",
            "text/latex": "A matrix: 3 × 3 of type dbl\n\\begin{tabular}{lll}\n\t 1 & 0 & 0\\\\\n\t 0 & 2 & 0\\\\\n\t 0 & 0 & 3\\\\\n\\end{tabular}\n",
            "text/plain": [
              "     [,1] [,2] [,3]\n",
              "[1,] 1    0    0   \n",
              "[2,] 0    2    0   \n",
              "[3,] 0    0    3   "
            ]
          },
          "metadata": {}
        }
      ]
    },
    {
      "cell_type": "code",
      "source": [
        "str(l3)"
      ],
      "metadata": {
        "id": "WdTOQUaa-Y-D",
        "outputId": "f433ed91-b697-4727-faf1-7dcd5452df4d",
        "colab": {
          "base_uri": "https://localhost:8080/"
        }
      },
      "execution_count": 22,
      "outputs": [
        {
          "output_type": "stream",
          "name": "stdout",
          "text": [
            "List of 7\n",
            " $ num  : num 10\n",
            " $ letra: chr [1:26] \"a\" \"b\" \"c\" \"d\" ...\n",
            " $ pl   : logi [1:3] TRUE FALSE FALSE\n",
            " $ mat  : num [1:3, 1:3] 1 0 0 0 2 0 0 0 3\n",
            " $ lista:List of 2\n",
            "  ..$ a: int [1:3] 1 2 3\n",
            "  ..$ b: chr \"hola buen día\"\n",
            " $      : num [1:2] 1 2\n",
            " $      : chr \"Mabel\"\n"
          ]
        }
      ]
    },
    {
      "cell_type": "code",
      "metadata": {
        "trusted": true,
        "id": "kaOJqYJETpSC",
        "outputId": "66d4dcce-01c9-48cd-9713-f514f41ee406",
        "colab": {
          "base_uri": "https://localhost:8080/",
          "height": 34
        }
      },
      "source": [
        "# de la lista l3, quiero e 6t0 elemento del vector llamado \"letra\" de la segunda posición\n",
        "l3[[2]][6]# Recordar que l3[[2]] ya es el vector de letras,  ycomo tal basta acceder a su 6to elemtno con el \"[6]\"."
      ],
      "execution_count": 24,
      "outputs": [
        {
          "output_type": "display_data",
          "data": {
            "text/html": [
              "'f'"
            ],
            "text/markdown": "'f'",
            "text/latex": "'f'",
            "text/plain": [
              "[1] \"f\""
            ]
          },
          "metadata": {}
        }
      ]
    },
    {
      "cell_type": "code",
      "metadata": {
        "trusted": true,
        "id": "UZ4k5DQ9TpSE",
        "outputId": "32c1e6ec-d9b6-4df6-b0b6-d942aad34cc0",
        "colab": {
          "base_uri": "https://localhost:8080/",
          "height": 149
        }
      },
      "source": [
        "# Acceder al String \"hola buen día\" de la primera entrada de la lista \"lista\" de l3.\n",
        "l3[[5]] # estamos en la lista llamada \"lista\"\n",
        "l3[[5]][2] # retorna una lista con el strnig en b\n",
        "l3[[5]][[2]] # retorna  el strnig en b ( :) )"
      ],
      "execution_count": 28,
      "outputs": [
        {
          "output_type": "display_data",
          "data": {
            "text/html": [
              "<dl>\n",
              "\t<dt>$a</dt>\n",
              "\t\t<dd><style>\n",
              ".list-inline {list-style: none; margin:0; padding: 0}\n",
              ".list-inline>li {display: inline-block}\n",
              ".list-inline>li:not(:last-child)::after {content: \"\\00b7\"; padding: 0 .5ex}\n",
              "</style>\n",
              "<ol class=list-inline><li>1</li><li>2</li><li>3</li></ol>\n",
              "</dd>\n",
              "\t<dt>$b</dt>\n",
              "\t\t<dd>'hola buen día'</dd>\n",
              "</dl>\n"
            ],
            "text/markdown": "$a\n:   1. 1\n2. 2\n3. 3\n\n\n\n$b\n:   'hola buen día'\n\n\n",
            "text/latex": "\\begin{description}\n\\item[\\$a] \\begin{enumerate*}\n\\item 1\n\\item 2\n\\item 3\n\\end{enumerate*}\n\n\\item[\\$b] 'hola buen día'\n\\end{description}\n",
            "text/plain": [
              "$a\n",
              "[1] 1 2 3\n",
              "\n",
              "$b\n",
              "[1] \"hola buen día\"\n"
            ]
          },
          "metadata": {}
        },
        {
          "output_type": "display_data",
          "data": {
            "text/html": [
              "<strong>$b</strong> = 'hola buen día'"
            ],
            "text/markdown": "**$b** = 'hola buen día'",
            "text/latex": "\\textbf{\\$b} = 'hola buen día'",
            "text/plain": [
              "$b\n",
              "[1] \"hola buen día\"\n"
            ]
          },
          "metadata": {}
        },
        {
          "output_type": "display_data",
          "data": {
            "text/html": [
              "'hola buen día'"
            ],
            "text/markdown": "'hola buen día'",
            "text/latex": "'hola buen día'",
            "text/plain": [
              "[1] \"hola buen día\""
            ]
          },
          "metadata": {}
        }
      ]
    },
    {
      "cell_type": "code",
      "source": [
        "str(l3)"
      ],
      "metadata": {
        "id": "iom2EPWYAFUM",
        "outputId": "0054aacb-98d9-4d58-ea94-0bde38777c64",
        "colab": {
          "base_uri": "https://localhost:8080/"
        }
      },
      "execution_count": 29,
      "outputs": [
        {
          "output_type": "stream",
          "name": "stdout",
          "text": [
            "List of 7\n",
            " $ num  : num 10\n",
            " $ letra: chr [1:26] \"a\" \"b\" \"c\" \"d\" ...\n",
            " $ pl   : logi [1:3] TRUE FALSE FALSE\n",
            " $ mat  : num [1:3, 1:3] 1 0 0 0 2 0 0 0 3\n",
            " $ lista:List of 2\n",
            "  ..$ a: int [1:3] 1 2 3\n",
            "  ..$ b: chr \"hola buen día\"\n",
            " $      : num [1:2] 1 2\n",
            " $      : chr \"Mabel\"\n"
          ]
        }
      ]
    },
    {
      "cell_type": "code",
      "metadata": {
        "trusted": true,
        "id": "jYFKb27-TpSG",
        "outputId": "33783e11-7673-4e1e-82d5-a69e273a68e0",
        "colab": {
          "base_uri": "https://localhost:8080/",
          "height": 34
        }
      },
      "source": [
        "# Acceso mediante nombre\n",
        "# de la lista l3, quiero e 6t0 elemento del vector llamado \"letra\" de la segunda posición\n",
        "l3[[\"letra\"]][6]"
      ],
      "execution_count": 31,
      "outputs": [
        {
          "output_type": "display_data",
          "data": {
            "text/html": [
              "'f'"
            ],
            "text/markdown": "'f'",
            "text/latex": "'f'",
            "text/plain": [
              "[1] \"f\""
            ]
          },
          "metadata": {}
        }
      ]
    },
    {
      "cell_type": "code",
      "source": [
        "# Acceder al String \"hola buen día\" de la primera entrada de la lista \"lista\" de l3.\n",
        "l3[[\"lista\"]][[\"b\"]]"
      ],
      "metadata": {
        "id": "T9kmn0oGAPEc",
        "outputId": "d88f2598-2d9f-4549-f1e5-c2d1789f6548",
        "colab": {
          "base_uri": "https://localhost:8080/",
          "height": 34
        }
      },
      "execution_count": 33,
      "outputs": [
        {
          "output_type": "display_data",
          "data": {
            "text/html": [
              "'hola buen día'"
            ],
            "text/markdown": "'hola buen día'",
            "text/latex": "'hola buen día'",
            "text/plain": [
              "[1] \"hola buen día\""
            ]
          },
          "metadata": {}
        }
      ]
    },
    {
      "cell_type": "code",
      "metadata": {
        "trusted": true,
        "id": "a9UBaNOuTpSI",
        "outputId": "50c9bdb9-cfa5-4f57-f8e6-38529e831800",
        "colab": {
          "base_uri": "https://localhost:8080/",
          "height": 34
        }
      },
      "source": [
        "# acceso vía \"$\"\n",
        "l3$letra[6] # es lo mismo que l3[[\"letra\"]][6] o l3[[2]][6]\n",
        "\n",
        "\n"
      ],
      "execution_count": 35,
      "outputs": [
        {
          "output_type": "display_data",
          "data": {
            "text/html": [
              "'f'"
            ],
            "text/markdown": "'f'",
            "text/latex": "'f'",
            "text/plain": [
              "[1] \"f\""
            ]
          },
          "metadata": {}
        }
      ]
    },
    {
      "cell_type": "code",
      "source": [
        "l3$lista$b # es lo mismo que l3[[5]][[2]] o l3[[\"lista\"]][[\"b\"]]"
      ],
      "metadata": {
        "id": "inM8qV-2A5Ce",
        "outputId": "9b3bebb7-a7e9-4684-fe8c-e4761d63f81c",
        "colab": {
          "base_uri": "https://localhost:8080/",
          "height": 34
        }
      },
      "execution_count": 37,
      "outputs": [
        {
          "output_type": "display_data",
          "data": {
            "text/html": [
              "'hola buen día'"
            ],
            "text/markdown": "'hola buen día'",
            "text/latex": "'hola buen día'",
            "text/plain": [
              "[1] \"hola buen día\""
            ]
          },
          "metadata": {}
        }
      ]
    },
    {
      "cell_type": "code",
      "metadata": {
        "trusted": true,
        "id": "Dumeo0-NTpSM",
        "outputId": "971c246e-08bf-4e2a-97ff-b780bcfd605f",
        "colab": {
          "base_uri": "https://localhost:8080/",
          "height": 225
        }
      },
      "source": [
        "# para saber el largo de la lista/vector\n",
        "length(l3)\n",
        "# Para obtener los nombres de la lista\n",
        "names(l3)\n",
        "# si quisiéramos renombrar los slots:\n",
        "names(l3)[c(6,7)] <- c(\"nuevo6\", \"nuevo7\")\n",
        "str(l3)"
      ],
      "execution_count": 40,
      "outputs": [
        {
          "output_type": "display_data",
          "data": {
            "text/html": [
              "7"
            ],
            "text/markdown": "7",
            "text/latex": "7",
            "text/plain": [
              "[1] 7"
            ]
          },
          "metadata": {}
        },
        {
          "output_type": "display_data",
          "data": {
            "text/html": [
              "<style>\n",
              ".list-inline {list-style: none; margin:0; padding: 0}\n",
              ".list-inline>li {display: inline-block}\n",
              ".list-inline>li:not(:last-child)::after {content: \"\\00b7\"; padding: 0 .5ex}\n",
              "</style>\n",
              "<ol class=list-inline><li>'num'</li><li>'letra'</li><li>'pl'</li><li>'mat'</li><li>'lista'</li><li>''</li><li>''</li></ol>\n"
            ],
            "text/markdown": "1. 'num'\n2. 'letra'\n3. 'pl'\n4. 'mat'\n5. 'lista'\n6. ''\n7. ''\n\n\n",
            "text/latex": "\\begin{enumerate*}\n\\item 'num'\n\\item 'letra'\n\\item 'pl'\n\\item 'mat'\n\\item 'lista'\n\\item ''\n\\item ''\n\\end{enumerate*}\n",
            "text/plain": [
              "[1] \"num\"   \"letra\" \"pl\"    \"mat\"   \"lista\" \"\"      \"\"     "
            ]
          },
          "metadata": {}
        },
        {
          "output_type": "stream",
          "name": "stdout",
          "text": [
            "List of 7\n",
            " $ num   : num 10\n",
            " $ letra : chr [1:26] \"a\" \"b\" \"c\" \"d\" ...\n",
            " $ pl    : logi [1:3] TRUE FALSE FALSE\n",
            " $ mat   : num [1:3, 1:3] 1 0 0 0 2 0 0 0 3\n",
            " $ lista :List of 2\n",
            "  ..$ a: int [1:3] 1 2 3\n",
            "  ..$ b: chr \"hola buen día\"\n",
            " $ nuevo6: num [1:2] 1 2\n",
            " $ nuevo7: chr \"Mabel\"\n"
          ]
        }
      ]
    },
    {
      "cell_type": "code",
      "metadata": {
        "trusted": true,
        "id": "Uij1PdVrTpSO"
      },
      "source": [
        "# También podemos crear nuevos \"slots\"\n",
        "## Indicando nombre en [[]] y luego asignando\n",
        "l3[[\"n8\"]] <- LETTERS"
      ],
      "execution_count": 42,
      "outputs": []
    },
    {
      "cell_type": "code",
      "source": [
        "l3$n9 <- 50:70"
      ],
      "metadata": {
        "id": "r45m3oYNCHwf"
      },
      "execution_count": 45,
      "outputs": []
    },
    {
      "cell_type": "code",
      "source": [
        "str(l3)"
      ],
      "metadata": {
        "id": "eW218ddACB9b",
        "outputId": "e2b00aac-b592-43c3-cea3-6d52be1bcafd",
        "colab": {
          "base_uri": "https://localhost:8080/"
        }
      },
      "execution_count": 46,
      "outputs": [
        {
          "output_type": "stream",
          "name": "stdout",
          "text": [
            "List of 9\n",
            " $ num   : num 10\n",
            " $ letra : chr [1:26] \"a\" \"b\" \"c\" \"d\" ...\n",
            " $ pl    : logi [1:3] TRUE FALSE FALSE\n",
            " $ mat   : num [1:3, 1:3] 1 0 0 0 2 0 0 0 3\n",
            " $ lista :List of 2\n",
            "  ..$ a: int [1:3] 1 2 3\n",
            "  ..$ b: chr \"hola buen día\"\n",
            " $ nuevo6: num [1:2] 1 2\n",
            " $ nuevo7: chr \"Mabel\"\n",
            " $ n8    : chr [1:26] \"A\" \"B\" \"C\" \"D\" ...\n",
            " $ n9    : int [1:21] 50 51 52 53 54 55 56 57 58 59 ...\n"
          ]
        }
      ]
    },
    {
      "cell_type": "code",
      "metadata": {
        "trusted": true,
        "id": "rBB4hT9RTpSQ"
      },
      "source": [
        "# podemos modificar elementos dentro de un slot\n",
        "\n"
      ],
      "execution_count": null,
      "outputs": []
    },
    {
      "cell_type": "markdown",
      "metadata": {
        "id": "128wI4ZoTpSS"
      },
      "source": [
        "### 5.2 Dataframes\n",
        "\n",
        "Un dataframe es un caso particular de una lista, donde los objetos de cada entrada corresponden a vectores de datos del mismo largo. E este caso cada vector corresponde a una columna del data.frame, mientras que la cantidad de filas corresponde al largo común de los vectores de cada entrada. El objeto resultante es una *tabla*, de ahora en adelante *data.frame*, cuyas columnas poseen distintos tipos de datos entre sí.\n",
        "\n",
        " * ¿Cómo se declara un dataframe?<br>\n",
        "     Mediante la función data.frame(), indicando los vectores que conformarán las columnas.\n",
        "\n",
        " * ¿Cómo se accede a los datos de un data.frame?<br>\n",
        "    Al ser una lista, se puede acceder de la misma manera. Sin embargo también es posible acceder del modo en que se accede a los elementos de una matriz."
      ]
    },
    {
      "cell_type": "code",
      "metadata": {
        "trusted": true,
        "id": "qJ-2zVWVTpST",
        "outputId": "d6d89288-2773-4617-d14d-2174953b4156",
        "colab": {
          "base_uri": "https://localhost:8080/",
          "height": 192
        }
      },
      "source": [
        "# 5.2 Dataframes ----------\n",
        "# Ejemplo sencillo de definición de un data.frame\n",
        "# recordar que 1:3 es lo mismo que c(1,2,3)\n",
        "df <- data.frame(edad = c(25,30,34),\n",
        "                 nombre = c(\"Mabel\", \"Miguel\", \"Julio\"),\n",
        "                 rut = c(\"1-2\", \"3-k\", \"7-0\"))\n",
        "df"
      ],
      "execution_count": 48,
      "outputs": [
        {
          "output_type": "display_data",
          "data": {
            "text/html": [
              "<table class=\"dataframe\">\n",
              "<caption>A data.frame: 3 × 3</caption>\n",
              "<thead>\n",
              "\t<tr><th scope=col>edad</th><th scope=col>nombre</th><th scope=col>rut</th></tr>\n",
              "\t<tr><th scope=col>&lt;dbl&gt;</th><th scope=col>&lt;chr&gt;</th><th scope=col>&lt;chr&gt;</th></tr>\n",
              "</thead>\n",
              "<tbody>\n",
              "\t<tr><td>25</td><td>Mabel </td><td>1-2</td></tr>\n",
              "\t<tr><td>30</td><td>Miguel</td><td>3-k</td></tr>\n",
              "\t<tr><td>34</td><td>Julio </td><td>7-0</td></tr>\n",
              "</tbody>\n",
              "</table>\n"
            ],
            "text/markdown": "\nA data.frame: 3 × 3\n\n| edad &lt;dbl&gt; | nombre &lt;chr&gt; | rut &lt;chr&gt; |\n|---|---|---|\n| 25 | Mabel  | 1-2 |\n| 30 | Miguel | 3-k |\n| 34 | Julio  | 7-0 |\n\n",
            "text/latex": "A data.frame: 3 × 3\n\\begin{tabular}{lll}\n edad & nombre & rut\\\\\n <dbl> & <chr> & <chr>\\\\\n\\hline\n\t 25 & Mabel  & 1-2\\\\\n\t 30 & Miguel & 3-k\\\\\n\t 34 & Julio  & 7-0\\\\\n\\end{tabular}\n",
            "text/plain": [
              "  edad nombre rut\n",
              "1 25   Mabel  1-2\n",
              "2 30   Miguel 3-k\n",
              "3 34   Julio  7-0"
            ]
          },
          "metadata": {}
        }
      ]
    },
    {
      "cell_type": "code",
      "source": [
        "colnames(df)\n",
        "names(df)\n",
        "dim(df)"
      ],
      "metadata": {
        "id": "-uRHZjd-DjEL",
        "outputId": "0ba16fe9-bf6e-466e-80e6-4c44aa733a99",
        "colab": {
          "base_uri": "https://localhost:8080/",
          "height": 69
        }
      },
      "execution_count": 51,
      "outputs": [
        {
          "output_type": "display_data",
          "data": {
            "text/html": [
              "<style>\n",
              ".list-inline {list-style: none; margin:0; padding: 0}\n",
              ".list-inline>li {display: inline-block}\n",
              ".list-inline>li:not(:last-child)::after {content: \"\\00b7\"; padding: 0 .5ex}\n",
              "</style>\n",
              "<ol class=list-inline><li>'edad'</li><li>'nombre'</li><li>'rut'</li></ol>\n"
            ],
            "text/markdown": "1. 'edad'\n2. 'nombre'\n3. 'rut'\n\n\n",
            "text/latex": "\\begin{enumerate*}\n\\item 'edad'\n\\item 'nombre'\n\\item 'rut'\n\\end{enumerate*}\n",
            "text/plain": [
              "[1] \"edad\"   \"nombre\" \"rut\"   "
            ]
          },
          "metadata": {}
        },
        {
          "output_type": "display_data",
          "data": {
            "text/html": [
              "<style>\n",
              ".list-inline {list-style: none; margin:0; padding: 0}\n",
              ".list-inline>li {display: inline-block}\n",
              ".list-inline>li:not(:last-child)::after {content: \"\\00b7\"; padding: 0 .5ex}\n",
              "</style>\n",
              "<ol class=list-inline><li>'edad'</li><li>'nombre'</li><li>'rut'</li></ol>\n"
            ],
            "text/markdown": "1. 'edad'\n2. 'nombre'\n3. 'rut'\n\n\n",
            "text/latex": "\\begin{enumerate*}\n\\item 'edad'\n\\item 'nombre'\n\\item 'rut'\n\\end{enumerate*}\n",
            "text/plain": [
              "[1] \"edad\"   \"nombre\" \"rut\"   "
            ]
          },
          "metadata": {}
        },
        {
          "output_type": "display_data",
          "data": {
            "text/html": [
              "<style>\n",
              ".list-inline {list-style: none; margin:0; padding: 0}\n",
              ".list-inline>li {display: inline-block}\n",
              ".list-inline>li:not(:last-child)::after {content: \"\\00b7\"; padding: 0 .5ex}\n",
              "</style>\n",
              "<ol class=list-inline><li>3</li><li>3</li></ol>\n"
            ],
            "text/markdown": "1. 3\n2. 3\n\n\n",
            "text/latex": "\\begin{enumerate*}\n\\item 3\n\\item 3\n\\end{enumerate*}\n",
            "text/plain": [
              "[1] 3 3"
            ]
          },
          "metadata": {}
        }
      ]
    },
    {
      "cell_type": "code",
      "metadata": {
        "trusted": true,
        "id": "nv7stC8ITpSY",
        "outputId": "c9267846-15b6-45cc-ba33-205165b10cd7",
        "colab": {
          "base_uri": "https://localhost:8080/",
          "height": 69
        }
      },
      "source": [
        "# Acceso a columnas de un data.frame\n",
        "## Igual que en una lista\n",
        "df[[2]]\n",
        "df[[\"nombre\"]]\n",
        "df$nombre\n"
      ],
      "execution_count": 53,
      "outputs": [
        {
          "output_type": "display_data",
          "data": {
            "text/html": [
              "<style>\n",
              ".list-inline {list-style: none; margin:0; padding: 0}\n",
              ".list-inline>li {display: inline-block}\n",
              ".list-inline>li:not(:last-child)::after {content: \"\\00b7\"; padding: 0 .5ex}\n",
              "</style>\n",
              "<ol class=list-inline><li>'Mabel'</li><li>'Miguel'</li><li>'Julio'</li></ol>\n"
            ],
            "text/markdown": "1. 'Mabel'\n2. 'Miguel'\n3. 'Julio'\n\n\n",
            "text/latex": "\\begin{enumerate*}\n\\item 'Mabel'\n\\item 'Miguel'\n\\item 'Julio'\n\\end{enumerate*}\n",
            "text/plain": [
              "[1] \"Mabel\"  \"Miguel\" \"Julio\" "
            ]
          },
          "metadata": {}
        },
        {
          "output_type": "display_data",
          "data": {
            "text/html": [
              "<style>\n",
              ".list-inline {list-style: none; margin:0; padding: 0}\n",
              ".list-inline>li {display: inline-block}\n",
              ".list-inline>li:not(:last-child)::after {content: \"\\00b7\"; padding: 0 .5ex}\n",
              "</style>\n",
              "<ol class=list-inline><li>'Mabel'</li><li>'Miguel'</li><li>'Julio'</li></ol>\n"
            ],
            "text/markdown": "1. 'Mabel'\n2. 'Miguel'\n3. 'Julio'\n\n\n",
            "text/latex": "\\begin{enumerate*}\n\\item 'Mabel'\n\\item 'Miguel'\n\\item 'Julio'\n\\end{enumerate*}\n",
            "text/plain": [
              "[1] \"Mabel\"  \"Miguel\" \"Julio\" "
            ]
          },
          "metadata": {}
        },
        {
          "output_type": "display_data",
          "data": {
            "text/html": [
              "<style>\n",
              ".list-inline {list-style: none; margin:0; padding: 0}\n",
              ".list-inline>li {display: inline-block}\n",
              ".list-inline>li:not(:last-child)::after {content: \"\\00b7\"; padding: 0 .5ex}\n",
              "</style>\n",
              "<ol class=list-inline><li>'Mabel'</li><li>'Miguel'</li><li>'Julio'</li></ol>\n"
            ],
            "text/markdown": "1. 'Mabel'\n2. 'Miguel'\n3. 'Julio'\n\n\n",
            "text/latex": "\\begin{enumerate*}\n\\item 'Mabel'\n\\item 'Miguel'\n\\item 'Julio'\n\\end{enumerate*}\n",
            "text/plain": [
              "[1] \"Mabel\"  \"Miguel\" \"Julio\" "
            ]
          },
          "metadata": {}
        }
      ]
    },
    {
      "cell_type": "code",
      "source": [
        "df[\"nombre\"]# mismo comportamiento que en listas. En vez de entregar una lista con el vector, enrega un dataframe con el vector."
      ],
      "metadata": {
        "id": "iOg3ImkzD0qY",
        "outputId": "c8f830e3-af8b-4a04-ad7b-4e30837cd0c1",
        "colab": {
          "base_uri": "https://localhost:8080/",
          "height": 227
        }
      },
      "execution_count": 54,
      "outputs": [
        {
          "output_type": "display_data",
          "data": {
            "text/html": [
              "<table class=\"dataframe\">\n",
              "<caption>A data.frame: 3 × 1</caption>\n",
              "<thead>\n",
              "\t<tr><th scope=col>nombre</th></tr>\n",
              "\t<tr><th scope=col>&lt;chr&gt;</th></tr>\n",
              "</thead>\n",
              "<tbody>\n",
              "\t<tr><td>Mabel </td></tr>\n",
              "\t<tr><td>Miguel</td></tr>\n",
              "\t<tr><td>Julio </td></tr>\n",
              "</tbody>\n",
              "</table>\n"
            ],
            "text/markdown": "\nA data.frame: 3 × 1\n\n| nombre &lt;chr&gt; |\n|---|\n| Mabel  |\n| Miguel |\n| Julio  |\n\n",
            "text/latex": "A data.frame: 3 × 1\n\\begin{tabular}{l}\n nombre\\\\\n <chr>\\\\\n\\hline\n\t Mabel \\\\\n\t Miguel\\\\\n\t Julio \\\\\n\\end{tabular}\n",
            "text/plain": [
              "  nombre\n",
              "1 Mabel \n",
              "2 Miguel\n",
              "3 Julio "
            ]
          },
          "metadata": {}
        }
      ]
    },
    {
      "cell_type": "code",
      "metadata": {
        "trusted": true,
        "id": "CojdmEs9TpSd",
        "outputId": "66984f4d-5057-46d7-bc08-2dd570a96cc7",
        "colab": {
          "base_uri": "https://localhost:8080/",
          "height": 181
        }
      },
      "source": [
        "##  Ganamos acceso como matriz\n",
        "# segundafila de df\n",
        "df[2,]\n",
        "\n",
        "# segunda columna y segunda fila\n",
        "df[2,2]\n",
        "\n",
        "# la segunda columna\n",
        "df[,\"nombre\"]\n",
        "df[,2]\n"
      ],
      "execution_count": 57,
      "outputs": [
        {
          "output_type": "display_data",
          "data": {
            "text/html": [
              "<table class=\"dataframe\">\n",
              "<caption>A data.frame: 1 × 3</caption>\n",
              "<thead>\n",
              "\t<tr><th></th><th scope=col>edad</th><th scope=col>nombre</th><th scope=col>rut</th></tr>\n",
              "\t<tr><th></th><th scope=col>&lt;dbl&gt;</th><th scope=col>&lt;chr&gt;</th><th scope=col>&lt;chr&gt;</th></tr>\n",
              "</thead>\n",
              "<tbody>\n",
              "\t<tr><th scope=row>2</th><td>30</td><td>Miguel</td><td>3-k</td></tr>\n",
              "</tbody>\n",
              "</table>\n"
            ],
            "text/markdown": "\nA data.frame: 1 × 3\n\n| <!--/--> | edad &lt;dbl&gt; | nombre &lt;chr&gt; | rut &lt;chr&gt; |\n|---|---|---|---|\n| 2 | 30 | Miguel | 3-k |\n\n",
            "text/latex": "A data.frame: 1 × 3\n\\begin{tabular}{r|lll}\n  & edad & nombre & rut\\\\\n  & <dbl> & <chr> & <chr>\\\\\n\\hline\n\t2 & 30 & Miguel & 3-k\\\\\n\\end{tabular}\n",
            "text/plain": [
              "  edad nombre rut\n",
              "2 30   Miguel 3-k"
            ]
          },
          "metadata": {}
        },
        {
          "output_type": "display_data",
          "data": {
            "text/html": [
              "'Miguel'"
            ],
            "text/markdown": "'Miguel'",
            "text/latex": "'Miguel'",
            "text/plain": [
              "[1] \"Miguel\""
            ]
          },
          "metadata": {}
        },
        {
          "output_type": "display_data",
          "data": {
            "text/html": [
              "<style>\n",
              ".list-inline {list-style: none; margin:0; padding: 0}\n",
              ".list-inline>li {display: inline-block}\n",
              ".list-inline>li:not(:last-child)::after {content: \"\\00b7\"; padding: 0 .5ex}\n",
              "</style>\n",
              "<ol class=list-inline><li>'Mabel'</li><li>'Miguel'</li><li>'Julio'</li></ol>\n"
            ],
            "text/markdown": "1. 'Mabel'\n2. 'Miguel'\n3. 'Julio'\n\n\n",
            "text/latex": "\\begin{enumerate*}\n\\item 'Mabel'\n\\item 'Miguel'\n\\item 'Julio'\n\\end{enumerate*}\n",
            "text/plain": [
              "[1] \"Mabel\"  \"Miguel\" \"Julio\" "
            ]
          },
          "metadata": {}
        },
        {
          "output_type": "display_data",
          "data": {
            "text/html": [
              "<style>\n",
              ".list-inline {list-style: none; margin:0; padding: 0}\n",
              ".list-inline>li {display: inline-block}\n",
              ".list-inline>li:not(:last-child)::after {content: \"\\00b7\"; padding: 0 .5ex}\n",
              "</style>\n",
              "<ol class=list-inline><li>'Mabel'</li><li>'Miguel'</li><li>'Julio'</li></ol>\n"
            ],
            "text/markdown": "1. 'Mabel'\n2. 'Miguel'\n3. 'Julio'\n\n\n",
            "text/latex": "\\begin{enumerate*}\n\\item 'Mabel'\n\\item 'Miguel'\n\\item 'Julio'\n\\end{enumerate*}\n",
            "text/plain": [
              "[1] \"Mabel\"  \"Miguel\" \"Julio\" "
            ]
          },
          "metadata": {}
        }
      ]
    },
    {
      "cell_type": "code",
      "metadata": {
        "trusted": true,
        "id": "FgD5Q8hFTpSf"
      },
      "source": [
        "#Podemos crear nuevas columnas , del mismmo modo que creamos \"slots\" en una lista\n",
        "df$tiene_mascota <- c(F,F,T)"
      ],
      "execution_count": 58,
      "outputs": []
    },
    {
      "cell_type": "code",
      "source": [
        "df"
      ],
      "metadata": {
        "id": "SnSIlBa5Ee3V",
        "outputId": "fc0a5ffe-52ca-438c-df55-fcc26a2e5441",
        "colab": {
          "base_uri": "https://localhost:8080/",
          "height": 192
        }
      },
      "execution_count": 59,
      "outputs": [
        {
          "output_type": "display_data",
          "data": {
            "text/html": [
              "<table class=\"dataframe\">\n",
              "<caption>A data.frame: 3 × 4</caption>\n",
              "<thead>\n",
              "\t<tr><th scope=col>edad</th><th scope=col>nombre</th><th scope=col>rut</th><th scope=col>tiene_mascota</th></tr>\n",
              "\t<tr><th scope=col>&lt;dbl&gt;</th><th scope=col>&lt;chr&gt;</th><th scope=col>&lt;chr&gt;</th><th scope=col>&lt;lgl&gt;</th></tr>\n",
              "</thead>\n",
              "<tbody>\n",
              "\t<tr><td>25</td><td>Mabel </td><td>1-2</td><td>FALSE</td></tr>\n",
              "\t<tr><td>30</td><td>Miguel</td><td>3-k</td><td>FALSE</td></tr>\n",
              "\t<tr><td>34</td><td>Julio </td><td>7-0</td><td> TRUE</td></tr>\n",
              "</tbody>\n",
              "</table>\n"
            ],
            "text/markdown": "\nA data.frame: 3 × 4\n\n| edad &lt;dbl&gt; | nombre &lt;chr&gt; | rut &lt;chr&gt; | tiene_mascota &lt;lgl&gt; |\n|---|---|---|---|\n| 25 | Mabel  | 1-2 | FALSE |\n| 30 | Miguel | 3-k | FALSE |\n| 34 | Julio  | 7-0 |  TRUE |\n\n",
            "text/latex": "A data.frame: 3 × 4\n\\begin{tabular}{llll}\n edad & nombre & rut & tiene\\_mascota\\\\\n <dbl> & <chr> & <chr> & <lgl>\\\\\n\\hline\n\t 25 & Mabel  & 1-2 & FALSE\\\\\n\t 30 & Miguel & 3-k & FALSE\\\\\n\t 34 & Julio  & 7-0 &  TRUE\\\\\n\\end{tabular}\n",
            "text/plain": [
              "  edad nombre rut tiene_mascota\n",
              "1 25   Mabel  1-2 FALSE        \n",
              "2 30   Miguel 3-k FALSE        \n",
              "3 34   Julio  7-0  TRUE        "
            ]
          },
          "metadata": {}
        }
      ]
    },
    {
      "cell_type": "code",
      "metadata": {
        "trusted": true,
        "id": "LcNQ5JHVTpSh",
        "outputId": "10a8c855-0313-4bc1-e516-5b041edc3098",
        "colab": {
          "base_uri": "https://localhost:8080/",
          "height": 786
        }
      },
      "source": [
        "# podemos seleccionar más de una columna a la vez. Ej: seleccionar col1y col3\n",
        "df[c(1,3)] # pensando como lista\n",
        "df[,c(1,3)] # pensando como matriz\n",
        "# Referenciando el nombre de las columnas\n",
        "df[c(\"edad\",\"rut\")] # pensando como lista\n",
        "df[,c(\"edad\",\"rut\")] # pensando como matriz"
      ],
      "execution_count": 62,
      "outputs": [
        {
          "output_type": "display_data",
          "data": {
            "text/html": [
              "<table class=\"dataframe\">\n",
              "<caption>A data.frame: 3 × 2</caption>\n",
              "<thead>\n",
              "\t<tr><th scope=col>edad</th><th scope=col>rut</th></tr>\n",
              "\t<tr><th scope=col>&lt;dbl&gt;</th><th scope=col>&lt;chr&gt;</th></tr>\n",
              "</thead>\n",
              "<tbody>\n",
              "\t<tr><td>25</td><td>1-2</td></tr>\n",
              "\t<tr><td>30</td><td>3-k</td></tr>\n",
              "\t<tr><td>34</td><td>7-0</td></tr>\n",
              "</tbody>\n",
              "</table>\n"
            ],
            "text/markdown": "\nA data.frame: 3 × 2\n\n| edad &lt;dbl&gt; | rut &lt;chr&gt; |\n|---|---|\n| 25 | 1-2 |\n| 30 | 3-k |\n| 34 | 7-0 |\n\n",
            "text/latex": "A data.frame: 3 × 2\n\\begin{tabular}{ll}\n edad & rut\\\\\n <dbl> & <chr>\\\\\n\\hline\n\t 25 & 1-2\\\\\n\t 30 & 3-k\\\\\n\t 34 & 7-0\\\\\n\\end{tabular}\n",
            "text/plain": [
              "  edad rut\n",
              "1 25   1-2\n",
              "2 30   3-k\n",
              "3 34   7-0"
            ]
          },
          "metadata": {}
        },
        {
          "output_type": "display_data",
          "data": {
            "text/html": [
              "<table class=\"dataframe\">\n",
              "<caption>A data.frame: 3 × 2</caption>\n",
              "<thead>\n",
              "\t<tr><th scope=col>edad</th><th scope=col>rut</th></tr>\n",
              "\t<tr><th scope=col>&lt;dbl&gt;</th><th scope=col>&lt;chr&gt;</th></tr>\n",
              "</thead>\n",
              "<tbody>\n",
              "\t<tr><td>25</td><td>1-2</td></tr>\n",
              "\t<tr><td>30</td><td>3-k</td></tr>\n",
              "\t<tr><td>34</td><td>7-0</td></tr>\n",
              "</tbody>\n",
              "</table>\n"
            ],
            "text/markdown": "\nA data.frame: 3 × 2\n\n| edad &lt;dbl&gt; | rut &lt;chr&gt; |\n|---|---|\n| 25 | 1-2 |\n| 30 | 3-k |\n| 34 | 7-0 |\n\n",
            "text/latex": "A data.frame: 3 × 2\n\\begin{tabular}{ll}\n edad & rut\\\\\n <dbl> & <chr>\\\\\n\\hline\n\t 25 & 1-2\\\\\n\t 30 & 3-k\\\\\n\t 34 & 7-0\\\\\n\\end{tabular}\n",
            "text/plain": [
              "  edad rut\n",
              "1 25   1-2\n",
              "2 30   3-k\n",
              "3 34   7-0"
            ]
          },
          "metadata": {}
        },
        {
          "output_type": "display_data",
          "data": {
            "text/html": [
              "<table class=\"dataframe\">\n",
              "<caption>A data.frame: 3 × 2</caption>\n",
              "<thead>\n",
              "\t<tr><th scope=col>edad</th><th scope=col>rut</th></tr>\n",
              "\t<tr><th scope=col>&lt;dbl&gt;</th><th scope=col>&lt;chr&gt;</th></tr>\n",
              "</thead>\n",
              "<tbody>\n",
              "\t<tr><td>25</td><td>1-2</td></tr>\n",
              "\t<tr><td>30</td><td>3-k</td></tr>\n",
              "\t<tr><td>34</td><td>7-0</td></tr>\n",
              "</tbody>\n",
              "</table>\n"
            ],
            "text/markdown": "\nA data.frame: 3 × 2\n\n| edad &lt;dbl&gt; | rut &lt;chr&gt; |\n|---|---|\n| 25 | 1-2 |\n| 30 | 3-k |\n| 34 | 7-0 |\n\n",
            "text/latex": "A data.frame: 3 × 2\n\\begin{tabular}{ll}\n edad & rut\\\\\n <dbl> & <chr>\\\\\n\\hline\n\t 25 & 1-2\\\\\n\t 30 & 3-k\\\\\n\t 34 & 7-0\\\\\n\\end{tabular}\n",
            "text/plain": [
              "  edad rut\n",
              "1 25   1-2\n",
              "2 30   3-k\n",
              "3 34   7-0"
            ]
          },
          "metadata": {}
        },
        {
          "output_type": "display_data",
          "data": {
            "text/html": [
              "<table class=\"dataframe\">\n",
              "<caption>A data.frame: 3 × 2</caption>\n",
              "<thead>\n",
              "\t<tr><th scope=col>edad</th><th scope=col>rut</th></tr>\n",
              "\t<tr><th scope=col>&lt;dbl&gt;</th><th scope=col>&lt;chr&gt;</th></tr>\n",
              "</thead>\n",
              "<tbody>\n",
              "\t<tr><td>25</td><td>1-2</td></tr>\n",
              "\t<tr><td>30</td><td>3-k</td></tr>\n",
              "\t<tr><td>34</td><td>7-0</td></tr>\n",
              "</tbody>\n",
              "</table>\n"
            ],
            "text/markdown": "\nA data.frame: 3 × 2\n\n| edad &lt;dbl&gt; | rut &lt;chr&gt; |\n|---|---|\n| 25 | 1-2 |\n| 30 | 3-k |\n| 34 | 7-0 |\n\n",
            "text/latex": "A data.frame: 3 × 2\n\\begin{tabular}{ll}\n edad & rut\\\\\n <dbl> & <chr>\\\\\n\\hline\n\t 25 & 1-2\\\\\n\t 30 & 3-k\\\\\n\t 34 & 7-0\\\\\n\\end{tabular}\n",
            "text/plain": [
              "  edad rut\n",
              "1 25   1-2\n",
              "2 30   3-k\n",
              "3 34   7-0"
            ]
          },
          "metadata": {}
        }
      ]
    },
    {
      "cell_type": "code",
      "metadata": {
        "trusted": true,
        "id": "RmsAhhsWTpSm",
        "outputId": "f57008a6-8507-4f91-bbea-bcf2aa7b3bf0",
        "colab": {
          "base_uri": "https://localhost:8080/",
          "height": 160
        }
      },
      "source": [
        "# Ahora podemos hacer consultas como las haríamos en vectores o matrices\n",
        "# Todas filas donde la persona tiene màs edde 25 años\n",
        "\n",
        "df[df$edad > 25,]"
      ],
      "execution_count": 63,
      "outputs": [
        {
          "output_type": "display_data",
          "data": {
            "text/html": [
              "<table class=\"dataframe\">\n",
              "<caption>A data.frame: 2 × 4</caption>\n",
              "<thead>\n",
              "\t<tr><th></th><th scope=col>edad</th><th scope=col>nombre</th><th scope=col>rut</th><th scope=col>tiene_mascota</th></tr>\n",
              "\t<tr><th></th><th scope=col>&lt;dbl&gt;</th><th scope=col>&lt;chr&gt;</th><th scope=col>&lt;chr&gt;</th><th scope=col>&lt;lgl&gt;</th></tr>\n",
              "</thead>\n",
              "<tbody>\n",
              "\t<tr><th scope=row>2</th><td>30</td><td>Miguel</td><td>3-k</td><td>FALSE</td></tr>\n",
              "\t<tr><th scope=row>3</th><td>34</td><td>Julio </td><td>7-0</td><td> TRUE</td></tr>\n",
              "</tbody>\n",
              "</table>\n"
            ],
            "text/markdown": "\nA data.frame: 2 × 4\n\n| <!--/--> | edad &lt;dbl&gt; | nombre &lt;chr&gt; | rut &lt;chr&gt; | tiene_mascota &lt;lgl&gt; |\n|---|---|---|---|---|\n| 2 | 30 | Miguel | 3-k | FALSE |\n| 3 | 34 | Julio  | 7-0 |  TRUE |\n\n",
            "text/latex": "A data.frame: 2 × 4\n\\begin{tabular}{r|llll}\n  & edad & nombre & rut & tiene\\_mascota\\\\\n  & <dbl> & <chr> & <chr> & <lgl>\\\\\n\\hline\n\t2 & 30 & Miguel & 3-k & FALSE\\\\\n\t3 & 34 & Julio  & 7-0 &  TRUE\\\\\n\\end{tabular}\n",
            "text/plain": [
              "  edad nombre rut tiene_mascota\n",
              "2 30   Miguel 3-k FALSE        \n",
              "3 34   Julio  7-0  TRUE        "
            ]
          },
          "metadata": {}
        }
      ]
    },
    {
      "cell_type": "code",
      "source": [],
      "metadata": {
        "id": "i3_lV4tiE7sW"
      },
      "execution_count": null,
      "outputs": []
    }
  ]
}