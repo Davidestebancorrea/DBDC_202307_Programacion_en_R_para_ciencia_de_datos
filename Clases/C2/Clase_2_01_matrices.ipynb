{
  "nbformat": 4,
  "nbformat_minor": 0,
  "metadata": {
    "colab": {
      "provenance": [],
      "include_colab_link": true
    },
    "kernelspec": {
      "name": "ir",
      "display_name": "R"
    }
  },
  "cells": [
    {
      "cell_type": "markdown",
      "metadata": {
        "id": "view-in-github",
        "colab_type": "text"
      },
      "source": [
        "<a href=\"https://colab.research.google.com/github/majorquev/DBDC_202307_Programacion_en_R_para_ciencia_de_datos/blob/main/Clases/C2/Clase_2_01_matrices.ipynb\" target=\"_parent\"><img src=\"https://colab.research.google.com/assets/colab-badge.svg\" alt=\"Open In Colab\"/></a>"
      ]
    },
    {
      "cell_type": "markdown",
      "metadata": {
        "collapsed": true,
        "id": "qGvtNqVzSqoX"
      },
      "source": [
        "# Parte 1: Introducción a R (continuación)\n",
        "\n",
        "**Autor:** Miguel Jorquera Viguera<br>\n",
        "**E-mail:** majorquev@gmail.com<br>\n",
        "**Ayudante:** Rodrigo Morales <br>\n",
        "**E-mail ayudante:** rumorale1@gmail.com\n",
        "\n",
        "\n",
        "\n",
        "### 3.2 Matrices\n",
        "\n",
        "En R, así como en otros lenguajes de programación, una matriz es básicamente un arreglo bi-dimensional, donde las entradas horizontales se entienden como filas y las verticales como columnas. Es posible imaginar una matriz como un arreglo de vectores como columnas (o filas) del mismo largo.\n",
        "\n",
        " * ¿Qué se guarda en una matriz?<br>\n",
        "    Sólo datos de un mismo tipo.\n",
        "     \n",
        " * ¿Cómo se declara una matriz?<br>\n",
        "    Se puede definir de varias maneras, indicando los elementos que la componen, o combinando vectores como filas o columnas.\n",
        "\n",
        " * ¿Cómo se accede a sus elementos?<br>\n",
        "    Indicando la posición del vector fila, seguido de la posición del vector columna (como es usual)."
      ]
    },
    {
      "cell_type": "code",
      "metadata": {
        "trusted": true,
        "id": "TKVO3cuZSqoY",
        "outputId": "53be32cd-a8b4-47cb-9630-9a6ee85639b6",
        "colab": {
          "base_uri": "https://localhost:8080/",
          "height": 132
        }
      },
      "source": [
        "# 3.2 Matrices ------------\n",
        "#?matrix de dos filas y 3 columnas, parametros ncol, nrow y byrow\n",
        "# recibe un vector de elementos\n",
        "A <- matrix(c(1,1,2,3,5,8), ncol = 3, nrow = 2)\n",
        "A\n"
      ],
      "execution_count": 1,
      "outputs": [
        {
          "output_type": "display_data",
          "data": {
            "text/html": [
              "<table class=\"dataframe\">\n",
              "<caption>A matrix: 2 × 3 of type dbl</caption>\n",
              "<tbody>\n",
              "\t<tr><td>1</td><td>2</td><td>5</td></tr>\n",
              "\t<tr><td>1</td><td>3</td><td>8</td></tr>\n",
              "</tbody>\n",
              "</table>\n"
            ],
            "text/markdown": "\nA matrix: 2 × 3 of type dbl\n\n| 1 | 2 | 5 |\n| 1 | 3 | 8 |\n\n",
            "text/latex": "A matrix: 2 × 3 of type dbl\n\\begin{tabular}{lll}\n\t 1 & 2 & 5\\\\\n\t 1 & 3 & 8\\\\\n\\end{tabular}\n",
            "text/plain": [
              "     [,1] [,2] [,3]\n",
              "[1,] 1    2    5   \n",
              "[2,] 1    3    8   "
            ]
          },
          "metadata": {}
        }
      ]
    },
    {
      "cell_type": "code",
      "source": [
        "\n",
        "B <- matrix(c(1,1,2,3,5,8), ncol = 3, nrow = 2, byrow = T)\n",
        "B"
      ],
      "metadata": {
        "id": "nitkQr-8v9yW",
        "outputId": "e5906ceb-8d3b-4e39-8975-a60fb72e42b2",
        "colab": {
          "base_uri": "https://localhost:8080/",
          "height": 132
        }
      },
      "execution_count": 2,
      "outputs": [
        {
          "output_type": "display_data",
          "data": {
            "text/html": [
              "<table class=\"dataframe\">\n",
              "<caption>A matrix: 2 × 3 of type dbl</caption>\n",
              "<tbody>\n",
              "\t<tr><td>1</td><td>1</td><td>2</td></tr>\n",
              "\t<tr><td>3</td><td>5</td><td>8</td></tr>\n",
              "</tbody>\n",
              "</table>\n"
            ],
            "text/markdown": "\nA matrix: 2 × 3 of type dbl\n\n| 1 | 1 | 2 |\n| 3 | 5 | 8 |\n\n",
            "text/latex": "A matrix: 2 × 3 of type dbl\n\\begin{tabular}{lll}\n\t 1 & 1 & 2\\\\\n\t 3 & 5 & 8\\\\\n\\end{tabular}\n",
            "text/plain": [
              "     [,1] [,2] [,3]\n",
              "[1,] 1    1    2   \n",
              "[2,] 3    5    8   "
            ]
          },
          "metadata": {}
        }
      ]
    },
    {
      "cell_type": "code",
      "metadata": {
        "trusted": true,
        "id": "Gm3PDTciSqof",
        "outputId": "6337a9e2-8015-46a6-e21a-e4e644dc9a08",
        "colab": {
          "base_uri": "https://localhost:8080/",
          "height": 69
        }
      },
      "source": [
        "# clase y atributo dim\n",
        "class(B)\n",
        "typeof(B)\n",
        "dim(B)"
      ],
      "execution_count": 5,
      "outputs": [
        {
          "output_type": "display_data",
          "data": {
            "text/html": [
              "<style>\n",
              ".list-inline {list-style: none; margin:0; padding: 0}\n",
              ".list-inline>li {display: inline-block}\n",
              ".list-inline>li:not(:last-child)::after {content: \"\\00b7\"; padding: 0 .5ex}\n",
              "</style>\n",
              "<ol class=list-inline><li>'matrix'</li><li>'array'</li></ol>\n"
            ],
            "text/markdown": "1. 'matrix'\n2. 'array'\n\n\n",
            "text/latex": "\\begin{enumerate*}\n\\item 'matrix'\n\\item 'array'\n\\end{enumerate*}\n",
            "text/plain": [
              "[1] \"matrix\" \"array\" "
            ]
          },
          "metadata": {}
        },
        {
          "output_type": "display_data",
          "data": {
            "text/html": [
              "'double'"
            ],
            "text/markdown": "'double'",
            "text/latex": "'double'",
            "text/plain": [
              "[1] \"double\""
            ]
          },
          "metadata": {}
        },
        {
          "output_type": "display_data",
          "data": {
            "text/html": [
              "<style>\n",
              ".list-inline {list-style: none; margin:0; padding: 0}\n",
              ".list-inline>li {display: inline-block}\n",
              ".list-inline>li:not(:last-child)::after {content: \"\\00b7\"; padding: 0 .5ex}\n",
              "</style>\n",
              "<ol class=list-inline><li>2</li><li>3</li></ol>\n"
            ],
            "text/markdown": "1. 2\n2. 3\n\n\n",
            "text/latex": "\\begin{enumerate*}\n\\item 2\n\\item 3\n\\end{enumerate*}\n",
            "text/plain": [
              "[1] 2 3"
            ]
          },
          "metadata": {}
        }
      ]
    },
    {
      "cell_type": "code",
      "source": [
        "dim(B)[1]# nº de filas.\n",
        "dim(B)[2]# nº de columnas"
      ],
      "metadata": {
        "id": "G1o9m40qw_8l",
        "outputId": "91245c4c-2333-4cf4-c7c2-b5baeb3a29a0",
        "colab": {
          "base_uri": "https://localhost:8080/",
          "height": 52
        }
      },
      "execution_count": 7,
      "outputs": [
        {
          "output_type": "display_data",
          "data": {
            "text/html": [
              "2"
            ],
            "text/markdown": "2",
            "text/latex": "2",
            "text/plain": [
              "[1] 2"
            ]
          },
          "metadata": {}
        },
        {
          "output_type": "display_data",
          "data": {
            "text/html": [
              "3"
            ],
            "text/markdown": "3",
            "text/latex": "3",
            "text/plain": [
              "[1] 3"
            ]
          },
          "metadata": {}
        }
      ]
    },
    {
      "cell_type": "code",
      "source": [
        "nrow(B)\n",
        "ncol(B)"
      ],
      "metadata": {
        "id": "lgEnK-hRxKQb",
        "outputId": "1400afd1-98de-4e17-981b-04456b6715d9",
        "colab": {
          "base_uri": "https://localhost:8080/",
          "height": 52
        }
      },
      "execution_count": 9,
      "outputs": [
        {
          "output_type": "display_data",
          "data": {
            "text/html": [
              "2"
            ],
            "text/markdown": "2",
            "text/latex": "2",
            "text/plain": [
              "[1] 2"
            ]
          },
          "metadata": {}
        },
        {
          "output_type": "display_data",
          "data": {
            "text/html": [
              "3"
            ],
            "text/markdown": "3",
            "text/latex": "3",
            "text/plain": [
              "[1] 3"
            ]
          },
          "metadata": {}
        }
      ]
    },
    {
      "cell_type": "code",
      "metadata": {
        "trusted": true,
        "id": "2TXNSoedSqoh"
      },
      "source": [
        "# Genere dos vectores del mismo largo y forme una matriz.\n",
        "c1 <- c(1,2,3)\n",
        "c2 <- c(10,20,40)\n",
        "\n",
        "\n"
      ],
      "execution_count": 11,
      "outputs": []
    },
    {
      "cell_type": "code",
      "metadata": {
        "trusted": true,
        "id": "W3g76XEkSqok",
        "outputId": "50f38825-c6a2-4e81-a6fc-428af0c091e4",
        "colab": {
          "base_uri": "https://localhost:8080/",
          "height": 195
        }
      },
      "source": [
        "# funciones cbind() [une vectores como columnas]\n",
        "# y rbind() [une vectores como filas] (pensadas para matrices)\n",
        "#?cbind\n",
        "\n",
        "C <- cbind(c1,c2)\n",
        "C"
      ],
      "execution_count": 13,
      "outputs": [
        {
          "output_type": "display_data",
          "data": {
            "text/html": [
              "<table class=\"dataframe\">\n",
              "<caption>A matrix: 3 × 2 of type dbl</caption>\n",
              "<thead>\n",
              "\t<tr><th scope=col>c1</th><th scope=col>c2</th></tr>\n",
              "</thead>\n",
              "<tbody>\n",
              "\t<tr><td>1</td><td>10</td></tr>\n",
              "\t<tr><td>2</td><td>20</td></tr>\n",
              "\t<tr><td>3</td><td>40</td></tr>\n",
              "</tbody>\n",
              "</table>\n"
            ],
            "text/markdown": "\nA matrix: 3 × 2 of type dbl\n\n| c1 | c2 |\n|---|---|\n| 1 | 10 |\n| 2 | 20 |\n| 3 | 40 |\n\n",
            "text/latex": "A matrix: 3 × 2 of type dbl\n\\begin{tabular}{ll}\n c1 & c2\\\\\n\\hline\n\t 1 & 10\\\\\n\t 2 & 20\\\\\n\t 3 & 40\\\\\n\\end{tabular}\n",
            "text/plain": [
              "     c1 c2\n",
              "[1,] 1  10\n",
              "[2,] 2  20\n",
              "[3,] 3  40"
            ]
          },
          "metadata": {}
        }
      ]
    },
    {
      "cell_type": "code",
      "source": [
        "letters\n",
        "LETTERS"
      ],
      "metadata": {
        "id": "lCnXkEICxvzn",
        "outputId": "0b89ffc8-c4fd-429d-a533-f9b41175de6d",
        "colab": {
          "base_uri": "https://localhost:8080/",
          "height": 52
        }
      },
      "execution_count": 15,
      "outputs": [
        {
          "output_type": "display_data",
          "data": {
            "text/html": [
              "<style>\n",
              ".list-inline {list-style: none; margin:0; padding: 0}\n",
              ".list-inline>li {display: inline-block}\n",
              ".list-inline>li:not(:last-child)::after {content: \"\\00b7\"; padding: 0 .5ex}\n",
              "</style>\n",
              "<ol class=list-inline><li>'a'</li><li>'b'</li><li>'c'</li><li>'d'</li><li>'e'</li><li>'f'</li><li>'g'</li><li>'h'</li><li>'i'</li><li>'j'</li><li>'k'</li><li>'l'</li><li>'m'</li><li>'n'</li><li>'o'</li><li>'p'</li><li>'q'</li><li>'r'</li><li>'s'</li><li>'t'</li><li>'u'</li><li>'v'</li><li>'w'</li><li>'x'</li><li>'y'</li><li>'z'</li></ol>\n"
            ],
            "text/markdown": "1. 'a'\n2. 'b'\n3. 'c'\n4. 'd'\n5. 'e'\n6. 'f'\n7. 'g'\n8. 'h'\n9. 'i'\n10. 'j'\n11. 'k'\n12. 'l'\n13. 'm'\n14. 'n'\n15. 'o'\n16. 'p'\n17. 'q'\n18. 'r'\n19. 's'\n20. 't'\n21. 'u'\n22. 'v'\n23. 'w'\n24. 'x'\n25. 'y'\n26. 'z'\n\n\n",
            "text/latex": "\\begin{enumerate*}\n\\item 'a'\n\\item 'b'\n\\item 'c'\n\\item 'd'\n\\item 'e'\n\\item 'f'\n\\item 'g'\n\\item 'h'\n\\item 'i'\n\\item 'j'\n\\item 'k'\n\\item 'l'\n\\item 'm'\n\\item 'n'\n\\item 'o'\n\\item 'p'\n\\item 'q'\n\\item 'r'\n\\item 's'\n\\item 't'\n\\item 'u'\n\\item 'v'\n\\item 'w'\n\\item 'x'\n\\item 'y'\n\\item 'z'\n\\end{enumerate*}\n",
            "text/plain": [
              " [1] \"a\" \"b\" \"c\" \"d\" \"e\" \"f\" \"g\" \"h\" \"i\" \"j\" \"k\" \"l\" \"m\" \"n\" \"o\" \"p\" \"q\" \"r\" \"s\"\n",
              "[20] \"t\" \"u\" \"v\" \"w\" \"x\" \"y\" \"z\""
            ]
          },
          "metadata": {}
        },
        {
          "output_type": "display_data",
          "data": {
            "text/html": [
              "<style>\n",
              ".list-inline {list-style: none; margin:0; padding: 0}\n",
              ".list-inline>li {display: inline-block}\n",
              ".list-inline>li:not(:last-child)::after {content: \"\\00b7\"; padding: 0 .5ex}\n",
              "</style>\n",
              "<ol class=list-inline><li>'A'</li><li>'B'</li><li>'C'</li><li>'D'</li><li>'E'</li><li>'F'</li><li>'G'</li><li>'H'</li><li>'I'</li><li>'J'</li><li>'K'</li><li>'L'</li><li>'M'</li><li>'N'</li><li>'O'</li><li>'P'</li><li>'Q'</li><li>'R'</li><li>'S'</li><li>'T'</li><li>'U'</li><li>'V'</li><li>'W'</li><li>'X'</li><li>'Y'</li><li>'Z'</li></ol>\n"
            ],
            "text/markdown": "1. 'A'\n2. 'B'\n3. 'C'\n4. 'D'\n5. 'E'\n6. 'F'\n7. 'G'\n8. 'H'\n9. 'I'\n10. 'J'\n11. 'K'\n12. 'L'\n13. 'M'\n14. 'N'\n15. 'O'\n16. 'P'\n17. 'Q'\n18. 'R'\n19. 'S'\n20. 'T'\n21. 'U'\n22. 'V'\n23. 'W'\n24. 'X'\n25. 'Y'\n26. 'Z'\n\n\n",
            "text/latex": "\\begin{enumerate*}\n\\item 'A'\n\\item 'B'\n\\item 'C'\n\\item 'D'\n\\item 'E'\n\\item 'F'\n\\item 'G'\n\\item 'H'\n\\item 'I'\n\\item 'J'\n\\item 'K'\n\\item 'L'\n\\item 'M'\n\\item 'N'\n\\item 'O'\n\\item 'P'\n\\item 'Q'\n\\item 'R'\n\\item 'S'\n\\item 'T'\n\\item 'U'\n\\item 'V'\n\\item 'W'\n\\item 'X'\n\\item 'Y'\n\\item 'Z'\n\\end{enumerate*}\n",
            "text/plain": [
              " [1] \"A\" \"B\" \"C\" \"D\" \"E\" \"F\" \"G\" \"H\" \"I\" \"J\" \"K\" \"L\" \"M\" \"N\" \"O\" \"P\" \"Q\" \"R\" \"S\"\n",
              "[20] \"T\" \"U\" \"V\" \"W\" \"X\" \"Y\" \"Z\""
            ]
          },
          "metadata": {}
        }
      ]
    },
    {
      "cell_type": "code",
      "source": [
        "f1 <- LETTERS[1:5]\n",
        "f2 <- letters[5:1]\n",
        "\n",
        "D <- rbind(f1,f2)\n",
        "D"
      ],
      "metadata": {
        "id": "8paSED-TxrlI",
        "outputId": "05d419c6-fad6-4be5-aa11-86bd4849a2e3",
        "colab": {
          "base_uri": "https://localhost:8080/",
          "height": 114
        }
      },
      "execution_count": 17,
      "outputs": [
        {
          "output_type": "display_data",
          "data": {
            "text/html": [
              "<table class=\"dataframe\">\n",
              "<caption>A matrix: 2 × 5 of type chr</caption>\n",
              "<tbody>\n",
              "\t<tr><th scope=row>f1</th><td>A</td><td>B</td><td>C</td><td>D</td><td>E</td></tr>\n",
              "\t<tr><th scope=row>f2</th><td>e</td><td>d</td><td>c</td><td>b</td><td>a</td></tr>\n",
              "</tbody>\n",
              "</table>\n"
            ],
            "text/markdown": "\nA matrix: 2 × 5 of type chr\n\n| f1 | A | B | C | D | E |\n| f2 | e | d | c | b | a |\n\n",
            "text/latex": "A matrix: 2 × 5 of type chr\n\\begin{tabular}{r|lllll}\n\tf1 & A & B & C & D & E\\\\\n\tf2 & e & d & c & b & a\\\\\n\\end{tabular}\n",
            "text/plain": [
              "   [,1] [,2] [,3] [,4] [,5]\n",
              "f1 A    B    C    D    E   \n",
              "f2 e    d    c    b    a   "
            ]
          },
          "metadata": {}
        }
      ]
    },
    {
      "cell_type": "code",
      "source": [
        "colnames(C)\n",
        "colnames(D)\n",
        "rownames(D)"
      ],
      "metadata": {
        "id": "5o9lRrv1yI5z",
        "outputId": "3ecba6dd-f108-4397-c14e-f3c8ba23549b",
        "colab": {
          "base_uri": "https://localhost:8080/",
          "height": 69
        }
      },
      "execution_count": 21,
      "outputs": [
        {
          "output_type": "display_data",
          "data": {
            "text/html": [
              "<style>\n",
              ".list-inline {list-style: none; margin:0; padding: 0}\n",
              ".list-inline>li {display: inline-block}\n",
              ".list-inline>li:not(:last-child)::after {content: \"\\00b7\"; padding: 0 .5ex}\n",
              "</style>\n",
              "<ol class=list-inline><li>'c1'</li><li>'c2'</li></ol>\n"
            ],
            "text/markdown": "1. 'c1'\n2. 'c2'\n\n\n",
            "text/latex": "\\begin{enumerate*}\n\\item 'c1'\n\\item 'c2'\n\\end{enumerate*}\n",
            "text/plain": [
              "[1] \"c1\" \"c2\""
            ]
          },
          "metadata": {}
        },
        {
          "output_type": "display_data",
          "data": {
            "text/plain": [
              "NULL"
            ]
          },
          "metadata": {}
        },
        {
          "output_type": "display_data",
          "data": {
            "text/html": [
              "<style>\n",
              ".list-inline {list-style: none; margin:0; padding: 0}\n",
              ".list-inline>li {display: inline-block}\n",
              ".list-inline>li:not(:last-child)::after {content: \"\\00b7\"; padding: 0 .5ex}\n",
              "</style>\n",
              "<ol class=list-inline><li>'f1'</li><li>'f2'</li></ol>\n"
            ],
            "text/markdown": "1. 'f1'\n2. 'f2'\n\n\n",
            "text/latex": "\\begin{enumerate*}\n\\item 'f1'\n\\item 'f2'\n\\end{enumerate*}\n",
            "text/plain": [
              "[1] \"f1\" \"f2\""
            ]
          },
          "metadata": {}
        }
      ]
    },
    {
      "cell_type": "code",
      "source": [
        "# NOTA: Podemos añadir una fila/columna a una matriz existente\n",
        "D\n",
        "nuevo <- c(\"X\",\"Y\")\n",
        "cbind(D,nuevo)\n"
      ],
      "metadata": {
        "id": "ds9erwbP3sMG",
        "outputId": "b9fc28eb-911e-4a12-f6a5-71b5262ebae9",
        "colab": {
          "base_uri": "https://localhost:8080/",
          "height": 227
        }
      },
      "execution_count": 23,
      "outputs": [
        {
          "output_type": "display_data",
          "data": {
            "text/html": [
              "<table class=\"dataframe\">\n",
              "<caption>A matrix: 2 × 5 of type chr</caption>\n",
              "<tbody>\n",
              "\t<tr><th scope=row>f1</th><td>A</td><td>B</td><td>C</td><td>D</td><td>E</td></tr>\n",
              "\t<tr><th scope=row>f2</th><td>e</td><td>d</td><td>c</td><td>b</td><td>a</td></tr>\n",
              "</tbody>\n",
              "</table>\n"
            ],
            "text/markdown": "\nA matrix: 2 × 5 of type chr\n\n| f1 | A | B | C | D | E |\n| f2 | e | d | c | b | a |\n\n",
            "text/latex": "A matrix: 2 × 5 of type chr\n\\begin{tabular}{r|lllll}\n\tf1 & A & B & C & D & E\\\\\n\tf2 & e & d & c & b & a\\\\\n\\end{tabular}\n",
            "text/plain": [
              "   [,1] [,2] [,3] [,4] [,5]\n",
              "f1 A    B    C    D    E   \n",
              "f2 e    d    c    b    a   "
            ]
          },
          "metadata": {}
        },
        {
          "output_type": "display_data",
          "data": {
            "text/html": [
              "<table class=\"dataframe\">\n",
              "<caption>A matrix: 2 × 6 of type chr</caption>\n",
              "<thead>\n",
              "\t<tr><th></th><th scope=col></th><th scope=col></th><th scope=col></th><th scope=col></th><th scope=col></th><th scope=col>nuevo</th></tr>\n",
              "</thead>\n",
              "<tbody>\n",
              "\t<tr><th scope=row>f1</th><td>A</td><td>B</td><td>C</td><td>D</td><td>E</td><td>X</td></tr>\n",
              "\t<tr><th scope=row>f2</th><td>e</td><td>d</td><td>c</td><td>b</td><td>a</td><td>Y</td></tr>\n",
              "</tbody>\n",
              "</table>\n"
            ],
            "text/markdown": "\nA matrix: 2 × 6 of type chr\n\n| <!--/--> | <!----> | <!----> | <!----> | <!----> | <!----> | nuevo |\n|---|---|---|---|---|---|---|\n| f1 | A | B | C | D | E | X |\n| f2 | e | d | c | b | a | Y |\n\n",
            "text/latex": "A matrix: 2 × 6 of type chr\n\\begin{tabular}{r|llllll}\n  &  &  &  &  &  & nuevo\\\\\n\\hline\n\tf1 & A & B & C & D & E & X\\\\\n\tf2 & e & d & c & b & a & Y\\\\\n\\end{tabular}\n",
            "text/plain": [
              "             nuevo\n",
              "f1 A B C D E X    \n",
              "f2 e d c b a Y    "
            ]
          },
          "metadata": {}
        }
      ]
    },
    {
      "cell_type": "code",
      "metadata": {
        "trusted": true,
        "id": "gDzbcsNVSqom",
        "outputId": "ca607c29-9765-45cb-a528-a733e009f34f",
        "colab": {
          "base_uri": "https://localhost:8080/",
          "height": 278
        }
      },
      "source": [
        "# si combinamos vectores de distinto largo?\n",
        "# R recicla valores (recordar explicación)\n",
        "D\n",
        "rbind(D,c(\"j\",\"k\"))\n"
      ],
      "execution_count": 25,
      "outputs": [
        {
          "output_type": "display_data",
          "data": {
            "text/html": [
              "<table class=\"dataframe\">\n",
              "<caption>A matrix: 2 × 5 of type chr</caption>\n",
              "<tbody>\n",
              "\t<tr><th scope=row>f1</th><td>A</td><td>B</td><td>C</td><td>D</td><td>E</td></tr>\n",
              "\t<tr><th scope=row>f2</th><td>e</td><td>d</td><td>c</td><td>b</td><td>a</td></tr>\n",
              "</tbody>\n",
              "</table>\n"
            ],
            "text/markdown": "\nA matrix: 2 × 5 of type chr\n\n| f1 | A | B | C | D | E |\n| f2 | e | d | c | b | a |\n\n",
            "text/latex": "A matrix: 2 × 5 of type chr\n\\begin{tabular}{r|lllll}\n\tf1 & A & B & C & D & E\\\\\n\tf2 & e & d & c & b & a\\\\\n\\end{tabular}\n",
            "text/plain": [
              "   [,1] [,2] [,3] [,4] [,5]\n",
              "f1 A    B    C    D    E   \n",
              "f2 e    d    c    b    a   "
            ]
          },
          "metadata": {}
        },
        {
          "output_type": "stream",
          "name": "stderr",
          "text": [
            "Warning message in rbind(D, c(\"j\", \"k\")):\n",
            "“number of columns of result is not a multiple of vector length (arg 2)”\n"
          ]
        },
        {
          "output_type": "display_data",
          "data": {
            "text/html": [
              "<table class=\"dataframe\">\n",
              "<caption>A matrix: 3 × 5 of type chr</caption>\n",
              "<tbody>\n",
              "\t<tr><th scope=row>f1</th><td>A</td><td>B</td><td>C</td><td>D</td><td>E</td></tr>\n",
              "\t<tr><th scope=row>f2</th><td>e</td><td>d</td><td>c</td><td>b</td><td>a</td></tr>\n",
              "\t<tr><th scope=row></th><td>j</td><td>k</td><td>j</td><td>k</td><td>j</td></tr>\n",
              "</tbody>\n",
              "</table>\n"
            ],
            "text/markdown": "\nA matrix: 3 × 5 of type chr\n\n| f1 | A | B | C | D | E |\n| f2 | e | d | c | b | a |\n| <!----> | j | k | j | k | j |\n\n",
            "text/latex": "A matrix: 3 × 5 of type chr\n\\begin{tabular}{r|lllll}\n\tf1 & A & B & C & D & E\\\\\n\tf2 & e & d & c & b & a\\\\\n\t & j & k & j & k & j\\\\\n\\end{tabular}\n",
            "text/plain": [
              "   [,1] [,2] [,3] [,4] [,5]\n",
              "f1 A    B    C    D    E   \n",
              "f2 e    d    c    b    a   \n",
              "   j    k    j    k    j   "
            ]
          },
          "metadata": {}
        }
      ]
    },
    {
      "cell_type": "code",
      "metadata": {
        "trusted": true,
        "id": "QLOH0514Sqoo",
        "outputId": "21d9436a-8e88-4a15-f874-c27e64a79e4f",
        "colab": {
          "base_uri": "https://localhost:8080/",
          "height": 177
        }
      },
      "source": [
        "# función diag para la definición de matrices diagonales\n",
        "#?diag\n",
        "diag(c(1,1,2,3))\n",
        "\n"
      ],
      "execution_count": 26,
      "outputs": [
        {
          "output_type": "display_data",
          "data": {
            "text/html": [
              "<table class=\"dataframe\">\n",
              "<caption>A matrix: 4 × 4 of type dbl</caption>\n",
              "<tbody>\n",
              "\t<tr><td>1</td><td>0</td><td>0</td><td>0</td></tr>\n",
              "\t<tr><td>0</td><td>1</td><td>0</td><td>0</td></tr>\n",
              "\t<tr><td>0</td><td>0</td><td>2</td><td>0</td></tr>\n",
              "\t<tr><td>0</td><td>0</td><td>0</td><td>3</td></tr>\n",
              "</tbody>\n",
              "</table>\n"
            ],
            "text/markdown": "\nA matrix: 4 × 4 of type dbl\n\n| 1 | 0 | 0 | 0 |\n| 0 | 1 | 0 | 0 |\n| 0 | 0 | 2 | 0 |\n| 0 | 0 | 0 | 3 |\n\n",
            "text/latex": "A matrix: 4 × 4 of type dbl\n\\begin{tabular}{llll}\n\t 1 & 0 & 0 & 0\\\\\n\t 0 & 1 & 0 & 0\\\\\n\t 0 & 0 & 2 & 0\\\\\n\t 0 & 0 & 0 & 3\\\\\n\\end{tabular}\n",
            "text/plain": [
              "     [,1] [,2] [,3] [,4]\n",
              "[1,] 1    0    0    0   \n",
              "[2,] 0    1    0    0   \n",
              "[3,] 0    0    2    0   \n",
              "[4,] 0    0    0    3   "
            ]
          },
          "metadata": {}
        }
      ]
    },
    {
      "cell_type": "code",
      "metadata": {
        "trusted": true,
        "id": "xIfUV82ASqot",
        "outputId": "c607e8eb-b907-4dcb-e6e4-12cf89539d9d",
        "colab": {
          "base_uri": "https://localhost:8080/",
          "height": 149
        }
      },
      "source": [
        "# Podemos acceder a los elementos de una matriz\n",
        "# indicando la posición de la fila y la columna de la casilla correspondiente.\n",
        "# Ejemplo:\n",
        "B\n",
        "B[2,3]"
      ],
      "execution_count": 29,
      "outputs": [
        {
          "output_type": "display_data",
          "data": {
            "text/html": [
              "<table class=\"dataframe\">\n",
              "<caption>A matrix: 2 × 3 of type dbl</caption>\n",
              "<tbody>\n",
              "\t<tr><td>1</td><td>1</td><td>2</td></tr>\n",
              "\t<tr><td>3</td><td>5</td><td>8</td></tr>\n",
              "</tbody>\n",
              "</table>\n"
            ],
            "text/markdown": "\nA matrix: 2 × 3 of type dbl\n\n| 1 | 1 | 2 |\n| 3 | 5 | 8 |\n\n",
            "text/latex": "A matrix: 2 × 3 of type dbl\n\\begin{tabular}{lll}\n\t 1 & 1 & 2\\\\\n\t 3 & 5 & 8\\\\\n\\end{tabular}\n",
            "text/plain": [
              "     [,1] [,2] [,3]\n",
              "[1,] 1    1    2   \n",
              "[2,] 3    5    8   "
            ]
          },
          "metadata": {}
        },
        {
          "output_type": "display_data",
          "data": {
            "text/html": [
              "8"
            ],
            "text/markdown": "8",
            "text/latex": "8",
            "text/plain": [
              "[1] 8"
            ]
          },
          "metadata": {}
        }
      ]
    },
    {
      "cell_type": "code",
      "source": [
        "# quiero rescatar el elemento \"(2,1)\"\n",
        "C\n",
        "C[2,1]\n"
      ],
      "metadata": {
        "id": "xpChz7f25BTv",
        "outputId": "d356ba73-4015-47de-e3fb-24e7f7d34fe0",
        "colab": {
          "base_uri": "https://localhost:8080/",
          "height": 213
        }
      },
      "execution_count": 33,
      "outputs": [
        {
          "output_type": "display_data",
          "data": {
            "text/html": [
              "<table class=\"dataframe\">\n",
              "<caption>A matrix: 3 × 2 of type dbl</caption>\n",
              "<thead>\n",
              "\t<tr><th scope=col>c1</th><th scope=col>c2</th></tr>\n",
              "</thead>\n",
              "<tbody>\n",
              "\t<tr><td>1</td><td>10</td></tr>\n",
              "\t<tr><td>2</td><td>20</td></tr>\n",
              "\t<tr><td>3</td><td>40</td></tr>\n",
              "</tbody>\n",
              "</table>\n"
            ],
            "text/markdown": "\nA matrix: 3 × 2 of type dbl\n\n| c1 | c2 |\n|---|---|\n| 1 | 10 |\n| 2 | 20 |\n| 3 | 40 |\n\n",
            "text/latex": "A matrix: 3 × 2 of type dbl\n\\begin{tabular}{ll}\n c1 & c2\\\\\n\\hline\n\t 1 & 10\\\\\n\t 2 & 20\\\\\n\t 3 & 40\\\\\n\\end{tabular}\n",
            "text/plain": [
              "     c1 c2\n",
              "[1,] 1  10\n",
              "[2,] 2  20\n",
              "[3,] 3  40"
            ]
          },
          "metadata": {}
        },
        {
          "output_type": "display_data",
          "data": {
            "text/html": [
              "<strong>c1:</strong> 2"
            ],
            "text/markdown": "**c1:** 2",
            "text/latex": "\\textbf{c1:} 2",
            "text/plain": [
              "c1 \n",
              " 2 "
            ]
          },
          "metadata": {}
        }
      ]
    },
    {
      "cell_type": "code",
      "source": [
        "\n",
        "# CUIDADO:No es lo mismo que\n",
        "B\n",
        "B[2,3]\n",
        "# es distinto que\n",
        "B[c(2,3)]"
      ],
      "metadata": {
        "id": "XZ9li5x25CT5",
        "outputId": "2743c0f1-2d71-4f55-c24a-c8a82d5ffa4c",
        "colab": {
          "base_uri": "https://localhost:8080/",
          "height": 166
        }
      },
      "execution_count": 34,
      "outputs": [
        {
          "output_type": "display_data",
          "data": {
            "text/html": [
              "<table class=\"dataframe\">\n",
              "<caption>A matrix: 2 × 3 of type dbl</caption>\n",
              "<tbody>\n",
              "\t<tr><td>1</td><td>1</td><td>2</td></tr>\n",
              "\t<tr><td>3</td><td>5</td><td>8</td></tr>\n",
              "</tbody>\n",
              "</table>\n"
            ],
            "text/markdown": "\nA matrix: 2 × 3 of type dbl\n\n| 1 | 1 | 2 |\n| 3 | 5 | 8 |\n\n",
            "text/latex": "A matrix: 2 × 3 of type dbl\n\\begin{tabular}{lll}\n\t 1 & 1 & 2\\\\\n\t 3 & 5 & 8\\\\\n\\end{tabular}\n",
            "text/plain": [
              "     [,1] [,2] [,3]\n",
              "[1,] 1    1    2   \n",
              "[2,] 3    5    8   "
            ]
          },
          "metadata": {}
        },
        {
          "output_type": "display_data",
          "data": {
            "text/html": [
              "8"
            ],
            "text/markdown": "8",
            "text/latex": "8",
            "text/plain": [
              "[1] 8"
            ]
          },
          "metadata": {}
        },
        {
          "output_type": "display_data",
          "data": {
            "text/html": [
              "<style>\n",
              ".list-inline {list-style: none; margin:0; padding: 0}\n",
              ".list-inline>li {display: inline-block}\n",
              ".list-inline>li:not(:last-child)::after {content: \"\\00b7\"; padding: 0 .5ex}\n",
              "</style>\n",
              "<ol class=list-inline><li>3</li><li>1</li></ol>\n"
            ],
            "text/markdown": "1. 3\n2. 1\n\n\n",
            "text/latex": "\\begin{enumerate*}\n\\item 3\n\\item 1\n\\end{enumerate*}\n",
            "text/plain": [
              "[1] 3 1"
            ]
          },
          "metadata": {}
        }
      ]
    },
    {
      "cell_type": "code",
      "metadata": {
        "trusted": true,
        "id": "0irI-CBJSqou",
        "outputId": "e89af301-d3da-402e-8336-f204270590ae",
        "colab": {
          "base_uri": "https://localhost:8080/",
          "height": 166
        }
      },
      "source": [
        "# Para acceder a una fila completa (fila 2)\n",
        "B\n",
        "B[2,]\n",
        "# Para acceder a una columna completa (col 3)\n",
        "B[,3]\n"
      ],
      "execution_count": 37,
      "outputs": [
        {
          "output_type": "display_data",
          "data": {
            "text/html": [
              "<table class=\"dataframe\">\n",
              "<caption>A matrix: 2 × 3 of type dbl</caption>\n",
              "<tbody>\n",
              "\t<tr><td>1</td><td>1</td><td>2</td></tr>\n",
              "\t<tr><td>3</td><td>5</td><td>8</td></tr>\n",
              "</tbody>\n",
              "</table>\n"
            ],
            "text/markdown": "\nA matrix: 2 × 3 of type dbl\n\n| 1 | 1 | 2 |\n| 3 | 5 | 8 |\n\n",
            "text/latex": "A matrix: 2 × 3 of type dbl\n\\begin{tabular}{lll}\n\t 1 & 1 & 2\\\\\n\t 3 & 5 & 8\\\\\n\\end{tabular}\n",
            "text/plain": [
              "     [,1] [,2] [,3]\n",
              "[1,] 1    1    2   \n",
              "[2,] 3    5    8   "
            ]
          },
          "metadata": {}
        },
        {
          "output_type": "display_data",
          "data": {
            "text/html": [
              "<style>\n",
              ".list-inline {list-style: none; margin:0; padding: 0}\n",
              ".list-inline>li {display: inline-block}\n",
              ".list-inline>li:not(:last-child)::after {content: \"\\00b7\"; padding: 0 .5ex}\n",
              "</style>\n",
              "<ol class=list-inline><li>3</li><li>5</li><li>8</li></ol>\n"
            ],
            "text/markdown": "1. 3\n2. 5\n3. 8\n\n\n",
            "text/latex": "\\begin{enumerate*}\n\\item 3\n\\item 5\n\\item 8\n\\end{enumerate*}\n",
            "text/plain": [
              "[1] 3 5 8"
            ]
          },
          "metadata": {}
        },
        {
          "output_type": "display_data",
          "data": {
            "text/html": [
              "<style>\n",
              ".list-inline {list-style: none; margin:0; padding: 0}\n",
              ".list-inline>li {display: inline-block}\n",
              ".list-inline>li:not(:last-child)::after {content: \"\\00b7\"; padding: 0 .5ex}\n",
              "</style>\n",
              "<ol class=list-inline><li>2</li><li>8</li></ol>\n"
            ],
            "text/markdown": "1. 2\n2. 8\n\n\n",
            "text/latex": "\\begin{enumerate*}\n\\item 2\n\\item 8\n\\end{enumerate*}\n",
            "text/plain": [
              "[1] 2 8"
            ]
          },
          "metadata": {}
        }
      ]
    },
    {
      "cell_type": "code",
      "metadata": {
        "trusted": true,
        "id": "rkq7J4nLSqow",
        "outputId": "c4f55b50-5e58-4fe2-ce53-f3f311348e30",
        "colab": {
          "base_uri": "https://localhost:8080/",
          "height": 132
        }
      },
      "source": [
        "#Recordemos que podemos actualizar elementos de un vector como:\n",
        "\n",
        "# quiero cambiar el 5 por un -99 (el 5 de la pos 2,2)\n",
        "B[2,2] <- -99\n",
        "B\n"
      ],
      "execution_count": 40,
      "outputs": [
        {
          "output_type": "display_data",
          "data": {
            "text/html": [
              "<table class=\"dataframe\">\n",
              "<caption>A matrix: 2 × 3 of type dbl</caption>\n",
              "<tbody>\n",
              "\t<tr><td>1</td><td>  1</td><td>2</td></tr>\n",
              "\t<tr><td>3</td><td>-99</td><td>8</td></tr>\n",
              "</tbody>\n",
              "</table>\n"
            ],
            "text/markdown": "\nA matrix: 2 × 3 of type dbl\n\n| 1 |   1 | 2 |\n| 3 | -99 | 8 |\n\n",
            "text/latex": "A matrix: 2 × 3 of type dbl\n\\begin{tabular}{lll}\n\t 1 &   1 & 2\\\\\n\t 3 & -99 & 8\\\\\n\\end{tabular}\n",
            "text/plain": [
              "     [,1] [,2] [,3]\n",
              "[1,] 1      1  2   \n",
              "[2,] 3    -99  8   "
            ]
          },
          "metadata": {}
        }
      ]
    },
    {
      "cell_type": "code",
      "source": [
        "# Añadir nombres a las filas\n",
        "rownames(C) <- c(\"f1\",\"f2\",\"f3\")\n",
        "C"
      ],
      "metadata": {
        "id": "L906wObP4IPv",
        "outputId": "63f28fda-5ea3-4774-a6ad-d838a4237703",
        "colab": {
          "base_uri": "https://localhost:8080/",
          "height": 178
        }
      },
      "execution_count": 43,
      "outputs": [
        {
          "output_type": "display_data",
          "data": {
            "text/html": [
              "<table class=\"dataframe\">\n",
              "<caption>A matrix: 3 × 2 of type dbl</caption>\n",
              "<thead>\n",
              "\t<tr><th></th><th scope=col>c1</th><th scope=col>c2</th></tr>\n",
              "</thead>\n",
              "<tbody>\n",
              "\t<tr><th scope=row>f1</th><td>1</td><td>10</td></tr>\n",
              "\t<tr><th scope=row>f2</th><td>2</td><td>20</td></tr>\n",
              "\t<tr><th scope=row>f3</th><td>3</td><td>40</td></tr>\n",
              "</tbody>\n",
              "</table>\n"
            ],
            "text/markdown": "\nA matrix: 3 × 2 of type dbl\n\n| <!--/--> | c1 | c2 |\n|---|---|---|\n| f1 | 1 | 10 |\n| f2 | 2 | 20 |\n| f3 | 3 | 40 |\n\n",
            "text/latex": "A matrix: 3 × 2 of type dbl\n\\begin{tabular}{r|ll}\n  & c1 & c2\\\\\n\\hline\n\tf1 & 1 & 10\\\\\n\tf2 & 2 & 20\\\\\n\tf3 & 3 & 40\\\\\n\\end{tabular}\n",
            "text/plain": [
              "   c1 c2\n",
              "f1 1  10\n",
              "f2 2  20\n",
              "f3 3  40"
            ]
          },
          "metadata": {}
        }
      ]
    },
    {
      "cell_type": "code",
      "metadata": {
        "id": "KstW38ylSkSV",
        "outputId": "f3abe73e-e974-4edb-ed62-94b948387604",
        "colab": {
          "base_uri": "https://localhost:8080/",
          "height": 69
        }
      },
      "source": [
        "# Acceso mediante nombres\n",
        "# Quiero rescatar el 40, de la pos 3,2.\n",
        "C[3,2]\n",
        "C[\"f3\",\"c2\"]\n",
        "\n",
        "# Quiero rescatar la 3ra fila\n",
        "C[\"f3\",]"
      ],
      "execution_count": 46,
      "outputs": [
        {
          "output_type": "display_data",
          "data": {
            "text/html": [
              "40"
            ],
            "text/markdown": "40",
            "text/latex": "40",
            "text/plain": [
              "[1] 40"
            ]
          },
          "metadata": {}
        },
        {
          "output_type": "display_data",
          "data": {
            "text/html": [
              "40"
            ],
            "text/markdown": "40",
            "text/latex": "40",
            "text/plain": [
              "[1] 40"
            ]
          },
          "metadata": {}
        },
        {
          "output_type": "display_data",
          "data": {
            "text/html": [
              "<style>\n",
              ".dl-inline {width: auto; margin:0; padding: 0}\n",
              ".dl-inline>dt, .dl-inline>dd {float: none; width: auto; display: inline-block}\n",
              ".dl-inline>dt::after {content: \":\\0020\"; padding-right: .5ex}\n",
              ".dl-inline>dt:not(:first-of-type) {padding-left: .5ex}\n",
              "</style><dl class=dl-inline><dt>c1</dt><dd>3</dd><dt>c2</dt><dd>40</dd></dl>\n"
            ],
            "text/markdown": "c1\n:   3c2\n:   40\n\n",
            "text/latex": "\\begin{description*}\n\\item[c1] 3\n\\item[c2] 40\n\\end{description*}\n",
            "text/plain": [
              "c1 c2 \n",
              " 3 40 "
            ]
          },
          "metadata": {}
        }
      ]
    },
    {
      "cell_type": "code",
      "metadata": {
        "trusted": true,
        "id": "qt9bcwQgSqo0",
        "outputId": "abfe73ad-84ee-42e9-f60d-87ce065fa940",
        "colab": {
          "base_uri": "https://localhost:8080/",
          "height": 307
        }
      },
      "source": [
        "# Acceso mediante \"indicatrices\" lógicas\n",
        "#Quiero obtener los elementos (1,1) y (3,2) de C\n",
        "#1: Crear una matriz de 3x2 con TRUE en dichas posiciones y FALSE en las restantes.\n",
        "C\n",
        "ind <- cbind(c(T,F,F), c(F,F,T))\n",
        "ind"
      ],
      "execution_count": 51,
      "outputs": [
        {
          "output_type": "display_data",
          "data": {
            "text/html": [
              "<table class=\"dataframe\">\n",
              "<caption>A matrix: 3 × 2 of type dbl</caption>\n",
              "<thead>\n",
              "\t<tr><th></th><th scope=col>c1</th><th scope=col>c2</th></tr>\n",
              "</thead>\n",
              "<tbody>\n",
              "\t<tr><th scope=row>f1</th><td>1</td><td>10</td></tr>\n",
              "\t<tr><th scope=row>f2</th><td>2</td><td>20</td></tr>\n",
              "\t<tr><th scope=row>f3</th><td>3</td><td>40</td></tr>\n",
              "</tbody>\n",
              "</table>\n"
            ],
            "text/markdown": "\nA matrix: 3 × 2 of type dbl\n\n| <!--/--> | c1 | c2 |\n|---|---|---|\n| f1 | 1 | 10 |\n| f2 | 2 | 20 |\n| f3 | 3 | 40 |\n\n",
            "text/latex": "A matrix: 3 × 2 of type dbl\n\\begin{tabular}{r|ll}\n  & c1 & c2\\\\\n\\hline\n\tf1 & 1 & 10\\\\\n\tf2 & 2 & 20\\\\\n\tf3 & 3 & 40\\\\\n\\end{tabular}\n",
            "text/plain": [
              "   c1 c2\n",
              "f1 1  10\n",
              "f2 2  20\n",
              "f3 3  40"
            ]
          },
          "metadata": {}
        },
        {
          "output_type": "display_data",
          "data": {
            "text/html": [
              "<table class=\"dataframe\">\n",
              "<caption>A matrix: 3 × 2 of type lgl</caption>\n",
              "<tbody>\n",
              "\t<tr><td> TRUE</td><td>FALSE</td></tr>\n",
              "\t<tr><td>FALSE</td><td>FALSE</td></tr>\n",
              "\t<tr><td>FALSE</td><td> TRUE</td></tr>\n",
              "</tbody>\n",
              "</table>\n"
            ],
            "text/markdown": "\nA matrix: 3 × 2 of type lgl\n\n|  TRUE | FALSE |\n| FALSE | FALSE |\n| FALSE |  TRUE |\n\n",
            "text/latex": "A matrix: 3 × 2 of type lgl\n\\begin{tabular}{ll}\n\t  TRUE & FALSE\\\\\n\t FALSE & FALSE\\\\\n\t FALSE &  TRUE\\\\\n\\end{tabular}\n",
            "text/plain": [
              "     [,1]  [,2] \n",
              "[1,]  TRUE FALSE\n",
              "[2,] FALSE FALSE\n",
              "[3,] FALSE  TRUE"
            ]
          },
          "metadata": {}
        }
      ]
    },
    {
      "cell_type": "code",
      "source": [
        "C[ind]"
      ],
      "metadata": {
        "id": "7J6avJS774KM",
        "outputId": "77fc40a7-4fd6-4358-a15f-7506af13a874",
        "colab": {
          "base_uri": "https://localhost:8080/",
          "height": 34
        }
      },
      "execution_count": 50,
      "outputs": [
        {
          "output_type": "display_data",
          "data": {
            "text/html": [
              "<style>\n",
              ".list-inline {list-style: none; margin:0; padding: 0}\n",
              ".list-inline>li {display: inline-block}\n",
              ".list-inline>li:not(:last-child)::after {content: \"\\00b7\"; padding: 0 .5ex}\n",
              "</style>\n",
              "<ol class=list-inline><li>1</li><li>40</li></ol>\n"
            ],
            "text/markdown": "1. 1\n2. 40\n\n\n",
            "text/latex": "\\begin{enumerate*}\n\\item 1\n\\item 40\n\\end{enumerate*}\n",
            "text/plain": [
              "[1]  1 40"
            ]
          },
          "metadata": {}
        }
      ]
    },
    {
      "cell_type": "code",
      "metadata": {
        "trusted": true,
        "id": "m4DDikCTSqo2",
        "outputId": "2afebe1a-9d6d-4343-a820-dded3a241989",
        "colab": {
          "base_uri": "https://localhost:8080/",
          "height": 178
        }
      },
      "source": [
        "# Podemos evaluar las casillas de una matriz mediante sentencias lógicas\n",
        "C >= 3"
      ],
      "execution_count": 52,
      "outputs": [
        {
          "output_type": "display_data",
          "data": {
            "text/html": [
              "<table class=\"dataframe\">\n",
              "<caption>A matrix: 3 × 2 of type lgl</caption>\n",
              "<thead>\n",
              "\t<tr><th></th><th scope=col>c1</th><th scope=col>c2</th></tr>\n",
              "</thead>\n",
              "<tbody>\n",
              "\t<tr><th scope=row>f1</th><td>FALSE</td><td>TRUE</td></tr>\n",
              "\t<tr><th scope=row>f2</th><td>FALSE</td><td>TRUE</td></tr>\n",
              "\t<tr><th scope=row>f3</th><td> TRUE</td><td>TRUE</td></tr>\n",
              "</tbody>\n",
              "</table>\n"
            ],
            "text/markdown": "\nA matrix: 3 × 2 of type lgl\n\n| <!--/--> | c1 | c2 |\n|---|---|---|\n| f1 | FALSE | TRUE |\n| f2 | FALSE | TRUE |\n| f3 |  TRUE | TRUE |\n\n",
            "text/latex": "A matrix: 3 × 2 of type lgl\n\\begin{tabular}{r|ll}\n  & c1 & c2\\\\\n\\hline\n\tf1 & FALSE & TRUE\\\\\n\tf2 & FALSE & TRUE\\\\\n\tf3 &  TRUE & TRUE\\\\\n\\end{tabular}\n",
            "text/plain": [
              "   c1    c2  \n",
              "f1 FALSE TRUE\n",
              "f2 FALSE TRUE\n",
              "f3  TRUE TRUE"
            ]
          },
          "metadata": {}
        }
      ]
    },
    {
      "cell_type": "code",
      "source": [
        "C[C >= 3]"
      ],
      "metadata": {
        "id": "DwzpT_p85SZ3",
        "outputId": "06441bb0-c4e8-4a69-cce2-2da4f417d0f4",
        "colab": {
          "base_uri": "https://localhost:8080/",
          "height": 34
        }
      },
      "execution_count": 53,
      "outputs": [
        {
          "output_type": "display_data",
          "data": {
            "text/html": [
              "<style>\n",
              ".list-inline {list-style: none; margin:0; padding: 0}\n",
              ".list-inline>li {display: inline-block}\n",
              ".list-inline>li:not(:last-child)::after {content: \"\\00b7\"; padding: 0 .5ex}\n",
              "</style>\n",
              "<ol class=list-inline><li>3</li><li>10</li><li>20</li><li>40</li></ol>\n"
            ],
            "text/markdown": "1. 3\n2. 10\n3. 20\n4. 40\n\n\n",
            "text/latex": "\\begin{enumerate*}\n\\item 3\n\\item 10\n\\item 20\n\\item 40\n\\end{enumerate*}\n",
            "text/plain": [
              "[1]  3 10 20 40"
            ]
          },
          "metadata": {}
        }
      ]
    },
    {
      "cell_type": "markdown",
      "metadata": {
        "id": "DtKi8VpVSqo8"
      },
      "source": [
        "**Álgebra de matrices**\n",
        "\n",
        "Las operaciones suma (resta) y ponderación por escalar se llevan cabo mediante los mismos operadores utilizados para valores numéricos y vectores (+,-,*, /). Para multiplicar matrices en cambio, se utiliza el operador %*%, mientras que para invertirlas se utiliza la función solve(), t() para transponer y det() para el cálculo del determinante en el caso de matrices cuadradas."
      ]
    },
    {
      "cell_type": "code",
      "metadata": {
        "trusted": true,
        "id": "yxrjsz27Sqo8",
        "outputId": "be14f7d4-3198-4d98-9af7-8dfe3ce326ab",
        "colab": {
          "base_uri": "https://localhost:8080/",
          "height": 307
        }
      },
      "source": [
        "# transponer una matriz\n",
        "C\n",
        "t(C)"
      ],
      "execution_count": 55,
      "outputs": [
        {
          "output_type": "display_data",
          "data": {
            "text/html": [
              "<table class=\"dataframe\">\n",
              "<caption>A matrix: 3 × 2 of type dbl</caption>\n",
              "<thead>\n",
              "\t<tr><th></th><th scope=col>c1</th><th scope=col>c2</th></tr>\n",
              "</thead>\n",
              "<tbody>\n",
              "\t<tr><th scope=row>f1</th><td>1</td><td>10</td></tr>\n",
              "\t<tr><th scope=row>f2</th><td>2</td><td>20</td></tr>\n",
              "\t<tr><th scope=row>f3</th><td>3</td><td>40</td></tr>\n",
              "</tbody>\n",
              "</table>\n"
            ],
            "text/markdown": "\nA matrix: 3 × 2 of type dbl\n\n| <!--/--> | c1 | c2 |\n|---|---|---|\n| f1 | 1 | 10 |\n| f2 | 2 | 20 |\n| f3 | 3 | 40 |\n\n",
            "text/latex": "A matrix: 3 × 2 of type dbl\n\\begin{tabular}{r|ll}\n  & c1 & c2\\\\\n\\hline\n\tf1 & 1 & 10\\\\\n\tf2 & 2 & 20\\\\\n\tf3 & 3 & 40\\\\\n\\end{tabular}\n",
            "text/plain": [
              "   c1 c2\n",
              "f1 1  10\n",
              "f2 2  20\n",
              "f3 3  40"
            ]
          },
          "metadata": {}
        },
        {
          "output_type": "display_data",
          "data": {
            "text/html": [
              "<table class=\"dataframe\">\n",
              "<caption>A matrix: 2 × 3 of type dbl</caption>\n",
              "<thead>\n",
              "\t<tr><th></th><th scope=col>f1</th><th scope=col>f2</th><th scope=col>f3</th></tr>\n",
              "</thead>\n",
              "<tbody>\n",
              "\t<tr><th scope=row>c1</th><td> 1</td><td> 2</td><td> 3</td></tr>\n",
              "\t<tr><th scope=row>c2</th><td>10</td><td>20</td><td>40</td></tr>\n",
              "</tbody>\n",
              "</table>\n"
            ],
            "text/markdown": "\nA matrix: 2 × 3 of type dbl\n\n| <!--/--> | f1 | f2 | f3 |\n|---|---|---|---|\n| c1 |  1 |  2 |  3 |\n| c2 | 10 | 20 | 40 |\n\n",
            "text/latex": "A matrix: 2 × 3 of type dbl\n\\begin{tabular}{r|lll}\n  & f1 & f2 & f3\\\\\n\\hline\n\tc1 &  1 &  2 &  3\\\\\n\tc2 & 10 & 20 & 40\\\\\n\\end{tabular}\n",
            "text/plain": [
              "   f1 f2 f3\n",
              "c1  1  2  3\n",
              "c2 10 20 40"
            ]
          },
          "metadata": {}
        }
      ]
    },
    {
      "cell_type": "code",
      "metadata": {
        "trusted": true,
        "id": "tSphDch3Sqo-"
      },
      "source": [
        "# 3.2 Álgbra de matrices  ------------\n",
        "# Ejemplo simple de álgebra de matrices\n",
        "\n"
      ],
      "execution_count": null,
      "outputs": []
    },
    {
      "cell_type": "code",
      "source": [
        "A\n",
        "B"
      ],
      "metadata": {
        "id": "ChkgqoZd5m0T",
        "outputId": "9342a580-101c-4d44-e448-153d9525a664",
        "colab": {
          "base_uri": "https://localhost:8080/",
          "height": 247
        }
      },
      "execution_count": 56,
      "outputs": [
        {
          "output_type": "display_data",
          "data": {
            "text/html": [
              "<table class=\"dataframe\">\n",
              "<caption>A matrix: 2 × 3 of type dbl</caption>\n",
              "<tbody>\n",
              "\t<tr><td>1</td><td>2</td><td>5</td></tr>\n",
              "\t<tr><td>1</td><td>3</td><td>8</td></tr>\n",
              "</tbody>\n",
              "</table>\n"
            ],
            "text/markdown": "\nA matrix: 2 × 3 of type dbl\n\n| 1 | 2 | 5 |\n| 1 | 3 | 8 |\n\n",
            "text/latex": "A matrix: 2 × 3 of type dbl\n\\begin{tabular}{lll}\n\t 1 & 2 & 5\\\\\n\t 1 & 3 & 8\\\\\n\\end{tabular}\n",
            "text/plain": [
              "     [,1] [,2] [,3]\n",
              "[1,] 1    2    5   \n",
              "[2,] 1    3    8   "
            ]
          },
          "metadata": {}
        },
        {
          "output_type": "display_data",
          "data": {
            "text/html": [
              "<table class=\"dataframe\">\n",
              "<caption>A matrix: 2 × 3 of type dbl</caption>\n",
              "<tbody>\n",
              "\t<tr><td>1</td><td>  1</td><td>2</td></tr>\n",
              "\t<tr><td>3</td><td>-99</td><td>8</td></tr>\n",
              "</tbody>\n",
              "</table>\n"
            ],
            "text/markdown": "\nA matrix: 2 × 3 of type dbl\n\n| 1 |   1 | 2 |\n| 3 | -99 | 8 |\n\n",
            "text/latex": "A matrix: 2 × 3 of type dbl\n\\begin{tabular}{lll}\n\t 1 &   1 & 2\\\\\n\t 3 & -99 & 8\\\\\n\\end{tabular}\n",
            "text/plain": [
              "     [,1] [,2] [,3]\n",
              "[1,] 1      1  2   \n",
              "[2,] 3    -99  8   "
            ]
          },
          "metadata": {}
        }
      ]
    },
    {
      "cell_type": "code",
      "metadata": {
        "trusted": true,
        "id": "crNocLSqSqpA",
        "outputId": "787e6705-d09e-41d0-fe02-42a5b0785b08",
        "colab": {
          "base_uri": "https://localhost:8080/",
          "height": 114
        }
      },
      "source": [
        "# Multiplicación de matrices\n",
        "A * B # multiplicación componente a componente\n"
      ],
      "execution_count": 57,
      "outputs": [
        {
          "output_type": "display_data",
          "data": {
            "text/html": [
              "<table class=\"dataframe\">\n",
              "<caption>A matrix: 2 × 3 of type dbl</caption>\n",
              "<tbody>\n",
              "\t<tr><td>1</td><td>   2</td><td>10</td></tr>\n",
              "\t<tr><td>3</td><td>-297</td><td>64</td></tr>\n",
              "</tbody>\n",
              "</table>\n"
            ],
            "text/markdown": "\nA matrix: 2 × 3 of type dbl\n\n| 1 |    2 | 10 |\n| 3 | -297 | 64 |\n\n",
            "text/latex": "A matrix: 2 × 3 of type dbl\n\\begin{tabular}{lll}\n\t 1 &    2 & 10\\\\\n\t 3 & -297 & 64\\\\\n\\end{tabular}\n",
            "text/plain": [
              "     [,1] [,2] [,3]\n",
              "[1,] 1       2 10  \n",
              "[2,] 3    -297 64  "
            ]
          },
          "metadata": {}
        }
      ]
    },
    {
      "cell_type": "code",
      "source": [
        "C %*% B"
      ],
      "metadata": {
        "id": "Z34_bVmk5xDa",
        "outputId": "17d4b5e3-e058-4741-b609-a2be8316926e",
        "colab": {
          "base_uri": "https://localhost:8080/",
          "height": 146
        }
      },
      "execution_count": 59,
      "outputs": [
        {
          "output_type": "display_data",
          "data": {
            "text/html": [
              "<table class=\"dataframe\">\n",
              "<caption>A matrix: 3 × 3 of type dbl</caption>\n",
              "<tbody>\n",
              "\t<tr><th scope=row>f1</th><td> 31</td><td> -989</td><td> 82</td></tr>\n",
              "\t<tr><th scope=row>f2</th><td> 62</td><td>-1978</td><td>164</td></tr>\n",
              "\t<tr><th scope=row>f3</th><td>123</td><td>-3957</td><td>326</td></tr>\n",
              "</tbody>\n",
              "</table>\n"
            ],
            "text/markdown": "\nA matrix: 3 × 3 of type dbl\n\n| f1 |  31 |  -989 |  82 |\n| f2 |  62 | -1978 | 164 |\n| f3 | 123 | -3957 | 326 |\n\n",
            "text/latex": "A matrix: 3 × 3 of type dbl\n\\begin{tabular}{r|lll}\n\tf1 &  31 &  -989 &  82\\\\\n\tf2 &  62 & -1978 & 164\\\\\n\tf3 & 123 & -3957 & 326\\\\\n\\end{tabular}\n",
            "text/plain": [
              "   [,1] [,2]  [,3]\n",
              "f1  31   -989  82 \n",
              "f2  62  -1978 164 \n",
              "f3 123  -3957 326 "
            ]
          },
          "metadata": {}
        }
      ]
    },
    {
      "cell_type": "code",
      "metadata": {
        "trusted": true,
        "id": "RdPKIzaySqpC",
        "outputId": "7aa04930-1c8a-42ec-b50b-f71faf7378fd",
        "colab": {
          "base_uri": "https://localhost:8080/",
          "height": 34
        }
      },
      "source": [
        "# podemos calcular determinantes\n",
        "# ?det\n",
        "det(C %*% B)\n"
      ],
      "execution_count": 60,
      "outputs": [
        {
          "output_type": "display_data",
          "data": {
            "text/html": [
              "0"
            ],
            "text/markdown": "0",
            "text/latex": "0",
            "text/plain": [
              "[1] 0"
            ]
          },
          "metadata": {}
        }
      ]
    },
    {
      "cell_type": "code",
      "metadata": {
        "trusted": true,
        "id": "Tymq9t9NSqpH",
        "outputId": "6ff6e198-e769-491f-d4ff-bdd4e6fe57d6",
        "colab": {
          "base_uri": "https://localhost:8080/",
          "height": 148
        }
      },
      "source": [
        "# Podemos invertir matrices\n",
        "# ?solve\n",
        "solve(C %*% B)"
      ],
      "execution_count": 61,
      "outputs": [
        {
          "output_type": "error",
          "ename": "ERROR",
          "evalue": "ignored",
          "traceback": [
            "Error in solve.default(C %*% B): Lapack routine dgesv: system is exactly singular: U[3,3] = 0\nTraceback:\n",
            "1. solve(C %*% B)",
            "2. solve.default(C %*% B)"
          ]
        }
      ]
    }
  ]
}