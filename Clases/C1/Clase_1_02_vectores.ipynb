{
  "nbformat": 4,
  "nbformat_minor": 0,
  "metadata": {
    "colab": {
      "provenance": [],
      "include_colab_link": true
    },
    "kernelspec": {
      "name": "ir",
      "display_name": "R"
    }
  },
  "cells": [
    {
      "cell_type": "markdown",
      "metadata": {
        "id": "view-in-github",
        "colab_type": "text"
      },
      "source": [
        "<a href=\"https://colab.research.google.com/github/majorquev/DBDC_202307_Programacion_en_R_para_ciencia_de_datos/blob/main/Clases/C1/Clase_1_02_vectores.ipynb\" target=\"_parent\"><img src=\"https://colab.research.google.com/assets/colab-badge.svg\" alt=\"Open In Colab\"/></a>"
      ]
    },
    {
      "cell_type": "markdown",
      "metadata": {
        "collapsed": true,
        "id": "Yb2RXjL2Igun"
      },
      "source": [
        "# Parte 1: Introducción a R (continuación)\n",
        "\n",
        "**Autor:** Miguel Jorquera Viguera<br>\n",
        "**E-mail:** majorquev@gmail.com<br>\n",
        "**Ayudante:** Rodrigo Morales <br>\n",
        "**E-mail ayudante:** rumorale1@gmail.com\n",
        "\n"
      ]
    },
    {
      "cell_type": "markdown",
      "metadata": {
        "id": "d_bHZs66Iguo"
      },
      "source": [
        "## 3. Vectores y matrices\n",
        "\n",
        "### 3.1 Vectores\n",
        "\n",
        "En R, así como en la mayoría de los lenguajes de programación, uno de los objetos más usuales para almacenar información son los vectores, los que corresponden a arreglos unidimensionales que almacenan un mismo tipo de dato en cada una de sus entradas.\n",
        "\n",
        "Todo vector en R se puede declarar con la letra \"c\" seguido de los elementos que lo componen entre paréntesis y separados por comas."
      ]
    },
    {
      "cell_type": "code",
      "metadata": {
        "id": "ljQ0JcsTIgup",
        "outputId": "682b06f1-96b0-407e-a425-701f8e5e4a77",
        "colab": {
          "base_uri": "https://localhost:8080/",
          "height": 34
        }
      },
      "source": [
        "# Declaración de dos vectores\n",
        "v1 <- c(1,1,2,3,5,8)\n",
        "v1"
      ],
      "execution_count": 1,
      "outputs": [
        {
          "output_type": "display_data",
          "data": {
            "text/html": [
              "<style>\n",
              ".list-inline {list-style: none; margin:0; padding: 0}\n",
              ".list-inline>li {display: inline-block}\n",
              ".list-inline>li:not(:last-child)::after {content: \"\\00b7\"; padding: 0 .5ex}\n",
              "</style>\n",
              "<ol class=list-inline><li>1</li><li>1</li><li>2</li><li>3</li><li>5</li><li>8</li></ol>\n"
            ],
            "text/markdown": "1. 1\n2. 1\n3. 2\n4. 3\n5. 5\n6. 8\n\n\n",
            "text/latex": "\\begin{enumerate*}\n\\item 1\n\\item 1\n\\item 2\n\\item 3\n\\item 5\n\\item 8\n\\end{enumerate*}\n",
            "text/plain": [
              "[1] 1 1 2 3 5 8"
            ]
          },
          "metadata": {}
        }
      ]
    },
    {
      "cell_type": "code",
      "metadata": {
        "id": "GxHhDdS4Iguy",
        "outputId": "fbb0f62c-1a1c-42ef-c79a-51e7be0a950d",
        "colab": {
          "base_uri": "https://localhost:8080/",
          "height": 52
        }
      },
      "source": [
        "# clase y tipo de dato\n",
        "class(v1)\n",
        "typeof(v1)"
      ],
      "execution_count": 2,
      "outputs": [
        {
          "output_type": "display_data",
          "data": {
            "text/html": [
              "'numeric'"
            ],
            "text/markdown": "'numeric'",
            "text/latex": "'numeric'",
            "text/plain": [
              "[1] \"numeric\""
            ]
          },
          "metadata": {}
        },
        {
          "output_type": "display_data",
          "data": {
            "text/html": [
              "'double'"
            ],
            "text/markdown": "'double'",
            "text/latex": "'double'",
            "text/plain": [
              "[1] \"double\""
            ]
          },
          "metadata": {}
        }
      ]
    },
    {
      "cell_type": "code",
      "metadata": {
        "id": "FUBvbIN9Igu4",
        "outputId": "b10a0ad7-98f3-4f9b-869a-16ddd038bd0b",
        "colab": {
          "base_uri": "https://localhost:8080/",
          "height": 69
        }
      },
      "source": [
        "# vectores lógicos\n",
        "vl <- c(TRUE, T, FALSE, F)\n",
        "vl\n",
        "class(vl)\n",
        "typeof(vl)"
      ],
      "execution_count": 3,
      "outputs": [
        {
          "output_type": "display_data",
          "data": {
            "text/html": [
              "<style>\n",
              ".list-inline {list-style: none; margin:0; padding: 0}\n",
              ".list-inline>li {display: inline-block}\n",
              ".list-inline>li:not(:last-child)::after {content: \"\\00b7\"; padding: 0 .5ex}\n",
              "</style>\n",
              "<ol class=list-inline><li>TRUE</li><li>TRUE</li><li>FALSE</li><li>FALSE</li></ol>\n"
            ],
            "text/markdown": "1. TRUE\n2. TRUE\n3. FALSE\n4. FALSE\n\n\n",
            "text/latex": "\\begin{enumerate*}\n\\item TRUE\n\\item TRUE\n\\item FALSE\n\\item FALSE\n\\end{enumerate*}\n",
            "text/plain": [
              "[1]  TRUE  TRUE FALSE FALSE"
            ]
          },
          "metadata": {}
        },
        {
          "output_type": "display_data",
          "data": {
            "text/html": [
              "'logical'"
            ],
            "text/markdown": "'logical'",
            "text/latex": "'logical'",
            "text/plain": [
              "[1] \"logical\""
            ]
          },
          "metadata": {}
        },
        {
          "output_type": "display_data",
          "data": {
            "text/html": [
              "'logical'"
            ],
            "text/markdown": "'logical'",
            "text/latex": "'logical'",
            "text/plain": [
              "[1] \"logical\""
            ]
          },
          "metadata": {}
        }
      ]
    },
    {
      "cell_type": "code",
      "source": [
        "letras <- c(\"a\",\"b\",\"c\",\"z\")\n",
        "letras"
      ],
      "metadata": {
        "id": "LlGe-uVm5xUz",
        "outputId": "2b6a77a2-ee09-4c27-d88b-233b0e9066df",
        "colab": {
          "base_uri": "https://localhost:8080/",
          "height": 34
        }
      },
      "execution_count": 4,
      "outputs": [
        {
          "output_type": "display_data",
          "data": {
            "text/html": [
              "<style>\n",
              ".list-inline {list-style: none; margin:0; padding: 0}\n",
              ".list-inline>li {display: inline-block}\n",
              ".list-inline>li:not(:last-child)::after {content: \"\\00b7\"; padding: 0 .5ex}\n",
              "</style>\n",
              "<ol class=list-inline><li>'a'</li><li>'b'</li><li>'c'</li><li>'z'</li></ol>\n"
            ],
            "text/markdown": "1. 'a'\n2. 'b'\n3. 'c'\n4. 'z'\n\n\n",
            "text/latex": "\\begin{enumerate*}\n\\item 'a'\n\\item 'b'\n\\item 'c'\n\\item 'z'\n\\end{enumerate*}\n",
            "text/plain": [
              "[1] \"a\" \"b\" \"c\" \"z\""
            ]
          },
          "metadata": {}
        }
      ]
    },
    {
      "cell_type": "code",
      "metadata": {
        "id": "R88mjniaIgu_",
        "outputId": "b6c21ff8-d87b-425b-9903-22fd2f6bba8c",
        "colab": {
          "base_uri": "https://localhost:8080/",
          "height": 34
        }
      },
      "source": [
        "# Nombres de las entradas de un vector\n",
        "names(v1)\n"
      ],
      "execution_count": 5,
      "outputs": [
        {
          "output_type": "display_data",
          "data": {
            "text/plain": [
              "NULL"
            ]
          },
          "metadata": {}
        }
      ]
    },
    {
      "cell_type": "code",
      "metadata": {
        "id": "OAhPpN3vIgvB"
      },
      "source": [
        "# podemos asignar los nombres a vector 1\n",
        "names(v1) <- c(\"n1\",\"n2\", \"n3\",\"n4\",\"n5\",\"n6\")"
      ],
      "execution_count": 6,
      "outputs": []
    },
    {
      "cell_type": "code",
      "source": [],
      "metadata": {
        "id": "GdJ5pNsk6n-6"
      },
      "execution_count": null,
      "outputs": []
    },
    {
      "cell_type": "code",
      "source": [
        "v1"
      ],
      "metadata": {
        "id": "UXlLjS2R6beh",
        "outputId": "cbf001cf-ad7c-48da-ab78-8fbd83f5c115",
        "colab": {
          "base_uri": "https://localhost:8080/",
          "height": 34
        }
      },
      "execution_count": null,
      "outputs": [
        {
          "output_type": "display_data",
          "data": {
            "text/html": [
              "<style>\n",
              ".dl-inline {width: auto; margin:0; padding: 0}\n",
              ".dl-inline>dt, .dl-inline>dd {float: none; width: auto; display: inline-block}\n",
              ".dl-inline>dt::after {content: \":\\0020\"; padding-right: .5ex}\n",
              ".dl-inline>dt:not(:first-of-type) {padding-left: .5ex}\n",
              "</style><dl class=dl-inline><dt>n1</dt><dd>1</dd><dt>n2</dt><dd>1</dd><dt>n3</dt><dd>2</dd><dt>n4</dt><dd>3</dd><dt>n5</dt><dd>5</dd><dt>n6</dt><dd>8</dd></dl>\n"
            ],
            "text/markdown": "n1\n:   1n2\n:   1n3\n:   2n4\n:   3n5\n:   5n6\n:   8\n\n",
            "text/latex": "\\begin{description*}\n\\item[n1] 1\n\\item[n2] 1\n\\item[n3] 2\n\\item[n4] 3\n\\item[n5] 5\n\\item[n6] 8\n\\end{description*}\n",
            "text/plain": [
              "n1 n2 n3 n4 n5 n6 \n",
              " 1  1  2  3  5  8 "
            ]
          },
          "metadata": {}
        }
      ]
    },
    {
      "cell_type": "code",
      "source": [
        "names(v1)"
      ],
      "metadata": {
        "id": "tZFwNW3z6jai",
        "outputId": "079d80a6-d70f-46b6-a89f-110215d895f0",
        "colab": {
          "base_uri": "https://localhost:8080/",
          "height": 34
        }
      },
      "execution_count": null,
      "outputs": [
        {
          "output_type": "display_data",
          "data": {
            "text/html": [
              "<style>\n",
              ".list-inline {list-style: none; margin:0; padding: 0}\n",
              ".list-inline>li {display: inline-block}\n",
              ".list-inline>li:not(:last-child)::after {content: \"\\00b7\"; padding: 0 .5ex}\n",
              "</style>\n",
              "<ol class=list-inline><li>'n1'</li><li>'n2'</li><li>'n3'</li><li>'n4'</li><li>'n5'</li><li>'n6'</li></ol>\n"
            ],
            "text/markdown": "1. 'n1'\n2. 'n2'\n3. 'n3'\n4. 'n4'\n5. 'n5'\n6. 'n6'\n\n\n",
            "text/latex": "\\begin{enumerate*}\n\\item 'n1'\n\\item 'n2'\n\\item 'n3'\n\\item 'n4'\n\\item 'n5'\n\\item 'n6'\n\\end{enumerate*}\n",
            "text/plain": [
              "[1] \"n1\" \"n2\" \"n3\" \"n4\" \"n5\" \"n6\""
            ]
          },
          "metadata": {}
        }
      ]
    },
    {
      "cell_type": "code",
      "source": [
        "v3 <- c(p1 = \"Miguel\", p2 = \"Jorquera\", p3 = \"Viguera\")"
      ],
      "metadata": {
        "id": "BmhnFs_L6ovN"
      },
      "execution_count": 7,
      "outputs": []
    },
    {
      "cell_type": "code",
      "source": [
        "v3"
      ],
      "metadata": {
        "id": "W5waaxAX6xom",
        "outputId": "1e2cb499-53f0-4fda-9a10-f6e6449d504d",
        "colab": {
          "base_uri": "https://localhost:8080/",
          "height": 34
        }
      },
      "execution_count": 8,
      "outputs": [
        {
          "output_type": "display_data",
          "data": {
            "text/html": [
              "<style>\n",
              ".dl-inline {width: auto; margin:0; padding: 0}\n",
              ".dl-inline>dt, .dl-inline>dd {float: none; width: auto; display: inline-block}\n",
              ".dl-inline>dt::after {content: \":\\0020\"; padding-right: .5ex}\n",
              ".dl-inline>dt:not(:first-of-type) {padding-left: .5ex}\n",
              "</style><dl class=dl-inline><dt>p1</dt><dd>'Miguel'</dd><dt>p2</dt><dd>'Jorquera'</dd><dt>p3</dt><dd>'Viguera'</dd></dl>\n"
            ],
            "text/markdown": "p1\n:   'Miguel'p2\n:   'Jorquera'p3\n:   'Viguera'\n\n",
            "text/latex": "\\begin{description*}\n\\item[p1] 'Miguel'\n\\item[p2] 'Jorquera'\n\\item[p3] 'Viguera'\n\\end{description*}\n",
            "text/plain": [
              "        p1         p2         p3 \n",
              "  \"Miguel\" \"Jorquera\"  \"Viguera\" "
            ]
          },
          "metadata": {}
        }
      ]
    },
    {
      "cell_type": "code",
      "source": [
        "names(v3)"
      ],
      "metadata": {
        "id": "9AR6QaPt6z_G",
        "outputId": "2df7036d-4300-4ba2-e628-037e404a1225",
        "colab": {
          "base_uri": "https://localhost:8080/",
          "height": 34
        }
      },
      "execution_count": 9,
      "outputs": [
        {
          "output_type": "display_data",
          "data": {
            "text/html": [
              "<style>\n",
              ".list-inline {list-style: none; margin:0; padding: 0}\n",
              ".list-inline>li {display: inline-block}\n",
              ".list-inline>li:not(:last-child)::after {content: \"\\00b7\"; padding: 0 .5ex}\n",
              "</style>\n",
              "<ol class=list-inline><li>'p1'</li><li>'p2'</li><li>'p3'</li></ol>\n"
            ],
            "text/markdown": "1. 'p1'\n2. 'p2'\n3. 'p3'\n\n\n",
            "text/latex": "\\begin{enumerate*}\n\\item 'p1'\n\\item 'p2'\n\\item 'p3'\n\\end{enumerate*}\n",
            "text/plain": [
              "[1] \"p1\" \"p2\" \"p3\""
            ]
          },
          "metadata": {}
        }
      ]
    },
    {
      "cell_type": "code",
      "metadata": {
        "id": "E6dxkyP5IgvF"
      },
      "source": [
        "# nombres de las entradas con la función, names()\n"
      ],
      "execution_count": 10,
      "outputs": []
    },
    {
      "cell_type": "code",
      "metadata": {
        "id": "7Ayre5BlIgvH",
        "outputId": "b212e54d-5b05-40ee-9e79-15ebbdc2b6f4",
        "colab": {
          "base_uri": "https://localhost:8080/",
          "height": 34
        }
      },
      "source": [
        "#combinar vectores\n",
        "v4 <- c(n7 = 13, n8=21)\n",
        "v4"
      ],
      "execution_count": 11,
      "outputs": [
        {
          "output_type": "display_data",
          "data": {
            "text/html": [
              "<style>\n",
              ".dl-inline {width: auto; margin:0; padding: 0}\n",
              ".dl-inline>dt, .dl-inline>dd {float: none; width: auto; display: inline-block}\n",
              ".dl-inline>dt::after {content: \":\\0020\"; padding-right: .5ex}\n",
              ".dl-inline>dt:not(:first-of-type) {padding-left: .5ex}\n",
              "</style><dl class=dl-inline><dt>n7</dt><dd>13</dd><dt>n8</dt><dd>21</dd></dl>\n"
            ],
            "text/markdown": "n7\n:   13n8\n:   21\n\n",
            "text/latex": "\\begin{description*}\n\\item[n7] 13\n\\item[n8] 21\n\\end{description*}\n",
            "text/plain": [
              "n7 n8 \n",
              "13 21 "
            ]
          },
          "metadata": {}
        }
      ]
    },
    {
      "cell_type": "code",
      "source": [
        "v5 <- c(v1,v4)\n",
        "v5"
      ],
      "metadata": {
        "id": "9fQD_Ivq7ELJ",
        "outputId": "6d818572-135f-4590-e9f7-44534c203836",
        "colab": {
          "base_uri": "https://localhost:8080/",
          "height": 34
        }
      },
      "execution_count": 12,
      "outputs": [
        {
          "output_type": "display_data",
          "data": {
            "text/html": [
              "<style>\n",
              ".dl-inline {width: auto; margin:0; padding: 0}\n",
              ".dl-inline>dt, .dl-inline>dd {float: none; width: auto; display: inline-block}\n",
              ".dl-inline>dt::after {content: \":\\0020\"; padding-right: .5ex}\n",
              ".dl-inline>dt:not(:first-of-type) {padding-left: .5ex}\n",
              "</style><dl class=dl-inline><dt>n1</dt><dd>1</dd><dt>n2</dt><dd>1</dd><dt>n3</dt><dd>2</dd><dt>n4</dt><dd>3</dd><dt>n5</dt><dd>5</dd><dt>n6</dt><dd>8</dd><dt>n7</dt><dd>13</dd><dt>n8</dt><dd>21</dd></dl>\n"
            ],
            "text/markdown": "n1\n:   1n2\n:   1n3\n:   2n4\n:   3n5\n:   5n6\n:   8n7\n:   13n8\n:   21\n\n",
            "text/latex": "\\begin{description*}\n\\item[n1] 1\n\\item[n2] 1\n\\item[n3] 2\n\\item[n4] 3\n\\item[n5] 5\n\\item[n6] 8\n\\item[n7] 13\n\\item[n8] 21\n\\end{description*}\n",
            "text/plain": [
              "n1 n2 n3 n4 n5 n6 n7 n8 \n",
              " 1  1  2  3  5  8 13 21 "
            ]
          },
          "metadata": {}
        }
      ]
    },
    {
      "cell_type": "code",
      "metadata": {
        "id": "QETBghXxIgvI",
        "outputId": "8edd0026-2739-432b-e53a-cd2e675ef08c",
        "colab": {
          "base_uri": "https://localhost:8080/",
          "height": 69
        }
      },
      "source": [
        "# c : es una abreviación de \"combine\"\n",
        "v4;v3\n",
        "\n",
        "c(v4,v3)"
      ],
      "execution_count": null,
      "outputs": [
        {
          "output_type": "display_data",
          "data": {
            "text/html": [
              "<style>\n",
              ".dl-inline {width: auto; margin:0; padding: 0}\n",
              ".dl-inline>dt, .dl-inline>dd {float: none; width: auto; display: inline-block}\n",
              ".dl-inline>dt::after {content: \":\\0020\"; padding-right: .5ex}\n",
              ".dl-inline>dt:not(:first-of-type) {padding-left: .5ex}\n",
              "</style><dl class=dl-inline><dt>n7</dt><dd>13</dd><dt>n8</dt><dd>21</dd></dl>\n"
            ],
            "text/markdown": "n7\n:   13n8\n:   21\n\n",
            "text/latex": "\\begin{description*}\n\\item[n7] 13\n\\item[n8] 21\n\\end{description*}\n",
            "text/plain": [
              "n7 n8 \n",
              "13 21 "
            ]
          },
          "metadata": {}
        },
        {
          "output_type": "display_data",
          "data": {
            "text/html": [
              "<style>\n",
              ".dl-inline {width: auto; margin:0; padding: 0}\n",
              ".dl-inline>dt, .dl-inline>dd {float: none; width: auto; display: inline-block}\n",
              ".dl-inline>dt::after {content: \":\\0020\"; padding-right: .5ex}\n",
              ".dl-inline>dt:not(:first-of-type) {padding-left: .5ex}\n",
              "</style><dl class=dl-inline><dt>p1</dt><dd>'Miguel'</dd><dt>p2</dt><dd>'Jorquera'</dd><dt>p3</dt><dd>'Viguera'</dd></dl>\n"
            ],
            "text/markdown": "p1\n:   'Miguel'p2\n:   'Jorquera'p3\n:   'Viguera'\n\n",
            "text/latex": "\\begin{description*}\n\\item[p1] 'Miguel'\n\\item[p2] 'Jorquera'\n\\item[p3] 'Viguera'\n\\end{description*}\n",
            "text/plain": [
              "        p1         p2         p3 \n",
              "  \"Miguel\" \"Jorquera\"  \"Viguera\" "
            ]
          },
          "metadata": {}
        },
        {
          "output_type": "display_data",
          "data": {
            "text/html": [
              "<style>\n",
              ".dl-inline {width: auto; margin:0; padding: 0}\n",
              ".dl-inline>dt, .dl-inline>dd {float: none; width: auto; display: inline-block}\n",
              ".dl-inline>dt::after {content: \":\\0020\"; padding-right: .5ex}\n",
              ".dl-inline>dt:not(:first-of-type) {padding-left: .5ex}\n",
              "</style><dl class=dl-inline><dt>n7</dt><dd>'13'</dd><dt>n8</dt><dd>'21'</dd><dt>p1</dt><dd>'Miguel'</dd><dt>p2</dt><dd>'Jorquera'</dd><dt>p3</dt><dd>'Viguera'</dd></dl>\n"
            ],
            "text/markdown": "n7\n:   '13'n8\n:   '21'p1\n:   'Miguel'p2\n:   'Jorquera'p3\n:   'Viguera'\n\n",
            "text/latex": "\\begin{description*}\n\\item[n7] '13'\n\\item[n8] '21'\n\\item[p1] 'Miguel'\n\\item[p2] 'Jorquera'\n\\item[p3] 'Viguera'\n\\end{description*}\n",
            "text/plain": [
              "        n7         n8         p1         p2         p3 \n",
              "      \"13\"       \"21\"   \"Miguel\" \"Jorquera\"  \"Viguera\" "
            ]
          },
          "metadata": {}
        }
      ]
    },
    {
      "cell_type": "code",
      "source": [
        "#NOTA:\n",
        "as.character(3)\n",
        "as.integer(\"3\")"
      ],
      "metadata": {
        "id": "gDf3Hcqd8rLy",
        "outputId": "a6609e84-1828-4afa-cde6-d7671fc115d8",
        "colab": {
          "base_uri": "https://localhost:8080/",
          "height": 52
        }
      },
      "execution_count": 13,
      "outputs": [
        {
          "output_type": "display_data",
          "data": {
            "text/html": [
              "'3'"
            ],
            "text/markdown": "'3'",
            "text/latex": "'3'",
            "text/plain": [
              "[1] \"3\""
            ]
          },
          "metadata": {}
        },
        {
          "output_type": "display_data",
          "data": {
            "text/html": [
              "3"
            ],
            "text/markdown": "3",
            "text/latex": "3",
            "text/plain": [
              "[1] 3"
            ]
          },
          "metadata": {}
        }
      ]
    },
    {
      "cell_type": "code",
      "source": [
        "as.integer(c(v4,v3))"
      ],
      "metadata": {
        "id": "cBpCdME186jY",
        "outputId": "026998d5-d6ec-4fa3-a012-33bfdfa9d2b1",
        "colab": {
          "base_uri": "https://localhost:8080/",
          "height": 69
        }
      },
      "execution_count": 14,
      "outputs": [
        {
          "output_type": "stream",
          "name": "stderr",
          "text": [
            "Warning message in eval(expr, envir, enclos):\n",
            "“NAs introduced by coercion”\n"
          ]
        },
        {
          "output_type": "display_data",
          "data": {
            "text/html": [
              "<style>\n",
              ".list-inline {list-style: none; margin:0; padding: 0}\n",
              ".list-inline>li {display: inline-block}\n",
              ".list-inline>li:not(:last-child)::after {content: \"\\00b7\"; padding: 0 .5ex}\n",
              "</style>\n",
              "<ol class=list-inline><li>13</li><li>21</li><li>&lt;NA&gt;</li><li>&lt;NA&gt;</li><li>&lt;NA&gt;</li></ol>\n"
            ],
            "text/markdown": "1. 13\n2. 21\n3. &lt;NA&gt;\n4. &lt;NA&gt;\n5. &lt;NA&gt;\n\n\n",
            "text/latex": "\\begin{enumerate*}\n\\item 13\n\\item 21\n\\item <NA>\n\\item <NA>\n\\item <NA>\n\\end{enumerate*}\n",
            "text/plain": [
              "[1] 13 21 NA NA NA"
            ]
          },
          "metadata": {}
        }
      ]
    },
    {
      "cell_type": "code",
      "source": [
        "class(c(v4,v3))# Como son clases de datos diferentes, R coerciona a la clase de menor jerarquía que los contenga a ambos."
      ],
      "metadata": {
        "id": "24DRC1oY7u6I",
        "outputId": "8a48793c-f7f6-4a96-b3aa-4b6f3aaa5362",
        "colab": {
          "base_uri": "https://localhost:8080/",
          "height": 34
        }
      },
      "execution_count": null,
      "outputs": [
        {
          "output_type": "display_data",
          "data": {
            "text/html": [
              "'character'"
            ],
            "text/markdown": "'character'",
            "text/latex": "'character'",
            "text/plain": [
              "[1] \"character\""
            ]
          },
          "metadata": {}
        }
      ]
    },
    {
      "cell_type": "markdown",
      "metadata": {
        "id": "MX35j24_IgvN"
      },
      "source": [
        "#### 3.1.1 Acceso a los elementos de un vector\n",
        "\n",
        "El acceso a los elementos de un vector se puede llevar acabo indicando la posición del elemento (los naturales parten en 1!), el nombre de la casilla que lo contiene, o bien mediante sentencias lógicas que retornen \"TRUE\" en la posición deseada.\n",
        "\n"
      ]
    },
    {
      "cell_type": "code",
      "source": [
        "#NOTA:\n",
        "v1\n",
        "length(v1) # Ventor con 6 entradas/elementos"
      ],
      "metadata": {
        "id": "uXuEkqqX9Ua6",
        "outputId": "8209f047-9df7-4b16-b541-73a72455bc65",
        "colab": {
          "base_uri": "https://localhost:8080/",
          "height": 52
        }
      },
      "execution_count": 15,
      "outputs": [
        {
          "output_type": "display_data",
          "data": {
            "text/html": [
              "<style>\n",
              ".dl-inline {width: auto; margin:0; padding: 0}\n",
              ".dl-inline>dt, .dl-inline>dd {float: none; width: auto; display: inline-block}\n",
              ".dl-inline>dt::after {content: \":\\0020\"; padding-right: .5ex}\n",
              ".dl-inline>dt:not(:first-of-type) {padding-left: .5ex}\n",
              "</style><dl class=dl-inline><dt>n1</dt><dd>1</dd><dt>n2</dt><dd>1</dd><dt>n3</dt><dd>2</dd><dt>n4</dt><dd>3</dd><dt>n5</dt><dd>5</dd><dt>n6</dt><dd>8</dd></dl>\n"
            ],
            "text/markdown": "n1\n:   1n2\n:   1n3\n:   2n4\n:   3n5\n:   5n6\n:   8\n\n",
            "text/latex": "\\begin{description*}\n\\item[n1] 1\n\\item[n2] 1\n\\item[n3] 2\n\\item[n4] 3\n\\item[n5] 5\n\\item[n6] 8\n\\end{description*}\n",
            "text/plain": [
              "n1 n2 n3 n4 n5 n6 \n",
              " 1  1  2  3  5  8 "
            ]
          },
          "metadata": {}
        },
        {
          "output_type": "display_data",
          "data": {
            "text/html": [
              "6"
            ],
            "text/markdown": "6",
            "text/latex": "6",
            "text/plain": [
              "[1] 6"
            ]
          },
          "metadata": {}
        }
      ]
    },
    {
      "cell_type": "code",
      "source": [
        "#NOTA:\n",
        "#R cuenta  desde 1 como posición inicial"
      ],
      "metadata": {
        "id": "UdGDKUqD9cZL"
      },
      "execution_count": null,
      "outputs": []
    },
    {
      "cell_type": "code",
      "metadata": {
        "id": "zW2_TzKxIgvN",
        "outputId": "95b54154-93e2-4f99-f0ec-6fb48ea72a37",
        "colab": {
          "base_uri": "https://localhost:8080/",
          "height": 52
        }
      },
      "source": [
        "# Mediante posición\n",
        "v1[1]\n",
        "v1[6]"
      ],
      "execution_count": 16,
      "outputs": [
        {
          "output_type": "display_data",
          "data": {
            "text/html": [
              "<strong>n1:</strong> 1"
            ],
            "text/markdown": "**n1:** 1",
            "text/latex": "\\textbf{n1:} 1",
            "text/plain": [
              "n1 \n",
              " 1 "
            ]
          },
          "metadata": {}
        },
        {
          "output_type": "display_data",
          "data": {
            "text/html": [
              "<strong>n6:</strong> 8"
            ],
            "text/markdown": "**n6:** 8",
            "text/latex": "\\textbf{n6:} 8",
            "text/plain": [
              "n6 \n",
              " 8 "
            ]
          },
          "metadata": {}
        }
      ]
    },
    {
      "cell_type": "code",
      "metadata": {
        "id": "XWL1ZIyMIgvR",
        "outputId": "a051d72e-2a83-4a63-e371-30753c0b9197",
        "colab": {
          "base_uri": "https://localhost:8080/",
          "height": 34
        }
      },
      "source": [
        "# retorna los elementos de las casillas 1  y 4 de vector2\n",
        "v1[c(1,4)]"
      ],
      "execution_count": 17,
      "outputs": [
        {
          "output_type": "display_data",
          "data": {
            "text/html": [
              "<style>\n",
              ".dl-inline {width: auto; margin:0; padding: 0}\n",
              ".dl-inline>dt, .dl-inline>dd {float: none; width: auto; display: inline-block}\n",
              ".dl-inline>dt::after {content: \":\\0020\"; padding-right: .5ex}\n",
              ".dl-inline>dt:not(:first-of-type) {padding-left: .5ex}\n",
              "</style><dl class=dl-inline><dt>n1</dt><dd>1</dd><dt>n4</dt><dd>3</dd></dl>\n"
            ],
            "text/markdown": "n1\n:   1n4\n:   3\n\n",
            "text/latex": "\\begin{description*}\n\\item[n1] 1\n\\item[n4] 3\n\\end{description*}\n",
            "text/plain": [
              "n1 n4 \n",
              " 1  3 "
            ]
          },
          "metadata": {}
        }
      ]
    },
    {
      "cell_type": "code",
      "metadata": {
        "id": "uBqEKq1aIgvT",
        "outputId": "22cf859e-a649-48f2-91d1-47de980dfffb",
        "colab": {
          "base_uri": "https://localhost:8080/",
          "height": 34
        }
      },
      "source": [
        "#NOTA 3:5, R lo interpreta como c(3,4,5)\n",
        "# Quiero rescatar la porción del vector v1, comprendida entre la posición 3  y 5 (inclusive)\n",
        "\n",
        "v1[3:5]"
      ],
      "execution_count": 18,
      "outputs": [
        {
          "output_type": "display_data",
          "data": {
            "text/html": [
              "<style>\n",
              ".dl-inline {width: auto; margin:0; padding: 0}\n",
              ".dl-inline>dt, .dl-inline>dd {float: none; width: auto; display: inline-block}\n",
              ".dl-inline>dt::after {content: \":\\0020\"; padding-right: .5ex}\n",
              ".dl-inline>dt:not(:first-of-type) {padding-left: .5ex}\n",
              "</style><dl class=dl-inline><dt>n3</dt><dd>2</dd><dt>n4</dt><dd>3</dd><dt>n5</dt><dd>5</dd></dl>\n"
            ],
            "text/markdown": "n3\n:   2n4\n:   3n5\n:   5\n\n",
            "text/latex": "\\begin{description*}\n\\item[n3] 2\n\\item[n4] 3\n\\item[n5] 5\n\\end{description*}\n",
            "text/plain": [
              "n3 n4 n5 \n",
              " 2  3  5 "
            ]
          },
          "metadata": {}
        }
      ]
    },
    {
      "cell_type": "code",
      "metadata": {
        "id": "XIuQSfvKIgvV",
        "outputId": "9bf9cf7f-3338-488d-b97c-83cf61274001",
        "colab": {
          "base_uri": "https://localhost:8080/",
          "height": 52
        }
      },
      "source": [
        "# podemos acceder a los elmentos mediante el nombre\n",
        "v1[\"n6\"]\n",
        "v1[c(\"n1\",\"n4\")]"
      ],
      "execution_count": 19,
      "outputs": [
        {
          "output_type": "display_data",
          "data": {
            "text/html": [
              "<strong>n6:</strong> 8"
            ],
            "text/markdown": "**n6:** 8",
            "text/latex": "\\textbf{n6:} 8",
            "text/plain": [
              "n6 \n",
              " 8 "
            ]
          },
          "metadata": {}
        },
        {
          "output_type": "display_data",
          "data": {
            "text/html": [
              "<style>\n",
              ".dl-inline {width: auto; margin:0; padding: 0}\n",
              ".dl-inline>dt, .dl-inline>dd {float: none; width: auto; display: inline-block}\n",
              ".dl-inline>dt::after {content: \":\\0020\"; padding-right: .5ex}\n",
              ".dl-inline>dt:not(:first-of-type) {padding-left: .5ex}\n",
              "</style><dl class=dl-inline><dt>n1</dt><dd>1</dd><dt>n4</dt><dd>3</dd></dl>\n"
            ],
            "text/markdown": "n1\n:   1n4\n:   3\n\n",
            "text/latex": "\\begin{description*}\n\\item[n1] 1\n\\item[n4] 3\n\\end{description*}\n",
            "text/plain": [
              "n1 n4 \n",
              " 1  3 "
            ]
          },
          "metadata": {}
        }
      ]
    },
    {
      "cell_type": "code",
      "source": [
        "#NOTA:\n",
        "v1[1,4]# No tiene sentido en un arreglo unidimensional. (pero si en matrices)\n",
        "#v1[c(1,4)]"
      ],
      "metadata": {
        "id": "5K7fKa3S_AcR",
        "outputId": "174c1901-b992-4d09-b412-e20723cc962f",
        "colab": {
          "base_uri": "https://localhost:8080/",
          "height": 96
        }
      },
      "execution_count": null,
      "outputs": [
        {
          "output_type": "error",
          "ename": "ERROR",
          "evalue": "ignored",
          "traceback": [
            "Error in v1[1, 4]: incorrect number of dimensions\nTraceback:\n"
          ]
        }
      ]
    },
    {
      "cell_type": "code",
      "metadata": {
        "id": "IHjnaSSyIgvX",
        "outputId": "b9e731a4-9389-43a7-c1ed-1216505f1cdc",
        "colab": {
          "base_uri": "https://localhost:8080/",
          "height": 34
        }
      },
      "source": [
        "# cambiar una entrada de un vector o cambiar un nombre\n",
        "v1"
      ],
      "execution_count": null,
      "outputs": [
        {
          "output_type": "display_data",
          "data": {
            "text/html": [
              "<style>\n",
              ".dl-inline {width: auto; margin:0; padding: 0}\n",
              ".dl-inline>dt, .dl-inline>dd {float: none; width: auto; display: inline-block}\n",
              ".dl-inline>dt::after {content: \":\\0020\"; padding-right: .5ex}\n",
              ".dl-inline>dt:not(:first-of-type) {padding-left: .5ex}\n",
              "</style><dl class=dl-inline><dt>n1</dt><dd>1</dd><dt>n2</dt><dd>1</dd><dt>n3</dt><dd>2</dd><dt>n4</dt><dd>3</dd><dt>n5</dt><dd>5</dd><dt>n6</dt><dd>8</dd></dl>\n"
            ],
            "text/markdown": "n1\n:   1n2\n:   1n3\n:   2n4\n:   3n5\n:   5n6\n:   8\n\n",
            "text/latex": "\\begin{description*}\n\\item[n1] 1\n\\item[n2] 1\n\\item[n3] 2\n\\item[n4] 3\n\\item[n5] 5\n\\item[n6] 8\n\\end{description*}\n",
            "text/plain": [
              "n1 n2 n3 n4 n5 n6 \n",
              " 1  1  2  3  5  8 "
            ]
          },
          "metadata": {}
        }
      ]
    },
    {
      "cell_type": "code",
      "source": [],
      "metadata": {
        "id": "P0ra_ldz_n8M"
      },
      "execution_count": null,
      "outputs": []
    },
    {
      "cell_type": "code",
      "source": [
        "#Primero:  cambiar el elemnto de la casilla 4, por un 99.\n",
        "v1[4] <- 99"
      ],
      "metadata": {
        "id": "XfZ9knOv_gpG"
      },
      "execution_count": 20,
      "outputs": []
    },
    {
      "cell_type": "code",
      "source": [
        "v1"
      ],
      "metadata": {
        "id": "IVKgUGk-_5jn",
        "outputId": "0cd155cf-bb87-4bb8-8c3e-d5d0803a1eab",
        "colab": {
          "base_uri": "https://localhost:8080/",
          "height": 34
        }
      },
      "execution_count": null,
      "outputs": [
        {
          "output_type": "display_data",
          "data": {
            "text/html": [
              "<style>\n",
              ".dl-inline {width: auto; margin:0; padding: 0}\n",
              ".dl-inline>dt, .dl-inline>dd {float: none; width: auto; display: inline-block}\n",
              ".dl-inline>dt::after {content: \":\\0020\"; padding-right: .5ex}\n",
              ".dl-inline>dt:not(:first-of-type) {padding-left: .5ex}\n",
              "</style><dl class=dl-inline><dt>n1</dt><dd>1</dd><dt>n2</dt><dd>1</dd><dt>n3</dt><dd>2</dd><dt>n4</dt><dd>99</dd><dt>n5</dt><dd>5</dd><dt>n6</dt><dd>8</dd></dl>\n"
            ],
            "text/markdown": "n1\n:   1n2\n:   1n3\n:   2n4\n:   99n5\n:   5n6\n:   8\n\n",
            "text/latex": "\\begin{description*}\n\\item[n1] 1\n\\item[n2] 1\n\\item[n3] 2\n\\item[n4] 99\n\\item[n5] 5\n\\item[n6] 8\n\\end{description*}\n",
            "text/plain": [
              "n1 n2 n3 n4 n5 n6 \n",
              " 1  1  2 99  5  8 "
            ]
          },
          "metadata": {}
        }
      ]
    },
    {
      "cell_type": "code",
      "metadata": {
        "id": "cVzhj4ASIgvb"
      },
      "source": [
        "# podemos cambiar uno de los nombres (ej, queremos cambiar el sexto nombre de v1, por \"casilla_6\")\n",
        "names(v1)[6] <- \"casilla_6\"\n"
      ],
      "execution_count": 21,
      "outputs": []
    },
    {
      "cell_type": "code",
      "source": [
        "v1"
      ],
      "metadata": {
        "id": "8sI7V9fjAtos",
        "outputId": "56144526-2e7c-4577-f083-6897a98068da",
        "colab": {
          "base_uri": "https://localhost:8080/",
          "height": 34
        }
      },
      "execution_count": null,
      "outputs": [
        {
          "output_type": "display_data",
          "data": {
            "text/html": [
              "<style>\n",
              ".dl-inline {width: auto; margin:0; padding: 0}\n",
              ".dl-inline>dt, .dl-inline>dd {float: none; width: auto; display: inline-block}\n",
              ".dl-inline>dt::after {content: \":\\0020\"; padding-right: .5ex}\n",
              ".dl-inline>dt:not(:first-of-type) {padding-left: .5ex}\n",
              "</style><dl class=dl-inline><dt>n1</dt><dd>1</dd><dt>n2</dt><dd>1</dd><dt>n3</dt><dd>2</dd><dt>n4</dt><dd>99</dd><dt>n5</dt><dd>5</dd><dt>casilla_6</dt><dd>8</dd></dl>\n"
            ],
            "text/markdown": "n1\n:   1n2\n:   1n3\n:   2n4\n:   99n5\n:   5casilla_6\n:   8\n\n",
            "text/latex": "\\begin{description*}\n\\item[n1] 1\n\\item[n2] 1\n\\item[n3] 2\n\\item[n4] 99\n\\item[n5] 5\n\\item[casilla\\textbackslash{}\\_6] 8\n\\end{description*}\n",
            "text/plain": [
              "       n1        n2        n3        n4        n5 casilla_6 \n",
              "        1         1         2        99         5         8 "
            ]
          },
          "metadata": {}
        }
      ]
    },
    {
      "cell_type": "code",
      "source": [
        "names(v1[3]) <- \"casilla_3\" # OJO que no es lo mismo. Acá se modifica v1[3], no así v1."
      ],
      "metadata": {
        "id": "oiDSDOdEAv1C"
      },
      "execution_count": null,
      "outputs": []
    },
    {
      "cell_type": "code",
      "source": [
        "v1"
      ],
      "metadata": {
        "id": "Cu9mqoy2A00S",
        "outputId": "fd19e0c9-b099-4ec7-e0bc-cd399ab40dad",
        "colab": {
          "base_uri": "https://localhost:8080/",
          "height": 34
        }
      },
      "execution_count": null,
      "outputs": [
        {
          "output_type": "display_data",
          "data": {
            "text/html": [
              "<style>\n",
              ".dl-inline {width: auto; margin:0; padding: 0}\n",
              ".dl-inline>dt, .dl-inline>dd {float: none; width: auto; display: inline-block}\n",
              ".dl-inline>dt::after {content: \":\\0020\"; padding-right: .5ex}\n",
              ".dl-inline>dt:not(:first-of-type) {padding-left: .5ex}\n",
              "</style><dl class=dl-inline><dt>n1</dt><dd>1</dd><dt>n2</dt><dd>1</dd><dt>n3</dt><dd>2</dd><dt>n4</dt><dd>99</dd><dt>n5</dt><dd>5</dd><dt>casilla_6</dt><dd>8</dd></dl>\n"
            ],
            "text/markdown": "n1\n:   1n2\n:   1n3\n:   2n4\n:   99n5\n:   5casilla_6\n:   8\n\n",
            "text/latex": "\\begin{description*}\n\\item[n1] 1\n\\item[n2] 1\n\\item[n3] 2\n\\item[n4] 99\n\\item[n5] 5\n\\item[casilla\\textbackslash{}\\_6] 8\n\\end{description*}\n",
            "text/plain": [
              "       n1        n2        n3        n4        n5 casilla_6 \n",
              "        1         1         2        99         5         8 "
            ]
          },
          "metadata": {}
        }
      ]
    },
    {
      "cell_type": "code",
      "metadata": {
        "id": "b6oqx_D4Igvd"
      },
      "source": [
        "# podemos modificar varias posiciones a la vez\n",
        "# queremos re-asignar los valores \"XX\" y \"ZZ\" en las posiciones 3 y 7 respecivamente\n"
      ],
      "execution_count": null,
      "outputs": []
    },
    {
      "cell_type": "markdown",
      "metadata": {
        "id": "XzyIBLZxIgvg"
      },
      "source": [
        "**Algunas sentencias de utilidad**\n",
        "\n",
        "También es posible acceder a los alementos de un vector mediante sentencias lógicas que retornen \"TRUE\" en la posición deseada. Para ello algunas funciones que son de utilidad son las siguientes.\n",
        "\n",
        "   **Conectores lógicos**\n",
        "\n",
        "    &, && |                  : conector y\n",
        "    |,||                     : conector o\n",
        "    ==                       : igual\n",
        "    !                        : negación\n",
        "    !=                       : distinto\n",
        "    >, >=                    : mayor que, mayor o igual que\n",
        "    <,<=                     : menor que, menor o igual que\n",
        "    is.na()                  : es NA?\n",
        "    which()                  : en qué posición es verdadera la expresión evaluada?\n",
        "    which.min(), which.max() : en qué posición se alcanza el mínimi/máximo\n",
        "    %in%                     : los elementos están en?\n",
        "    \n",
        "    "
      ]
    },
    {
      "cell_type": "code",
      "metadata": {
        "id": "NhZPJo56Igvh",
        "colab": {
          "base_uri": "https://localhost:8080/",
          "height": 69
        },
        "outputId": "14781d7c-9b23-4b66-ca16-1c7767177ccd"
      },
      "source": [
        "# para acceder a elementos de un vector tenemos:\n",
        "# 1. por posición\n",
        "# 2. por nombre\n",
        "# 3. por indicatrices lógicas (un vector con TRUE (T) o FALSE (F) del mismo largo del que quiero consultar)\n",
        "v1\n",
        "#Queremos rescatar la información de las casillas 3,4, y 6.\n",
        "v1[c(3,4,6)]\n",
        "v1[c(\"n3\",\"n4\",\"casilla_6\")]\n",
        "\n",
        "\n"
      ],
      "execution_count": 23,
      "outputs": [
        {
          "output_type": "display_data",
          "data": {
            "text/html": [
              "<style>\n",
              ".dl-inline {width: auto; margin:0; padding: 0}\n",
              ".dl-inline>dt, .dl-inline>dd {float: none; width: auto; display: inline-block}\n",
              ".dl-inline>dt::after {content: \":\\0020\"; padding-right: .5ex}\n",
              ".dl-inline>dt:not(:first-of-type) {padding-left: .5ex}\n",
              "</style><dl class=dl-inline><dt>n1</dt><dd>1</dd><dt>n2</dt><dd>1</dd><dt>n3</dt><dd>2</dd><dt>n4</dt><dd>99</dd><dt>n5</dt><dd>5</dd><dt>casilla_6</dt><dd>8</dd></dl>\n"
            ],
            "text/markdown": "n1\n:   1n2\n:   1n3\n:   2n4\n:   99n5\n:   5casilla_6\n:   8\n\n",
            "text/latex": "\\begin{description*}\n\\item[n1] 1\n\\item[n2] 1\n\\item[n3] 2\n\\item[n4] 99\n\\item[n5] 5\n\\item[casilla\\textbackslash{}\\_6] 8\n\\end{description*}\n",
            "text/plain": [
              "       n1        n2        n3        n4        n5 casilla_6 \n",
              "        1         1         2        99         5         8 "
            ]
          },
          "metadata": {}
        },
        {
          "output_type": "display_data",
          "data": {
            "text/html": [
              "<style>\n",
              ".dl-inline {width: auto; margin:0; padding: 0}\n",
              ".dl-inline>dt, .dl-inline>dd {float: none; width: auto; display: inline-block}\n",
              ".dl-inline>dt::after {content: \":\\0020\"; padding-right: .5ex}\n",
              ".dl-inline>dt:not(:first-of-type) {padding-left: .5ex}\n",
              "</style><dl class=dl-inline><dt>n3</dt><dd>2</dd><dt>n4</dt><dd>99</dd><dt>casilla_6</dt><dd>8</dd></dl>\n"
            ],
            "text/markdown": "n3\n:   2n4\n:   99casilla_6\n:   8\n\n",
            "text/latex": "\\begin{description*}\n\\item[n3] 2\n\\item[n4] 99\n\\item[casilla\\textbackslash{}\\_6] 8\n\\end{description*}\n",
            "text/plain": [
              "       n3        n4 casilla_6 \n",
              "        2        99         8 "
            ]
          },
          "metadata": {}
        },
        {
          "output_type": "display_data",
          "data": {
            "text/html": [
              "<style>\n",
              ".dl-inline {width: auto; margin:0; padding: 0}\n",
              ".dl-inline>dt, .dl-inline>dd {float: none; width: auto; display: inline-block}\n",
              ".dl-inline>dt::after {content: \":\\0020\"; padding-right: .5ex}\n",
              ".dl-inline>dt:not(:first-of-type) {padding-left: .5ex}\n",
              "</style><dl class=dl-inline><dt>n3</dt><dd>2</dd><dt>n4</dt><dd>99</dd><dt>casilla_6</dt><dd>8</dd></dl>\n"
            ],
            "text/markdown": "n3\n:   2n4\n:   99casilla_6\n:   8\n\n",
            "text/latex": "\\begin{description*}\n\\item[n3] 2\n\\item[n4] 99\n\\item[casilla\\textbackslash{}\\_6] 8\n\\end{description*}\n",
            "text/plain": [
              "       n3        n4 casilla_6 \n",
              "        2        99         8 "
            ]
          },
          "metadata": {}
        }
      ]
    },
    {
      "cell_type": "code",
      "source": [
        "ind <- c(F,F,T,T,F,T)\n",
        "ind"
      ],
      "metadata": {
        "colab": {
          "base_uri": "https://localhost:8080/",
          "height": 34
        },
        "id": "hW21rvrma7C6",
        "outputId": "d1df8dc1-ac6c-42ca-a99c-3c5f83daaa35"
      },
      "execution_count": 25,
      "outputs": [
        {
          "output_type": "display_data",
          "data": {
            "text/html": [
              "<style>\n",
              ".list-inline {list-style: none; margin:0; padding: 0}\n",
              ".list-inline>li {display: inline-block}\n",
              ".list-inline>li:not(:last-child)::after {content: \"\\00b7\"; padding: 0 .5ex}\n",
              "</style>\n",
              "<ol class=list-inline><li>FALSE</li><li>FALSE</li><li>TRUE</li><li>TRUE</li><li>FALSE</li><li>TRUE</li></ol>\n"
            ],
            "text/markdown": "1. FALSE\n2. FALSE\n3. TRUE\n4. TRUE\n5. FALSE\n6. TRUE\n\n\n",
            "text/latex": "\\begin{enumerate*}\n\\item FALSE\n\\item FALSE\n\\item TRUE\n\\item TRUE\n\\item FALSE\n\\item TRUE\n\\end{enumerate*}\n",
            "text/plain": [
              "[1] FALSE FALSE  TRUE  TRUE FALSE  TRUE"
            ]
          },
          "metadata": {}
        }
      ]
    },
    {
      "cell_type": "code",
      "source": [
        "v1[ind]"
      ],
      "metadata": {
        "colab": {
          "base_uri": "https://localhost:8080/",
          "height": 34
        },
        "id": "c_-3C2z8bDPH",
        "outputId": "b536ced0-f954-49e5-c155-2f99c2c76235"
      },
      "execution_count": 26,
      "outputs": [
        {
          "output_type": "display_data",
          "data": {
            "text/html": [
              "<style>\n",
              ".dl-inline {width: auto; margin:0; padding: 0}\n",
              ".dl-inline>dt, .dl-inline>dd {float: none; width: auto; display: inline-block}\n",
              ".dl-inline>dt::after {content: \":\\0020\"; padding-right: .5ex}\n",
              ".dl-inline>dt:not(:first-of-type) {padding-left: .5ex}\n",
              "</style><dl class=dl-inline><dt>n3</dt><dd>2</dd><dt>n4</dt><dd>99</dd><dt>casilla_6</dt><dd>8</dd></dl>\n"
            ],
            "text/markdown": "n3\n:   2n4\n:   99casilla_6\n:   8\n\n",
            "text/latex": "\\begin{description*}\n\\item[n3] 2\n\\item[n4] 99\n\\item[casilla\\textbackslash{}\\_6] 8\n\\end{description*}\n",
            "text/plain": [
              "       n3        n4 casilla_6 \n",
              "        2        99         8 "
            ]
          },
          "metadata": {}
        }
      ]
    },
    {
      "cell_type": "code",
      "source": [
        "2 > -1"
      ],
      "metadata": {
        "colab": {
          "base_uri": "https://localhost:8080/",
          "height": 34
        },
        "id": "IoXP4a0MbP7B",
        "outputId": "1d768f59-e3f0-4f46-d764-56f793d28c15"
      },
      "execution_count": 27,
      "outputs": [
        {
          "output_type": "display_data",
          "data": {
            "text/html": [
              "TRUE"
            ],
            "text/markdown": "TRUE",
            "text/latex": "TRUE",
            "text/plain": [
              "[1] TRUE"
            ]
          },
          "metadata": {}
        }
      ]
    },
    {
      "cell_type": "code",
      "source": [
        "v1"
      ],
      "metadata": {
        "colab": {
          "base_uri": "https://localhost:8080/",
          "height": 34
        },
        "id": "fNNgnsqmbedk",
        "outputId": "9035106c-6622-4f28-b44b-3b8ad538c181"
      },
      "execution_count": 28,
      "outputs": [
        {
          "output_type": "display_data",
          "data": {
            "text/html": [
              "<style>\n",
              ".dl-inline {width: auto; margin:0; padding: 0}\n",
              ".dl-inline>dt, .dl-inline>dd {float: none; width: auto; display: inline-block}\n",
              ".dl-inline>dt::after {content: \":\\0020\"; padding-right: .5ex}\n",
              ".dl-inline>dt:not(:first-of-type) {padding-left: .5ex}\n",
              "</style><dl class=dl-inline><dt>n1</dt><dd>1</dd><dt>n2</dt><dd>1</dd><dt>n3</dt><dd>2</dd><dt>n4</dt><dd>99</dd><dt>n5</dt><dd>5</dd><dt>casilla_6</dt><dd>8</dd></dl>\n"
            ],
            "text/markdown": "n1\n:   1n2\n:   1n3\n:   2n4\n:   99n5\n:   5casilla_6\n:   8\n\n",
            "text/latex": "\\begin{description*}\n\\item[n1] 1\n\\item[n2] 1\n\\item[n3] 2\n\\item[n4] 99\n\\item[n5] 5\n\\item[casilla\\textbackslash{}\\_6] 8\n\\end{description*}\n",
            "text/plain": [
              "       n1        n2        n3        n4        n5 casilla_6 \n",
              "        1         1         2        99         5         8 "
            ]
          },
          "metadata": {}
        }
      ]
    },
    {
      "cell_type": "code",
      "source": [
        "v1 > 6 # Es un vector de TRUE's y FALSE's"
      ],
      "metadata": {
        "colab": {
          "base_uri": "https://localhost:8080/",
          "height": 34
        },
        "id": "mTXFFicKbVLt",
        "outputId": "4543c372-85d1-4057-bc19-634062d4c1a0"
      },
      "execution_count": 29,
      "outputs": [
        {
          "output_type": "display_data",
          "data": {
            "text/html": [
              "<style>\n",
              ".dl-inline {width: auto; margin:0; padding: 0}\n",
              ".dl-inline>dt, .dl-inline>dd {float: none; width: auto; display: inline-block}\n",
              ".dl-inline>dt::after {content: \":\\0020\"; padding-right: .5ex}\n",
              ".dl-inline>dt:not(:first-of-type) {padding-left: .5ex}\n",
              "</style><dl class=dl-inline><dt>n1</dt><dd>FALSE</dd><dt>n2</dt><dd>FALSE</dd><dt>n3</dt><dd>FALSE</dd><dt>n4</dt><dd>TRUE</dd><dt>n5</dt><dd>FALSE</dd><dt>casilla_6</dt><dd>TRUE</dd></dl>\n"
            ],
            "text/markdown": "n1\n:   FALSEn2\n:   FALSEn3\n:   FALSEn4\n:   TRUEn5\n:   FALSEcasilla_6\n:   TRUE\n\n",
            "text/latex": "\\begin{description*}\n\\item[n1] FALSE\n\\item[n2] FALSE\n\\item[n3] FALSE\n\\item[n4] TRUE\n\\item[n5] FALSE\n\\item[casilla\\textbackslash{}\\_6] TRUE\n\\end{description*}\n",
            "text/plain": [
              "       n1        n2        n3        n4        n5 casilla_6 \n",
              "    FALSE     FALSE     FALSE      TRUE     FALSE      TRUE "
            ]
          },
          "metadata": {}
        }
      ]
    },
    {
      "cell_type": "code",
      "metadata": {
        "id": "5C4hDsvSIgvj",
        "colab": {
          "base_uri": "https://localhost:8080/",
          "height": 34
        },
        "outputId": "159c8102-c98c-4689-e1d2-187908f819a1"
      },
      "source": [
        "# Esto facilita la búsqueda dentro de un un vector. Ej: retornar los elementos mayores aun valor dado\n",
        "v1[v1 > 6]"
      ],
      "execution_count": 31,
      "outputs": [
        {
          "output_type": "display_data",
          "data": {
            "text/html": [
              "<style>\n",
              ".dl-inline {width: auto; margin:0; padding: 0}\n",
              ".dl-inline>dt, .dl-inline>dd {float: none; width: auto; display: inline-block}\n",
              ".dl-inline>dt::after {content: \":\\0020\"; padding-right: .5ex}\n",
              ".dl-inline>dt:not(:first-of-type) {padding-left: .5ex}\n",
              "</style><dl class=dl-inline><dt>n4</dt><dd>99</dd><dt>casilla_6</dt><dd>8</dd></dl>\n"
            ],
            "text/markdown": "n4\n:   99casilla_6\n:   8\n\n",
            "text/latex": "\\begin{description*}\n\\item[n4] 99\n\\item[casilla\\textbackslash{}\\_6] 8\n\\end{description*}\n",
            "text/plain": [
              "       n4 casilla_6 \n",
              "       99         8 "
            ]
          },
          "metadata": {}
        }
      ]
    },
    {
      "cell_type": "code",
      "metadata": {
        "id": "bj-wjeddIgvl"
      },
      "source": [
        "# con esta idea en mente podríamos, por ejemplo, rescatar las edades con valor mayor o igual a 18 años\n",
        "set.seed(2020)\n",
        "edades <- rnorm(1000, mean = 30, sd = 10)"
      ],
      "execution_count": 55,
      "outputs": []
    },
    {
      "cell_type": "code",
      "source": [
        "edades"
      ],
      "metadata": {
        "colab": {
          "base_uri": "https://localhost:8080/",
          "height": 885
        },
        "id": "K-ox8sBccLZt",
        "outputId": "2bae36ce-ad68-4e15-ad78-d40e20569381"
      },
      "execution_count": 56,
      "outputs": [
        {
          "output_type": "display_data",
          "data": {
            "text/html": [
              "<style>\n",
              ".list-inline {list-style: none; margin:0; padding: 0}\n",
              ".list-inline>li {display: inline-block}\n",
              ".list-inline>li:not(:last-child)::after {content: \"\\00b7\"; padding: 0 .5ex}\n",
              "</style>\n",
              "<ol class=list-inline><li>33.7697212493643</li><li>33.0154837393567</li><li>19.019768293464</li><li>18.6959409639622</li><li>2.03465680128238</li><li>37.2057349841159</li><li>39.3912102300901</li><li>27.7062225329253</li><li>47.5913134696347</li><li>31.1736678680285</li><li>21.4687717771299</li><li>39.0925918161821</li><li>41.9637295955276</li><li>26.2841609625865</li><li>28.7673976671256</li><li>48.0004311672545</li><li>47.0399587729432</li><li>-0.387646052975938</li><li>7.11025050081217</li><li>30.5830349499292</li><li>51.7436525195634</li><li>40.9818265352131</li><li>33.1822032239085</li><li>29.2685244183623</li><li>38.3426874127883</li><li>31.9875063673343</li><li>42.9784138432631</li><li>39.3671830624135</li><li>28.5256680616671</li><li>31.1043199464013</li><li>21.8749533609949</li><li>22.5629783223125</li><li>40.9534507180741</li><li>54.3537370755095</li><li>33.8811846676708</li><li>32.9062767029513</li><li>27.1440171291607</li><li>30.7601471783737</li><li>24.3970139624037</li><li>34.4718837214336</li><li>39.0850113449994</li><li>24.9494040229166</li><li>26.989959878427</li><li>22.7396402345187</li><li>18.1992297300499</li><li>32.5307471263711</li><li>26.2928870311595</li><li>30.2217956376016</li><li>36.6004412242977</li><li>34.8879363533552</li><li>28.1121008346482</li><li>36.0135952107947</li><li>23.2623994720156</li><li>34.7605024058957</li><li>31.1875322760149</li><li>31.2122628289723</li><li>28.1395320566165</li><li>16.7172881137296</li><li>24.3307704911327</li><li>35.7883393291548</li><li>49.0903723141847</li><li>32.5075704267223</li><li>14.0168494149092</li><li>62.0163174713348</li><li>39.5523537546412</li><li>33.6864461604228</li><li>39.229190675035</li><li>27.9447865428967</li><li>30.9296670054717</li><li>31.6826218023318</li><li>37.9583912528776</li><li>46.4600560721094</li><li>12.8307568364975</li><li>26.8165689405571</li><li>20.9586002801309</li><li>22.9600720333222</li><li>12.2190053816076</li><li>22.7774483737503</li><li>30.4615420955383</li><li>32.4365802068758</li><li>36.2833130578228</li><li>29.7536141772038</li><li>53.1415330907848</li><li>31.7721025726011</li><li>19.7558523325322</li><li>52.7468130126709</li><li>11.1094333508026</li><li>40.9395160103067</li><li>48.4616702732198</li><li>35.2103267352002</li><li>14.6703789235408</li><li>10.6063503072158</li><li>34.8691653810476</li><li>42.4523669065827</li><li>27.8272657366529</li><li>22.204068854987</li><li>33.4887449970746</li><li>36.8172425001586</li><li>24.6853861261833</li><li>23.2260657852662</li><li>12.7121605939021</li><li>20.0873900841044</li><li>24.1449443829827</li><li>33.8352174799264</li><li>37.4666491968316</li><li>20.71579088242</li><li>26.6182370334317</li><li>45.4511401517901</li><li>32.6650887783215</li><li>32.9953393242762</li><li>26.7719798044968</li><li>44.3534743310469</li><li>40.0652720383307</li><li>12.8058636378132</li><li>32.9892046171999</li><li>21.7527436401067</li><li>18.0041016723621</li><li>17.2361288269898</li><li>28.7682193330972</li><li>51.65942198712</li><li>26.8771702509832</li><li>33.6743922509385</li><li>42.6943926051528</li><li>7.35146160851953</li><li>17.1015009044188</li><li>31.8788593813505</li><li>37.5164285520879</li><li>47.8468133578688</li><li>45.0827173622253</li><li>20.4683829145605</li><li>31.0342274036904</li><li>23.9443950217648</li><li>29.023993744963</li><li>28.7655189318989</li><li>19.5532048313106</li><li>29.2512965974178</li><li>47.6013533299962</li><li>15.6788041339784</li><li>56.6220102826044</li><li>17.088084675194</li><li>30.1510177436114</li><li>29.6031942829747</li><li>51.9144032262333</li><li>10.2356245039383</li><li>34.6366566499173</li><li>27.3778784303648</li><li>18.642854939083</li><li>32.1129948126292</li><li>30.9942792781497</li><li>-0.56683652359515</li><li>26.5286334643195</li><li>10.5337384173184</li><li>27.8392335372413</li><li>15.5080352149432</li><li>33.4543406073839</li><li>31.8820239366655</li><li>18.7214721703604</li><li>30.5045034301044</li><li>23.1730090835153</li><li>36.4805381700142</li><li>36.1036448657573</li><li>24.8734306662418</li><li>37.5440589068548</li><li>31.8810497236812</li><li>10.7171436895049</li><li>42.3582136018889</li><li>33.2827731342024</li><li>21.4508551074945</li><li>11.0431178358176</li><li>38.466924149816</li><li>42.440251070401</li><li>32.3625995695824</li><li>22.3930646069716</li><li>37.7222095729378</li><li>36.6155675362086</li><li>14.0626663264723</li><li>8.09653085176295</li><li>18.2324604403277</li><li>40.5000512774126</li><li>29.9429692126429</li><li>27.2398767288536</li><li>38.4852129238634</li><li>19.5106534200501</li><li>12.66413662908</li><li>54.141390868032</li><li>28.0435823321786</li><li>39.2678695602728</li><li>22.8653636771501</li><li>17.002582850578</li><li>38.8429640369323</li><li>42.0064152073226</li><li>18.2966022352597</li><li>37.6147188547713</li><li>38.7009023809987</li><li>22.7275728962745</li><li>36.266207288975</li><li>19.0855727190838</li><li>24.839054736605</li><li>30.169339634064</li><li>36.609906888811</li><li>⋯</li><li>34.256697150581</li><li>41.9899575713223</li><li>29.8654183984911</li><li>38.0577946612044</li><li>37.0718075721415</li><li>31.6970258395011</li><li>17.7587322741877</li><li>8.60653310454256</li><li>34.2890672070701</li><li>15.2309910409428</li><li>15.717796172998</li><li>44.2166028063166</li><li>25.7990591100137</li><li>26.3476673457769</li><li>15.3587383388022</li><li>30.0967320309714</li><li>17.381158028113</li><li>56.1557546892638</li><li>36.0585066398594</li><li>32.3741324790926</li><li>42.5979105975697</li><li>31.5616997476928</li><li>31.4463931782171</li><li>8.64107508111347</li><li>43.8000225971493</li><li>13.5428499055065</li><li>26.4937478473808</li><li>27.018799761363</li><li>25.9164826737263</li><li>33.4126556834893</li><li>18.413342501064</li><li>46.0464806652853</li><li>31.7682658260729</li><li>39.0424545064133</li><li>23.5581580750118</li><li>34.0839238154502</li><li>24.3808335915573</li><li>23.2370313178341</li><li>31.4442917273717</li><li>36.2487255940281</li><li>19.7336894793088</li><li>37.1750457122481</li><li>22.8439930319367</li><li>27.501077463019</li><li>39.6819360818006</li><li>50.483772484952</li><li>24.5077647479775</li><li>31.2509672897163</li><li>27.6383548797017</li><li>29.5677160349242</li><li>38.4101802520572</li><li>39.3548577745184</li><li>29.3265822023186</li><li>43.4058337929368</li><li>20.5012105795484</li><li>26.8835057427602</li><li>28.6702323126495</li><li>37.2006740343972</li><li>28.8464689646852</li><li>35.248834411038</li><li>36.1591026594624</li><li>38.9923628431432</li><li>34.63824311198</li><li>38.8664346585295</li><li>22.4217887550771</li><li>27.087033343983</li><li>33.9946113680281</li><li>25.5868336077357</li><li>50.6996054100344</li><li>35.0581282945535</li><li>27.5199635189488</li><li>20.5305123118894</li><li>26.3883927229529</li><li>22.3571599125325</li><li>25.8793981196903</li><li>32.8836060065235</li><li>22.4918955750551</li><li>27.4553192137499</li><li>14.9781019662169</li><li>28.3668964419583</li><li>35.8856169398208</li><li>33.6917759335302</li><li>28.1919381539235</li><li>37.6731843514404</li><li>32.3243691041681</li><li>26.9460760406513</li><li>43.6042817575474</li><li>22.205931351236</li><li>18.0456396165336</li><li>36.0195468379287</li><li>46.1332483402266</li><li>51.0445156017071</li><li>20.8854220134968</li><li>29.8914614889752</li><li>40.0322362061648</li><li>13.3223277944422</li><li>39.267081565002</li><li>33.1661383334223</li><li>33.6307344151907</li><li>21.5101474158704</li><li>29.5409964415718</li><li>36.998070295126</li><li>36.709307047534</li><li>37.4771726317453</li><li>17.3441382637423</li><li>44.5773102292554</li><li>30.8567975434982</li><li>35.8760775188164</li><li>26.5370701461732</li><li>22.0473223918247</li><li>19.9890282971345</li><li>27.0683956194697</li><li>38.1019966782348</li><li>48.4456726671247</li><li>13.401698241844</li><li>26.8044082675088</li><li>17.6582734171205</li><li>19.3071602128392</li><li>32.5468802215283</li><li>20.3555645388867</li><li>22.5512942347672</li><li>43.1356428426846</li><li>31.0929268935561</li><li>31.5632657002152</li><li>24.3906597730199</li><li>43.7753061898822</li><li>22.6091248967861</li><li>34.3133821550298</li><li>39.2595966537371</li><li>20.1495062823555</li><li>21.9201659716757</li><li>26.7836258045383</li><li>32.4634234357133</li><li>31.888528042714</li><li>24.7324745446844</li><li>42.6560944024245</li><li>21.5129878969554</li><li>27.6882437289958</li><li>32.055954346575</li><li>14.7032907218242</li><li>48.8796616886601</li><li>23.2591084068168</li><li>22.7907907456282</li><li>16.2523560058912</li><li>23.2605122034326</li><li>34.1349883767869</li><li>57.4606957538124</li><li>20.4664306649771</li><li>22.8712126267875</li><li>23.5437441566568</li><li>36.5698335661185</li><li>33.3282342441156</li><li>38.2449950120822</li><li>5.21816961347184</li><li>29.4349001754366</li><li>27.2227051516939</li><li>40.4196365476518</li><li>15.0092476640416</li><li>28.9355319535137</li><li>36.035659447167</li><li>17.9917386254935</li><li>33.4761533800723</li><li>38.3975140649887</li><li>20.7873421669978</li><li>30.6675921410364</li><li>28.705515936559</li><li>34.3802796243647</li><li>20.5197318340125</li><li>33.9105139767986</li><li>28.9223562487438</li><li>32.6236088706415</li><li>32.0494528883771</li><li>38.8138447738221</li><li>26.014990083347</li><li>27.3702474978347</li><li>40.685807899044</li><li>23.6215740584285</li><li>15.1614815156564</li><li>28.2413885125068</li><li>40.2731755699761</li><li>12.7819936102751</li><li>21.7713029992116</li><li>21.1652237103392</li><li>42.8704209816118</li><li>16.8771834937016</li><li>24.2837973250597</li><li>41.8402131287979</li><li>13.1379757615289</li><li>16.1239500027477</li><li>22.8560004582763</li><li>54.7686636050139</li><li>23.9319108420962</li><li>27.4150218291563</li><li>17.4529039768852</li><li>33.976630222862</li><li>28.4026285336973</li><li>46.871331127624</li><li>26.3068628115985</li><li>37.8708381981571</li><li>20.7484676149255</li></ol>\n"
            ],
            "text/markdown": "1. 33.7697212493643\n2. 33.0154837393567\n3. 19.019768293464\n4. 18.6959409639622\n5. 2.03465680128238\n6. 37.2057349841159\n7. 39.3912102300901\n8. 27.7062225329253\n9. 47.5913134696347\n10. 31.1736678680285\n11. 21.4687717771299\n12. 39.0925918161821\n13. 41.9637295955276\n14. 26.2841609625865\n15. 28.7673976671256\n16. 48.0004311672545\n17. 47.0399587729432\n18. -0.387646052975938\n19. 7.11025050081217\n20. 30.5830349499292\n21. 51.7436525195634\n22. 40.9818265352131\n23. 33.1822032239085\n24. 29.2685244183623\n25. 38.3426874127883\n26. 31.9875063673343\n27. 42.9784138432631\n28. 39.3671830624135\n29. 28.5256680616671\n30. 31.1043199464013\n31. 21.8749533609949\n32. 22.5629783223125\n33. 40.9534507180741\n34. 54.3537370755095\n35. 33.8811846676708\n36. 32.9062767029513\n37. 27.1440171291607\n38. 30.7601471783737\n39. 24.3970139624037\n40. 34.4718837214336\n41. 39.0850113449994\n42. 24.9494040229166\n43. 26.989959878427\n44. 22.7396402345187\n45. 18.1992297300499\n46. 32.5307471263711\n47. 26.2928870311595\n48. 30.2217956376016\n49. 36.6004412242977\n50. 34.8879363533552\n51. 28.1121008346482\n52. 36.0135952107947\n53. 23.2623994720156\n54. 34.7605024058957\n55. 31.1875322760149\n56. 31.2122628289723\n57. 28.1395320566165\n58. 16.7172881137296\n59. 24.3307704911327\n60. 35.7883393291548\n61. 49.0903723141847\n62. 32.5075704267223\n63. 14.0168494149092\n64. 62.0163174713348\n65. 39.5523537546412\n66. 33.6864461604228\n67. 39.229190675035\n68. 27.9447865428967\n69. 30.9296670054717\n70. 31.6826218023318\n71. 37.9583912528776\n72. 46.4600560721094\n73. 12.8307568364975\n74. 26.8165689405571\n75. 20.9586002801309\n76. 22.9600720333222\n77. 12.2190053816076\n78. 22.7774483737503\n79. 30.4615420955383\n80. 32.4365802068758\n81. 36.2833130578228\n82. 29.7536141772038\n83. 53.1415330907848\n84. 31.7721025726011\n85. 19.7558523325322\n86. 52.7468130126709\n87. 11.1094333508026\n88. 40.9395160103067\n89. 48.4616702732198\n90. 35.2103267352002\n91. 14.6703789235408\n92. 10.6063503072158\n93. 34.8691653810476\n94. 42.4523669065827\n95. 27.8272657366529\n96. 22.204068854987\n97. 33.4887449970746\n98. 36.8172425001586\n99. 24.6853861261833\n100. 23.2260657852662\n101. 12.7121605939021\n102. 20.0873900841044\n103. 24.1449443829827\n104. 33.8352174799264\n105. 37.4666491968316\n106. 20.71579088242\n107. 26.6182370334317\n108. 45.4511401517901\n109. 32.6650887783215\n110. 32.9953393242762\n111. 26.7719798044968\n112. 44.3534743310469\n113. 40.0652720383307\n114. 12.8058636378132\n115. 32.9892046171999\n116. 21.7527436401067\n117. 18.0041016723621\n118. 17.2361288269898\n119. 28.7682193330972\n120. 51.65942198712\n121. 26.8771702509832\n122. 33.6743922509385\n123. 42.6943926051528\n124. 7.35146160851953\n125. 17.1015009044188\n126. 31.8788593813505\n127. 37.5164285520879\n128. 47.8468133578688\n129. 45.0827173622253\n130. 20.4683829145605\n131. 31.0342274036904\n132. 23.9443950217648\n133. 29.023993744963\n134. 28.7655189318989\n135. 19.5532048313106\n136. 29.2512965974178\n137. 47.6013533299962\n138. 15.6788041339784\n139. 56.6220102826044\n140. 17.088084675194\n141. 30.1510177436114\n142. 29.6031942829747\n143. 51.9144032262333\n144. 10.2356245039383\n145. 34.6366566499173\n146. 27.3778784303648\n147. 18.642854939083\n148. 32.1129948126292\n149. 30.9942792781497\n150. -0.56683652359515\n151. 26.5286334643195\n152. 10.5337384173184\n153. 27.8392335372413\n154. 15.5080352149432\n155. 33.4543406073839\n156. 31.8820239366655\n157. 18.7214721703604\n158. 30.5045034301044\n159. 23.1730090835153\n160. 36.4805381700142\n161. 36.1036448657573\n162. 24.8734306662418\n163. 37.5440589068548\n164. 31.8810497236812\n165. 10.7171436895049\n166. 42.3582136018889\n167. 33.2827731342024\n168. 21.4508551074945\n169. 11.0431178358176\n170. 38.466924149816\n171. 42.440251070401\n172. 32.3625995695824\n173. 22.3930646069716\n174. 37.7222095729378\n175. 36.6155675362086\n176. 14.0626663264723\n177. 8.09653085176295\n178. 18.2324604403277\n179. 40.5000512774126\n180. 29.9429692126429\n181. 27.2398767288536\n182. 38.4852129238634\n183. 19.5106534200501\n184. 12.66413662908\n185. 54.141390868032\n186. 28.0435823321786\n187. 39.2678695602728\n188. 22.8653636771501\n189. 17.002582850578\n190. 38.8429640369323\n191. 42.0064152073226\n192. 18.2966022352597\n193. 37.6147188547713\n194. 38.7009023809987\n195. 22.7275728962745\n196. 36.266207288975\n197. 19.0855727190838\n198. 24.839054736605\n199. 30.169339634064\n200. 36.609906888811\n201. ⋯\n202. 34.256697150581\n203. 41.9899575713223\n204. 29.8654183984911\n205. 38.0577946612044\n206. 37.0718075721415\n207. 31.6970258395011\n208. 17.7587322741877\n209. 8.60653310454256\n210. 34.2890672070701\n211. 15.2309910409428\n212. 15.717796172998\n213. 44.2166028063166\n214. 25.7990591100137\n215. 26.3476673457769\n216. 15.3587383388022\n217. 30.0967320309714\n218. 17.381158028113\n219. 56.1557546892638\n220. 36.0585066398594\n221. 32.3741324790926\n222. 42.5979105975697\n223. 31.5616997476928\n224. 31.4463931782171\n225. 8.64107508111347\n226. 43.8000225971493\n227. 13.5428499055065\n228. 26.4937478473808\n229. 27.018799761363\n230. 25.9164826737263\n231. 33.4126556834893\n232. 18.413342501064\n233. 46.0464806652853\n234. 31.7682658260729\n235. 39.0424545064133\n236. 23.5581580750118\n237. 34.0839238154502\n238. 24.3808335915573\n239. 23.2370313178341\n240. 31.4442917273717\n241. 36.2487255940281\n242. 19.7336894793088\n243. 37.1750457122481\n244. 22.8439930319367\n245. 27.501077463019\n246. 39.6819360818006\n247. 50.483772484952\n248. 24.5077647479775\n249. 31.2509672897163\n250. 27.6383548797017\n251. 29.5677160349242\n252. 38.4101802520572\n253. 39.3548577745184\n254. 29.3265822023186\n255. 43.4058337929368\n256. 20.5012105795484\n257. 26.8835057427602\n258. 28.6702323126495\n259. 37.2006740343972\n260. 28.8464689646852\n261. 35.248834411038\n262. 36.1591026594624\n263. 38.9923628431432\n264. 34.63824311198\n265. 38.8664346585295\n266. 22.4217887550771\n267. 27.087033343983\n268. 33.9946113680281\n269. 25.5868336077357\n270. 50.6996054100344\n271. 35.0581282945535\n272. 27.5199635189488\n273. 20.5305123118894\n274. 26.3883927229529\n275. 22.3571599125325\n276. 25.8793981196903\n277. 32.8836060065235\n278. 22.4918955750551\n279. 27.4553192137499\n280. 14.9781019662169\n281. 28.3668964419583\n282. 35.8856169398208\n283. 33.6917759335302\n284. 28.1919381539235\n285. 37.6731843514404\n286. 32.3243691041681\n287. 26.9460760406513\n288. 43.6042817575474\n289. 22.205931351236\n290. 18.0456396165336\n291. 36.0195468379287\n292. 46.1332483402266\n293. 51.0445156017071\n294. 20.8854220134968\n295. 29.8914614889752\n296. 40.0322362061648\n297. 13.3223277944422\n298. 39.267081565002\n299. 33.1661383334223\n300. 33.6307344151907\n301. 21.5101474158704\n302. 29.5409964415718\n303. 36.998070295126\n304. 36.709307047534\n305. 37.4771726317453\n306. 17.3441382637423\n307. 44.5773102292554\n308. 30.8567975434982\n309. 35.8760775188164\n310. 26.5370701461732\n311. 22.0473223918247\n312. 19.9890282971345\n313. 27.0683956194697\n314. 38.1019966782348\n315. 48.4456726671247\n316. 13.401698241844\n317. 26.8044082675088\n318. 17.6582734171205\n319. 19.3071602128392\n320. 32.5468802215283\n321. 20.3555645388867\n322. 22.5512942347672\n323. 43.1356428426846\n324. 31.0929268935561\n325. 31.5632657002152\n326. 24.3906597730199\n327. 43.7753061898822\n328. 22.6091248967861\n329. 34.3133821550298\n330. 39.2595966537371\n331. 20.1495062823555\n332. 21.9201659716757\n333. 26.7836258045383\n334. 32.4634234357133\n335. 31.888528042714\n336. 24.7324745446844\n337. 42.6560944024245\n338. 21.5129878969554\n339. 27.6882437289958\n340. 32.055954346575\n341. 14.7032907218242\n342. 48.8796616886601\n343. 23.2591084068168\n344. 22.7907907456282\n345. 16.2523560058912\n346. 23.2605122034326\n347. 34.1349883767869\n348. 57.4606957538124\n349. 20.4664306649771\n350. 22.8712126267875\n351. 23.5437441566568\n352. 36.5698335661185\n353. 33.3282342441156\n354. 38.2449950120822\n355. 5.21816961347184\n356. 29.4349001754366\n357. 27.2227051516939\n358. 40.4196365476518\n359. 15.0092476640416\n360. 28.9355319535137\n361. 36.035659447167\n362. 17.9917386254935\n363. 33.4761533800723\n364. 38.3975140649887\n365. 20.7873421669978\n366. 30.6675921410364\n367. 28.705515936559\n368. 34.3802796243647\n369. 20.5197318340125\n370. 33.9105139767986\n371. 28.9223562487438\n372. 32.6236088706415\n373. 32.0494528883771\n374. 38.8138447738221\n375. 26.014990083347\n376. 27.3702474978347\n377. 40.685807899044\n378. 23.6215740584285\n379. 15.1614815156564\n380. 28.2413885125068\n381. 40.2731755699761\n382. 12.7819936102751\n383. 21.7713029992116\n384. 21.1652237103392\n385. 42.8704209816118\n386. 16.8771834937016\n387. 24.2837973250597\n388. 41.8402131287979\n389. 13.1379757615289\n390. 16.1239500027477\n391. 22.8560004582763\n392. 54.7686636050139\n393. 23.9319108420962\n394. 27.4150218291563\n395. 17.4529039768852\n396. 33.976630222862\n397. 28.4026285336973\n398. 46.871331127624\n399. 26.3068628115985\n400. 37.8708381981571\n401. 20.7484676149255\n\n\n",
            "text/latex": "\\begin{enumerate*}\n\\item 33.7697212493643\n\\item 33.0154837393567\n\\item 19.019768293464\n\\item 18.6959409639622\n\\item 2.03465680128238\n\\item 37.2057349841159\n\\item 39.3912102300901\n\\item 27.7062225329253\n\\item 47.5913134696347\n\\item 31.1736678680285\n\\item 21.4687717771299\n\\item 39.0925918161821\n\\item 41.9637295955276\n\\item 26.2841609625865\n\\item 28.7673976671256\n\\item 48.0004311672545\n\\item 47.0399587729432\n\\item -0.387646052975938\n\\item 7.11025050081217\n\\item 30.5830349499292\n\\item 51.7436525195634\n\\item 40.9818265352131\n\\item 33.1822032239085\n\\item 29.2685244183623\n\\item 38.3426874127883\n\\item 31.9875063673343\n\\item 42.9784138432631\n\\item 39.3671830624135\n\\item 28.5256680616671\n\\item 31.1043199464013\n\\item 21.8749533609949\n\\item 22.5629783223125\n\\item 40.9534507180741\n\\item 54.3537370755095\n\\item 33.8811846676708\n\\item 32.9062767029513\n\\item 27.1440171291607\n\\item 30.7601471783737\n\\item 24.3970139624037\n\\item 34.4718837214336\n\\item 39.0850113449994\n\\item 24.9494040229166\n\\item 26.989959878427\n\\item 22.7396402345187\n\\item 18.1992297300499\n\\item 32.5307471263711\n\\item 26.2928870311595\n\\item 30.2217956376016\n\\item 36.6004412242977\n\\item 34.8879363533552\n\\item 28.1121008346482\n\\item 36.0135952107947\n\\item 23.2623994720156\n\\item 34.7605024058957\n\\item 31.1875322760149\n\\item 31.2122628289723\n\\item 28.1395320566165\n\\item 16.7172881137296\n\\item 24.3307704911327\n\\item 35.7883393291548\n\\item 49.0903723141847\n\\item 32.5075704267223\n\\item 14.0168494149092\n\\item 62.0163174713348\n\\item 39.5523537546412\n\\item 33.6864461604228\n\\item 39.229190675035\n\\item 27.9447865428967\n\\item 30.9296670054717\n\\item 31.6826218023318\n\\item 37.9583912528776\n\\item 46.4600560721094\n\\item 12.8307568364975\n\\item 26.8165689405571\n\\item 20.9586002801309\n\\item 22.9600720333222\n\\item 12.2190053816076\n\\item 22.7774483737503\n\\item 30.4615420955383\n\\item 32.4365802068758\n\\item 36.2833130578228\n\\item 29.7536141772038\n\\item 53.1415330907848\n\\item 31.7721025726011\n\\item 19.7558523325322\n\\item 52.7468130126709\n\\item 11.1094333508026\n\\item 40.9395160103067\n\\item 48.4616702732198\n\\item 35.2103267352002\n\\item 14.6703789235408\n\\item 10.6063503072158\n\\item 34.8691653810476\n\\item 42.4523669065827\n\\item 27.8272657366529\n\\item 22.204068854987\n\\item 33.4887449970746\n\\item 36.8172425001586\n\\item 24.6853861261833\n\\item 23.2260657852662\n\\item 12.7121605939021\n\\item 20.0873900841044\n\\item 24.1449443829827\n\\item 33.8352174799264\n\\item 37.4666491968316\n\\item 20.71579088242\n\\item 26.6182370334317\n\\item 45.4511401517901\n\\item 32.6650887783215\n\\item 32.9953393242762\n\\item 26.7719798044968\n\\item 44.3534743310469\n\\item 40.0652720383307\n\\item 12.8058636378132\n\\item 32.9892046171999\n\\item 21.7527436401067\n\\item 18.0041016723621\n\\item 17.2361288269898\n\\item 28.7682193330972\n\\item 51.65942198712\n\\item 26.8771702509832\n\\item 33.6743922509385\n\\item 42.6943926051528\n\\item 7.35146160851953\n\\item 17.1015009044188\n\\item 31.8788593813505\n\\item 37.5164285520879\n\\item 47.8468133578688\n\\item 45.0827173622253\n\\item 20.4683829145605\n\\item 31.0342274036904\n\\item 23.9443950217648\n\\item 29.023993744963\n\\item 28.7655189318989\n\\item 19.5532048313106\n\\item 29.2512965974178\n\\item 47.6013533299962\n\\item 15.6788041339784\n\\item 56.6220102826044\n\\item 17.088084675194\n\\item 30.1510177436114\n\\item 29.6031942829747\n\\item 51.9144032262333\n\\item 10.2356245039383\n\\item 34.6366566499173\n\\item 27.3778784303648\n\\item 18.642854939083\n\\item 32.1129948126292\n\\item 30.9942792781497\n\\item -0.56683652359515\n\\item 26.5286334643195\n\\item 10.5337384173184\n\\item 27.8392335372413\n\\item 15.5080352149432\n\\item 33.4543406073839\n\\item 31.8820239366655\n\\item 18.7214721703604\n\\item 30.5045034301044\n\\item 23.1730090835153\n\\item 36.4805381700142\n\\item 36.1036448657573\n\\item 24.8734306662418\n\\item 37.5440589068548\n\\item 31.8810497236812\n\\item 10.7171436895049\n\\item 42.3582136018889\n\\item 33.2827731342024\n\\item 21.4508551074945\n\\item 11.0431178358176\n\\item 38.466924149816\n\\item 42.440251070401\n\\item 32.3625995695824\n\\item 22.3930646069716\n\\item 37.7222095729378\n\\item 36.6155675362086\n\\item 14.0626663264723\n\\item 8.09653085176295\n\\item 18.2324604403277\n\\item 40.5000512774126\n\\item 29.9429692126429\n\\item 27.2398767288536\n\\item 38.4852129238634\n\\item 19.5106534200501\n\\item 12.66413662908\n\\item 54.141390868032\n\\item 28.0435823321786\n\\item 39.2678695602728\n\\item 22.8653636771501\n\\item 17.002582850578\n\\item 38.8429640369323\n\\item 42.0064152073226\n\\item 18.2966022352597\n\\item 37.6147188547713\n\\item 38.7009023809987\n\\item 22.7275728962745\n\\item 36.266207288975\n\\item 19.0855727190838\n\\item 24.839054736605\n\\item 30.169339634064\n\\item 36.609906888811\n\\item ⋯\n\\item 34.256697150581\n\\item 41.9899575713223\n\\item 29.8654183984911\n\\item 38.0577946612044\n\\item 37.0718075721415\n\\item 31.6970258395011\n\\item 17.7587322741877\n\\item 8.60653310454256\n\\item 34.2890672070701\n\\item 15.2309910409428\n\\item 15.717796172998\n\\item 44.2166028063166\n\\item 25.7990591100137\n\\item 26.3476673457769\n\\item 15.3587383388022\n\\item 30.0967320309714\n\\item 17.381158028113\n\\item 56.1557546892638\n\\item 36.0585066398594\n\\item 32.3741324790926\n\\item 42.5979105975697\n\\item 31.5616997476928\n\\item 31.4463931782171\n\\item 8.64107508111347\n\\item 43.8000225971493\n\\item 13.5428499055065\n\\item 26.4937478473808\n\\item 27.018799761363\n\\item 25.9164826737263\n\\item 33.4126556834893\n\\item 18.413342501064\n\\item 46.0464806652853\n\\item 31.7682658260729\n\\item 39.0424545064133\n\\item 23.5581580750118\n\\item 34.0839238154502\n\\item 24.3808335915573\n\\item 23.2370313178341\n\\item 31.4442917273717\n\\item 36.2487255940281\n\\item 19.7336894793088\n\\item 37.1750457122481\n\\item 22.8439930319367\n\\item 27.501077463019\n\\item 39.6819360818006\n\\item 50.483772484952\n\\item 24.5077647479775\n\\item 31.2509672897163\n\\item 27.6383548797017\n\\item 29.5677160349242\n\\item 38.4101802520572\n\\item 39.3548577745184\n\\item 29.3265822023186\n\\item 43.4058337929368\n\\item 20.5012105795484\n\\item 26.8835057427602\n\\item 28.6702323126495\n\\item 37.2006740343972\n\\item 28.8464689646852\n\\item 35.248834411038\n\\item 36.1591026594624\n\\item 38.9923628431432\n\\item 34.63824311198\n\\item 38.8664346585295\n\\item 22.4217887550771\n\\item 27.087033343983\n\\item 33.9946113680281\n\\item 25.5868336077357\n\\item 50.6996054100344\n\\item 35.0581282945535\n\\item 27.5199635189488\n\\item 20.5305123118894\n\\item 26.3883927229529\n\\item 22.3571599125325\n\\item 25.8793981196903\n\\item 32.8836060065235\n\\item 22.4918955750551\n\\item 27.4553192137499\n\\item 14.9781019662169\n\\item 28.3668964419583\n\\item 35.8856169398208\n\\item 33.6917759335302\n\\item 28.1919381539235\n\\item 37.6731843514404\n\\item 32.3243691041681\n\\item 26.9460760406513\n\\item 43.6042817575474\n\\item 22.205931351236\n\\item 18.0456396165336\n\\item 36.0195468379287\n\\item 46.1332483402266\n\\item 51.0445156017071\n\\item 20.8854220134968\n\\item 29.8914614889752\n\\item 40.0322362061648\n\\item 13.3223277944422\n\\item 39.267081565002\n\\item 33.1661383334223\n\\item 33.6307344151907\n\\item 21.5101474158704\n\\item 29.5409964415718\n\\item 36.998070295126\n\\item 36.709307047534\n\\item 37.4771726317453\n\\item 17.3441382637423\n\\item 44.5773102292554\n\\item 30.8567975434982\n\\item 35.8760775188164\n\\item 26.5370701461732\n\\item 22.0473223918247\n\\item 19.9890282971345\n\\item 27.0683956194697\n\\item 38.1019966782348\n\\item 48.4456726671247\n\\item 13.401698241844\n\\item 26.8044082675088\n\\item 17.6582734171205\n\\item 19.3071602128392\n\\item 32.5468802215283\n\\item 20.3555645388867\n\\item 22.5512942347672\n\\item 43.1356428426846\n\\item 31.0929268935561\n\\item 31.5632657002152\n\\item 24.3906597730199\n\\item 43.7753061898822\n\\item 22.6091248967861\n\\item 34.3133821550298\n\\item 39.2595966537371\n\\item 20.1495062823555\n\\item 21.9201659716757\n\\item 26.7836258045383\n\\item 32.4634234357133\n\\item 31.888528042714\n\\item 24.7324745446844\n\\item 42.6560944024245\n\\item 21.5129878969554\n\\item 27.6882437289958\n\\item 32.055954346575\n\\item 14.7032907218242\n\\item 48.8796616886601\n\\item 23.2591084068168\n\\item 22.7907907456282\n\\item 16.2523560058912\n\\item 23.2605122034326\n\\item 34.1349883767869\n\\item 57.4606957538124\n\\item 20.4664306649771\n\\item 22.8712126267875\n\\item 23.5437441566568\n\\item 36.5698335661185\n\\item 33.3282342441156\n\\item 38.2449950120822\n\\item 5.21816961347184\n\\item 29.4349001754366\n\\item 27.2227051516939\n\\item 40.4196365476518\n\\item 15.0092476640416\n\\item 28.9355319535137\n\\item 36.035659447167\n\\item 17.9917386254935\n\\item 33.4761533800723\n\\item 38.3975140649887\n\\item 20.7873421669978\n\\item 30.6675921410364\n\\item 28.705515936559\n\\item 34.3802796243647\n\\item 20.5197318340125\n\\item 33.9105139767986\n\\item 28.9223562487438\n\\item 32.6236088706415\n\\item 32.0494528883771\n\\item 38.8138447738221\n\\item 26.014990083347\n\\item 27.3702474978347\n\\item 40.685807899044\n\\item 23.6215740584285\n\\item 15.1614815156564\n\\item 28.2413885125068\n\\item 40.2731755699761\n\\item 12.7819936102751\n\\item 21.7713029992116\n\\item 21.1652237103392\n\\item 42.8704209816118\n\\item 16.8771834937016\n\\item 24.2837973250597\n\\item 41.8402131287979\n\\item 13.1379757615289\n\\item 16.1239500027477\n\\item 22.8560004582763\n\\item 54.7686636050139\n\\item 23.9319108420962\n\\item 27.4150218291563\n\\item 17.4529039768852\n\\item 33.976630222862\n\\item 28.4026285336973\n\\item 46.871331127624\n\\item 26.3068628115985\n\\item 37.8708381981571\n\\item 20.7484676149255\n\\end{enumerate*}\n",
            "text/plain": [
              "   [1] 33.7697212 33.0154837 19.0197683 18.6959410  2.0346568 37.2057350\n",
              "   [7] 39.3912102 27.7062225 47.5913135 31.1736679 21.4687718 39.0925918\n",
              "  [13] 41.9637296 26.2841610 28.7673977 48.0004312 47.0399588 -0.3876461\n",
              "  [19]  7.1102505 30.5830349 51.7436525 40.9818265 33.1822032 29.2685244\n",
              "  [25] 38.3426874 31.9875064 42.9784138 39.3671831 28.5256681 31.1043199\n",
              "  [31] 21.8749534 22.5629783 40.9534507 54.3537371 33.8811847 32.9062767\n",
              "  [37] 27.1440171 30.7601472 24.3970140 34.4718837 39.0850113 24.9494040\n",
              "  [43] 26.9899599 22.7396402 18.1992297 32.5307471 26.2928870 30.2217956\n",
              "  [49] 36.6004412 34.8879364 28.1121008 36.0135952 23.2623995 34.7605024\n",
              "  [55] 31.1875323 31.2122628 28.1395321 16.7172881 24.3307705 35.7883393\n",
              "  [61] 49.0903723 32.5075704 14.0168494 62.0163175 39.5523538 33.6864462\n",
              "  [67] 39.2291907 27.9447865 30.9296670 31.6826218 37.9583913 46.4600561\n",
              "  [73] 12.8307568 26.8165689 20.9586003 22.9600720 12.2190054 22.7774484\n",
              "  [79] 30.4615421 32.4365802 36.2833131 29.7536142 53.1415331 31.7721026\n",
              "  [85] 19.7558523 52.7468130 11.1094334 40.9395160 48.4616703 35.2103267\n",
              "  [91] 14.6703789 10.6063503 34.8691654 42.4523669 27.8272657 22.2040689\n",
              "  [97] 33.4887450 36.8172425 24.6853861 23.2260658 12.7121606 20.0873901\n",
              " [103] 24.1449444 33.8352175 37.4666492 20.7157909 26.6182370 45.4511402\n",
              " [109] 32.6650888 32.9953393 26.7719798 44.3534743 40.0652720 12.8058636\n",
              " [115] 32.9892046 21.7527436 18.0041017 17.2361288 28.7682193 51.6594220\n",
              " [121] 26.8771703 33.6743923 42.6943926  7.3514616 17.1015009 31.8788594\n",
              " [127] 37.5164286 47.8468134 45.0827174 20.4683829 31.0342274 23.9443950\n",
              " [133] 29.0239937 28.7655189 19.5532048 29.2512966 47.6013533 15.6788041\n",
              " [139] 56.6220103 17.0880847 30.1510177 29.6031943 51.9144032 10.2356245\n",
              " [145] 34.6366566 27.3778784 18.6428549 32.1129948 30.9942793 -0.5668365\n",
              " [151] 26.5286335 10.5337384 27.8392335 15.5080352 33.4543406 31.8820239\n",
              " [157] 18.7214722 30.5045034 23.1730091 36.4805382 36.1036449 24.8734307\n",
              " [163] 37.5440589 31.8810497 10.7171437 42.3582136 33.2827731 21.4508551\n",
              " [169] 11.0431178 38.4669241 42.4402511 32.3625996 22.3930646 37.7222096\n",
              " [175] 36.6155675 14.0626663  8.0965309 18.2324604 40.5000513 29.9429692\n",
              " [181] 27.2398767 38.4852129 19.5106534 12.6641366 54.1413909 28.0435823\n",
              " [187] 39.2678696 22.8653637 17.0025829 38.8429640 42.0064152 18.2966022\n",
              " [193] 37.6147189 38.7009024 22.7275729 36.2662073 19.0855727 24.8390547\n",
              " [199] 30.1693396 36.6099069 22.7046688 38.5137739 26.0350841 34.0667858\n",
              " [205] 19.6144656 17.4411870 41.5702172 40.3867650 29.0476165 19.0170643\n",
              " [211] 35.6035425 27.4697117 52.0709995 22.5695709 34.4635948 31.0569546\n",
              " [217] 19.7986877 39.2395948 18.9415078 24.5625623 35.6432844 15.9993766\n",
              " [223] 28.5974277 28.5572068 22.3197504 36.3824789 41.1871860 34.4585917\n",
              " [229] 10.9184082 29.8602392 35.0631646 34.5035591 13.3747589 46.6981435\n",
              " [235]  3.9358798 37.9756974 34.8669142 36.7935227 31.3836662 46.9497994\n",
              " [241] 30.4444345 30.3186078 55.3644430 45.9598163 31.3251347 27.4951190\n",
              " [247]  9.9213095 44.6711051 26.7188803 22.0546816 29.9803341 23.9408593\n",
              " [253] 45.4331741 18.6976683 17.3101865 22.8501469 42.4399807 31.5262661\n",
              " [259] 34.7886516 37.8620060 19.8558168 13.4054126 28.0404851 35.6055734\n",
              " [265] 28.4022358 16.4133370 14.9654999 29.0272225 39.6726127 26.9864495\n",
              " [271]  5.8478199 17.7424446 23.7508430 20.2435652  6.1328683 52.3358861\n",
              " [277] 38.9184452 32.1918214 21.5525664 16.3866061 31.4786138  2.2335241\n",
              " [283] 37.5779851 21.8492888 40.5023201 26.0746759 30.1055353 39.8254266\n",
              " [289] 38.8205199  8.6949878 -1.1171535 23.8325105 42.5849889 27.7266012\n",
              " [295] 33.2426982 23.0888946 24.7848673 48.2198351 20.4991777 24.2604942\n",
              " [301] 39.1667594 27.7310082 41.8220298 45.2148710 44.3797726 53.2730151\n",
              " [307] 52.1788065 38.4820290 31.0303774 28.2029070 30.6545449 30.3146409\n",
              " [313] 32.3259988 34.2082739 29.3591018 25.5519551 27.7254857 17.8816696\n",
              " [319] 24.9588953 35.0654194 31.2962607 24.9125573 27.0955903 38.0499638\n",
              " [325] 36.9823457 30.4386198  9.9038167 31.0858760 39.0215264 47.2259590\n",
              " [331] 26.7325513 38.0974423 25.2403700 15.3792122  9.3029580 48.4170806\n",
              " [337] 30.4221560 20.2479105 25.7738790 24.9473810 16.7137665 22.4687547\n",
              " [343] 19.6673009 31.0594284 37.2308940 18.9337290 32.2610596 28.4229331\n",
              " [349] 31.4307784 23.5469112 21.2654782 28.4593138 35.6611073 25.6945205\n",
              " [355] 26.8519024 28.9180974 23.2235956  9.5473588 46.5150131 23.4917652\n",
              " [361] 41.0620979  4.4416826 17.7179184 28.7825710 36.8012225 29.3008146\n",
              " [367] 56.0194541 28.5265690 35.0878701 10.8125528 40.0624825 25.9158659\n",
              " [373] 31.9234449 33.8353224 29.7213277 34.6877764 50.6753840 23.5672203\n",
              " [379] 20.3012570 19.1095397 48.9656836 28.6668021 23.6253521 41.4188848\n",
              " [385] 18.8415160 35.7223741 14.0820008 17.6767956 41.8588711 23.7846808\n",
              " [391] 36.3552189 34.4515648 30.1819754 27.5615299 27.4381975 39.5850023\n",
              " [397] 47.7893186 22.7316847 27.8697790 18.8989348 10.5506498 33.2547270\n",
              " [403] 40.4639902 26.2820089 27.4565277 27.2136887 31.8517345  7.3199821\n",
              " [409] 22.9427008 27.9730915 26.2256864 32.9236254 26.5990410 33.1268234\n",
              " [415] 28.1684972 28.8130521 40.8371363 23.5037096 16.3833409 27.2197843\n",
              " [421] 39.1785235 11.1868397 30.8432004 30.4213206 33.6937169 27.1745404\n",
              " [427] 18.1464938 30.0190928 27.0907727 24.4502347 35.3872244 23.9246900\n",
              " [433] 38.2953886 19.7139526 40.0980489 33.2765746 28.3273900 31.6130135\n",
              " [439] 21.2980391 26.6136384 23.0142418 30.4331410 13.4889792 45.5371751\n",
              " [445] 36.2744828 27.1179753 23.8076862 19.5053929 44.6096882 24.7395498\n",
              " [451] 23.9623625 39.5343824 26.7318933 28.2507176 29.3966106 27.0082961\n",
              " [457] 30.6628287 22.1157562 29.6450272 29.8929084 43.3637250 32.1046540\n",
              " [463] 33.0915092 42.6148900 24.5982280 42.3035726 35.4625579 13.6692840\n",
              " [469] 24.4247451 26.4096797 28.6919575 11.7528054 27.3723514 24.9812479\n",
              " [475] 33.2878793 21.8545854 28.8656017 10.9203612 45.6645115 32.0868304\n",
              " [481] 20.5538648 36.8805308 28.2761076 28.2041059 27.7257928 36.6171758\n",
              " [487] 44.1005663 29.4975256 15.3203094 28.7964848 20.6154805 45.4121809\n",
              " [493] 25.4507051 33.8698345 14.3949664 29.8769634 26.3942286 22.0024401\n",
              " [499] 29.9675619 52.9538231 42.0678761 29.7790222 41.9060124 31.0687191\n",
              " [505] 45.4105747 21.2189455 25.7927528  3.3754240 13.6769545 40.0698618\n",
              " [511] 10.3841555 44.4541779 30.4823755 35.7864703 23.0283654 27.5969446\n",
              " [517] 28.7536555 30.8948337 30.2768169 29.4523400 31.0005503 35.1480980\n",
              " [523] 25.1082347 28.6639167 21.2343626 16.7488484 15.2591486 34.1056671\n",
              " [529] 38.0336002 32.6562411 46.3132972 42.2060568 37.1324740 35.3550723\n",
              " [535] 26.8549327 12.9838552 29.4210016 25.7157821 24.2250966 27.3146661\n",
              " [541] 23.8332929 21.9543255 33.2304957 28.5096354 52.1525266 21.5627776\n",
              " [547] 25.8661306 28.8129160 39.0883304 29.4283978 36.7541071 23.2323129\n",
              " [553] 27.1288450 17.4429266 35.8982574 25.6645167 46.6200396 40.0688535\n",
              " [559] 28.0191807 31.7903708 15.7451356 17.7996194 23.9129303 31.0082155\n",
              " [565] 35.2997393 45.4929850 28.7654736 35.9373706 54.4009224 21.9345836\n",
              " [571] 25.0559759 36.0967639 33.9542337 39.1549857 16.9675749 13.6730099\n",
              " [577] 54.5092700 34.5821267 17.1216934 14.7993692 23.3461648 49.2299004\n",
              " [583] 29.7289540 27.4570477 35.2177091 19.3697670 34.1229033 35.1638770\n",
              " [589] 26.2478320 26.7338328  9.6577815 26.4747782 42.1266094 33.4743919\n",
              " [595] 32.1439239 29.7799216 25.1371779 14.3334185 39.3446158 43.1512239\n",
              " [601] 32.3816385 52.0485115 32.3925258 16.4433880 33.4229757 39.8631620\n",
              " [607] 24.5710141 36.6473476 28.3045457 30.2684261 34.8784840 33.3050626\n",
              " [613] 19.1428923 49.2284382 21.5631614 38.4007960 34.4869009 45.4798040\n",
              " [619] 28.4886250 34.4574797 48.0724365 21.5201314 31.2226931 38.7557857\n",
              " [625] 18.8770700 38.0138569 30.6802588 12.1395297 34.6790738 29.2504334\n",
              " [631] 32.5975986 25.0311461 13.0847335 40.7104706 27.4092205 26.5349552\n",
              " [637]  8.8342570 18.7684536 32.6169692 18.2971189 35.2287652 41.1778276\n",
              " [643] 27.8482636 24.5101417 33.8016540 26.6288303 42.9290848 54.9774210\n",
              " [649] 38.1819217 29.8089206 14.7052553 26.5999664 16.1903277 47.7141171\n",
              " [655] 28.1637321 36.7143308 19.7678877 26.0532488 13.6939568 26.6536832\n",
              " [661] 22.6775841 21.3355499 33.1840307  7.3515531 34.3002708 14.0848266\n",
              " [667] 34.8337552 22.9917011 32.9641864 31.9833347 29.0282245 16.8195694\n",
              " [673] 34.3808795 17.2611540 28.4360664 48.4940678 40.9468236 22.4429647\n",
              " [679] 23.0950634 44.5949914 12.0653194 29.1684324 28.0293378 28.8062992\n",
              " [685] 16.7477900 27.4079711 31.6611572 39.9504153 37.5392415 27.8767128\n",
              " [691] 21.2637054 17.8157499 17.3800168 37.4428298 36.0142454 16.2649651\n",
              " [697] 43.2417169 29.5155747 13.2129148 27.6555969 31.6662606 31.4635525\n",
              " [703] 26.0833697 25.6077059 37.1034858 26.9718716 24.1968075 39.7425516\n",
              " [709] 39.5474815 18.3760660 52.9939130 23.3119620 19.6027590 31.4562785\n",
              " [715] 67.0289719 45.9718623 31.3487568 41.8201545 36.2112045 37.3474578\n",
              " [721] 51.7438513 26.0707357 46.5419514 24.6911170 32.5494522 35.4125621\n",
              " [727] 20.6740662 24.6078682 30.0847136 36.7177050 46.2541731 26.4825333\n",
              " [733] 29.0198309 24.6337214 21.9565398 20.4775885 44.7783390 15.7605081\n",
              " [739] 25.7169581 13.7060009 45.1527202 24.3487007 33.1689817 34.1322829\n",
              " [745] 44.8428930 28.1225481 32.6540100 33.4234025 29.3912980 20.7726464\n",
              " [751] 54.0237235 34.3783306 10.9494712 19.0471492 21.0014657 33.9563391\n",
              " [757] 22.0387005 40.0444517 25.8839938 47.1300102 38.2453233 38.1686037\n",
              " [763] 41.6712123 41.4917184 43.2691252 22.7985146 36.3947584 22.4193688\n",
              " [769] -1.6612497 11.8051495 37.9221351 28.7901483 41.9477176 38.2417807\n",
              " [775] 39.5271161 23.4885248 29.2814909 40.5305299 18.7115551 30.4084431\n",
              " [781] 24.4861366 21.9232704 26.6016304 34.5910467  7.2550303 21.8447334\n",
              " [787] 33.6478658 29.5513584 37.3211895 32.0878202 26.3006221 39.1817299\n",
              " [793] 21.6728628 33.0340012 48.7887910 26.3213373 17.0731138 31.8406170\n",
              " [799] 36.0499571 48.6052414 34.2566972 41.9899576 29.8654184 38.0577947\n",
              " [805] 37.0718076 31.6970258 17.7587323  8.6065331 34.2890672 15.2309910\n",
              " [811] 15.7177962 44.2166028 25.7990591 26.3476673 15.3587383 30.0967320\n",
              " [817] 17.3811580 56.1557547 36.0585066 32.3741325 42.5979106 31.5616997\n",
              " [823] 31.4463932  8.6410751 43.8000226 13.5428499 26.4937478 27.0187998\n",
              " [829] 25.9164827 33.4126557 18.4133425 46.0464807 31.7682658 39.0424545\n",
              " [835] 23.5581581 34.0839238 24.3808336 23.2370313 31.4442917 36.2487256\n",
              " [841] 19.7336895 37.1750457 22.8439930 27.5010775 39.6819361 50.4837725\n",
              " [847] 24.5077647 31.2509673 27.6383549 29.5677160 38.4101803 39.3548578\n",
              " [853] 29.3265822 43.4058338 20.5012106 26.8835057 28.6702323 37.2006740\n",
              " [859] 28.8464690 35.2488344 36.1591027 38.9923628 34.6382431 38.8664347\n",
              " [865] 22.4217888 27.0870333 33.9946114 25.5868336 50.6996054 35.0581283\n",
              " [871] 27.5199635 20.5305123 26.3883927 22.3571599 25.8793981 32.8836060\n",
              " [877] 22.4918956 27.4553192 14.9781020 28.3668964 35.8856169 33.6917759\n",
              " [883] 28.1919382 37.6731844 32.3243691 26.9460760 43.6042818 22.2059314\n",
              " [889] 18.0456396 36.0195468 46.1332483 51.0445156 20.8854220 29.8914615\n",
              " [895] 40.0322362 13.3223278 39.2670816 33.1661383 33.6307344 21.5101474\n",
              " [901] 29.5409964 36.9980703 36.7093070 37.4771726 17.3441383 44.5773102\n",
              " [907] 30.8567975 35.8760775 26.5370701 22.0473224 19.9890283 27.0683956\n",
              " [913] 38.1019967 48.4456727 13.4016982 26.8044083 17.6582734 19.3071602\n",
              " [919] 32.5468802 20.3555645 22.5512942 43.1356428 31.0929269 31.5632657\n",
              " [925] 24.3906598 43.7753062 22.6091249 34.3133822 39.2595967 20.1495063\n",
              " [931] 21.9201660 26.7836258 32.4634234 31.8885280 24.7324745 42.6560944\n",
              " [937] 21.5129879 27.6882437 32.0559543 14.7032907 48.8796617 23.2591084\n",
              " [943] 22.7907907 16.2523560 23.2605122 34.1349884 57.4606958 20.4664307\n",
              " [949] 22.8712126 23.5437442 36.5698336 33.3282342 38.2449950  5.2181696\n",
              " [955] 29.4349002 27.2227052 40.4196365 15.0092477 28.9355320 36.0356594\n",
              " [961] 17.9917386 33.4761534 38.3975141 20.7873422 30.6675921 28.7055159\n",
              " [967] 34.3802796 20.5197318 33.9105140 28.9223562 32.6236089 32.0494529\n",
              " [973] 38.8138448 26.0149901 27.3702475 40.6858079 23.6215741 15.1614815\n",
              " [979] 28.2413885 40.2731756 12.7819936 21.7713030 21.1652237 42.8704210\n",
              " [985] 16.8771835 24.2837973 41.8402131 13.1379758 16.1239500 22.8560005\n",
              " [991] 54.7686636 23.9319108 27.4150218 17.4529040 33.9766302 28.4026285\n",
              " [997] 46.8713311 26.3068628 37.8708382 20.7484676"
            ]
          },
          "metadata": {}
        }
      ]
    },
    {
      "cell_type": "code",
      "source": [
        "edades < 20"
      ],
      "metadata": {
        "colab": {
          "base_uri": "https://localhost:8080/",
          "height": 364
        },
        "id": "2lDM3jbMcfxW",
        "outputId": "bc6a60ff-5992-4def-e982-681e640be565"
      },
      "execution_count": 57,
      "outputs": [
        {
          "output_type": "display_data",
          "data": {
            "text/html": [
              "<style>\n",
              ".list-inline {list-style: none; margin:0; padding: 0}\n",
              ".list-inline>li {display: inline-block}\n",
              ".list-inline>li:not(:last-child)::after {content: \"\\00b7\"; padding: 0 .5ex}\n",
              "</style>\n",
              "<ol class=list-inline><li>FALSE</li><li>FALSE</li><li>TRUE</li><li>TRUE</li><li>TRUE</li><li>FALSE</li><li>FALSE</li><li>FALSE</li><li>FALSE</li><li>FALSE</li><li>FALSE</li><li>FALSE</li><li>FALSE</li><li>FALSE</li><li>FALSE</li><li>FALSE</li><li>FALSE</li><li>TRUE</li><li>TRUE</li><li>FALSE</li><li>FALSE</li><li>FALSE</li><li>FALSE</li><li>FALSE</li><li>FALSE</li><li>FALSE</li><li>FALSE</li><li>FALSE</li><li>FALSE</li><li>FALSE</li><li>FALSE</li><li>FALSE</li><li>FALSE</li><li>FALSE</li><li>FALSE</li><li>FALSE</li><li>FALSE</li><li>FALSE</li><li>FALSE</li><li>FALSE</li><li>FALSE</li><li>FALSE</li><li>FALSE</li><li>FALSE</li><li>TRUE</li><li>FALSE</li><li>FALSE</li><li>FALSE</li><li>FALSE</li><li>FALSE</li><li>FALSE</li><li>FALSE</li><li>FALSE</li><li>FALSE</li><li>FALSE</li><li>FALSE</li><li>FALSE</li><li>TRUE</li><li>FALSE</li><li>FALSE</li><li>FALSE</li><li>FALSE</li><li>TRUE</li><li>FALSE</li><li>FALSE</li><li>FALSE</li><li>FALSE</li><li>FALSE</li><li>FALSE</li><li>FALSE</li><li>FALSE</li><li>FALSE</li><li>TRUE</li><li>FALSE</li><li>FALSE</li><li>FALSE</li><li>TRUE</li><li>FALSE</li><li>FALSE</li><li>FALSE</li><li>FALSE</li><li>FALSE</li><li>FALSE</li><li>FALSE</li><li>TRUE</li><li>FALSE</li><li>TRUE</li><li>FALSE</li><li>FALSE</li><li>FALSE</li><li>TRUE</li><li>TRUE</li><li>FALSE</li><li>FALSE</li><li>FALSE</li><li>FALSE</li><li>FALSE</li><li>FALSE</li><li>FALSE</li><li>FALSE</li><li>TRUE</li><li>FALSE</li><li>FALSE</li><li>FALSE</li><li>FALSE</li><li>FALSE</li><li>FALSE</li><li>FALSE</li><li>FALSE</li><li>FALSE</li><li>FALSE</li><li>FALSE</li><li>FALSE</li><li>TRUE</li><li>FALSE</li><li>FALSE</li><li>TRUE</li><li>TRUE</li><li>FALSE</li><li>FALSE</li><li>FALSE</li><li>FALSE</li><li>FALSE</li><li>TRUE</li><li>TRUE</li><li>FALSE</li><li>FALSE</li><li>FALSE</li><li>FALSE</li><li>FALSE</li><li>FALSE</li><li>FALSE</li><li>FALSE</li><li>FALSE</li><li>TRUE</li><li>FALSE</li><li>FALSE</li><li>TRUE</li><li>FALSE</li><li>TRUE</li><li>FALSE</li><li>FALSE</li><li>FALSE</li><li>TRUE</li><li>FALSE</li><li>FALSE</li><li>TRUE</li><li>FALSE</li><li>FALSE</li><li>TRUE</li><li>FALSE</li><li>TRUE</li><li>FALSE</li><li>TRUE</li><li>FALSE</li><li>FALSE</li><li>TRUE</li><li>FALSE</li><li>FALSE</li><li>FALSE</li><li>FALSE</li><li>FALSE</li><li>FALSE</li><li>FALSE</li><li>TRUE</li><li>FALSE</li><li>FALSE</li><li>FALSE</li><li>TRUE</li><li>FALSE</li><li>FALSE</li><li>FALSE</li><li>FALSE</li><li>FALSE</li><li>FALSE</li><li>TRUE</li><li>TRUE</li><li>TRUE</li><li>FALSE</li><li>FALSE</li><li>FALSE</li><li>FALSE</li><li>TRUE</li><li>TRUE</li><li>FALSE</li><li>FALSE</li><li>FALSE</li><li>FALSE</li><li>TRUE</li><li>FALSE</li><li>FALSE</li><li>TRUE</li><li>FALSE</li><li>FALSE</li><li>FALSE</li><li>FALSE</li><li>TRUE</li><li>FALSE</li><li>FALSE</li><li>FALSE</li><li>⋯</li><li>FALSE</li><li>FALSE</li><li>FALSE</li><li>FALSE</li><li>FALSE</li><li>FALSE</li><li>TRUE</li><li>TRUE</li><li>FALSE</li><li>TRUE</li><li>TRUE</li><li>FALSE</li><li>FALSE</li><li>FALSE</li><li>TRUE</li><li>FALSE</li><li>TRUE</li><li>FALSE</li><li>FALSE</li><li>FALSE</li><li>FALSE</li><li>FALSE</li><li>FALSE</li><li>TRUE</li><li>FALSE</li><li>TRUE</li><li>FALSE</li><li>FALSE</li><li>FALSE</li><li>FALSE</li><li>TRUE</li><li>FALSE</li><li>FALSE</li><li>FALSE</li><li>FALSE</li><li>FALSE</li><li>FALSE</li><li>FALSE</li><li>FALSE</li><li>FALSE</li><li>TRUE</li><li>FALSE</li><li>FALSE</li><li>FALSE</li><li>FALSE</li><li>FALSE</li><li>FALSE</li><li>FALSE</li><li>FALSE</li><li>FALSE</li><li>FALSE</li><li>FALSE</li><li>FALSE</li><li>FALSE</li><li>FALSE</li><li>FALSE</li><li>FALSE</li><li>FALSE</li><li>FALSE</li><li>FALSE</li><li>FALSE</li><li>FALSE</li><li>FALSE</li><li>FALSE</li><li>FALSE</li><li>FALSE</li><li>FALSE</li><li>FALSE</li><li>FALSE</li><li>FALSE</li><li>FALSE</li><li>FALSE</li><li>FALSE</li><li>FALSE</li><li>FALSE</li><li>FALSE</li><li>FALSE</li><li>FALSE</li><li>TRUE</li><li>FALSE</li><li>FALSE</li><li>FALSE</li><li>FALSE</li><li>FALSE</li><li>FALSE</li><li>FALSE</li><li>FALSE</li><li>FALSE</li><li>TRUE</li><li>FALSE</li><li>FALSE</li><li>FALSE</li><li>FALSE</li><li>FALSE</li><li>FALSE</li><li>TRUE</li><li>FALSE</li><li>FALSE</li><li>FALSE</li><li>FALSE</li><li>FALSE</li><li>FALSE</li><li>FALSE</li><li>FALSE</li><li>TRUE</li><li>FALSE</li><li>FALSE</li><li>FALSE</li><li>FALSE</li><li>FALSE</li><li>TRUE</li><li>FALSE</li><li>FALSE</li><li>FALSE</li><li>TRUE</li><li>FALSE</li><li>TRUE</li><li>TRUE</li><li>FALSE</li><li>FALSE</li><li>FALSE</li><li>FALSE</li><li>FALSE</li><li>FALSE</li><li>FALSE</li><li>FALSE</li><li>FALSE</li><li>FALSE</li><li>FALSE</li><li>FALSE</li><li>FALSE</li><li>FALSE</li><li>FALSE</li><li>FALSE</li><li>FALSE</li><li>FALSE</li><li>FALSE</li><li>FALSE</li><li>FALSE</li><li>TRUE</li><li>FALSE</li><li>FALSE</li><li>FALSE</li><li>TRUE</li><li>FALSE</li><li>FALSE</li><li>FALSE</li><li>FALSE</li><li>FALSE</li><li>FALSE</li><li>FALSE</li><li>FALSE</li><li>FALSE</li><li>TRUE</li><li>FALSE</li><li>FALSE</li><li>FALSE</li><li>TRUE</li><li>FALSE</li><li>FALSE</li><li>TRUE</li><li>FALSE</li><li>FALSE</li><li>FALSE</li><li>FALSE</li><li>FALSE</li><li>FALSE</li><li>FALSE</li><li>FALSE</li><li>FALSE</li><li>FALSE</li><li>FALSE</li><li>FALSE</li><li>FALSE</li><li>FALSE</li><li>FALSE</li><li>FALSE</li><li>TRUE</li><li>FALSE</li><li>FALSE</li><li>TRUE</li><li>FALSE</li><li>FALSE</li><li>FALSE</li><li>TRUE</li><li>FALSE</li><li>FALSE</li><li>TRUE</li><li>TRUE</li><li>FALSE</li><li>FALSE</li><li>FALSE</li><li>FALSE</li><li>TRUE</li><li>FALSE</li><li>FALSE</li><li>FALSE</li><li>FALSE</li><li>FALSE</li><li>FALSE</li></ol>\n"
            ],
            "text/markdown": "1. FALSE\n2. FALSE\n3. TRUE\n4. TRUE\n5. TRUE\n6. FALSE\n7. FALSE\n8. FALSE\n9. FALSE\n10. FALSE\n11. FALSE\n12. FALSE\n13. FALSE\n14. FALSE\n15. FALSE\n16. FALSE\n17. FALSE\n18. TRUE\n19. TRUE\n20. FALSE\n21. FALSE\n22. FALSE\n23. FALSE\n24. FALSE\n25. FALSE\n26. FALSE\n27. FALSE\n28. FALSE\n29. FALSE\n30. FALSE\n31. FALSE\n32. FALSE\n33. FALSE\n34. FALSE\n35. FALSE\n36. FALSE\n37. FALSE\n38. FALSE\n39. FALSE\n40. FALSE\n41. FALSE\n42. FALSE\n43. FALSE\n44. FALSE\n45. TRUE\n46. FALSE\n47. FALSE\n48. FALSE\n49. FALSE\n50. FALSE\n51. FALSE\n52. FALSE\n53. FALSE\n54. FALSE\n55. FALSE\n56. FALSE\n57. FALSE\n58. TRUE\n59. FALSE\n60. FALSE\n61. FALSE\n62. FALSE\n63. TRUE\n64. FALSE\n65. FALSE\n66. FALSE\n67. FALSE\n68. FALSE\n69. FALSE\n70. FALSE\n71. FALSE\n72. FALSE\n73. TRUE\n74. FALSE\n75. FALSE\n76. FALSE\n77. TRUE\n78. FALSE\n79. FALSE\n80. FALSE\n81. FALSE\n82. FALSE\n83. FALSE\n84. FALSE\n85. TRUE\n86. FALSE\n87. TRUE\n88. FALSE\n89. FALSE\n90. FALSE\n91. TRUE\n92. TRUE\n93. FALSE\n94. FALSE\n95. FALSE\n96. FALSE\n97. FALSE\n98. FALSE\n99. FALSE\n100. FALSE\n101. TRUE\n102. FALSE\n103. FALSE\n104. FALSE\n105. FALSE\n106. FALSE\n107. FALSE\n108. FALSE\n109. FALSE\n110. FALSE\n111. FALSE\n112. FALSE\n113. FALSE\n114. TRUE\n115. FALSE\n116. FALSE\n117. TRUE\n118. TRUE\n119. FALSE\n120. FALSE\n121. FALSE\n122. FALSE\n123. FALSE\n124. TRUE\n125. TRUE\n126. FALSE\n127. FALSE\n128. FALSE\n129. FALSE\n130. FALSE\n131. FALSE\n132. FALSE\n133. FALSE\n134. FALSE\n135. TRUE\n136. FALSE\n137. FALSE\n138. TRUE\n139. FALSE\n140. TRUE\n141. FALSE\n142. FALSE\n143. FALSE\n144. TRUE\n145. FALSE\n146. FALSE\n147. TRUE\n148. FALSE\n149. FALSE\n150. TRUE\n151. FALSE\n152. TRUE\n153. FALSE\n154. TRUE\n155. FALSE\n156. FALSE\n157. TRUE\n158. FALSE\n159. FALSE\n160. FALSE\n161. FALSE\n162. FALSE\n163. FALSE\n164. FALSE\n165. TRUE\n166. FALSE\n167. FALSE\n168. FALSE\n169. TRUE\n170. FALSE\n171. FALSE\n172. FALSE\n173. FALSE\n174. FALSE\n175. FALSE\n176. TRUE\n177. TRUE\n178. TRUE\n179. FALSE\n180. FALSE\n181. FALSE\n182. FALSE\n183. TRUE\n184. TRUE\n185. FALSE\n186. FALSE\n187. FALSE\n188. FALSE\n189. TRUE\n190. FALSE\n191. FALSE\n192. TRUE\n193. FALSE\n194. FALSE\n195. FALSE\n196. FALSE\n197. TRUE\n198. FALSE\n199. FALSE\n200. FALSE\n201. ⋯\n202. FALSE\n203. FALSE\n204. FALSE\n205. FALSE\n206. FALSE\n207. FALSE\n208. TRUE\n209. TRUE\n210. FALSE\n211. TRUE\n212. TRUE\n213. FALSE\n214. FALSE\n215. FALSE\n216. TRUE\n217. FALSE\n218. TRUE\n219. FALSE\n220. FALSE\n221. FALSE\n222. FALSE\n223. FALSE\n224. FALSE\n225. TRUE\n226. FALSE\n227. TRUE\n228. FALSE\n229. FALSE\n230. FALSE\n231. FALSE\n232. TRUE\n233. FALSE\n234. FALSE\n235. FALSE\n236. FALSE\n237. FALSE\n238. FALSE\n239. FALSE\n240. FALSE\n241. FALSE\n242. TRUE\n243. FALSE\n244. FALSE\n245. FALSE\n246. FALSE\n247. FALSE\n248. FALSE\n249. FALSE\n250. FALSE\n251. FALSE\n252. FALSE\n253. FALSE\n254. FALSE\n255. FALSE\n256. FALSE\n257. FALSE\n258. FALSE\n259. FALSE\n260. FALSE\n261. FALSE\n262. FALSE\n263. FALSE\n264. FALSE\n265. FALSE\n266. FALSE\n267. FALSE\n268. FALSE\n269. FALSE\n270. FALSE\n271. FALSE\n272. FALSE\n273. FALSE\n274. FALSE\n275. FALSE\n276. FALSE\n277. FALSE\n278. FALSE\n279. FALSE\n280. TRUE\n281. FALSE\n282. FALSE\n283. FALSE\n284. FALSE\n285. FALSE\n286. FALSE\n287. FALSE\n288. FALSE\n289. FALSE\n290. TRUE\n291. FALSE\n292. FALSE\n293. FALSE\n294. FALSE\n295. FALSE\n296. FALSE\n297. TRUE\n298. FALSE\n299. FALSE\n300. FALSE\n301. FALSE\n302. FALSE\n303. FALSE\n304. FALSE\n305. FALSE\n306. TRUE\n307. FALSE\n308. FALSE\n309. FALSE\n310. FALSE\n311. FALSE\n312. TRUE\n313. FALSE\n314. FALSE\n315. FALSE\n316. TRUE\n317. FALSE\n318. TRUE\n319. TRUE\n320. FALSE\n321. FALSE\n322. FALSE\n323. FALSE\n324. FALSE\n325. FALSE\n326. FALSE\n327. FALSE\n328. FALSE\n329. FALSE\n330. FALSE\n331. FALSE\n332. FALSE\n333. FALSE\n334. FALSE\n335. FALSE\n336. FALSE\n337. FALSE\n338. FALSE\n339. FALSE\n340. FALSE\n341. TRUE\n342. FALSE\n343. FALSE\n344. FALSE\n345. TRUE\n346. FALSE\n347. FALSE\n348. FALSE\n349. FALSE\n350. FALSE\n351. FALSE\n352. FALSE\n353. FALSE\n354. FALSE\n355. TRUE\n356. FALSE\n357. FALSE\n358. FALSE\n359. TRUE\n360. FALSE\n361. FALSE\n362. TRUE\n363. FALSE\n364. FALSE\n365. FALSE\n366. FALSE\n367. FALSE\n368. FALSE\n369. FALSE\n370. FALSE\n371. FALSE\n372. FALSE\n373. FALSE\n374. FALSE\n375. FALSE\n376. FALSE\n377. FALSE\n378. FALSE\n379. TRUE\n380. FALSE\n381. FALSE\n382. TRUE\n383. FALSE\n384. FALSE\n385. FALSE\n386. TRUE\n387. FALSE\n388. FALSE\n389. TRUE\n390. TRUE\n391. FALSE\n392. FALSE\n393. FALSE\n394. FALSE\n395. TRUE\n396. FALSE\n397. FALSE\n398. FALSE\n399. FALSE\n400. FALSE\n401. FALSE\n\n\n",
            "text/latex": "\\begin{enumerate*}\n\\item FALSE\n\\item FALSE\n\\item TRUE\n\\item TRUE\n\\item TRUE\n\\item FALSE\n\\item FALSE\n\\item FALSE\n\\item FALSE\n\\item FALSE\n\\item FALSE\n\\item FALSE\n\\item FALSE\n\\item FALSE\n\\item FALSE\n\\item FALSE\n\\item FALSE\n\\item TRUE\n\\item TRUE\n\\item FALSE\n\\item FALSE\n\\item FALSE\n\\item FALSE\n\\item FALSE\n\\item FALSE\n\\item FALSE\n\\item FALSE\n\\item FALSE\n\\item FALSE\n\\item FALSE\n\\item FALSE\n\\item FALSE\n\\item FALSE\n\\item FALSE\n\\item FALSE\n\\item FALSE\n\\item FALSE\n\\item FALSE\n\\item FALSE\n\\item FALSE\n\\item FALSE\n\\item FALSE\n\\item FALSE\n\\item FALSE\n\\item TRUE\n\\item FALSE\n\\item FALSE\n\\item FALSE\n\\item FALSE\n\\item FALSE\n\\item FALSE\n\\item FALSE\n\\item FALSE\n\\item FALSE\n\\item FALSE\n\\item FALSE\n\\item FALSE\n\\item TRUE\n\\item FALSE\n\\item FALSE\n\\item FALSE\n\\item FALSE\n\\item TRUE\n\\item FALSE\n\\item FALSE\n\\item FALSE\n\\item FALSE\n\\item FALSE\n\\item FALSE\n\\item FALSE\n\\item FALSE\n\\item FALSE\n\\item TRUE\n\\item FALSE\n\\item FALSE\n\\item FALSE\n\\item TRUE\n\\item FALSE\n\\item FALSE\n\\item FALSE\n\\item FALSE\n\\item FALSE\n\\item FALSE\n\\item FALSE\n\\item TRUE\n\\item FALSE\n\\item TRUE\n\\item FALSE\n\\item FALSE\n\\item FALSE\n\\item TRUE\n\\item TRUE\n\\item FALSE\n\\item FALSE\n\\item FALSE\n\\item FALSE\n\\item FALSE\n\\item FALSE\n\\item FALSE\n\\item FALSE\n\\item TRUE\n\\item FALSE\n\\item FALSE\n\\item FALSE\n\\item FALSE\n\\item FALSE\n\\item FALSE\n\\item FALSE\n\\item FALSE\n\\item FALSE\n\\item FALSE\n\\item FALSE\n\\item FALSE\n\\item TRUE\n\\item FALSE\n\\item FALSE\n\\item TRUE\n\\item TRUE\n\\item FALSE\n\\item FALSE\n\\item FALSE\n\\item FALSE\n\\item FALSE\n\\item TRUE\n\\item TRUE\n\\item FALSE\n\\item FALSE\n\\item FALSE\n\\item FALSE\n\\item FALSE\n\\item FALSE\n\\item FALSE\n\\item FALSE\n\\item FALSE\n\\item TRUE\n\\item FALSE\n\\item FALSE\n\\item TRUE\n\\item FALSE\n\\item TRUE\n\\item FALSE\n\\item FALSE\n\\item FALSE\n\\item TRUE\n\\item FALSE\n\\item FALSE\n\\item TRUE\n\\item FALSE\n\\item FALSE\n\\item TRUE\n\\item FALSE\n\\item TRUE\n\\item FALSE\n\\item TRUE\n\\item FALSE\n\\item FALSE\n\\item TRUE\n\\item FALSE\n\\item FALSE\n\\item FALSE\n\\item FALSE\n\\item FALSE\n\\item FALSE\n\\item FALSE\n\\item TRUE\n\\item FALSE\n\\item FALSE\n\\item FALSE\n\\item TRUE\n\\item FALSE\n\\item FALSE\n\\item FALSE\n\\item FALSE\n\\item FALSE\n\\item FALSE\n\\item TRUE\n\\item TRUE\n\\item TRUE\n\\item FALSE\n\\item FALSE\n\\item FALSE\n\\item FALSE\n\\item TRUE\n\\item TRUE\n\\item FALSE\n\\item FALSE\n\\item FALSE\n\\item FALSE\n\\item TRUE\n\\item FALSE\n\\item FALSE\n\\item TRUE\n\\item FALSE\n\\item FALSE\n\\item FALSE\n\\item FALSE\n\\item TRUE\n\\item FALSE\n\\item FALSE\n\\item FALSE\n\\item ⋯\n\\item FALSE\n\\item FALSE\n\\item FALSE\n\\item FALSE\n\\item FALSE\n\\item FALSE\n\\item TRUE\n\\item TRUE\n\\item FALSE\n\\item TRUE\n\\item TRUE\n\\item FALSE\n\\item FALSE\n\\item FALSE\n\\item TRUE\n\\item FALSE\n\\item TRUE\n\\item FALSE\n\\item FALSE\n\\item FALSE\n\\item FALSE\n\\item FALSE\n\\item FALSE\n\\item TRUE\n\\item FALSE\n\\item TRUE\n\\item FALSE\n\\item FALSE\n\\item FALSE\n\\item FALSE\n\\item TRUE\n\\item FALSE\n\\item FALSE\n\\item FALSE\n\\item FALSE\n\\item FALSE\n\\item FALSE\n\\item FALSE\n\\item FALSE\n\\item FALSE\n\\item TRUE\n\\item FALSE\n\\item FALSE\n\\item FALSE\n\\item FALSE\n\\item FALSE\n\\item FALSE\n\\item FALSE\n\\item FALSE\n\\item FALSE\n\\item FALSE\n\\item FALSE\n\\item FALSE\n\\item FALSE\n\\item FALSE\n\\item FALSE\n\\item FALSE\n\\item FALSE\n\\item FALSE\n\\item FALSE\n\\item FALSE\n\\item FALSE\n\\item FALSE\n\\item FALSE\n\\item FALSE\n\\item FALSE\n\\item FALSE\n\\item FALSE\n\\item FALSE\n\\item FALSE\n\\item FALSE\n\\item FALSE\n\\item FALSE\n\\item FALSE\n\\item FALSE\n\\item FALSE\n\\item FALSE\n\\item FALSE\n\\item TRUE\n\\item FALSE\n\\item FALSE\n\\item FALSE\n\\item FALSE\n\\item FALSE\n\\item FALSE\n\\item FALSE\n\\item FALSE\n\\item FALSE\n\\item TRUE\n\\item FALSE\n\\item FALSE\n\\item FALSE\n\\item FALSE\n\\item FALSE\n\\item FALSE\n\\item TRUE\n\\item FALSE\n\\item FALSE\n\\item FALSE\n\\item FALSE\n\\item FALSE\n\\item FALSE\n\\item FALSE\n\\item FALSE\n\\item TRUE\n\\item FALSE\n\\item FALSE\n\\item FALSE\n\\item FALSE\n\\item FALSE\n\\item TRUE\n\\item FALSE\n\\item FALSE\n\\item FALSE\n\\item TRUE\n\\item FALSE\n\\item TRUE\n\\item TRUE\n\\item FALSE\n\\item FALSE\n\\item FALSE\n\\item FALSE\n\\item FALSE\n\\item FALSE\n\\item FALSE\n\\item FALSE\n\\item FALSE\n\\item FALSE\n\\item FALSE\n\\item FALSE\n\\item FALSE\n\\item FALSE\n\\item FALSE\n\\item FALSE\n\\item FALSE\n\\item FALSE\n\\item FALSE\n\\item FALSE\n\\item FALSE\n\\item TRUE\n\\item FALSE\n\\item FALSE\n\\item FALSE\n\\item TRUE\n\\item FALSE\n\\item FALSE\n\\item FALSE\n\\item FALSE\n\\item FALSE\n\\item FALSE\n\\item FALSE\n\\item FALSE\n\\item FALSE\n\\item TRUE\n\\item FALSE\n\\item FALSE\n\\item FALSE\n\\item TRUE\n\\item FALSE\n\\item FALSE\n\\item TRUE\n\\item FALSE\n\\item FALSE\n\\item FALSE\n\\item FALSE\n\\item FALSE\n\\item FALSE\n\\item FALSE\n\\item FALSE\n\\item FALSE\n\\item FALSE\n\\item FALSE\n\\item FALSE\n\\item FALSE\n\\item FALSE\n\\item FALSE\n\\item FALSE\n\\item TRUE\n\\item FALSE\n\\item FALSE\n\\item TRUE\n\\item FALSE\n\\item FALSE\n\\item FALSE\n\\item TRUE\n\\item FALSE\n\\item FALSE\n\\item TRUE\n\\item TRUE\n\\item FALSE\n\\item FALSE\n\\item FALSE\n\\item FALSE\n\\item TRUE\n\\item FALSE\n\\item FALSE\n\\item FALSE\n\\item FALSE\n\\item FALSE\n\\item FALSE\n\\end{enumerate*}\n",
            "text/plain": [
              "   [1] FALSE FALSE  TRUE  TRUE  TRUE FALSE FALSE FALSE FALSE FALSE FALSE FALSE\n",
              "  [13] FALSE FALSE FALSE FALSE FALSE  TRUE  TRUE FALSE FALSE FALSE FALSE FALSE\n",
              "  [25] FALSE FALSE FALSE FALSE FALSE FALSE FALSE FALSE FALSE FALSE FALSE FALSE\n",
              "  [37] FALSE FALSE FALSE FALSE FALSE FALSE FALSE FALSE  TRUE FALSE FALSE FALSE\n",
              "  [49] FALSE FALSE FALSE FALSE FALSE FALSE FALSE FALSE FALSE  TRUE FALSE FALSE\n",
              "  [61] FALSE FALSE  TRUE FALSE FALSE FALSE FALSE FALSE FALSE FALSE FALSE FALSE\n",
              "  [73]  TRUE FALSE FALSE FALSE  TRUE FALSE FALSE FALSE FALSE FALSE FALSE FALSE\n",
              "  [85]  TRUE FALSE  TRUE FALSE FALSE FALSE  TRUE  TRUE FALSE FALSE FALSE FALSE\n",
              "  [97] FALSE FALSE FALSE FALSE  TRUE FALSE FALSE FALSE FALSE FALSE FALSE FALSE\n",
              " [109] FALSE FALSE FALSE FALSE FALSE  TRUE FALSE FALSE  TRUE  TRUE FALSE FALSE\n",
              " [121] FALSE FALSE FALSE  TRUE  TRUE FALSE FALSE FALSE FALSE FALSE FALSE FALSE\n",
              " [133] FALSE FALSE  TRUE FALSE FALSE  TRUE FALSE  TRUE FALSE FALSE FALSE  TRUE\n",
              " [145] FALSE FALSE  TRUE FALSE FALSE  TRUE FALSE  TRUE FALSE  TRUE FALSE FALSE\n",
              " [157]  TRUE FALSE FALSE FALSE FALSE FALSE FALSE FALSE  TRUE FALSE FALSE FALSE\n",
              " [169]  TRUE FALSE FALSE FALSE FALSE FALSE FALSE  TRUE  TRUE  TRUE FALSE FALSE\n",
              " [181] FALSE FALSE  TRUE  TRUE FALSE FALSE FALSE FALSE  TRUE FALSE FALSE  TRUE\n",
              " [193] FALSE FALSE FALSE FALSE  TRUE FALSE FALSE FALSE FALSE FALSE FALSE FALSE\n",
              " [205]  TRUE  TRUE FALSE FALSE FALSE  TRUE FALSE FALSE FALSE FALSE FALSE FALSE\n",
              " [217]  TRUE FALSE  TRUE FALSE FALSE  TRUE FALSE FALSE FALSE FALSE FALSE FALSE\n",
              " [229]  TRUE FALSE FALSE FALSE  TRUE FALSE  TRUE FALSE FALSE FALSE FALSE FALSE\n",
              " [241] FALSE FALSE FALSE FALSE FALSE FALSE  TRUE FALSE FALSE FALSE FALSE FALSE\n",
              " [253] FALSE  TRUE  TRUE FALSE FALSE FALSE FALSE FALSE  TRUE  TRUE FALSE FALSE\n",
              " [265] FALSE  TRUE  TRUE FALSE FALSE FALSE  TRUE  TRUE FALSE FALSE  TRUE FALSE\n",
              " [277] FALSE FALSE FALSE  TRUE FALSE  TRUE FALSE FALSE FALSE FALSE FALSE FALSE\n",
              " [289] FALSE  TRUE  TRUE FALSE FALSE FALSE FALSE FALSE FALSE FALSE FALSE FALSE\n",
              " [301] FALSE FALSE FALSE FALSE FALSE FALSE FALSE FALSE FALSE FALSE FALSE FALSE\n",
              " [313] FALSE FALSE FALSE FALSE FALSE  TRUE FALSE FALSE FALSE FALSE FALSE FALSE\n",
              " [325] FALSE FALSE  TRUE FALSE FALSE FALSE FALSE FALSE FALSE  TRUE  TRUE FALSE\n",
              " [337] FALSE FALSE FALSE FALSE  TRUE FALSE  TRUE FALSE FALSE  TRUE FALSE FALSE\n",
              " [349] FALSE FALSE FALSE FALSE FALSE FALSE FALSE FALSE FALSE  TRUE FALSE FALSE\n",
              " [361] FALSE  TRUE  TRUE FALSE FALSE FALSE FALSE FALSE FALSE  TRUE FALSE FALSE\n",
              " [373] FALSE FALSE FALSE FALSE FALSE FALSE FALSE  TRUE FALSE FALSE FALSE FALSE\n",
              " [385]  TRUE FALSE  TRUE  TRUE FALSE FALSE FALSE FALSE FALSE FALSE FALSE FALSE\n",
              " [397] FALSE FALSE FALSE  TRUE  TRUE FALSE FALSE FALSE FALSE FALSE FALSE  TRUE\n",
              " [409] FALSE FALSE FALSE FALSE FALSE FALSE FALSE FALSE FALSE FALSE  TRUE FALSE\n",
              " [421] FALSE  TRUE FALSE FALSE FALSE FALSE  TRUE FALSE FALSE FALSE FALSE FALSE\n",
              " [433] FALSE  TRUE FALSE FALSE FALSE FALSE FALSE FALSE FALSE FALSE  TRUE FALSE\n",
              " [445] FALSE FALSE FALSE  TRUE FALSE FALSE FALSE FALSE FALSE FALSE FALSE FALSE\n",
              " [457] FALSE FALSE FALSE FALSE FALSE FALSE FALSE FALSE FALSE FALSE FALSE  TRUE\n",
              " [469] FALSE FALSE FALSE  TRUE FALSE FALSE FALSE FALSE FALSE  TRUE FALSE FALSE\n",
              " [481] FALSE FALSE FALSE FALSE FALSE FALSE FALSE FALSE  TRUE FALSE FALSE FALSE\n",
              " [493] FALSE FALSE  TRUE FALSE FALSE FALSE FALSE FALSE FALSE FALSE FALSE FALSE\n",
              " [505] FALSE FALSE FALSE  TRUE  TRUE FALSE  TRUE FALSE FALSE FALSE FALSE FALSE\n",
              " [517] FALSE FALSE FALSE FALSE FALSE FALSE FALSE FALSE FALSE  TRUE  TRUE FALSE\n",
              " [529] FALSE FALSE FALSE FALSE FALSE FALSE FALSE  TRUE FALSE FALSE FALSE FALSE\n",
              " [541] FALSE FALSE FALSE FALSE FALSE FALSE FALSE FALSE FALSE FALSE FALSE FALSE\n",
              " [553] FALSE  TRUE FALSE FALSE FALSE FALSE FALSE FALSE  TRUE  TRUE FALSE FALSE\n",
              " [565] FALSE FALSE FALSE FALSE FALSE FALSE FALSE FALSE FALSE FALSE  TRUE  TRUE\n",
              " [577] FALSE FALSE  TRUE  TRUE FALSE FALSE FALSE FALSE FALSE  TRUE FALSE FALSE\n",
              " [589] FALSE FALSE  TRUE FALSE FALSE FALSE FALSE FALSE FALSE  TRUE FALSE FALSE\n",
              " [601] FALSE FALSE FALSE  TRUE FALSE FALSE FALSE FALSE FALSE FALSE FALSE FALSE\n",
              " [613]  TRUE FALSE FALSE FALSE FALSE FALSE FALSE FALSE FALSE FALSE FALSE FALSE\n",
              " [625]  TRUE FALSE FALSE  TRUE FALSE FALSE FALSE FALSE  TRUE FALSE FALSE FALSE\n",
              " [637]  TRUE  TRUE FALSE  TRUE FALSE FALSE FALSE FALSE FALSE FALSE FALSE FALSE\n",
              " [649] FALSE FALSE  TRUE FALSE  TRUE FALSE FALSE FALSE  TRUE FALSE  TRUE FALSE\n",
              " [661] FALSE FALSE FALSE  TRUE FALSE  TRUE FALSE FALSE FALSE FALSE FALSE  TRUE\n",
              " [673] FALSE  TRUE FALSE FALSE FALSE FALSE FALSE FALSE  TRUE FALSE FALSE FALSE\n",
              " [685]  TRUE FALSE FALSE FALSE FALSE FALSE FALSE  TRUE  TRUE FALSE FALSE  TRUE\n",
              " [697] FALSE FALSE  TRUE FALSE FALSE FALSE FALSE FALSE FALSE FALSE FALSE FALSE\n",
              " [709] FALSE  TRUE FALSE FALSE  TRUE FALSE FALSE FALSE FALSE FALSE FALSE FALSE\n",
              " [721] FALSE FALSE FALSE FALSE FALSE FALSE FALSE FALSE FALSE FALSE FALSE FALSE\n",
              " [733] FALSE FALSE FALSE FALSE FALSE  TRUE FALSE  TRUE FALSE FALSE FALSE FALSE\n",
              " [745] FALSE FALSE FALSE FALSE FALSE FALSE FALSE FALSE  TRUE  TRUE FALSE FALSE\n",
              " [757] FALSE FALSE FALSE FALSE FALSE FALSE FALSE FALSE FALSE FALSE FALSE FALSE\n",
              " [769]  TRUE  TRUE FALSE FALSE FALSE FALSE FALSE FALSE FALSE FALSE  TRUE FALSE\n",
              " [781] FALSE FALSE FALSE FALSE  TRUE FALSE FALSE FALSE FALSE FALSE FALSE FALSE\n",
              " [793] FALSE FALSE FALSE FALSE  TRUE FALSE FALSE FALSE FALSE FALSE FALSE FALSE\n",
              " [805] FALSE FALSE  TRUE  TRUE FALSE  TRUE  TRUE FALSE FALSE FALSE  TRUE FALSE\n",
              " [817]  TRUE FALSE FALSE FALSE FALSE FALSE FALSE  TRUE FALSE  TRUE FALSE FALSE\n",
              " [829] FALSE FALSE  TRUE FALSE FALSE FALSE FALSE FALSE FALSE FALSE FALSE FALSE\n",
              " [841]  TRUE FALSE FALSE FALSE FALSE FALSE FALSE FALSE FALSE FALSE FALSE FALSE\n",
              " [853] FALSE FALSE FALSE FALSE FALSE FALSE FALSE FALSE FALSE FALSE FALSE FALSE\n",
              " [865] FALSE FALSE FALSE FALSE FALSE FALSE FALSE FALSE FALSE FALSE FALSE FALSE\n",
              " [877] FALSE FALSE  TRUE FALSE FALSE FALSE FALSE FALSE FALSE FALSE FALSE FALSE\n",
              " [889]  TRUE FALSE FALSE FALSE FALSE FALSE FALSE  TRUE FALSE FALSE FALSE FALSE\n",
              " [901] FALSE FALSE FALSE FALSE  TRUE FALSE FALSE FALSE FALSE FALSE  TRUE FALSE\n",
              " [913] FALSE FALSE  TRUE FALSE  TRUE  TRUE FALSE FALSE FALSE FALSE FALSE FALSE\n",
              " [925] FALSE FALSE FALSE FALSE FALSE FALSE FALSE FALSE FALSE FALSE FALSE FALSE\n",
              " [937] FALSE FALSE FALSE  TRUE FALSE FALSE FALSE  TRUE FALSE FALSE FALSE FALSE\n",
              " [949] FALSE FALSE FALSE FALSE FALSE  TRUE FALSE FALSE FALSE  TRUE FALSE FALSE\n",
              " [961]  TRUE FALSE FALSE FALSE FALSE FALSE FALSE FALSE FALSE FALSE FALSE FALSE\n",
              " [973] FALSE FALSE FALSE FALSE FALSE  TRUE FALSE FALSE  TRUE FALSE FALSE FALSE\n",
              " [985]  TRUE FALSE FALSE  TRUE  TRUE FALSE FALSE FALSE FALSE  TRUE FALSE FALSE\n",
              " [997] FALSE FALSE FALSE FALSE"
            ]
          },
          "metadata": {}
        }
      ]
    },
    {
      "cell_type": "code",
      "source": [
        "# Buscamos los registros con valores menores a 20\n",
        "edades[edades < 20]"
      ],
      "metadata": {
        "colab": {
          "base_uri": "https://localhost:8080/",
          "height": 399
        },
        "id": "FaJOz55UcZEp",
        "outputId": "e0479349-26af-4e16-be81-a177c6fbbf1c"
      },
      "execution_count": 58,
      "outputs": [
        {
          "output_type": "display_data",
          "data": {
            "text/html": [
              "<style>\n",
              ".list-inline {list-style: none; margin:0; padding: 0}\n",
              ".list-inline>li {display: inline-block}\n",
              ".list-inline>li:not(:last-child)::after {content: \"\\00b7\"; padding: 0 .5ex}\n",
              "</style>\n",
              "<ol class=list-inline><li>19.019768293464</li><li>18.6959409639622</li><li>2.03465680128238</li><li>-0.387646052975938</li><li>7.11025050081217</li><li>18.1992297300499</li><li>16.7172881137296</li><li>14.0168494149092</li><li>12.8307568364975</li><li>12.2190053816076</li><li>19.7558523325322</li><li>11.1094333508026</li><li>14.6703789235408</li><li>10.6063503072158</li><li>12.7121605939021</li><li>12.8058636378132</li><li>18.0041016723621</li><li>17.2361288269898</li><li>7.35146160851953</li><li>17.1015009044188</li><li>19.5532048313106</li><li>15.6788041339784</li><li>17.088084675194</li><li>10.2356245039383</li><li>18.642854939083</li><li>-0.56683652359515</li><li>10.5337384173184</li><li>15.5080352149432</li><li>18.7214721703604</li><li>10.7171436895049</li><li>11.0431178358176</li><li>14.0626663264723</li><li>8.09653085176295</li><li>18.2324604403277</li><li>19.5106534200501</li><li>12.66413662908</li><li>17.002582850578</li><li>18.2966022352597</li><li>19.0855727190838</li><li>19.6144655866669</li><li>17.4411870180718</li><li>19.0170643257587</li><li>19.7986876956417</li><li>18.9415077971891</li><li>15.9993766408733</li><li>10.9184082046964</li><li>13.3747589064155</li><li>3.93587983418217</li><li>9.92130945755984</li><li>18.6976683103131</li><li>17.3101865092103</li><li>19.8558167999825</li><li>13.4054125750635</li><li>16.4133370319706</li><li>14.965499853129</li><li>5.84781994864797</li><li>17.7424445830279</li><li>6.13286833474994</li><li>16.3866061285417</li><li>2.23352410117939</li><li>8.69498781884099</li><li>-1.11715349364533</li><li>17.8816695645809</li><li>9.90381668734535</li><li>15.3792122003877</li><li>9.30295803158589</li><li>16.713766475985</li><li>19.6673008615524</li><li>18.9337289516474</li><li>9.54735877224792</li><li>4.44168259301002</li><li>17.7179184397232</li><li>10.8125527638445</li><li>19.1095396693651</li><li>18.8415160244991</li><li>14.0820007676989</li><li>17.676795606251</li><li>18.8989347760831</li><li>10.5506498404245</li><li>7.3199821085468</li><li>16.3833408648325</li><li>11.1868396961396</li><li>18.1464938304794</li><li>19.7139526287955</li><li>13.4889791808668</li><li>19.5053929254236</li><li>13.6692839951474</li><li>11.7528054234763</li><li>10.9203611996105</li><li>15.3203093781094</li><li>14.3949663665592</li><li>3.37542400346953</li><li>13.6769544544053</li><li>10.3841554966466</li><li>16.7488483928563</li><li>15.2591485930894</li><li>12.9838551855611</li><li>17.4429266275804</li><li>15.7451355953025</li><li>17.7996194457888</li><li>16.9675749476958</li><li>13.6730098922513</li><li>17.1216934209756</li><li>14.7993691967031</li><li>19.3697670168884</li><li>9.65778153853385</li><li>14.3334184500181</li><li>16.44338799704</li><li>19.1428922649097</li><li>18.8770699747753</li><li>12.1395296665675</li><li>13.0847335234747</li><li>8.83425700340624</li><li>18.7684535595287</li><li>18.2971189127688</li><li>14.7052553069716</li><li>16.1903277231842</li><li>19.7678877007536</li><li>13.6939568030304</li><li>7.35155313325046</li><li>14.0848265808563</li><li>16.8195693866345</li><li>17.2611540058721</li><li>12.0653193750055</li><li>16.7477899810453</li><li>17.8157499160243</li><li>17.3800168282053</li><li>16.2649651431929</li><li>13.2129147869919</li><li>18.3760660497552</li><li>19.6027589728409</li><li>15.7605080789727</li><li>13.7060008586386</li><li>10.9494711914948</li><li>19.047149242228</li><li>-1.66124967478796</li><li>11.8051495291721</li><li>18.711555125987</li><li>7.25503030710343</li><li>17.0731138448665</li><li>17.7587322741877</li><li>8.60653310454256</li><li>15.2309910409428</li><li>15.717796172998</li><li>15.3587383388022</li><li>17.381158028113</li><li>8.64107508111347</li><li>13.5428499055065</li><li>18.413342501064</li><li>19.7336894793088</li><li>14.9781019662169</li><li>18.0456396165336</li><li>13.3223277944422</li><li>17.3441382637423</li><li>19.9890282971345</li><li>13.401698241844</li><li>17.6582734171205</li><li>19.3071602128392</li><li>14.7032907218242</li><li>16.2523560058912</li><li>5.21816961347184</li><li>15.0092476640416</li><li>17.9917386254935</li><li>15.1614815156564</li><li>12.7819936102751</li><li>16.8771834937016</li><li>13.1379757615289</li><li>16.1239500027477</li><li>17.4529039768852</li></ol>\n"
            ],
            "text/markdown": "1. 19.019768293464\n2. 18.6959409639622\n3. 2.03465680128238\n4. -0.387646052975938\n5. 7.11025050081217\n6. 18.1992297300499\n7. 16.7172881137296\n8. 14.0168494149092\n9. 12.8307568364975\n10. 12.2190053816076\n11. 19.7558523325322\n12. 11.1094333508026\n13. 14.6703789235408\n14. 10.6063503072158\n15. 12.7121605939021\n16. 12.8058636378132\n17. 18.0041016723621\n18. 17.2361288269898\n19. 7.35146160851953\n20. 17.1015009044188\n21. 19.5532048313106\n22. 15.6788041339784\n23. 17.088084675194\n24. 10.2356245039383\n25. 18.642854939083\n26. -0.56683652359515\n27. 10.5337384173184\n28. 15.5080352149432\n29. 18.7214721703604\n30. 10.7171436895049\n31. 11.0431178358176\n32. 14.0626663264723\n33. 8.09653085176295\n34. 18.2324604403277\n35. 19.5106534200501\n36. 12.66413662908\n37. 17.002582850578\n38. 18.2966022352597\n39. 19.0855727190838\n40. 19.6144655866669\n41. 17.4411870180718\n42. 19.0170643257587\n43. 19.7986876956417\n44. 18.9415077971891\n45. 15.9993766408733\n46. 10.9184082046964\n47. 13.3747589064155\n48. 3.93587983418217\n49. 9.92130945755984\n50. 18.6976683103131\n51. 17.3101865092103\n52. 19.8558167999825\n53. 13.4054125750635\n54. 16.4133370319706\n55. 14.965499853129\n56. 5.84781994864797\n57. 17.7424445830279\n58. 6.13286833474994\n59. 16.3866061285417\n60. 2.23352410117939\n61. 8.69498781884099\n62. -1.11715349364533\n63. 17.8816695645809\n64. 9.90381668734535\n65. 15.3792122003877\n66. 9.30295803158589\n67. 16.713766475985\n68. 19.6673008615524\n69. 18.9337289516474\n70. 9.54735877224792\n71. 4.44168259301002\n72. 17.7179184397232\n73. 10.8125527638445\n74. 19.1095396693651\n75. 18.8415160244991\n76. 14.0820007676989\n77. 17.676795606251\n78. 18.8989347760831\n79. 10.5506498404245\n80. 7.3199821085468\n81. 16.3833408648325\n82. 11.1868396961396\n83. 18.1464938304794\n84. 19.7139526287955\n85. 13.4889791808668\n86. 19.5053929254236\n87. 13.6692839951474\n88. 11.7528054234763\n89. 10.9203611996105\n90. 15.3203093781094\n91. 14.3949663665592\n92. 3.37542400346953\n93. 13.6769544544053\n94. 10.3841554966466\n95. 16.7488483928563\n96. 15.2591485930894\n97. 12.9838551855611\n98. 17.4429266275804\n99. 15.7451355953025\n100. 17.7996194457888\n101. 16.9675749476958\n102. 13.6730098922513\n103. 17.1216934209756\n104. 14.7993691967031\n105. 19.3697670168884\n106. 9.65778153853385\n107. 14.3334184500181\n108. 16.44338799704\n109. 19.1428922649097\n110. 18.8770699747753\n111. 12.1395296665675\n112. 13.0847335234747\n113. 8.83425700340624\n114. 18.7684535595287\n115. 18.2971189127688\n116. 14.7052553069716\n117. 16.1903277231842\n118. 19.7678877007536\n119. 13.6939568030304\n120. 7.35155313325046\n121. 14.0848265808563\n122. 16.8195693866345\n123. 17.2611540058721\n124. 12.0653193750055\n125. 16.7477899810453\n126. 17.8157499160243\n127. 17.3800168282053\n128. 16.2649651431929\n129. 13.2129147869919\n130. 18.3760660497552\n131. 19.6027589728409\n132. 15.7605080789727\n133. 13.7060008586386\n134. 10.9494711914948\n135. 19.047149242228\n136. -1.66124967478796\n137. 11.8051495291721\n138. 18.711555125987\n139. 7.25503030710343\n140. 17.0731138448665\n141. 17.7587322741877\n142. 8.60653310454256\n143. 15.2309910409428\n144. 15.717796172998\n145. 15.3587383388022\n146. 17.381158028113\n147. 8.64107508111347\n148. 13.5428499055065\n149. 18.413342501064\n150. 19.7336894793088\n151. 14.9781019662169\n152. 18.0456396165336\n153. 13.3223277944422\n154. 17.3441382637423\n155. 19.9890282971345\n156. 13.401698241844\n157. 17.6582734171205\n158. 19.3071602128392\n159. 14.7032907218242\n160. 16.2523560058912\n161. 5.21816961347184\n162. 15.0092476640416\n163. 17.9917386254935\n164. 15.1614815156564\n165. 12.7819936102751\n166. 16.8771834937016\n167. 13.1379757615289\n168. 16.1239500027477\n169. 17.4529039768852\n\n\n",
            "text/latex": "\\begin{enumerate*}\n\\item 19.019768293464\n\\item 18.6959409639622\n\\item 2.03465680128238\n\\item -0.387646052975938\n\\item 7.11025050081217\n\\item 18.1992297300499\n\\item 16.7172881137296\n\\item 14.0168494149092\n\\item 12.8307568364975\n\\item 12.2190053816076\n\\item 19.7558523325322\n\\item 11.1094333508026\n\\item 14.6703789235408\n\\item 10.6063503072158\n\\item 12.7121605939021\n\\item 12.8058636378132\n\\item 18.0041016723621\n\\item 17.2361288269898\n\\item 7.35146160851953\n\\item 17.1015009044188\n\\item 19.5532048313106\n\\item 15.6788041339784\n\\item 17.088084675194\n\\item 10.2356245039383\n\\item 18.642854939083\n\\item -0.56683652359515\n\\item 10.5337384173184\n\\item 15.5080352149432\n\\item 18.7214721703604\n\\item 10.7171436895049\n\\item 11.0431178358176\n\\item 14.0626663264723\n\\item 8.09653085176295\n\\item 18.2324604403277\n\\item 19.5106534200501\n\\item 12.66413662908\n\\item 17.002582850578\n\\item 18.2966022352597\n\\item 19.0855727190838\n\\item 19.6144655866669\n\\item 17.4411870180718\n\\item 19.0170643257587\n\\item 19.7986876956417\n\\item 18.9415077971891\n\\item 15.9993766408733\n\\item 10.9184082046964\n\\item 13.3747589064155\n\\item 3.93587983418217\n\\item 9.92130945755984\n\\item 18.6976683103131\n\\item 17.3101865092103\n\\item 19.8558167999825\n\\item 13.4054125750635\n\\item 16.4133370319706\n\\item 14.965499853129\n\\item 5.84781994864797\n\\item 17.7424445830279\n\\item 6.13286833474994\n\\item 16.3866061285417\n\\item 2.23352410117939\n\\item 8.69498781884099\n\\item -1.11715349364533\n\\item 17.8816695645809\n\\item 9.90381668734535\n\\item 15.3792122003877\n\\item 9.30295803158589\n\\item 16.713766475985\n\\item 19.6673008615524\n\\item 18.9337289516474\n\\item 9.54735877224792\n\\item 4.44168259301002\n\\item 17.7179184397232\n\\item 10.8125527638445\n\\item 19.1095396693651\n\\item 18.8415160244991\n\\item 14.0820007676989\n\\item 17.676795606251\n\\item 18.8989347760831\n\\item 10.5506498404245\n\\item 7.3199821085468\n\\item 16.3833408648325\n\\item 11.1868396961396\n\\item 18.1464938304794\n\\item 19.7139526287955\n\\item 13.4889791808668\n\\item 19.5053929254236\n\\item 13.6692839951474\n\\item 11.7528054234763\n\\item 10.9203611996105\n\\item 15.3203093781094\n\\item 14.3949663665592\n\\item 3.37542400346953\n\\item 13.6769544544053\n\\item 10.3841554966466\n\\item 16.7488483928563\n\\item 15.2591485930894\n\\item 12.9838551855611\n\\item 17.4429266275804\n\\item 15.7451355953025\n\\item 17.7996194457888\n\\item 16.9675749476958\n\\item 13.6730098922513\n\\item 17.1216934209756\n\\item 14.7993691967031\n\\item 19.3697670168884\n\\item 9.65778153853385\n\\item 14.3334184500181\n\\item 16.44338799704\n\\item 19.1428922649097\n\\item 18.8770699747753\n\\item 12.1395296665675\n\\item 13.0847335234747\n\\item 8.83425700340624\n\\item 18.7684535595287\n\\item 18.2971189127688\n\\item 14.7052553069716\n\\item 16.1903277231842\n\\item 19.7678877007536\n\\item 13.6939568030304\n\\item 7.35155313325046\n\\item 14.0848265808563\n\\item 16.8195693866345\n\\item 17.2611540058721\n\\item 12.0653193750055\n\\item 16.7477899810453\n\\item 17.8157499160243\n\\item 17.3800168282053\n\\item 16.2649651431929\n\\item 13.2129147869919\n\\item 18.3760660497552\n\\item 19.6027589728409\n\\item 15.7605080789727\n\\item 13.7060008586386\n\\item 10.9494711914948\n\\item 19.047149242228\n\\item -1.66124967478796\n\\item 11.8051495291721\n\\item 18.711555125987\n\\item 7.25503030710343\n\\item 17.0731138448665\n\\item 17.7587322741877\n\\item 8.60653310454256\n\\item 15.2309910409428\n\\item 15.717796172998\n\\item 15.3587383388022\n\\item 17.381158028113\n\\item 8.64107508111347\n\\item 13.5428499055065\n\\item 18.413342501064\n\\item 19.7336894793088\n\\item 14.9781019662169\n\\item 18.0456396165336\n\\item 13.3223277944422\n\\item 17.3441382637423\n\\item 19.9890282971345\n\\item 13.401698241844\n\\item 17.6582734171205\n\\item 19.3071602128392\n\\item 14.7032907218242\n\\item 16.2523560058912\n\\item 5.21816961347184\n\\item 15.0092476640416\n\\item 17.9917386254935\n\\item 15.1614815156564\n\\item 12.7819936102751\n\\item 16.8771834937016\n\\item 13.1379757615289\n\\item 16.1239500027477\n\\item 17.4529039768852\n\\end{enumerate*}\n",
            "text/plain": [
              "  [1] 19.0197683 18.6959410  2.0346568 -0.3876461  7.1102505 18.1992297\n",
              "  [7] 16.7172881 14.0168494 12.8307568 12.2190054 19.7558523 11.1094334\n",
              " [13] 14.6703789 10.6063503 12.7121606 12.8058636 18.0041017 17.2361288\n",
              " [19]  7.3514616 17.1015009 19.5532048 15.6788041 17.0880847 10.2356245\n",
              " [25] 18.6428549 -0.5668365 10.5337384 15.5080352 18.7214722 10.7171437\n",
              " [31] 11.0431178 14.0626663  8.0965309 18.2324604 19.5106534 12.6641366\n",
              " [37] 17.0025829 18.2966022 19.0855727 19.6144656 17.4411870 19.0170643\n",
              " [43] 19.7986877 18.9415078 15.9993766 10.9184082 13.3747589  3.9358798\n",
              " [49]  9.9213095 18.6976683 17.3101865 19.8558168 13.4054126 16.4133370\n",
              " [55] 14.9654999  5.8478199 17.7424446  6.1328683 16.3866061  2.2335241\n",
              " [61]  8.6949878 -1.1171535 17.8816696  9.9038167 15.3792122  9.3029580\n",
              " [67] 16.7137665 19.6673009 18.9337290  9.5473588  4.4416826 17.7179184\n",
              " [73] 10.8125528 19.1095397 18.8415160 14.0820008 17.6767956 18.8989348\n",
              " [79] 10.5506498  7.3199821 16.3833409 11.1868397 18.1464938 19.7139526\n",
              " [85] 13.4889792 19.5053929 13.6692840 11.7528054 10.9203612 15.3203094\n",
              " [91] 14.3949664  3.3754240 13.6769545 10.3841555 16.7488484 15.2591486\n",
              " [97] 12.9838552 17.4429266 15.7451356 17.7996194 16.9675749 13.6730099\n",
              "[103] 17.1216934 14.7993692 19.3697670  9.6577815 14.3334185 16.4433880\n",
              "[109] 19.1428923 18.8770700 12.1395297 13.0847335  8.8342570 18.7684536\n",
              "[115] 18.2971189 14.7052553 16.1903277 19.7678877 13.6939568  7.3515531\n",
              "[121] 14.0848266 16.8195694 17.2611540 12.0653194 16.7477900 17.8157499\n",
              "[127] 17.3800168 16.2649651 13.2129148 18.3760660 19.6027590 15.7605081\n",
              "[133] 13.7060009 10.9494712 19.0471492 -1.6612497 11.8051495 18.7115551\n",
              "[139]  7.2550303 17.0731138 17.7587323  8.6065331 15.2309910 15.7177962\n",
              "[145] 15.3587383 17.3811580  8.6410751 13.5428499 18.4133425 19.7336895\n",
              "[151] 14.9781020 18.0456396 13.3223278 17.3441383 19.9890283 13.4016982\n",
              "[157] 17.6582734 19.3071602 14.7032907 16.2523560  5.2181696 15.0092477\n",
              "[163] 17.9917386 15.1614815 12.7819936 16.8771835 13.1379758 16.1239500\n",
              "[169] 17.4529040"
            ]
          },
          "metadata": {}
        }
      ]
    },
    {
      "cell_type": "code",
      "source": [
        "edades_menores <- edades[edades < 20]"
      ],
      "metadata": {
        "id": "nV60foYMdIqV"
      },
      "execution_count": 59,
      "outputs": []
    },
    {
      "cell_type": "code",
      "source": [
        "#¿cuàntos registros cumplen la condición?\n",
        "length(edades_menores)\n",
        "sum(c(T,T,F))\n",
        "sum(edades < 20)"
      ],
      "metadata": {
        "colab": {
          "base_uri": "https://localhost:8080/",
          "height": 69
        },
        "id": "3T3zrYj3clJW",
        "outputId": "ec5a0da6-09ae-4475-c003-cf97d34511aa"
      },
      "execution_count": 60,
      "outputs": [
        {
          "output_type": "display_data",
          "data": {
            "text/html": [
              "169"
            ],
            "text/markdown": "169",
            "text/latex": "169",
            "text/plain": [
              "[1] 169"
            ]
          },
          "metadata": {}
        },
        {
          "output_type": "display_data",
          "data": {
            "text/html": [
              "2"
            ],
            "text/markdown": "2",
            "text/latex": "2",
            "text/plain": [
              "[1] 2"
            ]
          },
          "metadata": {}
        },
        {
          "output_type": "display_data",
          "data": {
            "text/html": [
              "169"
            ],
            "text/markdown": "169",
            "text/latex": "169",
            "text/plain": [
              "[1] 169"
            ]
          },
          "metadata": {}
        }
      ]
    },
    {
      "cell_type": "code",
      "metadata": {
        "id": "fvq5tBXVIgvm",
        "colab": {
          "base_uri": "https://localhost:8080/",
          "height": 86
        },
        "outputId": "e0631e5f-1c36-4b03-c38a-c633023ee1cd"
      },
      "source": [
        "# podríamos guardar el vector de T o F's en una variable para luego referenciarla\n",
        "ind_edades <- edades >= 50\n",
        "edades[ind_edades]"
      ],
      "execution_count": 61,
      "outputs": [
        {
          "output_type": "display_data",
          "data": {
            "text/html": [
              "<style>\n",
              ".list-inline {list-style: none; margin:0; padding: 0}\n",
              ".list-inline>li {display: inline-block}\n",
              ".list-inline>li:not(:last-child)::after {content: \"\\00b7\"; padding: 0 .5ex}\n",
              "</style>\n",
              "<ol class=list-inline><li>51.7436525195634</li><li>54.3537370755095</li><li>62.0163174713348</li><li>53.1415330907848</li><li>52.7468130126709</li><li>51.65942198712</li><li>56.6220102826044</li><li>51.9144032262333</li><li>54.141390868032</li><li>52.0709994901934</li><li>55.3644430204527</li><li>52.3358861339317</li><li>53.2730150918775</li><li>52.178806526851</li><li>56.0194541128938</li><li>50.6753839791582</li><li>52.9538231184331</li><li>52.1525265505284</li><li>54.4009223848198</li><li>54.5092699645</li><li>52.0485115211014</li><li>54.9774210427389</li><li>52.9939130160626</li><li>67.0289718936949</li><li>51.7438512587792</li><li>54.0237234578046</li><li>56.1557546892638</li><li>50.483772484952</li><li>50.6996054100344</li><li>51.0445156017071</li><li>57.4606957538124</li><li>54.7686636050139</li></ol>\n"
            ],
            "text/markdown": "1. 51.7436525195634\n2. 54.3537370755095\n3. 62.0163174713348\n4. 53.1415330907848\n5. 52.7468130126709\n6. 51.65942198712\n7. 56.6220102826044\n8. 51.9144032262333\n9. 54.141390868032\n10. 52.0709994901934\n11. 55.3644430204527\n12. 52.3358861339317\n13. 53.2730150918775\n14. 52.178806526851\n15. 56.0194541128938\n16. 50.6753839791582\n17. 52.9538231184331\n18. 52.1525265505284\n19. 54.4009223848198\n20. 54.5092699645\n21. 52.0485115211014\n22. 54.9774210427389\n23. 52.9939130160626\n24. 67.0289718936949\n25. 51.7438512587792\n26. 54.0237234578046\n27. 56.1557546892638\n28. 50.483772484952\n29. 50.6996054100344\n30. 51.0445156017071\n31. 57.4606957538124\n32. 54.7686636050139\n\n\n",
            "text/latex": "\\begin{enumerate*}\n\\item 51.7436525195634\n\\item 54.3537370755095\n\\item 62.0163174713348\n\\item 53.1415330907848\n\\item 52.7468130126709\n\\item 51.65942198712\n\\item 56.6220102826044\n\\item 51.9144032262333\n\\item 54.141390868032\n\\item 52.0709994901934\n\\item 55.3644430204527\n\\item 52.3358861339317\n\\item 53.2730150918775\n\\item 52.178806526851\n\\item 56.0194541128938\n\\item 50.6753839791582\n\\item 52.9538231184331\n\\item 52.1525265505284\n\\item 54.4009223848198\n\\item 54.5092699645\n\\item 52.0485115211014\n\\item 54.9774210427389\n\\item 52.9939130160626\n\\item 67.0289718936949\n\\item 51.7438512587792\n\\item 54.0237234578046\n\\item 56.1557546892638\n\\item 50.483772484952\n\\item 50.6996054100344\n\\item 51.0445156017071\n\\item 57.4606957538124\n\\item 54.7686636050139\n\\end{enumerate*}\n",
            "text/plain": [
              " [1] 51.74365 54.35374 62.01632 53.14153 52.74681 51.65942 56.62201 51.91440\n",
              " [9] 54.14139 52.07100 55.36444 52.33589 53.27302 52.17881 56.01945 50.67538\n",
              "[17] 52.95382 52.15253 54.40092 54.50927 52.04851 54.97742 52.99391 67.02897\n",
              "[25] 51.74385 54.02372 56.15575 50.48377 50.69961 51.04452 57.46070 54.76866"
            ]
          },
          "metadata": {}
        }
      ]
    },
    {
      "cell_type": "code",
      "source": [
        "#which() # Recibe un vector de T y F's. Retorna las posiciones del vector donde hay T\n",
        "\n",
        "which(c(F,T,F,T))"
      ],
      "metadata": {
        "colab": {
          "base_uri": "https://localhost:8080/",
          "height": 34
        },
        "id": "HuLD1RZfeiy6",
        "outputId": "36e69b1e-540d-4b4e-ae51-9fa1daef47dd"
      },
      "execution_count": 48,
      "outputs": [
        {
          "output_type": "display_data",
          "data": {
            "text/html": [
              "<style>\n",
              ".list-inline {list-style: none; margin:0; padding: 0}\n",
              ".list-inline>li {display: inline-block}\n",
              ".list-inline>li:not(:last-child)::after {content: \"\\00b7\"; padding: 0 .5ex}\n",
              "</style>\n",
              "<ol class=list-inline><li>2</li><li>4</li></ol>\n"
            ],
            "text/markdown": "1. 2\n2. 4\n\n\n",
            "text/latex": "\\begin{enumerate*}\n\\item 2\n\\item 4\n\\end{enumerate*}\n",
            "text/plain": [
              "[1] 2 4"
            ]
          },
          "metadata": {}
        }
      ]
    },
    {
      "cell_type": "code",
      "source": [
        "which(edades >= 50) # Posiciones donde edades es mayor o igual a 50."
      ],
      "metadata": {
        "colab": {
          "base_uri": "https://localhost:8080/",
          "height": 34
        },
        "id": "J3Nd6xzuevGj",
        "outputId": "4beb0a3b-937e-448f-ca07-70f295574194"
      },
      "execution_count": 62,
      "outputs": [
        {
          "output_type": "display_data",
          "data": {
            "text/html": [
              "<style>\n",
              ".list-inline {list-style: none; margin:0; padding: 0}\n",
              ".list-inline>li {display: inline-block}\n",
              ".list-inline>li:not(:last-child)::after {content: \"\\00b7\"; padding: 0 .5ex}\n",
              "</style>\n",
              "<ol class=list-inline><li>21</li><li>34</li><li>64</li><li>83</li><li>86</li><li>120</li><li>139</li><li>143</li><li>185</li><li>213</li><li>243</li><li>276</li><li>306</li><li>307</li><li>367</li><li>377</li><li>500</li><li>545</li><li>569</li><li>577</li><li>602</li><li>648</li><li>711</li><li>715</li><li>721</li><li>751</li><li>818</li><li>846</li><li>869</li><li>892</li><li>947</li><li>991</li></ol>\n"
            ],
            "text/markdown": "1. 21\n2. 34\n3. 64\n4. 83\n5. 86\n6. 120\n7. 139\n8. 143\n9. 185\n10. 213\n11. 243\n12. 276\n13. 306\n14. 307\n15. 367\n16. 377\n17. 500\n18. 545\n19. 569\n20. 577\n21. 602\n22. 648\n23. 711\n24. 715\n25. 721\n26. 751\n27. 818\n28. 846\n29. 869\n30. 892\n31. 947\n32. 991\n\n\n",
            "text/latex": "\\begin{enumerate*}\n\\item 21\n\\item 34\n\\item 64\n\\item 83\n\\item 86\n\\item 120\n\\item 139\n\\item 143\n\\item 185\n\\item 213\n\\item 243\n\\item 276\n\\item 306\n\\item 307\n\\item 367\n\\item 377\n\\item 500\n\\item 545\n\\item 569\n\\item 577\n\\item 602\n\\item 648\n\\item 711\n\\item 715\n\\item 721\n\\item 751\n\\item 818\n\\item 846\n\\item 869\n\\item 892\n\\item 947\n\\item 991\n\\end{enumerate*}\n",
            "text/plain": [
              " [1]  21  34  64  83  86 120 139 143 185 213 243 276 306 307 367 377 500 545 569\n",
              "[20] 577 602 648 711 715 721 751 818 846 869 892 947 991"
            ]
          },
          "metadata": {}
        }
      ]
    },
    {
      "cell_type": "code",
      "metadata": {
        "id": "ioUJy8UEIgvz",
        "colab": {
          "base_uri": "https://localhost:8080/",
          "height": 52
        },
        "outputId": "9b196c11-9b55-42a7-f64f-278727d7b41d"
      },
      "source": [
        "#?which.max/min\n",
        "#podemos rescatar el valor mediante el índice guardado\n",
        "which.max(edades)# Retorna la posición donde se alcanza el primer máximo\n",
        "edades[which.max(edades)]\n"
      ],
      "execution_count": 65,
      "outputs": [
        {
          "output_type": "display_data",
          "data": {
            "text/html": [
              "715"
            ],
            "text/markdown": "715",
            "text/latex": "715",
            "text/plain": [
              "[1] 715"
            ]
          },
          "metadata": {}
        },
        {
          "output_type": "display_data",
          "data": {
            "text/html": [
              "67.0289718936949"
            ],
            "text/markdown": "67.0289718936949",
            "text/latex": "67.0289718936949",
            "text/plain": [
              "[1] 67.02897"
            ]
          },
          "metadata": {}
        }
      ]
    },
    {
      "cell_type": "code",
      "source": [
        "#validar\n",
        "max(edades)"
      ],
      "metadata": {
        "colab": {
          "base_uri": "https://localhost:8080/",
          "height": 34
        },
        "id": "45SZ58xngMOn",
        "outputId": "1f00199d-11b1-441f-cfc9-80f29dcb7898"
      },
      "execution_count": 69,
      "outputs": [
        {
          "output_type": "display_data",
          "data": {
            "text/html": [
              "67.0289718936949"
            ],
            "text/markdown": "67.0289718936949",
            "text/latex": "67.0289718936949",
            "text/plain": [
              "[1] 67.02897"
            ]
          },
          "metadata": {}
        }
      ]
    },
    {
      "cell_type": "code",
      "source": [
        "#NOTA:\n",
        "x <- c(1,6,2,6,0)\n",
        "which.max(x)"
      ],
      "metadata": {
        "colab": {
          "base_uri": "https://localhost:8080/",
          "height": 34
        },
        "id": "yeUxkwkbf0PN",
        "outputId": "38e8a6ed-2fb3-443d-c912-d6f67693728f"
      },
      "execution_count": 67,
      "outputs": [
        {
          "output_type": "display_data",
          "data": {
            "text/html": [
              "2"
            ],
            "text/markdown": "2",
            "text/latex": "2",
            "text/plain": [
              "[1] 2"
            ]
          },
          "metadata": {}
        }
      ]
    },
    {
      "cell_type": "code",
      "source": [
        "#NOTA:\n",
        "max(x)"
      ],
      "metadata": {
        "colab": {
          "base_uri": "https://localhost:8080/",
          "height": 34
        },
        "id": "pAuGWHUTgCLY",
        "outputId": "528ab3e0-81e6-46fb-fd02-ac22db5e8c33"
      },
      "execution_count": 68,
      "outputs": [
        {
          "output_type": "display_data",
          "data": {
            "text/html": [
              "6"
            ],
            "text/markdown": "6",
            "text/latex": "6",
            "text/plain": [
              "[1] 6"
            ]
          },
          "metadata": {}
        }
      ]
    },
    {
      "cell_type": "code",
      "source": [
        "# Una opciòn si quisiéramos las dos posiciones\n",
        "which(x == max(x))"
      ],
      "metadata": {
        "colab": {
          "base_uri": "https://localhost:8080/",
          "height": 34
        },
        "id": "L3K1aS3cgWnE",
        "outputId": "8e1b5f87-aff2-412a-e0a2-e033760a6208"
      },
      "execution_count": 71,
      "outputs": [
        {
          "output_type": "display_data",
          "data": {
            "text/html": [
              "<style>\n",
              ".list-inline {list-style: none; margin:0; padding: 0}\n",
              ".list-inline>li {display: inline-block}\n",
              ".list-inline>li:not(:last-child)::after {content: \"\\00b7\"; padding: 0 .5ex}\n",
              "</style>\n",
              "<ol class=list-inline><li>2</li><li>4</li></ol>\n"
            ],
            "text/markdown": "1. 2\n2. 4\n\n\n",
            "text/latex": "\\begin{enumerate*}\n\\item 2\n\\item 4\n\\end{enumerate*}\n",
            "text/plain": [
              "[1] 2 4"
            ]
          },
          "metadata": {}
        }
      ]
    },
    {
      "cell_type": "code",
      "source": [
        "# buscamos las edades mayores a 20 y menores o iguales a 25\n",
        "edades[edades > 20 & edades <= 25]"
      ],
      "metadata": {
        "colab": {
          "base_uri": "https://localhost:8080/",
          "height": 347
        },
        "id": "I3W1o9RFhBwx",
        "outputId": "ed867f2e-b2a1-43dc-ad63-e7e60cdd42b5"
      },
      "execution_count": 73,
      "outputs": [
        {
          "output_type": "display_data",
          "data": {
            "text/html": [
              "<style>\n",
              ".list-inline {list-style: none; margin:0; padding: 0}\n",
              ".list-inline>li {display: inline-block}\n",
              ".list-inline>li:not(:last-child)::after {content: \"\\00b7\"; padding: 0 .5ex}\n",
              "</style>\n",
              "<ol class=list-inline><li>21.4687717771299</li><li>21.8749533609949</li><li>22.5629783223125</li><li>24.3970139624037</li><li>24.9494040229166</li><li>22.7396402345187</li><li>23.2623994720156</li><li>24.3307704911327</li><li>20.9586002801309</li><li>22.9600720333222</li><li>22.7774483737503</li><li>22.204068854987</li><li>24.6853861261833</li><li>23.2260657852662</li><li>20.0873900841044</li><li>24.1449443829827</li><li>20.71579088242</li><li>21.7527436401067</li><li>20.4683829145605</li><li>23.9443950217648</li><li>23.1730090835153</li><li>24.8734306662418</li><li>21.4508551074945</li><li>22.3930646069716</li><li>22.8653636771501</li><li>22.7275728962745</li><li>24.839054736605</li><li>22.7046688086835</li><li>22.5695708825342</li><li>24.5625623274016</li><li>22.3197503913828</li><li>22.0546815748304</li><li>23.9408592613561</li><li>22.8501469317784</li><li>23.7508430380665</li><li>20.2435652298503</li><li>21.5525664069688</li><li>21.8492887758786</li><li>23.8325105359098</li><li>23.088894598775</li><li>24.7848672965993</li><li>20.4991776599095</li><li>24.2604942138408</li><li>24.9588953464863</li><li>24.9125572648762</li><li>20.2479104736195</li><li>24.9473809892306</li><li>22.4687547480975</li><li>23.5469112198903</li><li>21.2654782478684</li><li>23.2235955781252</li><li>23.4917651728257</li><li>23.5672202579949</li><li>20.3012569528871</li><li>23.625352072312</li><li>23.7846807562965</li><li>22.7316847191665</li><li>22.9427008304446</li><li>23.5037095691644</li><li>24.450234702162</li><li>23.9246900188776</li><li>21.2980390867833</li><li>23.0142418433734</li><li>23.807686171941</li><li>24.7395498202818</li><li>23.9623624748814</li><li>22.1157562255397</li><li>24.5982280200732</li><li>24.4247450757039</li><li>24.9812479196281</li><li>21.8545853632071</li><li>20.5538648112897</li><li>20.6154805077435</li><li>22.0024401493499</li><li>21.21894554015</li><li>23.0283653826169</li><li>21.2343626150004</li><li>24.2250965638945</li><li>23.8332928968365</li><li>21.9543254712806</li><li>21.5627776462649</li><li>23.2323129342509</li><li>23.9129303338943</li><li>21.9345836360505</li><li>23.346164764874</li><li>24.5710141291189</li><li>21.5631613526828</li><li>21.520131409607</li><li>24.5101417379851</li><li>22.6775841362988</li><li>21.3355499247957</li><li>22.9917011460324</li><li>22.4429647022172</li><li>23.0950633579482</li><li>21.2637054302838</li><li>24.1968075226291</li><li>23.3119620158624</li><li>24.6911169687158</li><li>20.6740661713793</li><li>24.6078681923937</li><li>24.6337214068956</li><li>21.9565397819344</li><li>20.4775885199273</li><li>24.348700685335</li><li>20.7726463546778</li><li>21.0014657093942</li><li>22.0387004864239</li><li>22.7985146190396</li><li>22.4193687955484</li><li>23.4885248107574</li><li>24.4861365981438</li><li>21.9232704291242</li><li>21.8447334418288</li><li>21.6728628349239</li><li>23.5581580750118</li><li>24.3808335915573</li><li>23.2370313178341</li><li>22.8439930319367</li><li>24.5077647479775</li><li>20.5012105795484</li><li>22.4217887550771</li><li>20.5305123118894</li><li>22.3571599125325</li><li>22.4918955750551</li><li>22.205931351236</li><li>20.8854220134968</li><li>21.5101474158704</li><li>22.0473223918247</li><li>20.3555645388867</li><li>22.5512942347672</li><li>24.3906597730199</li><li>22.6091248967861</li><li>20.1495062823555</li><li>21.9201659716757</li><li>24.7324745446844</li><li>21.5129878969554</li><li>23.2591084068168</li><li>22.7907907456282</li><li>23.2605122034326</li><li>20.4664306649771</li><li>22.8712126267875</li><li>23.5437441566568</li><li>20.7873421669978</li><li>20.5197318340125</li><li>23.6215740584285</li><li>21.7713029992116</li><li>21.1652237103392</li><li>24.2837973250597</li><li>22.8560004582763</li><li>23.9319108420962</li><li>20.7484676149255</li></ol>\n"
            ],
            "text/markdown": "1. 21.4687717771299\n2. 21.8749533609949\n3. 22.5629783223125\n4. 24.3970139624037\n5. 24.9494040229166\n6. 22.7396402345187\n7. 23.2623994720156\n8. 24.3307704911327\n9. 20.9586002801309\n10. 22.9600720333222\n11. 22.7774483737503\n12. 22.204068854987\n13. 24.6853861261833\n14. 23.2260657852662\n15. 20.0873900841044\n16. 24.1449443829827\n17. 20.71579088242\n18. 21.7527436401067\n19. 20.4683829145605\n20. 23.9443950217648\n21. 23.1730090835153\n22. 24.8734306662418\n23. 21.4508551074945\n24. 22.3930646069716\n25. 22.8653636771501\n26. 22.7275728962745\n27. 24.839054736605\n28. 22.7046688086835\n29. 22.5695708825342\n30. 24.5625623274016\n31. 22.3197503913828\n32. 22.0546815748304\n33. 23.9408592613561\n34. 22.8501469317784\n35. 23.7508430380665\n36. 20.2435652298503\n37. 21.5525664069688\n38. 21.8492887758786\n39. 23.8325105359098\n40. 23.088894598775\n41. 24.7848672965993\n42. 20.4991776599095\n43. 24.2604942138408\n44. 24.9588953464863\n45. 24.9125572648762\n46. 20.2479104736195\n47. 24.9473809892306\n48. 22.4687547480975\n49. 23.5469112198903\n50. 21.2654782478684\n51. 23.2235955781252\n52. 23.4917651728257\n53. 23.5672202579949\n54. 20.3012569528871\n55. 23.625352072312\n56. 23.7846807562965\n57. 22.7316847191665\n58. 22.9427008304446\n59. 23.5037095691644\n60. 24.450234702162\n61. 23.9246900188776\n62. 21.2980390867833\n63. 23.0142418433734\n64. 23.807686171941\n65. 24.7395498202818\n66. 23.9623624748814\n67. 22.1157562255397\n68. 24.5982280200732\n69. 24.4247450757039\n70. 24.9812479196281\n71. 21.8545853632071\n72. 20.5538648112897\n73. 20.6154805077435\n74. 22.0024401493499\n75. 21.21894554015\n76. 23.0283653826169\n77. 21.2343626150004\n78. 24.2250965638945\n79. 23.8332928968365\n80. 21.9543254712806\n81. 21.5627776462649\n82. 23.2323129342509\n83. 23.9129303338943\n84. 21.9345836360505\n85. 23.346164764874\n86. 24.5710141291189\n87. 21.5631613526828\n88. 21.520131409607\n89. 24.5101417379851\n90. 22.6775841362988\n91. 21.3355499247957\n92. 22.9917011460324\n93. 22.4429647022172\n94. 23.0950633579482\n95. 21.2637054302838\n96. 24.1968075226291\n97. 23.3119620158624\n98. 24.6911169687158\n99. 20.6740661713793\n100. 24.6078681923937\n101. 24.6337214068956\n102. 21.9565397819344\n103. 20.4775885199273\n104. 24.348700685335\n105. 20.7726463546778\n106. 21.0014657093942\n107. 22.0387004864239\n108. 22.7985146190396\n109. 22.4193687955484\n110. 23.4885248107574\n111. 24.4861365981438\n112. 21.9232704291242\n113. 21.8447334418288\n114. 21.6728628349239\n115. 23.5581580750118\n116. 24.3808335915573\n117. 23.2370313178341\n118. 22.8439930319367\n119. 24.5077647479775\n120. 20.5012105795484\n121. 22.4217887550771\n122. 20.5305123118894\n123. 22.3571599125325\n124. 22.4918955750551\n125. 22.205931351236\n126. 20.8854220134968\n127. 21.5101474158704\n128. 22.0473223918247\n129. 20.3555645388867\n130. 22.5512942347672\n131. 24.3906597730199\n132. 22.6091248967861\n133. 20.1495062823555\n134. 21.9201659716757\n135. 24.7324745446844\n136. 21.5129878969554\n137. 23.2591084068168\n138. 22.7907907456282\n139. 23.2605122034326\n140. 20.4664306649771\n141. 22.8712126267875\n142. 23.5437441566568\n143. 20.7873421669978\n144. 20.5197318340125\n145. 23.6215740584285\n146. 21.7713029992116\n147. 21.1652237103392\n148. 24.2837973250597\n149. 22.8560004582763\n150. 23.9319108420962\n151. 20.7484676149255\n\n\n",
            "text/latex": "\\begin{enumerate*}\n\\item 21.4687717771299\n\\item 21.8749533609949\n\\item 22.5629783223125\n\\item 24.3970139624037\n\\item 24.9494040229166\n\\item 22.7396402345187\n\\item 23.2623994720156\n\\item 24.3307704911327\n\\item 20.9586002801309\n\\item 22.9600720333222\n\\item 22.7774483737503\n\\item 22.204068854987\n\\item 24.6853861261833\n\\item 23.2260657852662\n\\item 20.0873900841044\n\\item 24.1449443829827\n\\item 20.71579088242\n\\item 21.7527436401067\n\\item 20.4683829145605\n\\item 23.9443950217648\n\\item 23.1730090835153\n\\item 24.8734306662418\n\\item 21.4508551074945\n\\item 22.3930646069716\n\\item 22.8653636771501\n\\item 22.7275728962745\n\\item 24.839054736605\n\\item 22.7046688086835\n\\item 22.5695708825342\n\\item 24.5625623274016\n\\item 22.3197503913828\n\\item 22.0546815748304\n\\item 23.9408592613561\n\\item 22.8501469317784\n\\item 23.7508430380665\n\\item 20.2435652298503\n\\item 21.5525664069688\n\\item 21.8492887758786\n\\item 23.8325105359098\n\\item 23.088894598775\n\\item 24.7848672965993\n\\item 20.4991776599095\n\\item 24.2604942138408\n\\item 24.9588953464863\n\\item 24.9125572648762\n\\item 20.2479104736195\n\\item 24.9473809892306\n\\item 22.4687547480975\n\\item 23.5469112198903\n\\item 21.2654782478684\n\\item 23.2235955781252\n\\item 23.4917651728257\n\\item 23.5672202579949\n\\item 20.3012569528871\n\\item 23.625352072312\n\\item 23.7846807562965\n\\item 22.7316847191665\n\\item 22.9427008304446\n\\item 23.5037095691644\n\\item 24.450234702162\n\\item 23.9246900188776\n\\item 21.2980390867833\n\\item 23.0142418433734\n\\item 23.807686171941\n\\item 24.7395498202818\n\\item 23.9623624748814\n\\item 22.1157562255397\n\\item 24.5982280200732\n\\item 24.4247450757039\n\\item 24.9812479196281\n\\item 21.8545853632071\n\\item 20.5538648112897\n\\item 20.6154805077435\n\\item 22.0024401493499\n\\item 21.21894554015\n\\item 23.0283653826169\n\\item 21.2343626150004\n\\item 24.2250965638945\n\\item 23.8332928968365\n\\item 21.9543254712806\n\\item 21.5627776462649\n\\item 23.2323129342509\n\\item 23.9129303338943\n\\item 21.9345836360505\n\\item 23.346164764874\n\\item 24.5710141291189\n\\item 21.5631613526828\n\\item 21.520131409607\n\\item 24.5101417379851\n\\item 22.6775841362988\n\\item 21.3355499247957\n\\item 22.9917011460324\n\\item 22.4429647022172\n\\item 23.0950633579482\n\\item 21.2637054302838\n\\item 24.1968075226291\n\\item 23.3119620158624\n\\item 24.6911169687158\n\\item 20.6740661713793\n\\item 24.6078681923937\n\\item 24.6337214068956\n\\item 21.9565397819344\n\\item 20.4775885199273\n\\item 24.348700685335\n\\item 20.7726463546778\n\\item 21.0014657093942\n\\item 22.0387004864239\n\\item 22.7985146190396\n\\item 22.4193687955484\n\\item 23.4885248107574\n\\item 24.4861365981438\n\\item 21.9232704291242\n\\item 21.8447334418288\n\\item 21.6728628349239\n\\item 23.5581580750118\n\\item 24.3808335915573\n\\item 23.2370313178341\n\\item 22.8439930319367\n\\item 24.5077647479775\n\\item 20.5012105795484\n\\item 22.4217887550771\n\\item 20.5305123118894\n\\item 22.3571599125325\n\\item 22.4918955750551\n\\item 22.205931351236\n\\item 20.8854220134968\n\\item 21.5101474158704\n\\item 22.0473223918247\n\\item 20.3555645388867\n\\item 22.5512942347672\n\\item 24.3906597730199\n\\item 22.6091248967861\n\\item 20.1495062823555\n\\item 21.9201659716757\n\\item 24.7324745446844\n\\item 21.5129878969554\n\\item 23.2591084068168\n\\item 22.7907907456282\n\\item 23.2605122034326\n\\item 20.4664306649771\n\\item 22.8712126267875\n\\item 23.5437441566568\n\\item 20.7873421669978\n\\item 20.5197318340125\n\\item 23.6215740584285\n\\item 21.7713029992116\n\\item 21.1652237103392\n\\item 24.2837973250597\n\\item 22.8560004582763\n\\item 23.9319108420962\n\\item 20.7484676149255\n\\end{enumerate*}\n",
            "text/plain": [
              "  [1] 21.46877 21.87495 22.56298 24.39701 24.94940 22.73964 23.26240 24.33077\n",
              "  [9] 20.95860 22.96007 22.77745 22.20407 24.68539 23.22607 20.08739 24.14494\n",
              " [17] 20.71579 21.75274 20.46838 23.94440 23.17301 24.87343 21.45086 22.39306\n",
              " [25] 22.86536 22.72757 24.83905 22.70467 22.56957 24.56256 22.31975 22.05468\n",
              " [33] 23.94086 22.85015 23.75084 20.24357 21.55257 21.84929 23.83251 23.08889\n",
              " [41] 24.78487 20.49918 24.26049 24.95890 24.91256 20.24791 24.94738 22.46875\n",
              " [49] 23.54691 21.26548 23.22360 23.49177 23.56722 20.30126 23.62535 23.78468\n",
              " [57] 22.73168 22.94270 23.50371 24.45023 23.92469 21.29804 23.01424 23.80769\n",
              " [65] 24.73955 23.96236 22.11576 24.59823 24.42475 24.98125 21.85459 20.55386\n",
              " [73] 20.61548 22.00244 21.21895 23.02837 21.23436 24.22510 23.83329 21.95433\n",
              " [81] 21.56278 23.23231 23.91293 21.93458 23.34616 24.57101 21.56316 21.52013\n",
              " [89] 24.51014 22.67758 21.33555 22.99170 22.44296 23.09506 21.26371 24.19681\n",
              " [97] 23.31196 24.69112 20.67407 24.60787 24.63372 21.95654 20.47759 24.34870\n",
              "[105] 20.77265 21.00147 22.03870 22.79851 22.41937 23.48852 24.48614 21.92327\n",
              "[113] 21.84473 21.67286 23.55816 24.38083 23.23703 22.84399 24.50776 20.50121\n",
              "[121] 22.42179 20.53051 22.35716 22.49190 22.20593 20.88542 21.51015 22.04732\n",
              "[129] 20.35556 22.55129 24.39066 22.60912 20.14951 21.92017 24.73247 21.51299\n",
              "[137] 23.25911 22.79079 23.26051 20.46643 22.87121 23.54374 20.78734 20.51973\n",
              "[145] 23.62157 21.77130 21.16522 24.28380 22.85600 23.93191 20.74847"
            ]
          },
          "metadata": {}
        }
      ]
    },
    {
      "cell_type": "code",
      "source": [
        "# buscamos las posiciones de las edades mayores a 20 y menores o iguales a 25\n",
        "which(edades > 20 & edades <= 25) # Estas son las posiciones!!"
      ],
      "metadata": {
        "colab": {
          "base_uri": "https://localhost:8080/",
          "height": 104
        },
        "id": "QB_txUALhnWc",
        "outputId": "5ac425b0-078b-47c0-aa39-48c81136af03"
      },
      "execution_count": 74,
      "outputs": [
        {
          "output_type": "display_data",
          "data": {
            "text/html": [
              "<style>\n",
              ".list-inline {list-style: none; margin:0; padding: 0}\n",
              ".list-inline>li {display: inline-block}\n",
              ".list-inline>li:not(:last-child)::after {content: \"\\00b7\"; padding: 0 .5ex}\n",
              "</style>\n",
              "<ol class=list-inline><li>11</li><li>31</li><li>32</li><li>39</li><li>42</li><li>44</li><li>53</li><li>59</li><li>75</li><li>76</li><li>78</li><li>96</li><li>99</li><li>100</li><li>102</li><li>103</li><li>106</li><li>116</li><li>130</li><li>132</li><li>159</li><li>162</li><li>168</li><li>173</li><li>188</li><li>195</li><li>198</li><li>201</li><li>214</li><li>220</li><li>225</li><li>250</li><li>252</li><li>256</li><li>273</li><li>274</li><li>279</li><li>284</li><li>292</li><li>296</li><li>297</li><li>299</li><li>300</li><li>319</li><li>322</li><li>338</li><li>340</li><li>342</li><li>350</li><li>351</li><li>357</li><li>360</li><li>378</li><li>379</li><li>383</li><li>390</li><li>398</li><li>409</li><li>418</li><li>430</li><li>432</li><li>439</li><li>441</li><li>447</li><li>450</li><li>451</li><li>458</li><li>465</li><li>469</li><li>474</li><li>476</li><li>481</li><li>491</li><li>498</li><li>506</li><li>515</li><li>525</li><li>539</li><li>541</li><li>542</li><li>546</li><li>552</li><li>563</li><li>570</li><li>581</li><li>607</li><li>615</li><li>622</li><li>644</li><li>661</li><li>662</li><li>668</li><li>678</li><li>679</li><li>691</li><li>707</li><li>712</li><li>724</li><li>727</li><li>728</li><li>734</li><li>735</li><li>736</li><li>742</li><li>750</li><li>755</li><li>757</li><li>766</li><li>768</li><li>776</li><li>781</li><li>782</li><li>786</li><li>793</li><li>835</li><li>837</li><li>838</li><li>843</li><li>847</li><li>855</li><li>865</li><li>872</li><li>874</li><li>877</li><li>888</li><li>893</li><li>900</li><li>910</li><li>920</li><li>921</li><li>925</li><li>927</li><li>930</li><li>931</li><li>935</li><li>937</li><li>942</li><li>943</li><li>945</li><li>948</li><li>949</li><li>950</li><li>964</li><li>968</li><li>977</li><li>982</li><li>983</li><li>986</li><li>990</li><li>992</li><li>1000</li></ol>\n"
            ],
            "text/markdown": "1. 11\n2. 31\n3. 32\n4. 39\n5. 42\n6. 44\n7. 53\n8. 59\n9. 75\n10. 76\n11. 78\n12. 96\n13. 99\n14. 100\n15. 102\n16. 103\n17. 106\n18. 116\n19. 130\n20. 132\n21. 159\n22. 162\n23. 168\n24. 173\n25. 188\n26. 195\n27. 198\n28. 201\n29. 214\n30. 220\n31. 225\n32. 250\n33. 252\n34. 256\n35. 273\n36. 274\n37. 279\n38. 284\n39. 292\n40. 296\n41. 297\n42. 299\n43. 300\n44. 319\n45. 322\n46. 338\n47. 340\n48. 342\n49. 350\n50. 351\n51. 357\n52. 360\n53. 378\n54. 379\n55. 383\n56. 390\n57. 398\n58. 409\n59. 418\n60. 430\n61. 432\n62. 439\n63. 441\n64. 447\n65. 450\n66. 451\n67. 458\n68. 465\n69. 469\n70. 474\n71. 476\n72. 481\n73. 491\n74. 498\n75. 506\n76. 515\n77. 525\n78. 539\n79. 541\n80. 542\n81. 546\n82. 552\n83. 563\n84. 570\n85. 581\n86. 607\n87. 615\n88. 622\n89. 644\n90. 661\n91. 662\n92. 668\n93. 678\n94. 679\n95. 691\n96. 707\n97. 712\n98. 724\n99. 727\n100. 728\n101. 734\n102. 735\n103. 736\n104. 742\n105. 750\n106. 755\n107. 757\n108. 766\n109. 768\n110. 776\n111. 781\n112. 782\n113. 786\n114. 793\n115. 835\n116. 837\n117. 838\n118. 843\n119. 847\n120. 855\n121. 865\n122. 872\n123. 874\n124. 877\n125. 888\n126. 893\n127. 900\n128. 910\n129. 920\n130. 921\n131. 925\n132. 927\n133. 930\n134. 931\n135. 935\n136. 937\n137. 942\n138. 943\n139. 945\n140. 948\n141. 949\n142. 950\n143. 964\n144. 968\n145. 977\n146. 982\n147. 983\n148. 986\n149. 990\n150. 992\n151. 1000\n\n\n",
            "text/latex": "\\begin{enumerate*}\n\\item 11\n\\item 31\n\\item 32\n\\item 39\n\\item 42\n\\item 44\n\\item 53\n\\item 59\n\\item 75\n\\item 76\n\\item 78\n\\item 96\n\\item 99\n\\item 100\n\\item 102\n\\item 103\n\\item 106\n\\item 116\n\\item 130\n\\item 132\n\\item 159\n\\item 162\n\\item 168\n\\item 173\n\\item 188\n\\item 195\n\\item 198\n\\item 201\n\\item 214\n\\item 220\n\\item 225\n\\item 250\n\\item 252\n\\item 256\n\\item 273\n\\item 274\n\\item 279\n\\item 284\n\\item 292\n\\item 296\n\\item 297\n\\item 299\n\\item 300\n\\item 319\n\\item 322\n\\item 338\n\\item 340\n\\item 342\n\\item 350\n\\item 351\n\\item 357\n\\item 360\n\\item 378\n\\item 379\n\\item 383\n\\item 390\n\\item 398\n\\item 409\n\\item 418\n\\item 430\n\\item 432\n\\item 439\n\\item 441\n\\item 447\n\\item 450\n\\item 451\n\\item 458\n\\item 465\n\\item 469\n\\item 474\n\\item 476\n\\item 481\n\\item 491\n\\item 498\n\\item 506\n\\item 515\n\\item 525\n\\item 539\n\\item 541\n\\item 542\n\\item 546\n\\item 552\n\\item 563\n\\item 570\n\\item 581\n\\item 607\n\\item 615\n\\item 622\n\\item 644\n\\item 661\n\\item 662\n\\item 668\n\\item 678\n\\item 679\n\\item 691\n\\item 707\n\\item 712\n\\item 724\n\\item 727\n\\item 728\n\\item 734\n\\item 735\n\\item 736\n\\item 742\n\\item 750\n\\item 755\n\\item 757\n\\item 766\n\\item 768\n\\item 776\n\\item 781\n\\item 782\n\\item 786\n\\item 793\n\\item 835\n\\item 837\n\\item 838\n\\item 843\n\\item 847\n\\item 855\n\\item 865\n\\item 872\n\\item 874\n\\item 877\n\\item 888\n\\item 893\n\\item 900\n\\item 910\n\\item 920\n\\item 921\n\\item 925\n\\item 927\n\\item 930\n\\item 931\n\\item 935\n\\item 937\n\\item 942\n\\item 943\n\\item 945\n\\item 948\n\\item 949\n\\item 950\n\\item 964\n\\item 968\n\\item 977\n\\item 982\n\\item 983\n\\item 986\n\\item 990\n\\item 992\n\\item 1000\n\\end{enumerate*}\n",
            "text/plain": [
              "  [1]   11   31   32   39   42   44   53   59   75   76   78   96   99  100  102\n",
              " [16]  103  106  116  130  132  159  162  168  173  188  195  198  201  214  220\n",
              " [31]  225  250  252  256  273  274  279  284  292  296  297  299  300  319  322\n",
              " [46]  338  340  342  350  351  357  360  378  379  383  390  398  409  418  430\n",
              " [61]  432  439  441  447  450  451  458  465  469  474  476  481  491  498  506\n",
              " [76]  515  525  539  541  542  546  552  563  570  581  607  615  622  644  661\n",
              " [91]  662  668  678  679  691  707  712  724  727  728  734  735  736  742  750\n",
              "[106]  755  757  766  768  776  781  782  786  793  835  837  838  843  847  855\n",
              "[121]  865  872  874  877  888  893  900  910  920  921  925  927  930  931  935\n",
              "[136]  937  942  943  945  948  949  950  964  968  977  982  983  986  990  992\n",
              "[151] 1000"
            ]
          },
          "metadata": {}
        }
      ]
    },
    {
      "cell_type": "code",
      "source": [
        "round(22.4568,2)\n",
        "floor(22.4)"
      ],
      "metadata": {
        "colab": {
          "base_uri": "https://localhost:8080/",
          "height": 52
        },
        "id": "qOjOfRE_iAzI",
        "outputId": "b4780029-23bf-41a9-c794-f2d11311a2b5"
      },
      "execution_count": 83,
      "outputs": [
        {
          "output_type": "display_data",
          "data": {
            "text/html": [
              "22.46"
            ],
            "text/markdown": "22.46",
            "text/latex": "22.46",
            "text/plain": [
              "[1] 22.46"
            ]
          },
          "metadata": {}
        },
        {
          "output_type": "display_data",
          "data": {
            "text/html": [
              "22"
            ],
            "text/markdown": "22",
            "text/latex": "22",
            "text/plain": [
              "[1] 22"
            ]
          },
          "metadata": {}
        }
      ]
    },
    {
      "cell_type": "code",
      "source": [
        "#round(edades, 1) con esto pueden redondear al primer decimal"
      ],
      "metadata": {
        "id": "PXHpWZwTiepB"
      },
      "execution_count": null,
      "outputs": []
    },
    {
      "cell_type": "code",
      "metadata": {
        "id": "_8-SMxfWIgv0",
        "colab": {
          "base_uri": "https://localhost:8080/",
          "height": 52
        },
        "outputId": "7bf58d31-2569-47e0-89e2-ce881ec3b868"
      },
      "source": [
        "# Operador %in%\n",
        "# vector_a %in% vector_b (qué elementos del vector a están en el vector b)\n",
        "# retorna un  vector de TRUE's y FALSE's del largo del primer vector(a) (izquierda)\n",
        "c(1,2,1,4,5) %in% c(3,5,1,7,6)\n",
        "c(3,5,1,7,6) %in% c(1,2,1,4,5)\n"
      ],
      "execution_count": 86,
      "outputs": [
        {
          "output_type": "display_data",
          "data": {
            "text/html": [
              "<style>\n",
              ".list-inline {list-style: none; margin:0; padding: 0}\n",
              ".list-inline>li {display: inline-block}\n",
              ".list-inline>li:not(:last-child)::after {content: \"\\00b7\"; padding: 0 .5ex}\n",
              "</style>\n",
              "<ol class=list-inline><li>TRUE</li><li>FALSE</li><li>TRUE</li><li>FALSE</li><li>TRUE</li></ol>\n"
            ],
            "text/markdown": "1. TRUE\n2. FALSE\n3. TRUE\n4. FALSE\n5. TRUE\n\n\n",
            "text/latex": "\\begin{enumerate*}\n\\item TRUE\n\\item FALSE\n\\item TRUE\n\\item FALSE\n\\item TRUE\n\\end{enumerate*}\n",
            "text/plain": [
              "[1]  TRUE FALSE  TRUE FALSE  TRUE"
            ]
          },
          "metadata": {}
        },
        {
          "output_type": "display_data",
          "data": {
            "text/html": [
              "<style>\n",
              ".list-inline {list-style: none; margin:0; padding: 0}\n",
              ".list-inline>li {display: inline-block}\n",
              ".list-inline>li:not(:last-child)::after {content: \"\\00b7\"; padding: 0 .5ex}\n",
              "</style>\n",
              "<ol class=list-inline><li>FALSE</li><li>TRUE</li><li>TRUE</li><li>FALSE</li><li>FALSE</li></ol>\n"
            ],
            "text/markdown": "1. FALSE\n2. TRUE\n3. TRUE\n4. FALSE\n5. FALSE\n\n\n",
            "text/latex": "\\begin{enumerate*}\n\\item FALSE\n\\item TRUE\n\\item TRUE\n\\item FALSE\n\\item FALSE\n\\end{enumerate*}\n",
            "text/plain": [
              "[1] FALSE  TRUE  TRUE FALSE FALSE"
            ]
          },
          "metadata": {}
        }
      ]
    },
    {
      "cell_type": "code",
      "source": [
        "edades2 <- round(edades)"
      ],
      "metadata": {
        "id": "O2LWMcmAkXAs"
      },
      "execution_count": 87,
      "outputs": []
    },
    {
      "cell_type": "code",
      "source": [
        "which(edades2 %in% c(18,20,30))"
      ],
      "metadata": {
        "colab": {
          "base_uri": "https://localhost:8080/",
          "height": 69
        },
        "id": "2SCUm2zgkffl",
        "outputId": "6bbf265d-9cda-48c8-a5df-04390707aaa0"
      },
      "execution_count": 90,
      "outputs": [
        {
          "output_type": "display_data",
          "data": {
            "text/html": [
              "<style>\n",
              ".list-inline {list-style: none; margin:0; padding: 0}\n",
              ".list-inline>li {display: inline-block}\n",
              ".list-inline>li:not(:last-child)::after {content: \"\\00b7\"; padding: 0 .5ex}\n",
              "</style>\n",
              "<ol class=list-inline><li>45</li><li>48</li><li>79</li><li>82</li><li>85</li><li>102</li><li>117</li><li>130</li><li>135</li><li>141</li><li>142</li><li>178</li><li>180</li><li>183</li><li>192</li><li>199</li><li>205</li><li>217</li><li>230</li><li>241</li><li>242</li><li>251</li><li>261</li><li>272</li><li>274</li><li>287</li><li>299</li><li>312</li><li>318</li><li>326</li><li>337</li><li>338</li><li>343</li><li>363</li><li>375</li><li>379</li><li>388</li><li>393</li><li>424</li><li>427</li><li>428</li><li>434</li><li>442</li><li>448</li><li>459</li><li>460</li><li>496</li><li>499</li><li>502</li><li>513</li><li>519</li><li>562</li><li>583</li><li>596</li><li>610</li><li>640</li><li>650</li><li>657</li><li>692</li><li>698</li><li>710</li><li>713</li><li>729</li><li>736</li><li>780</li><li>788</li><li>803</li><li>807</li><li>816</li><li>831</li><li>841</li><li>850</li><li>889</li><li>894</li><li>901</li><li>911</li><li>917</li><li>920</li><li>930</li><li>948</li><li>961</li></ol>\n"
            ],
            "text/markdown": "1. 45\n2. 48\n3. 79\n4. 82\n5. 85\n6. 102\n7. 117\n8. 130\n9. 135\n10. 141\n11. 142\n12. 178\n13. 180\n14. 183\n15. 192\n16. 199\n17. 205\n18. 217\n19. 230\n20. 241\n21. 242\n22. 251\n23. 261\n24. 272\n25. 274\n26. 287\n27. 299\n28. 312\n29. 318\n30. 326\n31. 337\n32. 338\n33. 343\n34. 363\n35. 375\n36. 379\n37. 388\n38. 393\n39. 424\n40. 427\n41. 428\n42. 434\n43. 442\n44. 448\n45. 459\n46. 460\n47. 496\n48. 499\n49. 502\n50. 513\n51. 519\n52. 562\n53. 583\n54. 596\n55. 610\n56. 640\n57. 650\n58. 657\n59. 692\n60. 698\n61. 710\n62. 713\n63. 729\n64. 736\n65. 780\n66. 788\n67. 803\n68. 807\n69. 816\n70. 831\n71. 841\n72. 850\n73. 889\n74. 894\n75. 901\n76. 911\n77. 917\n78. 920\n79. 930\n80. 948\n81. 961\n\n\n",
            "text/latex": "\\begin{enumerate*}\n\\item 45\n\\item 48\n\\item 79\n\\item 82\n\\item 85\n\\item 102\n\\item 117\n\\item 130\n\\item 135\n\\item 141\n\\item 142\n\\item 178\n\\item 180\n\\item 183\n\\item 192\n\\item 199\n\\item 205\n\\item 217\n\\item 230\n\\item 241\n\\item 242\n\\item 251\n\\item 261\n\\item 272\n\\item 274\n\\item 287\n\\item 299\n\\item 312\n\\item 318\n\\item 326\n\\item 337\n\\item 338\n\\item 343\n\\item 363\n\\item 375\n\\item 379\n\\item 388\n\\item 393\n\\item 424\n\\item 427\n\\item 428\n\\item 434\n\\item 442\n\\item 448\n\\item 459\n\\item 460\n\\item 496\n\\item 499\n\\item 502\n\\item 513\n\\item 519\n\\item 562\n\\item 583\n\\item 596\n\\item 610\n\\item 640\n\\item 650\n\\item 657\n\\item 692\n\\item 698\n\\item 710\n\\item 713\n\\item 729\n\\item 736\n\\item 780\n\\item 788\n\\item 803\n\\item 807\n\\item 816\n\\item 831\n\\item 841\n\\item 850\n\\item 889\n\\item 894\n\\item 901\n\\item 911\n\\item 917\n\\item 920\n\\item 930\n\\item 948\n\\item 961\n\\end{enumerate*}\n",
            "text/plain": [
              " [1]  45  48  79  82  85 102 117 130 135 141 142 178 180 183 192 199 205 217 230\n",
              "[20] 241 242 251 261 272 274 287 299 312 318 326 337 338 343 363 375 379 388 393\n",
              "[39] 424 427 428 434 442 448 459 460 496 499 502 513 519 562 583 596 610 640 650\n",
              "[58] 657 692 698 710 713 729 736 780 788 803 807 816 831 841 850 889 894 901 911\n",
              "[77] 917 920 930 948 961"
            ]
          },
          "metadata": {}
        }
      ]
    },
    {
      "cell_type": "code",
      "source": [
        "edades2[edades2 %in% c(18,20,30)]"
      ],
      "metadata": {
        "colab": {
          "base_uri": "https://localhost:8080/",
          "height": 52
        },
        "id": "kdvLQ-ewkyBx",
        "outputId": "0cf0f67c-1d84-4bb4-bade-c5a3ceb960f0"
      },
      "execution_count": 91,
      "outputs": [
        {
          "output_type": "display_data",
          "data": {
            "text/html": [
              "<style>\n",
              ".list-inline {list-style: none; margin:0; padding: 0}\n",
              ".list-inline>li {display: inline-block}\n",
              ".list-inline>li:not(:last-child)::after {content: \"\\00b7\"; padding: 0 .5ex}\n",
              "</style>\n",
              "<ol class=list-inline><li>18</li><li>30</li><li>30</li><li>30</li><li>20</li><li>20</li><li>18</li><li>20</li><li>20</li><li>30</li><li>30</li><li>18</li><li>30</li><li>20</li><li>18</li><li>30</li><li>20</li><li>20</li><li>30</li><li>30</li><li>30</li><li>30</li><li>20</li><li>18</li><li>20</li><li>30</li><li>20</li><li>30</li><li>18</li><li>30</li><li>30</li><li>20</li><li>20</li><li>18</li><li>30</li><li>20</li><li>18</li><li>30</li><li>30</li><li>18</li><li>30</li><li>20</li><li>30</li><li>20</li><li>30</li><li>30</li><li>30</li><li>30</li><li>30</li><li>30</li><li>30</li><li>18</li><li>30</li><li>30</li><li>30</li><li>18</li><li>30</li><li>20</li><li>18</li><li>30</li><li>18</li><li>20</li><li>30</li><li>20</li><li>30</li><li>30</li><li>30</li><li>18</li><li>30</li><li>18</li><li>20</li><li>30</li><li>18</li><li>30</li><li>30</li><li>20</li><li>18</li><li>20</li><li>20</li><li>20</li><li>18</li></ol>\n"
            ],
            "text/markdown": "1. 18\n2. 30\n3. 30\n4. 30\n5. 20\n6. 20\n7. 18\n8. 20\n9. 20\n10. 30\n11. 30\n12. 18\n13. 30\n14. 20\n15. 18\n16. 30\n17. 20\n18. 20\n19. 30\n20. 30\n21. 30\n22. 30\n23. 20\n24. 18\n25. 20\n26. 30\n27. 20\n28. 30\n29. 18\n30. 30\n31. 30\n32. 20\n33. 20\n34. 18\n35. 30\n36. 20\n37. 18\n38. 30\n39. 30\n40. 18\n41. 30\n42. 20\n43. 30\n44. 20\n45. 30\n46. 30\n47. 30\n48. 30\n49. 30\n50. 30\n51. 30\n52. 18\n53. 30\n54. 30\n55. 30\n56. 18\n57. 30\n58. 20\n59. 18\n60. 30\n61. 18\n62. 20\n63. 30\n64. 20\n65. 30\n66. 30\n67. 30\n68. 18\n69. 30\n70. 18\n71. 20\n72. 30\n73. 18\n74. 30\n75. 30\n76. 20\n77. 18\n78. 20\n79. 20\n80. 20\n81. 18\n\n\n",
            "text/latex": "\\begin{enumerate*}\n\\item 18\n\\item 30\n\\item 30\n\\item 30\n\\item 20\n\\item 20\n\\item 18\n\\item 20\n\\item 20\n\\item 30\n\\item 30\n\\item 18\n\\item 30\n\\item 20\n\\item 18\n\\item 30\n\\item 20\n\\item 20\n\\item 30\n\\item 30\n\\item 30\n\\item 30\n\\item 20\n\\item 18\n\\item 20\n\\item 30\n\\item 20\n\\item 30\n\\item 18\n\\item 30\n\\item 30\n\\item 20\n\\item 20\n\\item 18\n\\item 30\n\\item 20\n\\item 18\n\\item 30\n\\item 30\n\\item 18\n\\item 30\n\\item 20\n\\item 30\n\\item 20\n\\item 30\n\\item 30\n\\item 30\n\\item 30\n\\item 30\n\\item 30\n\\item 30\n\\item 18\n\\item 30\n\\item 30\n\\item 30\n\\item 18\n\\item 30\n\\item 20\n\\item 18\n\\item 30\n\\item 18\n\\item 20\n\\item 30\n\\item 20\n\\item 30\n\\item 30\n\\item 30\n\\item 18\n\\item 30\n\\item 18\n\\item 20\n\\item 30\n\\item 18\n\\item 30\n\\item 30\n\\item 20\n\\item 18\n\\item 20\n\\item 20\n\\item 20\n\\item 18\n\\end{enumerate*}\n",
            "text/plain": [
              " [1] 18 30 30 30 20 20 18 20 20 30 30 18 30 20 18 30 20 20 30 30 30 30 20 18 20\n",
              "[26] 30 20 30 18 30 30 20 20 18 30 20 18 30 30 18 30 20 30 20 30 30 30 30 30 30\n",
              "[51] 30 18 30 30 30 18 30 20 18 30 18 20 30 20 30 30 30 18 30 18 20 30 18 30 30\n",
              "[76] 20 18 20 20 20 18"
            ]
          },
          "metadata": {}
        }
      ]
    },
    {
      "cell_type": "code",
      "source": [],
      "metadata": {
        "id": "JpJPbDMDk4pD"
      },
      "execution_count": null,
      "outputs": []
    },
    {
      "cell_type": "code",
      "metadata": {
        "id": "s9bYOQ4GIgv2",
        "colab": {
          "base_uri": "https://localhost:8080/",
          "height": 52
        },
        "outputId": "85297802-48b8-4adf-b3aa-afc2ef5fb20b"
      },
      "source": [
        "# podemos utilizar la función all() para evaluar si todos los elementos de un vector son TRUE.\n",
        "all(c(T,F,T))\n",
        "all(c(T,T,T))"
      ],
      "execution_count": 93,
      "outputs": [
        {
          "output_type": "display_data",
          "data": {
            "text/html": [
              "FALSE"
            ],
            "text/markdown": "FALSE",
            "text/latex": "FALSE",
            "text/plain": [
              "[1] FALSE"
            ]
          },
          "metadata": {}
        },
        {
          "output_type": "display_data",
          "data": {
            "text/html": [
              "TRUE"
            ],
            "text/markdown": "TRUE",
            "text/latex": "TRUE",
            "text/plain": [
              "[1] TRUE"
            ]
          },
          "metadata": {}
        }
      ]
    },
    {
      "cell_type": "code",
      "metadata": {
        "id": "Wd-mSv3PIgv4"
      },
      "source": [
        "# si quisiéramos evaluar que todos los elementos de la izq. estén en la derecha,\n",
        "# podemos utilizar la función all()."
      ],
      "execution_count": null,
      "outputs": []
    },
    {
      "cell_type": "code",
      "metadata": {
        "id": "1YGnzt1zIgv7",
        "colab": {
          "base_uri": "https://localhost:8080/",
          "height": 34
        },
        "outputId": "436fad02-e741-4bf0-cd9d-963b06c6448b"
      },
      "source": [
        "# aritmética con vectores\n",
        "# operación de vectore de igual largo\n",
        "c(1,2,3) + c(10,20,30)# bis con *, /"
      ],
      "execution_count": 94,
      "outputs": [
        {
          "output_type": "display_data",
          "data": {
            "text/html": [
              "<style>\n",
              ".list-inline {list-style: none; margin:0; padding: 0}\n",
              ".list-inline>li {display: inline-block}\n",
              ".list-inline>li:not(:last-child)::after {content: \"\\00b7\"; padding: 0 .5ex}\n",
              "</style>\n",
              "<ol class=list-inline><li>11</li><li>22</li><li>33</li></ol>\n"
            ],
            "text/markdown": "1. 11\n2. 22\n3. 33\n\n\n",
            "text/latex": "\\begin{enumerate*}\n\\item 11\n\\item 22\n\\item 33\n\\end{enumerate*}\n",
            "text/plain": [
              "[1] 11 22 33"
            ]
          },
          "metadata": {}
        }
      ]
    },
    {
      "cell_type": "code",
      "metadata": {
        "id": "Bw8lX76XIgv8",
        "colab": {
          "base_uri": "https://localhost:8080/",
          "height": 34
        },
        "outputId": "0de61a04-e559-4ecf-c669-3bba2e8f44ef"
      },
      "source": [
        "#ponderaciones por escalares\n",
        "c(1,2,3) * 100"
      ],
      "execution_count": 95,
      "outputs": [
        {
          "output_type": "display_data",
          "data": {
            "text/html": [
              "<style>\n",
              ".list-inline {list-style: none; margin:0; padding: 0}\n",
              ".list-inline>li {display: inline-block}\n",
              ".list-inline>li:not(:last-child)::after {content: \"\\00b7\"; padding: 0 .5ex}\n",
              "</style>\n",
              "<ol class=list-inline><li>100</li><li>200</li><li>300</li></ol>\n"
            ],
            "text/markdown": "1. 100\n2. 200\n3. 300\n\n\n",
            "text/latex": "\\begin{enumerate*}\n\\item 100\n\\item 200\n\\item 300\n\\end{enumerate*}\n",
            "text/plain": [
              "[1] 100 200 300"
            ]
          },
          "metadata": {}
        }
      ]
    },
    {
      "cell_type": "code",
      "metadata": {
        "id": "syufc9_OIgv_",
        "colab": {
          "base_uri": "https://localhost:8080/",
          "height": 69
        },
        "outputId": "461193f0-0242-4b46-c951-0de48f8134b9"
      },
      "source": [
        "#CUIDADO: Si se operan vectores de dstinto largo se reciclan los valores del vector más pequeño\n",
        "c(1,2,3) + c(10,20)"
      ],
      "execution_count": 96,
      "outputs": [
        {
          "output_type": "stream",
          "name": "stderr",
          "text": [
            "Warning message in c(1, 2, 3) + c(10, 20):\n",
            "“longer object length is not a multiple of shorter object length”\n"
          ]
        },
        {
          "output_type": "display_data",
          "data": {
            "text/html": [
              "<style>\n",
              ".list-inline {list-style: none; margin:0; padding: 0}\n",
              ".list-inline>li {display: inline-block}\n",
              ".list-inline>li:not(:last-child)::after {content: \"\\00b7\"; padding: 0 .5ex}\n",
              "</style>\n",
              "<ol class=list-inline><li>11</li><li>22</li><li>13</li></ol>\n"
            ],
            "text/markdown": "1. 11\n2. 22\n3. 13\n\n\n",
            "text/latex": "\\begin{enumerate*}\n\\item 11\n\\item 22\n\\item 13\n\\end{enumerate*}\n",
            "text/plain": [
              "[1] 11 22 13"
            ]
          },
          "metadata": {}
        }
      ]
    },
    {
      "cell_type": "code",
      "metadata": {
        "id": "9kfbx6J4IgwC"
      },
      "source": [
        "# NOTA:\n",
        "# podemos determinar el largo de un vector mediante la función length()\n"
      ],
      "execution_count": null,
      "outputs": []
    },
    {
      "cell_type": "markdown",
      "metadata": {
        "id": "LIr-IFowIgwD"
      },
      "source": [
        "**Secuencias**\n",
        "\n",
        "En R es posible generar de manera rápida y sencilla algunas secuencias numéricas y almacenarlas en un vector.\n",
        "\n",
        "Ejemplo de estas funciones son :\n",
        "\n",
        "    rep()\n",
        "    seq()\n",
        "    \n",
        "Más adelante veremos como generar números aleatorios siguiendo alguna función de distribución de interés.\n",
        "\n"
      ]
    },
    {
      "cell_type": "code",
      "metadata": {
        "id": "wk0fB_gWIgwE",
        "colab": {
          "base_uri": "https://localhost:8080/",
          "height": 34
        },
        "outputId": "dff6dd75-560e-4e4b-c588-591774d67e75"
      },
      "source": [
        "# a vimos que fácilmente ppodemos generar vectores de enteros consecutivos vía \":\"\n",
        "4:10"
      ],
      "execution_count": 97,
      "outputs": [
        {
          "output_type": "display_data",
          "data": {
            "text/html": [
              "<style>\n",
              ".list-inline {list-style: none; margin:0; padding: 0}\n",
              ".list-inline>li {display: inline-block}\n",
              ".list-inline>li:not(:last-child)::after {content: \"\\00b7\"; padding: 0 .5ex}\n",
              "</style>\n",
              "<ol class=list-inline><li>4</li><li>5</li><li>6</li><li>7</li><li>8</li><li>9</li><li>10</li></ol>\n"
            ],
            "text/markdown": "1. 4\n2. 5\n3. 6\n4. 7\n5. 8\n6. 9\n7. 10\n\n\n",
            "text/latex": "\\begin{enumerate*}\n\\item 4\n\\item 5\n\\item 6\n\\item 7\n\\item 8\n\\item 9\n\\item 10\n\\end{enumerate*}\n",
            "text/plain": [
              "[1]  4  5  6  7  8  9 10"
            ]
          },
          "metadata": {}
        }
      ]
    },
    {
      "cell_type": "code",
      "metadata": {
        "id": "gGkgGylnIgwK",
        "colab": {
          "base_uri": "https://localhost:8080/",
          "height": 52
        },
        "outputId": "9f60fb06-6e81-42ce-9185-08c43c5166ce"
      },
      "source": [
        "# ejemplo de función seq (utilice argumento by, y otro ejemplo con argumento length.out)\n",
        "seq(from = 2, to = 100, by = 2)"
      ],
      "execution_count": 98,
      "outputs": [
        {
          "output_type": "display_data",
          "data": {
            "text/html": [
              "<style>\n",
              ".list-inline {list-style: none; margin:0; padding: 0}\n",
              ".list-inline>li {display: inline-block}\n",
              ".list-inline>li:not(:last-child)::after {content: \"\\00b7\"; padding: 0 .5ex}\n",
              "</style>\n",
              "<ol class=list-inline><li>2</li><li>4</li><li>6</li><li>8</li><li>10</li><li>12</li><li>14</li><li>16</li><li>18</li><li>20</li><li>22</li><li>24</li><li>26</li><li>28</li><li>30</li><li>32</li><li>34</li><li>36</li><li>38</li><li>40</li><li>42</li><li>44</li><li>46</li><li>48</li><li>50</li><li>52</li><li>54</li><li>56</li><li>58</li><li>60</li><li>62</li><li>64</li><li>66</li><li>68</li><li>70</li><li>72</li><li>74</li><li>76</li><li>78</li><li>80</li><li>82</li><li>84</li><li>86</li><li>88</li><li>90</li><li>92</li><li>94</li><li>96</li><li>98</li><li>100</li></ol>\n"
            ],
            "text/markdown": "1. 2\n2. 4\n3. 6\n4. 8\n5. 10\n6. 12\n7. 14\n8. 16\n9. 18\n10. 20\n11. 22\n12. 24\n13. 26\n14. 28\n15. 30\n16. 32\n17. 34\n18. 36\n19. 38\n20. 40\n21. 42\n22. 44\n23. 46\n24. 48\n25. 50\n26. 52\n27. 54\n28. 56\n29. 58\n30. 60\n31. 62\n32. 64\n33. 66\n34. 68\n35. 70\n36. 72\n37. 74\n38. 76\n39. 78\n40. 80\n41. 82\n42. 84\n43. 86\n44. 88\n45. 90\n46. 92\n47. 94\n48. 96\n49. 98\n50. 100\n\n\n",
            "text/latex": "\\begin{enumerate*}\n\\item 2\n\\item 4\n\\item 6\n\\item 8\n\\item 10\n\\item 12\n\\item 14\n\\item 16\n\\item 18\n\\item 20\n\\item 22\n\\item 24\n\\item 26\n\\item 28\n\\item 30\n\\item 32\n\\item 34\n\\item 36\n\\item 38\n\\item 40\n\\item 42\n\\item 44\n\\item 46\n\\item 48\n\\item 50\n\\item 52\n\\item 54\n\\item 56\n\\item 58\n\\item 60\n\\item 62\n\\item 64\n\\item 66\n\\item 68\n\\item 70\n\\item 72\n\\item 74\n\\item 76\n\\item 78\n\\item 80\n\\item 82\n\\item 84\n\\item 86\n\\item 88\n\\item 90\n\\item 92\n\\item 94\n\\item 96\n\\item 98\n\\item 100\n\\end{enumerate*}\n",
            "text/plain": [
              " [1]   2   4   6   8  10  12  14  16  18  20  22  24  26  28  30  32  34  36  38\n",
              "[20]  40  42  44  46  48  50  52  54  56  58  60  62  64  66  68  70  72  74  76\n",
              "[39]  78  80  82  84  86  88  90  92  94  96  98 100"
            ]
          },
          "metadata": {}
        }
      ]
    },
    {
      "cell_type": "code",
      "source": [
        "seq(from = 0,to = 1,by = 0.1)"
      ],
      "metadata": {
        "id": "5Q66bprOp6Kv",
        "outputId": "50e87882-20aa-482c-89bb-67fe99e8fbb4",
        "colab": {
          "base_uri": "https://localhost:8080/",
          "height": 34
        }
      },
      "execution_count": 99,
      "outputs": [
        {
          "output_type": "display_data",
          "data": {
            "text/html": [
              "<style>\n",
              ".list-inline {list-style: none; margin:0; padding: 0}\n",
              ".list-inline>li {display: inline-block}\n",
              ".list-inline>li:not(:last-child)::after {content: \"\\00b7\"; padding: 0 .5ex}\n",
              "</style>\n",
              "<ol class=list-inline><li>0</li><li>0.1</li><li>0.2</li><li>0.3</li><li>0.4</li><li>0.5</li><li>0.6</li><li>0.7</li><li>0.8</li><li>0.9</li><li>1</li></ol>\n"
            ],
            "text/markdown": "1. 0\n2. 0.1\n3. 0.2\n4. 0.3\n5. 0.4\n6. 0.5\n7. 0.6\n8. 0.7\n9. 0.8\n10. 0.9\n11. 1\n\n\n",
            "text/latex": "\\begin{enumerate*}\n\\item 0\n\\item 0.1\n\\item 0.2\n\\item 0.3\n\\item 0.4\n\\item 0.5\n\\item 0.6\n\\item 0.7\n\\item 0.8\n\\item 0.9\n\\item 1\n\\end{enumerate*}\n",
            "text/plain": [
              " [1] 0.0 0.1 0.2 0.3 0.4 0.5 0.6 0.7 0.8 0.9 1.0"
            ]
          },
          "metadata": {}
        }
      ]
    },
    {
      "cell_type": "code",
      "source": [
        "seq(from = 0,to = 1, length.out = 70)"
      ],
      "metadata": {
        "id": "bHy0f2xbqBq3",
        "outputId": "8084bef7-96e7-41a2-fc30-22d3535e7f28",
        "colab": {
          "base_uri": "https://localhost:8080/",
          "height": 173
        }
      },
      "execution_count": 100,
      "outputs": [
        {
          "output_type": "display_data",
          "data": {
            "text/html": [
              "<style>\n",
              ".list-inline {list-style: none; margin:0; padding: 0}\n",
              ".list-inline>li {display: inline-block}\n",
              ".list-inline>li:not(:last-child)::after {content: \"\\00b7\"; padding: 0 .5ex}\n",
              "</style>\n",
              "<ol class=list-inline><li>0</li><li>0.0144927536231884</li><li>0.0289855072463768</li><li>0.0434782608695652</li><li>0.0579710144927536</li><li>0.072463768115942</li><li>0.0869565217391304</li><li>0.101449275362319</li><li>0.115942028985507</li><li>0.130434782608696</li><li>0.144927536231884</li><li>0.159420289855072</li><li>0.173913043478261</li><li>0.188405797101449</li><li>0.202898550724638</li><li>0.217391304347826</li><li>0.231884057971014</li><li>0.246376811594203</li><li>0.260869565217391</li><li>0.27536231884058</li><li>0.289855072463768</li><li>0.304347826086957</li><li>0.318840579710145</li><li>0.333333333333333</li><li>0.347826086956522</li><li>0.36231884057971</li><li>0.376811594202899</li><li>0.391304347826087</li><li>0.405797101449275</li><li>0.420289855072464</li><li>0.434782608695652</li><li>0.449275362318841</li><li>0.463768115942029</li><li>0.478260869565217</li><li>0.492753623188406</li><li>0.507246376811594</li><li>0.521739130434783</li><li>0.536231884057971</li><li>0.550724637681159</li><li>0.565217391304348</li><li>0.579710144927536</li><li>0.594202898550725</li><li>0.608695652173913</li><li>0.623188405797101</li><li>0.63768115942029</li><li>0.652173913043478</li><li>0.666666666666667</li><li>0.681159420289855</li><li>0.695652173913043</li><li>0.710144927536232</li><li>0.72463768115942</li><li>0.739130434782609</li><li>0.753623188405797</li><li>0.768115942028985</li><li>0.782608695652174</li><li>0.797101449275362</li><li>0.811594202898551</li><li>0.826086956521739</li><li>0.840579710144927</li><li>0.855072463768116</li><li>0.869565217391304</li><li>0.884057971014493</li><li>0.898550724637681</li><li>0.91304347826087</li><li>0.927536231884058</li><li>0.942028985507246</li><li>0.956521739130435</li><li>0.971014492753623</li><li>0.985507246376812</li><li>1</li></ol>\n"
            ],
            "text/markdown": "1. 0\n2. 0.0144927536231884\n3. 0.0289855072463768\n4. 0.0434782608695652\n5. 0.0579710144927536\n6. 0.072463768115942\n7. 0.0869565217391304\n8. 0.101449275362319\n9. 0.115942028985507\n10. 0.130434782608696\n11. 0.144927536231884\n12. 0.159420289855072\n13. 0.173913043478261\n14. 0.188405797101449\n15. 0.202898550724638\n16. 0.217391304347826\n17. 0.231884057971014\n18. 0.246376811594203\n19. 0.260869565217391\n20. 0.27536231884058\n21. 0.289855072463768\n22. 0.304347826086957\n23. 0.318840579710145\n24. 0.333333333333333\n25. 0.347826086956522\n26. 0.36231884057971\n27. 0.376811594202899\n28. 0.391304347826087\n29. 0.405797101449275\n30. 0.420289855072464\n31. 0.434782608695652\n32. 0.449275362318841\n33. 0.463768115942029\n34. 0.478260869565217\n35. 0.492753623188406\n36. 0.507246376811594\n37. 0.521739130434783\n38. 0.536231884057971\n39. 0.550724637681159\n40. 0.565217391304348\n41. 0.579710144927536\n42. 0.594202898550725\n43. 0.608695652173913\n44. 0.623188405797101\n45. 0.63768115942029\n46. 0.652173913043478\n47. 0.666666666666667\n48. 0.681159420289855\n49. 0.695652173913043\n50. 0.710144927536232\n51. 0.72463768115942\n52. 0.739130434782609\n53. 0.753623188405797\n54. 0.768115942028985\n55. 0.782608695652174\n56. 0.797101449275362\n57. 0.811594202898551\n58. 0.826086956521739\n59. 0.840579710144927\n60. 0.855072463768116\n61. 0.869565217391304\n62. 0.884057971014493\n63. 0.898550724637681\n64. 0.91304347826087\n65. 0.927536231884058\n66. 0.942028985507246\n67. 0.956521739130435\n68. 0.971014492753623\n69. 0.985507246376812\n70. 1\n\n\n",
            "text/latex": "\\begin{enumerate*}\n\\item 0\n\\item 0.0144927536231884\n\\item 0.0289855072463768\n\\item 0.0434782608695652\n\\item 0.0579710144927536\n\\item 0.072463768115942\n\\item 0.0869565217391304\n\\item 0.101449275362319\n\\item 0.115942028985507\n\\item 0.130434782608696\n\\item 0.144927536231884\n\\item 0.159420289855072\n\\item 0.173913043478261\n\\item 0.188405797101449\n\\item 0.202898550724638\n\\item 0.217391304347826\n\\item 0.231884057971014\n\\item 0.246376811594203\n\\item 0.260869565217391\n\\item 0.27536231884058\n\\item 0.289855072463768\n\\item 0.304347826086957\n\\item 0.318840579710145\n\\item 0.333333333333333\n\\item 0.347826086956522\n\\item 0.36231884057971\n\\item 0.376811594202899\n\\item 0.391304347826087\n\\item 0.405797101449275\n\\item 0.420289855072464\n\\item 0.434782608695652\n\\item 0.449275362318841\n\\item 0.463768115942029\n\\item 0.478260869565217\n\\item 0.492753623188406\n\\item 0.507246376811594\n\\item 0.521739130434783\n\\item 0.536231884057971\n\\item 0.550724637681159\n\\item 0.565217391304348\n\\item 0.579710144927536\n\\item 0.594202898550725\n\\item 0.608695652173913\n\\item 0.623188405797101\n\\item 0.63768115942029\n\\item 0.652173913043478\n\\item 0.666666666666667\n\\item 0.681159420289855\n\\item 0.695652173913043\n\\item 0.710144927536232\n\\item 0.72463768115942\n\\item 0.739130434782609\n\\item 0.753623188405797\n\\item 0.768115942028985\n\\item 0.782608695652174\n\\item 0.797101449275362\n\\item 0.811594202898551\n\\item 0.826086956521739\n\\item 0.840579710144927\n\\item 0.855072463768116\n\\item 0.869565217391304\n\\item 0.884057971014493\n\\item 0.898550724637681\n\\item 0.91304347826087\n\\item 0.927536231884058\n\\item 0.942028985507246\n\\item 0.956521739130435\n\\item 0.971014492753623\n\\item 0.985507246376812\n\\item 1\n\\end{enumerate*}\n",
            "text/plain": [
              " [1] 0.00000000 0.01449275 0.02898551 0.04347826 0.05797101 0.07246377\n",
              " [7] 0.08695652 0.10144928 0.11594203 0.13043478 0.14492754 0.15942029\n",
              "[13] 0.17391304 0.18840580 0.20289855 0.21739130 0.23188406 0.24637681\n",
              "[19] 0.26086957 0.27536232 0.28985507 0.30434783 0.31884058 0.33333333\n",
              "[25] 0.34782609 0.36231884 0.37681159 0.39130435 0.40579710 0.42028986\n",
              "[31] 0.43478261 0.44927536 0.46376812 0.47826087 0.49275362 0.50724638\n",
              "[37] 0.52173913 0.53623188 0.55072464 0.56521739 0.57971014 0.59420290\n",
              "[43] 0.60869565 0.62318841 0.63768116 0.65217391 0.66666667 0.68115942\n",
              "[49] 0.69565217 0.71014493 0.72463768 0.73913043 0.75362319 0.76811594\n",
              "[55] 0.78260870 0.79710145 0.81159420 0.82608696 0.84057971 0.85507246\n",
              "[61] 0.86956522 0.88405797 0.89855072 0.91304348 0.92753623 0.94202899\n",
              "[67] 0.95652174 0.97101449 0.98550725 1.00000000"
            ]
          },
          "metadata": {}
        }
      ]
    },
    {
      "cell_type": "code",
      "source": [
        "seq(from = 1,to = 10,by = 1,length.out = 70 )# Ejemplo inconsistente"
      ],
      "metadata": {
        "id": "1ZIzVx9YqwFd",
        "outputId": "5e703a0c-0225-4b63-bf82-2038740167f1",
        "colab": {
          "base_uri": "https://localhost:8080/",
          "height": 166
        }
      },
      "execution_count": 101,
      "outputs": [
        {
          "output_type": "error",
          "ename": "ERROR",
          "evalue": "ignored",
          "traceback": [
            "Error in seq.default(from = 1, to = 10, by = 1, length.out = 70): too many arguments\nTraceback:\n",
            "1. seq(from = 1, to = 10, by = 1, length.out = 70)",
            "2. seq.default(from = 1, to = 10, by = 1, length.out = 70)",
            "3. stop(\"too many arguments\")"
          ]
        }
      ]
    },
    {
      "cell_type": "code",
      "metadata": {
        "id": "rG-Q3PmhIgwG",
        "colab": {
          "base_uri": "https://localhost:8080/",
          "height": 34
        },
        "outputId": "85c24a2a-70c8-4ac7-ecd7-134223e0dfa7"
      },
      "source": [
        "# Ejemplo de secuencia con rep (utilice distintos tipos de datos)\n",
        "rep(x = c(\"a\",\"b\",\"c\"), times = 3)"
      ],
      "execution_count": 102,
      "outputs": [
        {
          "output_type": "display_data",
          "data": {
            "text/html": [
              "<style>\n",
              ".list-inline {list-style: none; margin:0; padding: 0}\n",
              ".list-inline>li {display: inline-block}\n",
              ".list-inline>li:not(:last-child)::after {content: \"\\00b7\"; padding: 0 .5ex}\n",
              "</style>\n",
              "<ol class=list-inline><li>'a'</li><li>'b'</li><li>'c'</li><li>'a'</li><li>'b'</li><li>'c'</li><li>'a'</li><li>'b'</li><li>'c'</li></ol>\n"
            ],
            "text/markdown": "1. 'a'\n2. 'b'\n3. 'c'\n4. 'a'\n5. 'b'\n6. 'c'\n7. 'a'\n8. 'b'\n9. 'c'\n\n\n",
            "text/latex": "\\begin{enumerate*}\n\\item 'a'\n\\item 'b'\n\\item 'c'\n\\item 'a'\n\\item 'b'\n\\item 'c'\n\\item 'a'\n\\item 'b'\n\\item 'c'\n\\end{enumerate*}\n",
            "text/plain": [
              "[1] \"a\" \"b\" \"c\" \"a\" \"b\" \"c\" \"a\" \"b\" \"c\""
            ]
          },
          "metadata": {}
        }
      ]
    },
    {
      "cell_type": "code",
      "source": [
        "rep(x = c(\"a\",\"b\",\"c\"), length.out = 10) # # podemos controlar el largo del vector resultante con el parámetro length.out"
      ],
      "metadata": {
        "id": "hNfqgl9lrnTP",
        "outputId": "81374a4a-b6be-4cfe-e480-0e34348389c6",
        "colab": {
          "base_uri": "https://localhost:8080/",
          "height": 34
        }
      },
      "execution_count": 103,
      "outputs": [
        {
          "output_type": "display_data",
          "data": {
            "text/html": [
              "<style>\n",
              ".list-inline {list-style: none; margin:0; padding: 0}\n",
              ".list-inline>li {display: inline-block}\n",
              ".list-inline>li:not(:last-child)::after {content: \"\\00b7\"; padding: 0 .5ex}\n",
              "</style>\n",
              "<ol class=list-inline><li>'a'</li><li>'b'</li><li>'c'</li><li>'a'</li><li>'b'</li><li>'c'</li><li>'a'</li><li>'b'</li><li>'c'</li><li>'a'</li></ol>\n"
            ],
            "text/markdown": "1. 'a'\n2. 'b'\n3. 'c'\n4. 'a'\n5. 'b'\n6. 'c'\n7. 'a'\n8. 'b'\n9. 'c'\n10. 'a'\n\n\n",
            "text/latex": "\\begin{enumerate*}\n\\item 'a'\n\\item 'b'\n\\item 'c'\n\\item 'a'\n\\item 'b'\n\\item 'c'\n\\item 'a'\n\\item 'b'\n\\item 'c'\n\\item 'a'\n\\end{enumerate*}\n",
            "text/plain": [
              " [1] \"a\" \"b\" \"c\" \"a\" \"b\" \"c\" \"a\" \"b\" \"c\" \"a\""
            ]
          },
          "metadata": {}
        }
      ]
    },
    {
      "cell_type": "code",
      "source": [
        "rep(x = c(\"a\",\"b\",\"c\"), times = 3, each = 2)"
      ],
      "metadata": {
        "id": "q3PJn5KwrvuU",
        "outputId": "f7b4b3ec-90c9-4772-e34e-dde7d91f52ad",
        "colab": {
          "base_uri": "https://localhost:8080/",
          "height": 34
        }
      },
      "execution_count": 104,
      "outputs": [
        {
          "output_type": "display_data",
          "data": {
            "text/html": [
              "<style>\n",
              ".list-inline {list-style: none; margin:0; padding: 0}\n",
              ".list-inline>li {display: inline-block}\n",
              ".list-inline>li:not(:last-child)::after {content: \"\\00b7\"; padding: 0 .5ex}\n",
              "</style>\n",
              "<ol class=list-inline><li>'a'</li><li>'a'</li><li>'b'</li><li>'b'</li><li>'c'</li><li>'c'</li><li>'a'</li><li>'a'</li><li>'b'</li><li>'b'</li><li>'c'</li><li>'c'</li><li>'a'</li><li>'a'</li><li>'b'</li><li>'b'</li><li>'c'</li><li>'c'</li></ol>\n"
            ],
            "text/markdown": "1. 'a'\n2. 'a'\n3. 'b'\n4. 'b'\n5. 'c'\n6. 'c'\n7. 'a'\n8. 'a'\n9. 'b'\n10. 'b'\n11. 'c'\n12. 'c'\n13. 'a'\n14. 'a'\n15. 'b'\n16. 'b'\n17. 'c'\n18. 'c'\n\n\n",
            "text/latex": "\\begin{enumerate*}\n\\item 'a'\n\\item 'a'\n\\item 'b'\n\\item 'b'\n\\item 'c'\n\\item 'c'\n\\item 'a'\n\\item 'a'\n\\item 'b'\n\\item 'b'\n\\item 'c'\n\\item 'c'\n\\item 'a'\n\\item 'a'\n\\item 'b'\n\\item 'b'\n\\item 'c'\n\\item 'c'\n\\end{enumerate*}\n",
            "text/plain": [
              " [1] \"a\" \"a\" \"b\" \"b\" \"c\" \"c\" \"a\" \"a\" \"b\" \"b\" \"c\" \"c\" \"a\" \"a\" \"b\" \"b\" \"c\" \"c\""
            ]
          },
          "metadata": {}
        }
      ]
    },
    {
      "cell_type": "code",
      "metadata": {
        "id": "psRswQHBIgwO",
        "colab": {
          "base_uri": "https://localhost:8080/",
          "height": 52
        },
        "outputId": "571a64c4-760a-4629-87dc-d27d68577c75"
      },
      "source": [
        "# ejemplo de vector aleatorio siguiendo una determinada distribución\n",
        "\n",
        "# distribución uniforme\n",
        "runif(10, 20,30)\n",
        "# distribución normal # cuando simulamos edades.\n",
        "\n",
        "\n",
        "\n",
        "\n",
        "\n"
      ],
      "execution_count": 106,
      "outputs": [
        {
          "output_type": "display_data",
          "data": {
            "text/html": [
              "<style>\n",
              ".list-inline {list-style: none; margin:0; padding: 0}\n",
              ".list-inline>li {display: inline-block}\n",
              ".list-inline>li:not(:last-child)::after {content: \"\\00b7\"; padding: 0 .5ex}\n",
              "</style>\n",
              "<ol class=list-inline><li>26.4075374067761</li><li>21.9111662521027</li><li>29.5220325374976</li><li>28.472328253556</li><li>29.2619796073996</li><li>20.7161874230951</li><li>24.8689646832645</li><li>28.0656180297956</li><li>20.5171628645621</li><li>21.3025369192474</li></ol>\n"
            ],
            "text/markdown": "1. 26.4075374067761\n2. 21.9111662521027\n3. 29.5220325374976\n4. 28.472328253556\n5. 29.2619796073996\n6. 20.7161874230951\n7. 24.8689646832645\n8. 28.0656180297956\n9. 20.5171628645621\n10. 21.3025369192474\n\n\n",
            "text/latex": "\\begin{enumerate*}\n\\item 26.4075374067761\n\\item 21.9111662521027\n\\item 29.5220325374976\n\\item 28.472328253556\n\\item 29.2619796073996\n\\item 20.7161874230951\n\\item 24.8689646832645\n\\item 28.0656180297956\n\\item 20.5171628645621\n\\item 21.3025369192474\n\\end{enumerate*}\n",
            "text/plain": [
              " [1] 26.40754 21.91117 29.52203 28.47233 29.26198 20.71619 24.86896 28.06562\n",
              " [9] 20.51716 21.30254"
            ]
          },
          "metadata": {}
        }
      ]
    },
    {
      "cell_type": "markdown",
      "metadata": {
        "id": "TlnEINwUIgwP"
      },
      "source": [
        "### 3.2 Funciones (primera parte)\n",
        "\n",
        "#### 3.2.1 Funciones vectorizadas y operaciones con vectores\n",
        "\n",
        "R es un lenguaje funcional, en el sentido de que prácticamente cada llamada a R corresponde a una función que puede (o no) recibir argumentos de entrada.\n",
        "Una de las ventajas es que existe una amplia, muy amplia,... verdaderamente amplia!, variedad de funciones disponibles, tanto en las librerías que vienen con la instalación por defecto como las librerías disponibles en CRAN o en toda la comunidad R.\n",
        "\n",
        "En R, una función $f$ se dice vectorizada si dado un vector $\\mathbf{x}=(x_1,x_2,\\dots,x_n)$, se tiene que $f(\\mathbf{x})=(f(x_1),f(x_2),\\dots,f(x_n))$.\n",
        "Esto hace que, por ejemplo, la aritmética de vectores se más sencilla de implentar y con un menor tiempo de cómputo . Gran parte de las funciones disponibles en la librerías (bibliotecas o *packages*) de R corresponden a funciones vectorizadas.\n",
        "A modo de ejemplo, a cotinuación se muestran algunas funciones (de las más básicas) aritméticas, y funciones para trabajar con texto:\n",
        "    \n",
        "    +,-,*,/\n",
        "    abs()\n",
        "    sqrt()\n",
        "    cos()\n",
        "    sin()\n",
        "    tan()\n",
        "    nchar()\n",
        "    susbtr()\n",
        "    grepl()\n",
        "    gsub()\n",
        "    \n",
        "   \n",
        "   \n",
        "   "
      ]
    },
    {
      "cell_type": "code",
      "metadata": {
        "id": "tO3oB1bnIgwP",
        "colab": {
          "base_uri": "https://localhost:8080/",
          "height": 34
        },
        "outputId": "a47189ef-1af3-482b-e04f-1000fdbf5dd5"
      },
      "source": [
        "# 3.2. Funciones (primera parte) ------------\n",
        "# 3.2.1 Funciones vectorizadas\n",
        "# Ejemplos básicos de funciones(vectorizadas)\n",
        "sqrt(c(4,16,9,25,100))"
      ],
      "execution_count": 107,
      "outputs": [
        {
          "output_type": "display_data",
          "data": {
            "text/html": [
              "<style>\n",
              ".list-inline {list-style: none; margin:0; padding: 0}\n",
              ".list-inline>li {display: inline-block}\n",
              ".list-inline>li:not(:last-child)::after {content: \"\\00b7\"; padding: 0 .5ex}\n",
              "</style>\n",
              "<ol class=list-inline><li>2</li><li>4</li><li>3</li><li>5</li><li>10</li></ol>\n"
            ],
            "text/markdown": "1. 2\n2. 4\n3. 3\n4. 5\n5. 10\n\n\n",
            "text/latex": "\\begin{enumerate*}\n\\item 2\n\\item 4\n\\item 3\n\\item 5\n\\item 10\n\\end{enumerate*}\n",
            "text/plain": [
              "[1]  2  4  3  5 10"
            ]
          },
          "metadata": {}
        }
      ]
    },
    {
      "cell_type": "code",
      "metadata": {
        "id": "Z8L-KeGnIgwS"
      },
      "source": [],
      "execution_count": null,
      "outputs": []
    },
    {
      "cell_type": "code",
      "metadata": {
        "id": "NivskO3jIgwT",
        "colab": {
          "base_uri": "https://localhost:8080/",
          "height": 52
        },
        "outputId": "b36fae78-dc39-408b-ba52-e4a98e95e8da"
      },
      "source": [
        "# funciones para manipular texto\n",
        " #cantidad de caracteres\n",
        "nchar(\"hola\")\n",
        "nchar(c(\"hola\", \"soy\", \"su\", \"profe\"))\n"
      ],
      "execution_count": 109,
      "outputs": [
        {
          "output_type": "display_data",
          "data": {
            "text/html": [
              "4"
            ],
            "text/markdown": "4",
            "text/latex": "4",
            "text/plain": [
              "[1] 4"
            ]
          },
          "metadata": {}
        },
        {
          "output_type": "display_data",
          "data": {
            "text/html": [
              "<style>\n",
              ".list-inline {list-style: none; margin:0; padding: 0}\n",
              ".list-inline>li {display: inline-block}\n",
              ".list-inline>li:not(:last-child)::after {content: \"\\00b7\"; padding: 0 .5ex}\n",
              "</style>\n",
              "<ol class=list-inline><li>4</li><li>3</li><li>2</li><li>5</li></ol>\n"
            ],
            "text/markdown": "1. 4\n2. 3\n3. 2\n4. 5\n\n\n",
            "text/latex": "\\begin{enumerate*}\n\\item 4\n\\item 3\n\\item 2\n\\item 5\n\\end{enumerate*}\n",
            "text/plain": [
              "[1] 4 3 2 5"
            ]
          },
          "metadata": {}
        }
      ]
    },
    {
      "cell_type": "code",
      "metadata": {
        "id": "tA55foL1IgwX",
        "colab": {
          "base_uri": "https://localhost:8080/",
          "height": 52
        },
        "outputId": "3211af72-57c0-4f8c-9516-8419a805dc08"
      },
      "source": [
        "# substring substr()\n",
        "substr(\"Ejemplo\", 3,6)# Retorna el substring desde el caracter 3 hsta el 6\n",
        "substr(c(\"hola\", \"soy\", \"su\", \"profe\"), 2,4)"
      ],
      "execution_count": 112,
      "outputs": [
        {
          "output_type": "display_data",
          "data": {
            "text/html": [
              "'empl'"
            ],
            "text/markdown": "'empl'",
            "text/latex": "'empl'",
            "text/plain": [
              "[1] \"empl\""
            ]
          },
          "metadata": {}
        },
        {
          "output_type": "display_data",
          "data": {
            "text/html": [
              "<style>\n",
              ".list-inline {list-style: none; margin:0; padding: 0}\n",
              ".list-inline>li {display: inline-block}\n",
              ".list-inline>li:not(:last-child)::after {content: \"\\00b7\"; padding: 0 .5ex}\n",
              "</style>\n",
              "<ol class=list-inline><li>'ola'</li><li>'oy'</li><li>'u'</li><li>'rof'</li></ol>\n"
            ],
            "text/markdown": "1. 'ola'\n2. 'oy'\n3. 'u'\n4. 'rof'\n\n\n",
            "text/latex": "\\begin{enumerate*}\n\\item 'ola'\n\\item 'oy'\n\\item 'u'\n\\item 'rof'\n\\end{enumerate*}\n",
            "text/plain": [
              "[1] \"ola\" \"oy\"  \"u\"   \"rof\""
            ]
          },
          "metadata": {}
        }
      ]
    },
    {
      "cell_type": "code",
      "metadata": {
        "id": "vjRwdUbiIgwY",
        "colab": {
          "base_uri": "https://localhost:8080/",
          "height": 69
        },
        "outputId": "1e3776b0-0447-464c-995c-f3a9c90f9fb0"
      },
      "source": [
        "# grepl() evlaúa si un  caracter está contenido en otro. (LIKE)\n",
        "#?grepl()\n",
        "grepl(\"ala\", \"palabra\")\n",
        "grepl(\"alo\", \"palabra\")\n",
        "\n",
        "\n",
        "#gsub() reemblaza un substring por otro\n",
        "#?gsub\n",
        "\n",
        "# si reemplazamos en un vector de palabras\n",
        "grepl(\"ala\", c(\"palabra\", \"alas\", \"suelas\", \"koalas\"))\n"
      ],
      "execution_count": 114,
      "outputs": [
        {
          "output_type": "display_data",
          "data": {
            "text/html": [
              "TRUE"
            ],
            "text/markdown": "TRUE",
            "text/latex": "TRUE",
            "text/plain": [
              "[1] TRUE"
            ]
          },
          "metadata": {}
        },
        {
          "output_type": "display_data",
          "data": {
            "text/html": [
              "FALSE"
            ],
            "text/markdown": "FALSE",
            "text/latex": "FALSE",
            "text/plain": [
              "[1] FALSE"
            ]
          },
          "metadata": {}
        },
        {
          "output_type": "display_data",
          "data": {
            "text/html": [
              "<style>\n",
              ".list-inline {list-style: none; margin:0; padding: 0}\n",
              ".list-inline>li {display: inline-block}\n",
              ".list-inline>li:not(:last-child)::after {content: \"\\00b7\"; padding: 0 .5ex}\n",
              "</style>\n",
              "<ol class=list-inline><li>TRUE</li><li>TRUE</li><li>FALSE</li><li>TRUE</li></ol>\n"
            ],
            "text/markdown": "1. TRUE\n2. TRUE\n3. FALSE\n4. TRUE\n\n\n",
            "text/latex": "\\begin{enumerate*}\n\\item TRUE\n\\item TRUE\n\\item FALSE\n\\item TRUE\n\\end{enumerate*}\n",
            "text/plain": [
              "[1]  TRUE  TRUE FALSE  TRUE"
            ]
          },
          "metadata": {}
        }
      ]
    },
    {
      "cell_type": "code",
      "metadata": {
        "id": "0j9kKUbzIgwZ"
      },
      "source": [
        "#gsub() reemplaza caracteres dentro de un texto\n",
        "#https://www.tidytextmining.com/\n"
      ],
      "execution_count": null,
      "outputs": []
    }
  ]
}