{
  "nbformat": 4,
  "nbformat_minor": 0,
  "metadata": {
    "colab": {
      "provenance": [],
      "include_colab_link": true
    },
    "kernelspec": {
      "name": "ir",
      "display_name": "R"
    }
  },
  "cells": [
    {
      "cell_type": "markdown",
      "metadata": {
        "id": "view-in-github",
        "colab_type": "text"
      },
      "source": [
        "<a href=\"https://colab.research.google.com/github/majorquev/DBDC_202307_Programacion_en_R_para_ciencia_de_datos/blob/main/Clases/C1/Clase_1_02_vectores.ipynb\" target=\"_parent\"><img src=\"https://colab.research.google.com/assets/colab-badge.svg\" alt=\"Open In Colab\"/></a>"
      ]
    },
    {
      "cell_type": "markdown",
      "metadata": {
        "collapsed": true,
        "id": "Yb2RXjL2Igun"
      },
      "source": [
        "# Parte 1: Introducción a R (continuación)\n",
        "\n",
        "**Autor:** Miguel Jorquera Viguera<br>\n",
        "**E-mail:** majorquev@gmail.com<br>\n",
        "**Ayudante:** Rodrigo Morales <br>\n",
        "**E-mail ayudante:** rumorale1@gmail.com\n",
        "\n"
      ]
    },
    {
      "cell_type": "markdown",
      "metadata": {
        "id": "d_bHZs66Iguo"
      },
      "source": [
        "## 3. Vectores y matrices\n",
        "\n",
        "### 3.1 Vectores\n",
        "\n",
        "En R, así como en la mayoría de los lenguajes de programación, uno de los objetos más usuales para almacenar información son los vectores, los que corresponden a arreglos unidimensionales que almacenan un mismo tipo de dato en cada una de sus entradas.\n",
        "\n",
        "Todo vector en R se puede declarar con la letra \"c\" seguido de los elementos que lo componen entre paréntesis y separados por comas."
      ]
    },
    {
      "cell_type": "code",
      "metadata": {
        "id": "ljQ0JcsTIgup",
        "outputId": "475c7641-7ad0-4dab-da88-1ee4ec499667",
        "colab": {
          "base_uri": "https://localhost:8080/",
          "height": 34
        }
      },
      "source": [
        "# Declaración de dos vectores\n",
        "v1 <- c(1,1,2,3,5,8)\n",
        "v1"
      ],
      "execution_count": 2,
      "outputs": [
        {
          "output_type": "display_data",
          "data": {
            "text/html": [
              "<style>\n",
              ".list-inline {list-style: none; margin:0; padding: 0}\n",
              ".list-inline>li {display: inline-block}\n",
              ".list-inline>li:not(:last-child)::after {content: \"\\00b7\"; padding: 0 .5ex}\n",
              "</style>\n",
              "<ol class=list-inline><li>1</li><li>1</li><li>2</li><li>3</li><li>5</li><li>8</li></ol>\n"
            ],
            "text/markdown": "1. 1\n2. 1\n3. 2\n4. 3\n5. 5\n6. 8\n\n\n",
            "text/latex": "\\begin{enumerate*}\n\\item 1\n\\item 1\n\\item 2\n\\item 3\n\\item 5\n\\item 8\n\\end{enumerate*}\n",
            "text/plain": [
              "[1] 1 1 2 3 5 8"
            ]
          },
          "metadata": {}
        }
      ]
    },
    {
      "cell_type": "code",
      "metadata": {
        "id": "GxHhDdS4Iguy",
        "outputId": "d6766976-71f1-4c88-f345-d227f4f832a5",
        "colab": {
          "base_uri": "https://localhost:8080/",
          "height": 52
        }
      },
      "source": [
        "# clase y tipo de dato\n",
        "class(v1)\n",
        "typeof(v1)"
      ],
      "execution_count": 4,
      "outputs": [
        {
          "output_type": "display_data",
          "data": {
            "text/html": [
              "'numeric'"
            ],
            "text/markdown": "'numeric'",
            "text/latex": "'numeric'",
            "text/plain": [
              "[1] \"numeric\""
            ]
          },
          "metadata": {}
        },
        {
          "output_type": "display_data",
          "data": {
            "text/html": [
              "'double'"
            ],
            "text/markdown": "'double'",
            "text/latex": "'double'",
            "text/plain": [
              "[1] \"double\""
            ]
          },
          "metadata": {}
        }
      ]
    },
    {
      "cell_type": "code",
      "metadata": {
        "id": "FUBvbIN9Igu4",
        "outputId": "4430697a-baaf-492e-be9b-0a21cafb8755",
        "colab": {
          "base_uri": "https://localhost:8080/",
          "height": 69
        }
      },
      "source": [
        "# vectores lógicos\n",
        "vl <- c(TRUE, T, FALSE, F)\n",
        "vl\n",
        "class(vl)\n",
        "typeof(vl)"
      ],
      "execution_count": 6,
      "outputs": [
        {
          "output_type": "display_data",
          "data": {
            "text/html": [
              "<style>\n",
              ".list-inline {list-style: none; margin:0; padding: 0}\n",
              ".list-inline>li {display: inline-block}\n",
              ".list-inline>li:not(:last-child)::after {content: \"\\00b7\"; padding: 0 .5ex}\n",
              "</style>\n",
              "<ol class=list-inline><li>TRUE</li><li>TRUE</li><li>FALSE</li><li>FALSE</li></ol>\n"
            ],
            "text/markdown": "1. TRUE\n2. TRUE\n3. FALSE\n4. FALSE\n\n\n",
            "text/latex": "\\begin{enumerate*}\n\\item TRUE\n\\item TRUE\n\\item FALSE\n\\item FALSE\n\\end{enumerate*}\n",
            "text/plain": [
              "[1]  TRUE  TRUE FALSE FALSE"
            ]
          },
          "metadata": {}
        },
        {
          "output_type": "display_data",
          "data": {
            "text/html": [
              "'logical'"
            ],
            "text/markdown": "'logical'",
            "text/latex": "'logical'",
            "text/plain": [
              "[1] \"logical\""
            ]
          },
          "metadata": {}
        },
        {
          "output_type": "display_data",
          "data": {
            "text/html": [
              "'logical'"
            ],
            "text/markdown": "'logical'",
            "text/latex": "'logical'",
            "text/plain": [
              "[1] \"logical\""
            ]
          },
          "metadata": {}
        }
      ]
    },
    {
      "cell_type": "code",
      "source": [
        "letras <- c(\"a\",\"b\",\"c\",\"z\")\n",
        "letras"
      ],
      "metadata": {
        "id": "LlGe-uVm5xUz",
        "outputId": "9e1ed647-c9f9-4149-e788-8e0d29a9191c",
        "colab": {
          "base_uri": "https://localhost:8080/",
          "height": 34
        }
      },
      "execution_count": 7,
      "outputs": [
        {
          "output_type": "display_data",
          "data": {
            "text/html": [
              "<style>\n",
              ".list-inline {list-style: none; margin:0; padding: 0}\n",
              ".list-inline>li {display: inline-block}\n",
              ".list-inline>li:not(:last-child)::after {content: \"\\00b7\"; padding: 0 .5ex}\n",
              "</style>\n",
              "<ol class=list-inline><li>'a'</li><li>'b'</li><li>'c'</li><li>'z'</li></ol>\n"
            ],
            "text/markdown": "1. 'a'\n2. 'b'\n3. 'c'\n4. 'z'\n\n\n",
            "text/latex": "\\begin{enumerate*}\n\\item 'a'\n\\item 'b'\n\\item 'c'\n\\item 'z'\n\\end{enumerate*}\n",
            "text/plain": [
              "[1] \"a\" \"b\" \"c\" \"z\""
            ]
          },
          "metadata": {}
        }
      ]
    },
    {
      "cell_type": "code",
      "metadata": {
        "id": "R88mjniaIgu_",
        "outputId": "e6387231-4507-44e1-9431-df324b617a32",
        "colab": {
          "base_uri": "https://localhost:8080/",
          "height": 34
        }
      },
      "source": [
        "# Nombres de las entradas de un vector\n",
        "names(v1)\n"
      ],
      "execution_count": 8,
      "outputs": [
        {
          "output_type": "display_data",
          "data": {
            "text/plain": [
              "NULL"
            ]
          },
          "metadata": {}
        }
      ]
    },
    {
      "cell_type": "code",
      "metadata": {
        "id": "OAhPpN3vIgvB"
      },
      "source": [
        "# podemos asignar los nombres a vector 1\n",
        "names(v1) <- c(\"n1\",\"n2\", \"n3\",\"n4\",\"n5\",\"n6\")"
      ],
      "execution_count": 9,
      "outputs": []
    },
    {
      "cell_type": "code",
      "source": [],
      "metadata": {
        "id": "GdJ5pNsk6n-6"
      },
      "execution_count": null,
      "outputs": []
    },
    {
      "cell_type": "code",
      "source": [
        "v1"
      ],
      "metadata": {
        "id": "UXlLjS2R6beh",
        "outputId": "cbf001cf-ad7c-48da-ab78-8fbd83f5c115",
        "colab": {
          "base_uri": "https://localhost:8080/",
          "height": 34
        }
      },
      "execution_count": 10,
      "outputs": [
        {
          "output_type": "display_data",
          "data": {
            "text/html": [
              "<style>\n",
              ".dl-inline {width: auto; margin:0; padding: 0}\n",
              ".dl-inline>dt, .dl-inline>dd {float: none; width: auto; display: inline-block}\n",
              ".dl-inline>dt::after {content: \":\\0020\"; padding-right: .5ex}\n",
              ".dl-inline>dt:not(:first-of-type) {padding-left: .5ex}\n",
              "</style><dl class=dl-inline><dt>n1</dt><dd>1</dd><dt>n2</dt><dd>1</dd><dt>n3</dt><dd>2</dd><dt>n4</dt><dd>3</dd><dt>n5</dt><dd>5</dd><dt>n6</dt><dd>8</dd></dl>\n"
            ],
            "text/markdown": "n1\n:   1n2\n:   1n3\n:   2n4\n:   3n5\n:   5n6\n:   8\n\n",
            "text/latex": "\\begin{description*}\n\\item[n1] 1\n\\item[n2] 1\n\\item[n3] 2\n\\item[n4] 3\n\\item[n5] 5\n\\item[n6] 8\n\\end{description*}\n",
            "text/plain": [
              "n1 n2 n3 n4 n5 n6 \n",
              " 1  1  2  3  5  8 "
            ]
          },
          "metadata": {}
        }
      ]
    },
    {
      "cell_type": "code",
      "source": [
        "names(v1)"
      ],
      "metadata": {
        "id": "tZFwNW3z6jai",
        "outputId": "079d80a6-d70f-46b6-a89f-110215d895f0",
        "colab": {
          "base_uri": "https://localhost:8080/",
          "height": 34
        }
      },
      "execution_count": 11,
      "outputs": [
        {
          "output_type": "display_data",
          "data": {
            "text/html": [
              "<style>\n",
              ".list-inline {list-style: none; margin:0; padding: 0}\n",
              ".list-inline>li {display: inline-block}\n",
              ".list-inline>li:not(:last-child)::after {content: \"\\00b7\"; padding: 0 .5ex}\n",
              "</style>\n",
              "<ol class=list-inline><li>'n1'</li><li>'n2'</li><li>'n3'</li><li>'n4'</li><li>'n5'</li><li>'n6'</li></ol>\n"
            ],
            "text/markdown": "1. 'n1'\n2. 'n2'\n3. 'n3'\n4. 'n4'\n5. 'n5'\n6. 'n6'\n\n\n",
            "text/latex": "\\begin{enumerate*}\n\\item 'n1'\n\\item 'n2'\n\\item 'n3'\n\\item 'n4'\n\\item 'n5'\n\\item 'n6'\n\\end{enumerate*}\n",
            "text/plain": [
              "[1] \"n1\" \"n2\" \"n3\" \"n4\" \"n5\" \"n6\""
            ]
          },
          "metadata": {}
        }
      ]
    },
    {
      "cell_type": "code",
      "source": [
        "v3 <- c(p1 = \"Miguel\", p2 = \"Jorquera\", p3 = \"Viguera\")"
      ],
      "metadata": {
        "id": "BmhnFs_L6ovN"
      },
      "execution_count": 12,
      "outputs": []
    },
    {
      "cell_type": "code",
      "source": [
        "v3"
      ],
      "metadata": {
        "id": "W5waaxAX6xom",
        "outputId": "cd2508ca-27e8-4ead-e88f-dc481fec5482",
        "colab": {
          "base_uri": "https://localhost:8080/",
          "height": 34
        }
      },
      "execution_count": 13,
      "outputs": [
        {
          "output_type": "display_data",
          "data": {
            "text/html": [
              "<style>\n",
              ".dl-inline {width: auto; margin:0; padding: 0}\n",
              ".dl-inline>dt, .dl-inline>dd {float: none; width: auto; display: inline-block}\n",
              ".dl-inline>dt::after {content: \":\\0020\"; padding-right: .5ex}\n",
              ".dl-inline>dt:not(:first-of-type) {padding-left: .5ex}\n",
              "</style><dl class=dl-inline><dt>p1</dt><dd>'Miguel'</dd><dt>p2</dt><dd>'Jorquera'</dd><dt>p3</dt><dd>'Viguera'</dd></dl>\n"
            ],
            "text/markdown": "p1\n:   'Miguel'p2\n:   'Jorquera'p3\n:   'Viguera'\n\n",
            "text/latex": "\\begin{description*}\n\\item[p1] 'Miguel'\n\\item[p2] 'Jorquera'\n\\item[p3] 'Viguera'\n\\end{description*}\n",
            "text/plain": [
              "        p1         p2         p3 \n",
              "  \"Miguel\" \"Jorquera\"  \"Viguera\" "
            ]
          },
          "metadata": {}
        }
      ]
    },
    {
      "cell_type": "code",
      "source": [
        "names(v3)"
      ],
      "metadata": {
        "id": "9AR6QaPt6z_G",
        "outputId": "5e7c0a23-aad2-4044-8995-1d0bb2559313",
        "colab": {
          "base_uri": "https://localhost:8080/",
          "height": 34
        }
      },
      "execution_count": 14,
      "outputs": [
        {
          "output_type": "display_data",
          "data": {
            "text/html": [
              "<style>\n",
              ".list-inline {list-style: none; margin:0; padding: 0}\n",
              ".list-inline>li {display: inline-block}\n",
              ".list-inline>li:not(:last-child)::after {content: \"\\00b7\"; padding: 0 .5ex}\n",
              "</style>\n",
              "<ol class=list-inline><li>'p1'</li><li>'p2'</li><li>'p3'</li></ol>\n"
            ],
            "text/markdown": "1. 'p1'\n2. 'p2'\n3. 'p3'\n\n\n",
            "text/latex": "\\begin{enumerate*}\n\\item 'p1'\n\\item 'p2'\n\\item 'p3'\n\\end{enumerate*}\n",
            "text/plain": [
              "[1] \"p1\" \"p2\" \"p3\""
            ]
          },
          "metadata": {}
        }
      ]
    },
    {
      "cell_type": "code",
      "metadata": {
        "id": "E6dxkyP5IgvF"
      },
      "source": [
        "# nombres de las entradas con la función, names()\n"
      ],
      "execution_count": null,
      "outputs": []
    },
    {
      "cell_type": "code",
      "metadata": {
        "id": "7Ayre5BlIgvH",
        "outputId": "df6dc805-3bf2-4ca8-c322-34992d93a131",
        "colab": {
          "base_uri": "https://localhost:8080/",
          "height": 34
        }
      },
      "source": [
        "#combinar vectores\n",
        "v4 <- c(n7 = 13, n8=21)\n",
        "v4"
      ],
      "execution_count": 15,
      "outputs": [
        {
          "output_type": "display_data",
          "data": {
            "text/html": [
              "<style>\n",
              ".dl-inline {width: auto; margin:0; padding: 0}\n",
              ".dl-inline>dt, .dl-inline>dd {float: none; width: auto; display: inline-block}\n",
              ".dl-inline>dt::after {content: \":\\0020\"; padding-right: .5ex}\n",
              ".dl-inline>dt:not(:first-of-type) {padding-left: .5ex}\n",
              "</style><dl class=dl-inline><dt>n7</dt><dd>13</dd><dt>n8</dt><dd>21</dd></dl>\n"
            ],
            "text/markdown": "n7\n:   13n8\n:   21\n\n",
            "text/latex": "\\begin{description*}\n\\item[n7] 13\n\\item[n8] 21\n\\end{description*}\n",
            "text/plain": [
              "n7 n8 \n",
              "13 21 "
            ]
          },
          "metadata": {}
        }
      ]
    },
    {
      "cell_type": "code",
      "source": [
        "v5 <- c(v1,v4)\n",
        "v5"
      ],
      "metadata": {
        "id": "9fQD_Ivq7ELJ",
        "outputId": "a46d44ff-109b-46eb-d59b-e63f48888976",
        "colab": {
          "base_uri": "https://localhost:8080/",
          "height": 34
        }
      },
      "execution_count": 19,
      "outputs": [
        {
          "output_type": "display_data",
          "data": {
            "text/html": [
              "<style>\n",
              ".dl-inline {width: auto; margin:0; padding: 0}\n",
              ".dl-inline>dt, .dl-inline>dd {float: none; width: auto; display: inline-block}\n",
              ".dl-inline>dt::after {content: \":\\0020\"; padding-right: .5ex}\n",
              ".dl-inline>dt:not(:first-of-type) {padding-left: .5ex}\n",
              "</style><dl class=dl-inline><dt>n1</dt><dd>1</dd><dt>n2</dt><dd>1</dd><dt>n3</dt><dd>2</dd><dt>n4</dt><dd>3</dd><dt>n5</dt><dd>5</dd><dt>n6</dt><dd>8</dd><dt>n7</dt><dd>13</dd><dt>n8</dt><dd>21</dd><dt>n7</dt><dd>13</dd><dt>n8</dt><dd>21</dd></dl>\n"
            ],
            "text/markdown": "n1\n:   1n2\n:   1n3\n:   2n4\n:   3n5\n:   5n6\n:   8n7\n:   13n8\n:   21n7\n:   13n8\n:   21\n\n",
            "text/latex": "\\begin{description*}\n\\item[n1] 1\n\\item[n2] 1\n\\item[n3] 2\n\\item[n4] 3\n\\item[n5] 5\n\\item[n6] 8\n\\item[n7] 13\n\\item[n8] 21\n\\item[n7] 13\n\\item[n8] 21\n\\end{description*}\n",
            "text/plain": [
              "n1 n2 n3 n4 n5 n6 n7 n8 n7 n8 \n",
              " 1  1  2  3  5  8 13 21 13 21 "
            ]
          },
          "metadata": {}
        }
      ]
    },
    {
      "cell_type": "code",
      "metadata": {
        "id": "QETBghXxIgvI",
        "outputId": "8edd0026-2739-432b-e53a-cd2e675ef08c",
        "colab": {
          "base_uri": "https://localhost:8080/",
          "height": 69
        }
      },
      "source": [
        "# c : es una abreviación de \"combine\"\n",
        "v4;v3\n",
        "\n",
        "c(v4,v3)"
      ],
      "execution_count": 20,
      "outputs": [
        {
          "output_type": "display_data",
          "data": {
            "text/html": [
              "<style>\n",
              ".dl-inline {width: auto; margin:0; padding: 0}\n",
              ".dl-inline>dt, .dl-inline>dd {float: none; width: auto; display: inline-block}\n",
              ".dl-inline>dt::after {content: \":\\0020\"; padding-right: .5ex}\n",
              ".dl-inline>dt:not(:first-of-type) {padding-left: .5ex}\n",
              "</style><dl class=dl-inline><dt>n7</dt><dd>13</dd><dt>n8</dt><dd>21</dd></dl>\n"
            ],
            "text/markdown": "n7\n:   13n8\n:   21\n\n",
            "text/latex": "\\begin{description*}\n\\item[n7] 13\n\\item[n8] 21\n\\end{description*}\n",
            "text/plain": [
              "n7 n8 \n",
              "13 21 "
            ]
          },
          "metadata": {}
        },
        {
          "output_type": "display_data",
          "data": {
            "text/html": [
              "<style>\n",
              ".dl-inline {width: auto; margin:0; padding: 0}\n",
              ".dl-inline>dt, .dl-inline>dd {float: none; width: auto; display: inline-block}\n",
              ".dl-inline>dt::after {content: \":\\0020\"; padding-right: .5ex}\n",
              ".dl-inline>dt:not(:first-of-type) {padding-left: .5ex}\n",
              "</style><dl class=dl-inline><dt>p1</dt><dd>'Miguel'</dd><dt>p2</dt><dd>'Jorquera'</dd><dt>p3</dt><dd>'Viguera'</dd></dl>\n"
            ],
            "text/markdown": "p1\n:   'Miguel'p2\n:   'Jorquera'p3\n:   'Viguera'\n\n",
            "text/latex": "\\begin{description*}\n\\item[p1] 'Miguel'\n\\item[p2] 'Jorquera'\n\\item[p3] 'Viguera'\n\\end{description*}\n",
            "text/plain": [
              "        p1         p2         p3 \n",
              "  \"Miguel\" \"Jorquera\"  \"Viguera\" "
            ]
          },
          "metadata": {}
        },
        {
          "output_type": "display_data",
          "data": {
            "text/html": [
              "<style>\n",
              ".dl-inline {width: auto; margin:0; padding: 0}\n",
              ".dl-inline>dt, .dl-inline>dd {float: none; width: auto; display: inline-block}\n",
              ".dl-inline>dt::after {content: \":\\0020\"; padding-right: .5ex}\n",
              ".dl-inline>dt:not(:first-of-type) {padding-left: .5ex}\n",
              "</style><dl class=dl-inline><dt>n7</dt><dd>'13'</dd><dt>n8</dt><dd>'21'</dd><dt>p1</dt><dd>'Miguel'</dd><dt>p2</dt><dd>'Jorquera'</dd><dt>p3</dt><dd>'Viguera'</dd></dl>\n"
            ],
            "text/markdown": "n7\n:   '13'n8\n:   '21'p1\n:   'Miguel'p2\n:   'Jorquera'p3\n:   'Viguera'\n\n",
            "text/latex": "\\begin{description*}\n\\item[n7] '13'\n\\item[n8] '21'\n\\item[p1] 'Miguel'\n\\item[p2] 'Jorquera'\n\\item[p3] 'Viguera'\n\\end{description*}\n",
            "text/plain": [
              "        n7         n8         p1         p2         p3 \n",
              "      \"13\"       \"21\"   \"Miguel\" \"Jorquera\"  \"Viguera\" "
            ]
          },
          "metadata": {}
        }
      ]
    },
    {
      "cell_type": "code",
      "source": [
        "#NOTA:\n",
        "as.character(3)\n",
        "as.integer(\"3\")"
      ],
      "metadata": {
        "id": "gDf3Hcqd8rLy",
        "outputId": "29f330c5-565d-435d-82de-619f5369b177",
        "colab": {
          "base_uri": "https://localhost:8080/",
          "height": 52
        }
      },
      "execution_count": 23,
      "outputs": [
        {
          "output_type": "display_data",
          "data": {
            "text/html": [
              "'3'"
            ],
            "text/markdown": "'3'",
            "text/latex": "'3'",
            "text/plain": [
              "[1] \"3\""
            ]
          },
          "metadata": {}
        },
        {
          "output_type": "display_data",
          "data": {
            "text/html": [
              "3"
            ],
            "text/markdown": "3",
            "text/latex": "3",
            "text/plain": [
              "[1] 3"
            ]
          },
          "metadata": {}
        }
      ]
    },
    {
      "cell_type": "code",
      "source": [
        "as.integer(c(v4,v3))"
      ],
      "metadata": {
        "id": "cBpCdME186jY",
        "outputId": "0178d130-472c-4e07-8d16-14ef94b7636d",
        "colab": {
          "base_uri": "https://localhost:8080/",
          "height": 69
        }
      },
      "execution_count": 24,
      "outputs": [
        {
          "output_type": "stream",
          "name": "stderr",
          "text": [
            "Warning message in eval(expr, envir, enclos):\n",
            "“NAs introduced by coercion”\n"
          ]
        },
        {
          "output_type": "display_data",
          "data": {
            "text/html": [
              "<style>\n",
              ".list-inline {list-style: none; margin:0; padding: 0}\n",
              ".list-inline>li {display: inline-block}\n",
              ".list-inline>li:not(:last-child)::after {content: \"\\00b7\"; padding: 0 .5ex}\n",
              "</style>\n",
              "<ol class=list-inline><li>13</li><li>21</li><li>&lt;NA&gt;</li><li>&lt;NA&gt;</li><li>&lt;NA&gt;</li></ol>\n"
            ],
            "text/markdown": "1. 13\n2. 21\n3. &lt;NA&gt;\n4. &lt;NA&gt;\n5. &lt;NA&gt;\n\n\n",
            "text/latex": "\\begin{enumerate*}\n\\item 13\n\\item 21\n\\item <NA>\n\\item <NA>\n\\item <NA>\n\\end{enumerate*}\n",
            "text/plain": [
              "[1] 13 21 NA NA NA"
            ]
          },
          "metadata": {}
        }
      ]
    },
    {
      "cell_type": "code",
      "source": [
        "class(c(v4,v3))# Como son clases de datos diferentes, R coerciona a la clase de menor jerarquía que los contenga a ambos."
      ],
      "metadata": {
        "id": "24DRC1oY7u6I",
        "outputId": "8a48793c-f7f6-4a96-b3aa-4b6f3aaa5362",
        "colab": {
          "base_uri": "https://localhost:8080/",
          "height": 34
        }
      },
      "execution_count": 21,
      "outputs": [
        {
          "output_type": "display_data",
          "data": {
            "text/html": [
              "'character'"
            ],
            "text/markdown": "'character'",
            "text/latex": "'character'",
            "text/plain": [
              "[1] \"character\""
            ]
          },
          "metadata": {}
        }
      ]
    },
    {
      "cell_type": "markdown",
      "metadata": {
        "id": "MX35j24_IgvN"
      },
      "source": [
        "#### 3.1.1 Acceso a los elementos de un vector\n",
        "\n",
        "El acceso a los elementos de un vector se puede llevar acabo indicando la posición del elemento (los naturales parten en 1!), el nombre de la casilla que lo contiene, o bien mediante sentencias lógicas que retornen \"TRUE\" en la posición deseada.\n",
        "\n"
      ]
    },
    {
      "cell_type": "code",
      "source": [
        "#NOTA:\n",
        "v1\n",
        "length(v1) # Ventor con 6 entradas/elementos"
      ],
      "metadata": {
        "id": "uXuEkqqX9Ua6",
        "outputId": "d9b152f5-3397-4645-b69a-4a003433b90c",
        "colab": {
          "base_uri": "https://localhost:8080/",
          "height": 52
        }
      },
      "execution_count": 29,
      "outputs": [
        {
          "output_type": "display_data",
          "data": {
            "text/html": [
              "<style>\n",
              ".dl-inline {width: auto; margin:0; padding: 0}\n",
              ".dl-inline>dt, .dl-inline>dd {float: none; width: auto; display: inline-block}\n",
              ".dl-inline>dt::after {content: \":\\0020\"; padding-right: .5ex}\n",
              ".dl-inline>dt:not(:first-of-type) {padding-left: .5ex}\n",
              "</style><dl class=dl-inline><dt>n1</dt><dd>1</dd><dt>n2</dt><dd>1</dd><dt>n3</dt><dd>2</dd><dt>n4</dt><dd>3</dd><dt>n5</dt><dd>5</dd><dt>n6</dt><dd>8</dd></dl>\n"
            ],
            "text/markdown": "n1\n:   1n2\n:   1n3\n:   2n4\n:   3n5\n:   5n6\n:   8\n\n",
            "text/latex": "\\begin{description*}\n\\item[n1] 1\n\\item[n2] 1\n\\item[n3] 2\n\\item[n4] 3\n\\item[n5] 5\n\\item[n6] 8\n\\end{description*}\n",
            "text/plain": [
              "n1 n2 n3 n4 n5 n6 \n",
              " 1  1  2  3  5  8 "
            ]
          },
          "metadata": {}
        },
        {
          "output_type": "display_data",
          "data": {
            "text/html": [
              "6"
            ],
            "text/markdown": "6",
            "text/latex": "6",
            "text/plain": [
              "[1] 6"
            ]
          },
          "metadata": {}
        }
      ]
    },
    {
      "cell_type": "code",
      "source": [
        "#NOTA:\n",
        "#R cuenta  desde 1 como posición inicial"
      ],
      "metadata": {
        "id": "UdGDKUqD9cZL"
      },
      "execution_count": null,
      "outputs": []
    },
    {
      "cell_type": "code",
      "metadata": {
        "id": "zW2_TzKxIgvN",
        "outputId": "33b51fd1-6573-4efc-a8fe-12caadef3049",
        "colab": {
          "base_uri": "https://localhost:8080/",
          "height": 52
        }
      },
      "source": [
        "# Mediante posición\n",
        "v1[1]\n",
        "v1[6]"
      ],
      "execution_count": 31,
      "outputs": [
        {
          "output_type": "display_data",
          "data": {
            "text/html": [
              "<strong>n1:</strong> 1"
            ],
            "text/markdown": "**n1:** 1",
            "text/latex": "\\textbf{n1:} 1",
            "text/plain": [
              "n1 \n",
              " 1 "
            ]
          },
          "metadata": {}
        },
        {
          "output_type": "display_data",
          "data": {
            "text/html": [
              "<strong>n6:</strong> 8"
            ],
            "text/markdown": "**n6:** 8",
            "text/latex": "\\textbf{n6:} 8",
            "text/plain": [
              "n6 \n",
              " 8 "
            ]
          },
          "metadata": {}
        }
      ]
    },
    {
      "cell_type": "code",
      "metadata": {
        "id": "XWL1ZIyMIgvR",
        "outputId": "996a853c-b5ef-4d91-fc98-d918a6c4f2bc",
        "colab": {
          "base_uri": "https://localhost:8080/",
          "height": 34
        }
      },
      "source": [
        "# retorna los elementos de las casillas 1  y 4 de vector2\n",
        "v1[c(1,4)]"
      ],
      "execution_count": 32,
      "outputs": [
        {
          "output_type": "display_data",
          "data": {
            "text/html": [
              "<style>\n",
              ".dl-inline {width: auto; margin:0; padding: 0}\n",
              ".dl-inline>dt, .dl-inline>dd {float: none; width: auto; display: inline-block}\n",
              ".dl-inline>dt::after {content: \":\\0020\"; padding-right: .5ex}\n",
              ".dl-inline>dt:not(:first-of-type) {padding-left: .5ex}\n",
              "</style><dl class=dl-inline><dt>n1</dt><dd>1</dd><dt>n4</dt><dd>3</dd></dl>\n"
            ],
            "text/markdown": "n1\n:   1n4\n:   3\n\n",
            "text/latex": "\\begin{description*}\n\\item[n1] 1\n\\item[n4] 3\n\\end{description*}\n",
            "text/plain": [
              "n1 n4 \n",
              " 1  3 "
            ]
          },
          "metadata": {}
        }
      ]
    },
    {
      "cell_type": "code",
      "metadata": {
        "id": "uBqEKq1aIgvT",
        "outputId": "f3c97ac4-332a-4d9b-8b79-b5af5ac34977",
        "colab": {
          "base_uri": "https://localhost:8080/",
          "height": 34
        }
      },
      "source": [
        "#NOTA 3:5, R lo interpreta como c(3,4,5)\n",
        "# Quiero rescatar la porción del vector v1, comprendida entre la posición 3  y 5 (inclusive)\n",
        "\n",
        "v1[3:5]"
      ],
      "execution_count": 35,
      "outputs": [
        {
          "output_type": "display_data",
          "data": {
            "text/html": [
              "<style>\n",
              ".dl-inline {width: auto; margin:0; padding: 0}\n",
              ".dl-inline>dt, .dl-inline>dd {float: none; width: auto; display: inline-block}\n",
              ".dl-inline>dt::after {content: \":\\0020\"; padding-right: .5ex}\n",
              ".dl-inline>dt:not(:first-of-type) {padding-left: .5ex}\n",
              "</style><dl class=dl-inline><dt>n3</dt><dd>2</dd><dt>n4</dt><dd>3</dd><dt>n5</dt><dd>5</dd></dl>\n"
            ],
            "text/markdown": "n3\n:   2n4\n:   3n5\n:   5\n\n",
            "text/latex": "\\begin{description*}\n\\item[n3] 2\n\\item[n4] 3\n\\item[n5] 5\n\\end{description*}\n",
            "text/plain": [
              "n3 n4 n5 \n",
              " 2  3  5 "
            ]
          },
          "metadata": {}
        }
      ]
    },
    {
      "cell_type": "code",
      "metadata": {
        "id": "XIuQSfvKIgvV",
        "outputId": "0cba08fc-593f-436f-8add-2134c43c7bbe",
        "colab": {
          "base_uri": "https://localhost:8080/",
          "height": 52
        }
      },
      "source": [
        "# podemos acceder a los elmentos mediante el nombre\n",
        "v1[\"n6\"]\n",
        "v1[c(\"n1\",\"n4\")]"
      ],
      "execution_count": 37,
      "outputs": [
        {
          "output_type": "display_data",
          "data": {
            "text/html": [
              "<strong>n6:</strong> 8"
            ],
            "text/markdown": "**n6:** 8",
            "text/latex": "\\textbf{n6:} 8",
            "text/plain": [
              "n6 \n",
              " 8 "
            ]
          },
          "metadata": {}
        },
        {
          "output_type": "display_data",
          "data": {
            "text/html": [
              "<style>\n",
              ".dl-inline {width: auto; margin:0; padding: 0}\n",
              ".dl-inline>dt, .dl-inline>dd {float: none; width: auto; display: inline-block}\n",
              ".dl-inline>dt::after {content: \":\\0020\"; padding-right: .5ex}\n",
              ".dl-inline>dt:not(:first-of-type) {padding-left: .5ex}\n",
              "</style><dl class=dl-inline><dt>n1</dt><dd>1</dd><dt>n4</dt><dd>3</dd></dl>\n"
            ],
            "text/markdown": "n1\n:   1n4\n:   3\n\n",
            "text/latex": "\\begin{description*}\n\\item[n1] 1\n\\item[n4] 3\n\\end{description*}\n",
            "text/plain": [
              "n1 n4 \n",
              " 1  3 "
            ]
          },
          "metadata": {}
        }
      ]
    },
    {
      "cell_type": "code",
      "source": [
        "#NOTA:\n",
        "v1[1,4]# No tiene sentido en un arreglo unidimensional. (pero si en matrices)\n",
        "#v1[c(1,4)]"
      ],
      "metadata": {
        "id": "5K7fKa3S_AcR",
        "outputId": "174c1901-b992-4d09-b412-e20723cc962f",
        "colab": {
          "base_uri": "https://localhost:8080/",
          "height": 96
        }
      },
      "execution_count": 38,
      "outputs": [
        {
          "output_type": "error",
          "ename": "ERROR",
          "evalue": "ignored",
          "traceback": [
            "Error in v1[1, 4]: incorrect number of dimensions\nTraceback:\n"
          ]
        }
      ]
    },
    {
      "cell_type": "code",
      "metadata": {
        "id": "IHjnaSSyIgvX",
        "outputId": "b9e731a4-9389-43a7-c1ed-1216505f1cdc",
        "colab": {
          "base_uri": "https://localhost:8080/",
          "height": 34
        }
      },
      "source": [
        "# cambiar una entrada de un vector o cambiar un nombre\n",
        "v1"
      ],
      "execution_count": 39,
      "outputs": [
        {
          "output_type": "display_data",
          "data": {
            "text/html": [
              "<style>\n",
              ".dl-inline {width: auto; margin:0; padding: 0}\n",
              ".dl-inline>dt, .dl-inline>dd {float: none; width: auto; display: inline-block}\n",
              ".dl-inline>dt::after {content: \":\\0020\"; padding-right: .5ex}\n",
              ".dl-inline>dt:not(:first-of-type) {padding-left: .5ex}\n",
              "</style><dl class=dl-inline><dt>n1</dt><dd>1</dd><dt>n2</dt><dd>1</dd><dt>n3</dt><dd>2</dd><dt>n4</dt><dd>3</dd><dt>n5</dt><dd>5</dd><dt>n6</dt><dd>8</dd></dl>\n"
            ],
            "text/markdown": "n1\n:   1n2\n:   1n3\n:   2n4\n:   3n5\n:   5n6\n:   8\n\n",
            "text/latex": "\\begin{description*}\n\\item[n1] 1\n\\item[n2] 1\n\\item[n3] 2\n\\item[n4] 3\n\\item[n5] 5\n\\item[n6] 8\n\\end{description*}\n",
            "text/plain": [
              "n1 n2 n3 n4 n5 n6 \n",
              " 1  1  2  3  5  8 "
            ]
          },
          "metadata": {}
        }
      ]
    },
    {
      "cell_type": "code",
      "source": [],
      "metadata": {
        "id": "P0ra_ldz_n8M"
      },
      "execution_count": null,
      "outputs": []
    },
    {
      "cell_type": "code",
      "source": [
        "#Primero:  cambiar el elemnto de la casilla 4, por un 99.\n",
        "v1[4] <- 99"
      ],
      "metadata": {
        "id": "XfZ9knOv_gpG"
      },
      "execution_count": 41,
      "outputs": []
    },
    {
      "cell_type": "code",
      "source": [
        "v1"
      ],
      "metadata": {
        "id": "IVKgUGk-_5jn",
        "outputId": "0cd155cf-bb87-4bb8-8c3e-d5d0803a1eab",
        "colab": {
          "base_uri": "https://localhost:8080/",
          "height": 34
        }
      },
      "execution_count": 42,
      "outputs": [
        {
          "output_type": "display_data",
          "data": {
            "text/html": [
              "<style>\n",
              ".dl-inline {width: auto; margin:0; padding: 0}\n",
              ".dl-inline>dt, .dl-inline>dd {float: none; width: auto; display: inline-block}\n",
              ".dl-inline>dt::after {content: \":\\0020\"; padding-right: .5ex}\n",
              ".dl-inline>dt:not(:first-of-type) {padding-left: .5ex}\n",
              "</style><dl class=dl-inline><dt>n1</dt><dd>1</dd><dt>n2</dt><dd>1</dd><dt>n3</dt><dd>2</dd><dt>n4</dt><dd>99</dd><dt>n5</dt><dd>5</dd><dt>n6</dt><dd>8</dd></dl>\n"
            ],
            "text/markdown": "n1\n:   1n2\n:   1n3\n:   2n4\n:   99n5\n:   5n6\n:   8\n\n",
            "text/latex": "\\begin{description*}\n\\item[n1] 1\n\\item[n2] 1\n\\item[n3] 2\n\\item[n4] 99\n\\item[n5] 5\n\\item[n6] 8\n\\end{description*}\n",
            "text/plain": [
              "n1 n2 n3 n4 n5 n6 \n",
              " 1  1  2 99  5  8 "
            ]
          },
          "metadata": {}
        }
      ]
    },
    {
      "cell_type": "code",
      "metadata": {
        "id": "cVzhj4ASIgvb"
      },
      "source": [
        "# podemos cambiar uno de los nombres (ej, queremos cambiar el sexto nombre de v1, por \"casilla_6\")\n",
        "names(v1)[6] <- \"casilla_6\"\n"
      ],
      "execution_count": 47,
      "outputs": []
    },
    {
      "cell_type": "code",
      "source": [
        "v1"
      ],
      "metadata": {
        "id": "8sI7V9fjAtos",
        "outputId": "56144526-2e7c-4577-f083-6897a98068da",
        "colab": {
          "base_uri": "https://localhost:8080/",
          "height": 34
        }
      },
      "execution_count": 48,
      "outputs": [
        {
          "output_type": "display_data",
          "data": {
            "text/html": [
              "<style>\n",
              ".dl-inline {width: auto; margin:0; padding: 0}\n",
              ".dl-inline>dt, .dl-inline>dd {float: none; width: auto; display: inline-block}\n",
              ".dl-inline>dt::after {content: \":\\0020\"; padding-right: .5ex}\n",
              ".dl-inline>dt:not(:first-of-type) {padding-left: .5ex}\n",
              "</style><dl class=dl-inline><dt>n1</dt><dd>1</dd><dt>n2</dt><dd>1</dd><dt>n3</dt><dd>2</dd><dt>n4</dt><dd>99</dd><dt>n5</dt><dd>5</dd><dt>casilla_6</dt><dd>8</dd></dl>\n"
            ],
            "text/markdown": "n1\n:   1n2\n:   1n3\n:   2n4\n:   99n5\n:   5casilla_6\n:   8\n\n",
            "text/latex": "\\begin{description*}\n\\item[n1] 1\n\\item[n2] 1\n\\item[n3] 2\n\\item[n4] 99\n\\item[n5] 5\n\\item[casilla\\textbackslash{}\\_6] 8\n\\end{description*}\n",
            "text/plain": [
              "       n1        n2        n3        n4        n5 casilla_6 \n",
              "        1         1         2        99         5         8 "
            ]
          },
          "metadata": {}
        }
      ]
    },
    {
      "cell_type": "code",
      "source": [
        "names(v1[3]) <- \"casilla_3\" # OJO que no es lo mismo. Acá se modifica v1[3], no así v1."
      ],
      "metadata": {
        "id": "oiDSDOdEAv1C"
      },
      "execution_count": 49,
      "outputs": []
    },
    {
      "cell_type": "code",
      "source": [
        "v1"
      ],
      "metadata": {
        "id": "Cu9mqoy2A00S",
        "outputId": "fd19e0c9-b099-4ec7-e0bc-cd399ab40dad",
        "colab": {
          "base_uri": "https://localhost:8080/",
          "height": 34
        }
      },
      "execution_count": 50,
      "outputs": [
        {
          "output_type": "display_data",
          "data": {
            "text/html": [
              "<style>\n",
              ".dl-inline {width: auto; margin:0; padding: 0}\n",
              ".dl-inline>dt, .dl-inline>dd {float: none; width: auto; display: inline-block}\n",
              ".dl-inline>dt::after {content: \":\\0020\"; padding-right: .5ex}\n",
              ".dl-inline>dt:not(:first-of-type) {padding-left: .5ex}\n",
              "</style><dl class=dl-inline><dt>n1</dt><dd>1</dd><dt>n2</dt><dd>1</dd><dt>n3</dt><dd>2</dd><dt>n4</dt><dd>99</dd><dt>n5</dt><dd>5</dd><dt>casilla_6</dt><dd>8</dd></dl>\n"
            ],
            "text/markdown": "n1\n:   1n2\n:   1n3\n:   2n4\n:   99n5\n:   5casilla_6\n:   8\n\n",
            "text/latex": "\\begin{description*}\n\\item[n1] 1\n\\item[n2] 1\n\\item[n3] 2\n\\item[n4] 99\n\\item[n5] 5\n\\item[casilla\\textbackslash{}\\_6] 8\n\\end{description*}\n",
            "text/plain": [
              "       n1        n2        n3        n4        n5 casilla_6 \n",
              "        1         1         2        99         5         8 "
            ]
          },
          "metadata": {}
        }
      ]
    },
    {
      "cell_type": "code",
      "metadata": {
        "id": "b6oqx_D4Igvd"
      },
      "source": [
        "# podemos modificar varias posiciones a la vez\n",
        "# queremos re-asignar los valores \"XX\" y \"ZZ\" en las posiciones 3 y 7 respecivamente\n"
      ],
      "execution_count": null,
      "outputs": []
    },
    {
      "cell_type": "markdown",
      "metadata": {
        "id": "XzyIBLZxIgvg"
      },
      "source": [
        "**Algunas sentencias de utilidad**\n",
        "\n",
        "También es posible acceder a los alementos de un vector mediante sentencias lógicas que retornen \"TRUE\" en la posición deseada. Para ello algunas funciones que son de utilidad son las siguientes.\n",
        "\n",
        "   **Conectores lógicos**\n",
        "\n",
        "    &, && |                  : conector y\n",
        "    |,||                     : conector o\n",
        "    ==                       : igual\n",
        "    !                        : negación\n",
        "    !=                       : distinto\n",
        "    >, >=                    : mayor que, mayor o igual que\n",
        "    <,<=                     : menor que, menor o igual que\n",
        "    is.na()                  : es NA?\n",
        "    which()                  : en qué posición es verdadera la expresión evaluada?\n",
        "    which.min(), which.max() : en qué posición se alcanza el mínimi/máximo\n",
        "    %in%                     : los elementos están en?\n",
        "    \n",
        "    "
      ]
    },
    {
      "cell_type": "code",
      "metadata": {
        "id": "NhZPJo56Igvh"
      },
      "source": [
        "# para acceder a elementos de un vector tenemos:\n",
        "# 1. por posicion\n",
        "# 2. por nombre\n",
        "# 3. por indicatrices lógicas (un vector con TRUE (T) o FALSE (F) del mismo largo del que quiero consultar)\n",
        "\n",
        "\n",
        "\n",
        "\n"
      ],
      "execution_count": null,
      "outputs": []
    },
    {
      "cell_type": "code",
      "metadata": {
        "id": "5C4hDsvSIgvj"
      },
      "source": [
        "# Esto facilita la búsqueda dentro de un un vector. Ej: retornar los elementos mayores aun valor dado\n"
      ],
      "execution_count": null,
      "outputs": []
    },
    {
      "cell_type": "code",
      "metadata": {
        "id": "bj-wjeddIgvl"
      },
      "source": [
        "# con esta idea en mente podríamos, por ejemplo, rescatar las edades con valor mayor o igual a 18 años\n"
      ],
      "execution_count": null,
      "outputs": []
    },
    {
      "cell_type": "code",
      "metadata": {
        "id": "fvq5tBXVIgvm"
      },
      "source": [
        "# podríamos guardar el vector de T o F's en una variable para luego referenciarla\n",
        "\n"
      ],
      "execution_count": null,
      "outputs": []
    },
    {
      "cell_type": "code",
      "metadata": {
        "id": "ioUJy8UEIgvz"
      },
      "source": [
        "#?which.max\n",
        "#podemos rescatar el valor mediante el índice guardado\n",
        "\n"
      ],
      "execution_count": null,
      "outputs": []
    },
    {
      "cell_type": "code",
      "metadata": {
        "id": "_8-SMxfWIgv0"
      },
      "source": [
        "# Operador %in%\n",
        "# vector_a %in% vector_b (qué elementos del vector a están en el vector b)\n",
        "# retorna un  vector de TRUE's y FALSE's del largo del primer vector(a) (izquierda)\n"
      ],
      "execution_count": null,
      "outputs": []
    },
    {
      "cell_type": "code",
      "metadata": {
        "id": "s9bYOQ4GIgv2"
      },
      "source": [
        "# podemos utilizar la función all() para evaluar si todos los elementos de un vector son TRUE.\n"
      ],
      "execution_count": null,
      "outputs": []
    },
    {
      "cell_type": "code",
      "metadata": {
        "id": "Wd-mSv3PIgv4"
      },
      "source": [
        "# si quisiéramos evaluar que todos los elementos de la izq. estén en la derecha,\n",
        "# podemos utilizar la función all()."
      ],
      "execution_count": null,
      "outputs": []
    },
    {
      "cell_type": "code",
      "metadata": {
        "id": "Zn85mjGmIgv5"
      },
      "source": [],
      "execution_count": null,
      "outputs": []
    },
    {
      "cell_type": "code",
      "metadata": {
        "id": "1YGnzt1zIgv7"
      },
      "source": [
        "# aritmética con vectores\n",
        "# operación de vectore de igual largo\n"
      ],
      "execution_count": null,
      "outputs": []
    },
    {
      "cell_type": "code",
      "metadata": {
        "id": "Bw8lX76XIgv8"
      },
      "source": [
        "#ponderaciones por escalares\n"
      ],
      "execution_count": null,
      "outputs": []
    },
    {
      "cell_type": "code",
      "metadata": {
        "id": "syufc9_OIgv_"
      },
      "source": [
        "#CUIDADO: Si se operan vectores de dstinto largo se reciclan los valores del vector más pequeño\n"
      ],
      "execution_count": null,
      "outputs": []
    },
    {
      "cell_type": "code",
      "metadata": {
        "id": "9kfbx6J4IgwC"
      },
      "source": [
        "# NOTA:\n",
        "# podemos determinar el largo de un vector mediante la función length()\n"
      ],
      "execution_count": null,
      "outputs": []
    },
    {
      "cell_type": "markdown",
      "metadata": {
        "id": "LIr-IFowIgwD"
      },
      "source": [
        "**Secuencias**\n",
        "\n",
        "En R es posible generar de manera rápida y sencilla algunas secuencias numéricas y almacenarlas en un vector.\n",
        "\n",
        "Ejemplo de estas funciones son :\n",
        "\n",
        "    rep()\n",
        "    seq()\n",
        "    \n",
        "Más adelante veremos como generar números aleatorios siguiendo alguna función de distribución de interés.\n",
        "\n"
      ]
    },
    {
      "cell_type": "code",
      "metadata": {
        "id": "wk0fB_gWIgwE"
      },
      "source": [
        "# a vimos que fácilmente ppodemos generar vectores de enteros consecutivos vía \":\"\n"
      ],
      "execution_count": null,
      "outputs": []
    },
    {
      "cell_type": "code",
      "metadata": {
        "id": "rG-Q3PmhIgwG"
      },
      "source": [
        "# Ejemplo de secuencia con rep (utilice distintos tipos de datos)\n"
      ],
      "execution_count": null,
      "outputs": []
    },
    {
      "cell_type": "code",
      "metadata": {
        "id": "PpEgoWDXIgwI"
      },
      "source": [
        "# podemos controlar el largo del vector resultante con el parámetro length.out\n"
      ],
      "execution_count": null,
      "outputs": []
    },
    {
      "cell_type": "code",
      "metadata": {
        "id": "gGkgGylnIgwK"
      },
      "source": [
        "# ejemplo de función seq (utilice argumento by, y otro ejemplo con argumento length.out)\n"
      ],
      "execution_count": null,
      "outputs": []
    },
    {
      "cell_type": "code",
      "metadata": {
        "id": "psRswQHBIgwO"
      },
      "source": [
        "# ejemplo de vector aleatorio siguiendo una determinada distribución\n",
        "\n",
        "# distribución uniforme\n",
        "# distribución normal\n",
        "\n",
        "\n",
        "\n",
        "\n",
        "\n"
      ],
      "execution_count": null,
      "outputs": []
    },
    {
      "cell_type": "markdown",
      "metadata": {
        "id": "TlnEINwUIgwP"
      },
      "source": [
        "### 3.2 Funciones (primera parte)\n",
        "\n",
        "#### 3.2.1 Funciones vectorizadas y operaciones con vectores\n",
        "\n",
        "R es un lenguaje funcional, en el sentido de que prácticamente cada llamada a R corresponde a una función que puede (o no) recibir argumentos de entrada.\n",
        "Una de las ventajas es que existe una amplia, muy amplia,... verdaderamente amplia!, variedad de funciones disponibles, tanto en las librerías que vienen con la instalación por defecto como las librerías disponibles en CRAN o en toda la comunidad R.\n",
        "\n",
        "En R, una función $f$ se dice vectorizada si dado un vector $\\mathbf{x}=(x_1,x_2,\\dots,x_n)$, se tiene que $f(\\mathbf{x})=(f(x_1),f(x_2),\\dots,f(x_n))$.\n",
        "Esto hace que, por ejemplo, la aritmética de vectores se más sencilla de implentar y con un menor tiempo de cómputo . Gran parte de las funciones disponibles en la librerías (bibliotecas o *packages*) de R corresponden a funciones vectorizadas.\n",
        "A modo de ejemplo, a cotinuación se muestran algunas funciones (de las más básicas) aritméticas, y funciones para trabajar con texto:\n",
        "    \n",
        "    +,-,*,/\n",
        "    abs()\n",
        "    sqrt()\n",
        "    cos()\n",
        "    sin()\n",
        "    tan()\n",
        "    nchar()\n",
        "    susbtr()\n",
        "    grepl()\n",
        "    gsub()\n",
        "    \n",
        "   \n",
        "   \n",
        "   "
      ]
    },
    {
      "cell_type": "code",
      "metadata": {
        "id": "tO3oB1bnIgwP"
      },
      "source": [
        "# 3.2. Funciones (primera parte) ------------\n",
        "# 3.2.1 Funciones vectorizadas\n",
        "# Ejemplos básicos de funciones(vectorizadas)\n"
      ],
      "execution_count": null,
      "outputs": []
    },
    {
      "cell_type": "code",
      "metadata": {
        "id": "Z8L-KeGnIgwS"
      },
      "source": [],
      "execution_count": null,
      "outputs": []
    },
    {
      "cell_type": "code",
      "metadata": {
        "id": "NivskO3jIgwT"
      },
      "source": [
        "# funciones para manipular texto\n",
        " #cantidad de caracteres\n",
        "\n",
        "\n"
      ],
      "execution_count": null,
      "outputs": []
    },
    {
      "cell_type": "code",
      "metadata": {
        "id": "tA55foL1IgwX"
      },
      "source": [
        "# substring substr()\n",
        "\n"
      ],
      "execution_count": null,
      "outputs": []
    },
    {
      "cell_type": "code",
      "metadata": {
        "id": "vjRwdUbiIgwY"
      },
      "source": [
        "# grepl() evlaúa si un  caracter está contenido en otro. (LIKE)\n",
        "#?grepl()\n",
        "grepl(\"ala\", \"palabra\")\n",
        "grepl(\"alo\", \"palabra\")\n",
        "\n",
        "\n",
        "#gsub() reemblaza un substring por otro\n",
        "#?gsub\n",
        "\n",
        "# si reemplazamos en un vector de palabras\n",
        "\n"
      ],
      "execution_count": null,
      "outputs": []
    },
    {
      "cell_type": "code",
      "metadata": {
        "id": "0j9kKUbzIgwZ"
      },
      "source": [
        "#gsub() reemplaza caracteres dentro de un texto\n",
        "#https://www.tidytextmining.com/\n"
      ],
      "execution_count": null,
      "outputs": []
    }
  ]
}